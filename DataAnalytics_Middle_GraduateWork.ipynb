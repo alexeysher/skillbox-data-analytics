{
 "cells": [
  {
   "cell_type": "markdown",
   "metadata": {
    "id": "Z0D3oYRI1Nom",
    "tags": []
   },
   "source": [
    "# Thesis on data analysis. Reasearch of Megafon customer satisfaction survey"
   ]
  },
  {
   "cell_type": "markdown",
   "metadata": {},
   "source": [
    "## Problem statement\n",
    "\n",
    "Like any business, Megafon wants to increase customer satisfaction with service quality. This is an important task for retaining users, both long-standing and newly acquired. After all, marketing and promotion costs will not be justified if the customer leaves due to poor connection quality. However, in the real world, resources are always limited, and the technical department can solve a finite number of tasks per unit of time.\n",
    "\n",
    "To do this most effectively, it is important to determine which technical indicators of connection quality have the greatest impact on customer satisfaction, and primarily direct resources to working with them. \n",
    "To do this, Megafon performed a survey of its customers, asking them to rate their level of satisfaction with connection quality. Technical indicators were collected for each customer who completed the survey.\n",
    "Prepare a research for Megafon and analyze how (and whether) the customer satisfaction dependsds on the collected data.\n",
    "\n",
    "**More details about the survey**  \n",
    "\n",
    "During the survey, Megafon asked its customers to assess their satisfaction with the quality of communication on a 10-point scale (where 10 is “excellent” and 1 is “terrible”). \n",
    "If the customer assessed the quality of communication at 9 or 10 points, the survey ended. \n",
    "If the customer assessed it below 9, a 2nd question was asked about the reasons for dissatisfaction with the quality of communication with the numbered answer options provided. \n",
    "The answer could be given in a free format or by listing the answer numbers separated by commas."
   ]
  },
  {
   "cell_type": "markdown",
   "metadata": {
    "id": "3cTfAkxD1Nov",
    "jp-MarkdownHeadingCollapsed": true
   },
   "source": [
    "## Provided survey data\n",
    "\n",
    "`megafon.csv` contains the survey data with the following fields: <br><br>\n",
    "&nbsp;&nbsp;&nbsp;&nbsp; `user_id` — user id;<br>\n",
    "&nbsp;&nbsp;&nbsp;&nbsp; `Q1` — aswer to 1st question;<br>\n",
    "&nbsp;&nbsp;&nbsp;&nbsp; `Q2` — aswer to 2nd question;<br>\n",
    "&nbsp;&nbsp;&nbsp;&nbsp; `Total Traffic(MB)` — traffic total volume <sup>1 </sup>; <br>\n",
    "&nbsp;&nbsp;&nbsp;&nbsp; `Downlink Throughput(Kbps)` — average downlink speed <sup>2 </sup>;<br>\n",
    "&nbsp;&nbsp;&nbsp;&nbsp; `Uplink Throughput(Kbps)`— avearage uplink speed <sup>3 </sup>;<br>\n",
    "&nbsp;&nbsp;&nbsp;&nbsp; `Downlink TCP Retransmission Rate(%)` — frequency of downlink packets retransmission<sup>4 </sup>;<br>\n",
    "&nbsp;&nbsp;&nbsp;&nbsp; `Video Streaming Download Throughput(Kbps)` — streaming video download speed <sup>5 </sup>;<br>\n",
    "&nbsp;&nbsp;&nbsp;&nbsp; `Video Streaming xKB Start Delay(ms)` — delay start of video playback <sup>6 </sup>;<br>\n",
    "&nbsp;&nbsp;&nbsp;&nbsp; `Web Page Download Throughput(Kbps)` — web page loading speed via browser <sup>7 </sup>;<br>\n",
    "&nbsp;&nbsp;&nbsp;&nbsp; `Web Average TCP RTT(ms)` — ping when browsing web pages<sup>8 </sup>.<br>\n",
    "\n",
    "\n",
    "<sup>1 </sup> — Indicates how actively the subscriber uses the mobile Internet.<br>\n",
    "<sup>2 </sup> — Calculates over all traffic.<br>\n",
    "<sup>3 </sup> — Calculates over all traffic.<br>\n",
    "<sup>4 </sup> — More is worser (less effective speed).<br>\n",
    "<sup>5 </sup> — More is better (less lag and better picture quality).<br>\n",
    "<sup>6 </sup> — The time between pressing the Play button and the start of video playback. The shorter this time, the faster the playback starts.<br>\n",
    "<sup>7 </sup> — The more the better.<br>\n",
    "<sup>8 </sup> — The less the better (web pages are loading faster).<br>\n",
    "\n",
    "The first metric is given for a week before the survey. The other metrics indicates average value for a week before the survey"
   ]
  },
  {
   "cell_type": "markdown",
   "metadata": {},
   "source": [
    "## Auxilary functions"
   ]
  },
  {
   "cell_type": "code",
   "execution_count": null,
   "metadata": {
    "code_folding": []
   },
   "outputs": [],
   "source": [
    "import numpy as np\n",
    "import pandas as pd\n",
    "from scipy import stats\n",
    "import plotly.express as px\n",
    "from plotly.subplots import make_subplots\n",
    "import textwrap"
   ]
  },
  {
   "cell_type": "code",
   "execution_count": null,
   "metadata": {
    "code_folding": [
     0
    ]
   },
   "outputs": [],
   "source": [
    "def wrap_text(text, length=50):\n",
    "    '''\n",
    "   Splits the text into lines of a given length and replaces line breaks with the HTML <br> element.\n",
    "    \n",
    "        Parameters:\n",
    "        ----------\n",
    "        text : string\n",
    "            Text being processed.\n",
    "                    \n",
    "        length : int\n",
    "            Maximum line length.\n",
    "        \n",
    "        Returns:\n",
    "        -----------------------\n",
    "            String object. \n",
    "    '''\n",
    "    return textwrap.fill(text, length).replace('\\n', '<br>')"
   ]
  },
  {
   "cell_type": "code",
   "execution_count": null,
   "metadata": {
    "code_folding": [
     0
    ]
   },
   "outputs": [],
   "source": [
    "def trimean_mod(data, axis=0):\n",
    "    '''\n",
    "    Returns modified trimmer,\n",
    "    obtained weighted average of 10th, 50th and 90th percentile in 1:8:1 proportion.\n",
    "    Calculation is performing on the given axis of data sample.\n",
    "    \n",
    "        Parameters:\n",
    "        ----------\n",
    "        data : pandas.Series, pandas.DataFrame or numpy.ndarray\n",
    "            The given data sample.\n",
    "                    \n",
    "        axis : {0, 1, 'index', 'columns'}, default - 0\n",
    "            If 0 or 'index' the calculation is performed on rows. \n",
    "            If 1 or 'columns' the calculation is performed on columns.\n",
    "            Is used if data is pandas.DataFrame or numpy.array\n",
    "        \n",
    "        Returns:\n",
    "        -----------------------\n",
    "            Float type value if data is pandas.Series\n",
    "            Pandas.Series with index of opposite axis of data if data is pandas.DataFrame .\n",
    "            1d numpy.ndarray if data is numpy.ndarray.\n",
    "    \n",
    "    '''\n",
    "    if type(data) == pd.Series:\n",
    "        p10 = data.quantile(0.1)\n",
    "        p50 = data.median()\n",
    "        p90 = data.quantile(0.9)\n",
    "    elif type(data) == pd.DataFrame:\n",
    "        p10 = data.quantile(0.1, axis=axis)\n",
    "        p50 = data.median(axis=axis)\n",
    "        p90 = data.quantile(0.9, axis=axis)\n",
    "    else:\n",
    "        p10 = np.quantile(data, 0.1, axis=axis)\n",
    "        p50 = np.median(data, axis=axis)\n",
    "        p90 = np.quantile(data, 0.9, axis=axis)\n",
    "        \n",
    "    return (p10 + p50*8 + p90) / 10"
   ]
  },
  {
   "cell_type": "code",
   "execution_count": null,
   "metadata": {
    "code_folding": [
     0
    ]
   },
   "outputs": [],
   "source": [
    "def trimean_mod_diff(a, b, axis=0):\n",
    "    '''\n",
    "    Returns a difference between modified trimmers for the two given data samples.\n",
    "    \n",
    "        Parameters:\n",
    "        ----------\n",
    "        a, b : pandas.Series, pandas.DataFrame or numpy.ndarray\n",
    "            The given data samples.\n",
    "                    \n",
    "        axis  : {0, 1, 'index', 'columns'}, default - 0\n",
    "            If 0 or 'index' the calculation is performed on rows. \n",
    "            If 1 or 'columns' the calculation is performed on columns.\n",
    "            Is used if data is pandas.DataFrame or numpy.array\n",
    "        \n",
    "        Returns:\n",
    "        -----------------------\n",
    "            Float type value if data is pandas.Series\n",
    "            Pandas.Series with index of opposite axis of data if data is pandas.DataFrame .\n",
    "            1d numpy.ndarray if data is numpy.ndarray.\n",
    "    '''\n",
    "    return trimean_mod(a, axis=axis) - trimean_mod(b, axis=axis)"
   ]
  },
  {
   "cell_type": "code",
   "execution_count": null,
   "metadata": {
    "code_folding": [
     0
    ]
   },
   "outputs": [],
   "source": [
    "def kde(data, n_points=100, special_points=None):\n",
    "    '''\n",
    "    Generates a Kernel Density Estimate (KDE) representation for a sample of data of one or more parameters.\n",
    "    A Series object can be used to pass data on a sample of values of one parameter,\n",
    "    for which the KDE is generated. In this case, the function also returns a Series object containing\n",
    "    If it is necessary to generate a KDE representation for several parameters,\n",
    "    it is necessary to pass samples of their values using a DataFrame object.\n",
    "    In this case, the data samples for the parameters must be of the same length and distributed across columns.\n",
    "    \n",
    "        Parameters:\n",
    "        ----------\n",
    "        data : DataFrame or Series\n",
    "            The given data sample\n",
    "                    \n",
    "        n_points : int\n",
    "            The number of points in the returned LOP representation.\n",
    "        \n",
    "        special_values : DataFrame or Series\n",
    "            Additional points (e.g. mean, median, and confidence interval bounds) \n",
    "            that should be represented in the returned KDE representation\n",
    "                    \n",
    "        Returns:\n",
    "        -----------------------\n",
    "             A DataFrame object containing a set of data about the KDE representation.\n",
    "            If the LOP is formed for one parameter, and the data selection is transferred using a Series object,\n",
    "            the resulting data set contains 2 columns:\n",
    "                value - the values of the points from the range;\n",
    "                pdf - the KDE values\n",
    "    '''\n",
    "    # Forming a list of columns\n",
    "    columns = ['value', 'pdf']\n",
    "\n",
    "    if type(data) is pd.Series:\n",
    "        # The LOP representation is generated for one parameter\n",
    "        # We divide the range of parameter values in the sample into (n_points-1) equal segments\n",
    "        values = pd.Series(np.linspace(data.min(), data.max(), n_points))\n",
    "        if special_points is not None:\n",
    "            values = pd.concat([values, special_points])\n",
    "        # We prepare the returned dataset\n",
    "        result = pd.DataFrame(columns=columns)\n",
    "    else:\n",
    "        # The LOP representation is generated for several parameters\n",
    "        # We divide the range of values of each parameter in the sample into (n_points-1) equal segments\n",
    "        values = pd.DataFrame(np.linspace(data.min(), data.max(), n_points),\n",
    "                              columns=data.columns)\n",
    "        # We prepare the returned dataset\n",
    "        result = pd.DataFrame(\n",
    "            columns=pd.MultiIndex.from_product([columns, data.columns]))\n",
    "\n",
    "    # Add \"special\" values to the set\n",
    "    if special_points is not None:\n",
    "        values = pd.concat([values, special_points])\n",
    "\n",
    "    # Find the value of the LOP representation for the generated set of parameter(s) values\n",
    "    if type(data) is pd.Series:\n",
    "        # The LOP representation is generated for one parameter\n",
    "        kde = stats.gaussian_kde(data)\n",
    "        pdf = kde.pdf(values)\n",
    "    else:\n",
    "        # The LOP representation is generated for several parameters\n",
    "        kde = data.apply(lambda s: stats.gaussian_kde(s))\n",
    "        pdf = data.apply(lambda s: kde[s.name].pdf(values[s.name]))\n",
    "        pdf.index = values.index\n",
    "\n",
    "    # Fill the resulting dataset\n",
    "    result.index.name = 'point'\n",
    "    result['value'] = values # Endpoints of segments\n",
    "    result['pdf'] = pdf # Values of the LOP at the extreme points of the segments\n",
    "\n",
    "    return result"
   ]
  },
  {
   "cell_type": "code",
   "execution_count": null,
   "metadata": {
    "code_folding": [
     0
    ]
   },
   "outputs": [],
   "source": [
    "def my_bootstrap(data, statistic, n_resamples=9999, axis=0):\n",
    "    '''\n",
    "    Returns the distribution of the given statistic for a population,\n",
    "    represented by an observed sample with one or more metrics,\n",
    "    using the bootstrap method.\n",
    "    \n",
    "        Parameters:\n",
    "        ----------\n",
    "        data : pandas.Series, pandas.DataFrame or numpy.ndarray\n",
    "            Observed data sample.\n",
    "            \n",
    "        statistic : function\n",
    "            A function that implements the calculation of statistics for one metric\n",
    "                    \n",
    "        n_resamples : int\n",
    "            Number of resamples. Default is 9999\n",
    "                    \n",
    "        Returns:\n",
    "        -----------------------\n",
    "            A pandas.Series object of length n_resamples if data is a pandas.Series\n",
    "            A pandas.DataFrame object of type n_resamples along the selected axis, if data is a pandas.DataFrame.\n",
    "                The dimensions and indices of the opposite axis are the same as in `data`.\n",
    "            An object of type numpy.ndarray with dimensions along the selected axis n_resamples, if data is a numpy.ndarray.\n",
    "                The dimensions of the opposite axis are the same as in `data`.\n",
    "    '''\n",
    "    \n",
    "    def _my_bootstrap_1d(arr_1d, statistic, n_resamples=9999):\n",
    "        '''\n",
    "        Returns the distribution of a given statistic for a population represented by an observed sample with a single metric,\n",
    "        using the bootstrap method.\n",
    "        \n",
    "        Parameters:\n",
    "        ----------\n",
    "        arr_1d : 1d numpy.ndarray\n",
    "            A one-dimensional array of metric values in the observed sample.\n",
    "            \n",
    "        statistic : function\n",
    "            Function implementing the calculation of statistics\n",
    "                    \n",
    "        n_resamples : int\n",
    "            Number of resamples. Default is 9999\n",
    "                    \n",
    "        Returns:\n",
    "        -----------------------\n",
    "            A one-dimensional numpy.ndarray array containing n_resamples statistics values.\n",
    "        '''\n",
    "        return np.array([statistic(np.random.choice(arr_1d, arr_1d.size)) for index in range(n_resamples+1)])\n",
    "        \n",
    "    if type(data) == np.ndarray:\n",
    "        # Sample - ndarray (one or more metrics)\n",
    "        # Apply _my_bootstrap_1d for each metric\n",
    "        return np.apply_along_axis(_my_bootstrap_1d, axis, arr, statistic)\n",
    "    elif type(data) == pd.Series:\n",
    "        # Sample - Series (one metric)\n",
    "        # Apply _my_bootstrap_1d to it\n",
    "        return pd.Series(_my_bootstrap_1d(data.values, statistic, n_resamples), name=data.name)\n",
    "    else:\n",
    "        # Selection - DataFrame (multiple metrics)\n",
    "        # Apply _my_bootstrap_1d to each metric's values\n",
    "        arr = np.apply_along_axis(_my_bootstrap_1d, axis, data.values, statistic)\n",
    "        # We transform the obtained result into a dataframe\n",
    "        if axis == 0:\n",
    "            return pd.DataFrame(arr, columns=data.columns)\n",
    "        else:\n",
    "            return pd.DataFrame(arr, index=data.index)\n",
    "    return result"
   ]
  },
  {
   "cell_type": "code",
   "execution_count": null,
   "metadata": {
    "code_folding": [
     0
    ]
   },
   "outputs": [],
   "source": [
    "def permutation_test(data, functions, alternatives=None, n_resamples=9999, random_state=0):\n",
    "    '''\n",
    "    Implements a \"permutation test\" for two independent groups on one or more metrics.\n",
    "    It is a wrapper for the permutation_test function from the scipy.stats library.\n",
    "     \n",
    "        Parameters:\n",
    "        ----------\n",
    "        data : pandas.Series or pandas.DataFrame\n",
    "            A set of observed samples. Group names should be used as indices.\n",
    "            In a DataFrame, metrics must be arranged in columns.\n",
    "                    \n",
    "        functions : callable or pandas.Series of callable\n",
    "            Test function statistically.\n",
    "            callable if samples are pandas.Series.\n",
    "            pandas.Series of callable if samples are pandas.DataFrame. Indexes should be metric names,\n",
    "            i.e. match the column names in the samples.\n",
    "            \n",
    "        alternatives : {'two-sided', 'less', 'greater'} or Series of {'two-sided', 'less', 'greater'} or None. Default None\n",
    "            Test type: 'two-sided' or None - two-sided, 'less' - left-sided, 'greater' - right-sided\n",
    "            string if samples are pandas.Series.\n",
    "            pandas.Series if samples are pandas.DataFrame. Indexes should be metric names,\n",
    "            i.e. match the column names in the samples.\n",
    "            \n",
    "        n_resamples : int\n",
    "            Number of resamples. Default is 9999\n",
    "            \n",
    "        Returns:\n",
    "        -----------------------\n",
    "        pvalue: float or pandas.Series\n",
    "            p-value meaning.\n",
    "            float if samples are pandas.Series\n",
    "            pandas.Series of float if samples are pandas.DataFrame. Indexes are names of metrics (columns)\n",
    "            in the observed samples.\n",
    "        null_distribution : pandas.Series or pandas.DataFrame\n",
    "            Null distribution of test statistics.\n",
    "            pandas.Series of float if samples are pandas.Series. Number of elements is n_resamples.\n",
    "            pandas.DataFrame of float if samples are a pandas.DataFrame. Number of rows is n_resamples.\n",
    "            Columns are the names of the metrics (columns) in the observed samples.\n",
    "        statistic : float or pandas.Series\n",
    "            The observed value of the test statistic.\n",
    "            float if samples are pandas.Series.\n",
    "            pandas.Series of float if samples are pandas.DataFrame. Indexes are names of metrics (columns)\n",
    "            in the observed samples.\n",
    "            \n",
    "    '''\n",
    "\n",
    "    def _permutation_test_for_1_metric(data, function, alternative=None, n_resamples=9999):\n",
    "        '''\n",
    "        Auxiliary function,\n",
    "        which implements the \"permutation test\" for one metric.\n",
    "\n",
    "        Parameters:\n",
    "        ----------\n",
    "        data : pandas.Series\n",
    "            A set of observed samples. Group names should be used as indices.\n",
    "                    \n",
    "        functions : callable\n",
    "            Test function statistically.\n",
    "            \n",
    "        alternatives : {'two-sided', 'less', 'greater'} or None. Defaults to None\n",
    "            Test type: 'two-sided' or None - two-sided, 'less' - left-sided, 'greater' - right-sided\n",
    "            string if samples are pandas.Series.\n",
    "            pandas.Series if samples are pandas.DataFrame. Indexes should be metric names,\n",
    "            i.e. match the column names in the samples.\n",
    "            \n",
    "        n_resamples : int\n",
    "            Number of resamples. Default is 9999\n",
    "            \n",
    "        Returns:\n",
    "        -----------------------\n",
    "        pvalue: float\n",
    "            p-value meaning.\n",
    "        null_distribution : pandas.Series\n",
    "            Null distribution of test statistics.\n",
    "        statistic : float\n",
    "            The observed value of the test statistic.\n",
    "        '''\n",
    "        # Apply the stats.permutation_test function\n",
    "        # Test type - independent ('independent'), for one metric (vectorized=False)\n",
    "        result = stats.permutation_test([data.loc[group] for group in data.index.unique()],\n",
    "                                        statistic=function,\n",
    "                                        permutation_type='independent',\n",
    "                                        alternative=alternative,\n",
    "                                        vectorized=False,\n",
    "                                        n_resamples=n_resamples)\n",
    "        # Return the result\n",
    "        return result.pvalue, pd.Series(result.null_distribution), result.statistic\n",
    "\n",
    "    # If the sample contains data for only one metric,\n",
    "    # call _permutation_test_for_1_metric and return the result of its execution\n",
    "    if type(data) == pd.Series:\n",
    "        return _permutation_test_for_1_metric(data, functions, alternatives, n_resamples)\n",
    "\n",
    "    # The sample contains data for several metrics\n",
    "    # Create result templates\n",
    "    pvalues = pd.Series(name='pvalue', index=data.columns, dtype='float')\n",
    "    null_distributions = pd.DataFrame(columns=data.columns, dtype='float')\n",
    "    statistics = pd.Series(name='statistic', index=data.columns, dtype='float')\n",
    "    # We run tests for each metric in the sample:\n",
    "    # call _permutation_test_for_1_metric and save the result of its execution\n",
    "    for metric in data.columns:\n",
    "        pvalues[metric], null_distributions[metric], statistics[metric] = \\\n",
    "        _permutation_test_for_1_metric(data[metric], functions[metric], alternatives[metric], n_resamples)\n",
    "    # Return the result\n",
    "    return pvalues, null_distributions, statistics"
   ]
  },
  {
   "cell_type": "code",
   "execution_count": null,
   "metadata": {
    "code_folding": [
     0
    ]
   },
   "outputs": [],
   "source": [
    "def confidence_interval(data, statistic, confidence_level=0.95, n_resamples=9999):\n",
    "    '''\n",
    "    Returns the confidence interval of the specified statistic for one or more metrics.\n",
    "    the population represented by the observed sample using the bootstrap method.\n",
    "    It is a \"wrapper\" for the scipy.stats.bootstrap function, which\n",
    "    \n",
    "        Parameters:\n",
    "        ----------\n",
    "        data : pandas.Series, pandas.DataFrame\n",
    "            Observed data sample.\n",
    "            \n",
    "        statistic : callable\n",
    "            A function that implements the calculation of statistics for one metric.\n",
    "                    \n",
    "        n_resamples : int\n",
    "            Number of resamples. Default is 9999\n",
    "                    \n",
    "        Returns:\n",
    "        -----------------------\n",
    "            A pandas.Series object of length n_resamples if data is a pandas.Series\n",
    "            A pandas.DataFrame object of type n_resamples along the selected axis, if data is a pandas.DataFrame.\n",
    "                The dimensions and indices of the opposite axis are the same as in `data`.\n",
    "            An object of type numpy.ndarray with dimensions along the selected axis n_resamples, if data is a numpy.ndarray.\n",
    "                The dimensions of the opposite axis are the same as in `data`.\n",
    "            Each element is a Tupple of DI boundaries.\n",
    "    '''\n",
    "\n",
    "    def _confidence_interval(data, statistic, confidence_level=0.95, n_resamples=9999):\n",
    "        return tuple(\n",
    "            stats.bootstrap((data.to_numpy(), ),statistic=statistic,\n",
    "                            confidence_level=confidence_level,\n",
    "                            n_resamples=n_resamples, vectorized=False,\n",
    "                            method='basic').confidence_interval\n",
    "        )\n",
    "    \n",
    "    '''\n",
    "    Returns the confidence interval of the given statistic for a single metric\n",
    "    the population represented by the observed sample using the bootstrap method.\n",
    "    It is a \"wrapper\" for the scipy.stats.bootstrap function, which\n",
    "    \n",
    "        Parameters:\n",
    "        ----------\n",
    "        data : pandas.Series\n",
    "            Observed data sample.\n",
    "            \n",
    "        statistic : callable\n",
    "            A function that implements the calculation of statistics.\n",
    "                    \n",
    "        n_resamples : int\n",
    "            Number of resamples. Default is 9999\n",
    "                    \n",
    "        Returns:\n",
    "        -----------------------\n",
    "            A pandas.Series object of length n_resamples. Each element is a Tupple of CI bounds.\n",
    "    '''\n",
    "\n",
    "    if type(data) == pd.Series:\n",
    "        # The sample contains data for only one metric\n",
    "        # Return Series from DI of this metric for all groups\n",
    "        return pd.Series(\n",
    "            [_confidence_interval(data.loc[group], statistic, confidence_level, n_resamples) \n",
    "             for group in data.index.unique()],\n",
    "            name='ci', index=groups, dtype='object')\n",
    "    \n",
    "    # The sample contains data for only a few metrics\n",
    "    # Return DataFrame from DI. Metrics by columns.\n",
    "    result = [np.apply_along_axis(_confidence_interval, 0, data.loc[group], \n",
    "                                 statistic, confidence_level, n_resamples).tolist()\n",
    "              for group in data.index.unique()]\n",
    "    return pd.DataFrame([list(zip(group_result[0], group_result[1])) for group_result in result],\n",
    "                        index=groups, columns=data.columns, dtype='object')"
   ]
  },
  {
   "cell_type": "code",
   "execution_count": null,
   "metadata": {
    "code_folding": [
     0
    ]
   },
   "outputs": [],
   "source": [
    "def confidence_interval_overlapping(confidence_interval_1, confidence_interval_2, metrics):\n",
    "    '''\n",
    "    The function checks for the intersection of two confidence intervals of one or more metrics.\n",
    "     \n",
    "        Parameters:\n",
    "        ----------\n",
    "        confidence_interval_1, confidence_interval_2 : Series of Tupple of 2 float\n",
    "            Confidence intervals. Names are names of populations.\n",
    "                    \n",
    "        metrics : DataFrame\n",
    "            Information about metrics. Indexes - names of metrics in confidence_interval_1, confidence_interval_2.\n",
    "        \n",
    "        Returns:\n",
    "        -----------------------\n",
    "            An object of type Series of Boolean.\n",
    "            Name - names of populations separated by commas and spaces\n",
    "            Indexes are the names of metrics (row indices in metrics).\n",
    "            Elements - result of intersection check\n",
    "    '''\n",
    "    def _confidence_interval_overlapping(confidence_interval_1, confidence_interval_2):\n",
    "        return not ((confidence_interval_1[1] < confidence_interval_2[0]) or \n",
    "                    (confidence_interval_2[1] < confidence_interval_1[0]))\n",
    "        '''\n",
    "        The helper function checks for the intersection of confidence intervals of one metric.\n",
    "\n",
    "            Parameters:\n",
    "            ----------\n",
    "            confidence_interval_1, confidence_interval_2 : Tupple of 2 float\n",
    "                Confidence intervals. Names are names of populations.\n",
    "\n",
    "            Returns:\n",
    "            -----------------------\n",
    "                False - do not overlap, True - overlap.\n",
    "        '''\n",
    "    \n",
    "    # Return a Series of Boolean, where the indices are the names of the metrics.\n",
    "    # Series name - population names separated by commas and spaces\n",
    "    return pd.Series(\n",
    "        [_confidence_interval_overlapping(confidence_interval_1[metric], confidence_interval_2[metric])\n",
    "        for metric in metrics.index], \n",
    "        index = metrics.index, name = f'{confidence_interval_1.name}, {confidence_interval_2.name}'\n",
    "    )"
   ]
  },
  {
   "cell_type": "code",
   "execution_count": null,
   "metadata": {
    "code_folding": [
     0
    ]
   },
   "outputs": [],
   "source": [
    "def confidence_interval_center_diffs(confidence_interval_1, confidence_interval_2, metrics):\n",
    "    '''\n",
    "    Calculates the distance between the centers of two confidence intervals for one or more metrics.\n",
    "     \n",
    "        Parameters:\n",
    "        ----------\n",
    "        confidence_interval_1, confidence_interval_2 : Series of Tupple of 2 float\n",
    "            Confidence intervals. Names are names of populations.\n",
    "                    \n",
    "        metrics : DataFrame\n",
    "            Information about metrics. Indexes - names of metrics in confidence_interval_1, confidence_interval_2.\n",
    "        \n",
    "        Returns:\n",
    "        -----------------------\n",
    "            An object of type Series of Float.\n",
    "            Name - names of populations separated by commas and spaces\n",
    "            Indexes are the names of metrics (row indices in metrics).\n",
    "            Elements - distance between centers of confidence intervals\n",
    "    '''\n",
    "    def _confidence_interval_center_diff(confidence_interval_1, confidence_interval_2):\n",
    "        return (confidence_interval_1[0] + confidence_interval_1[1] \\\n",
    "                - confidence_interval_2[0] - confidence_interval_2[1])/2\n",
    "        '''\n",
    "        The helper function checks for the intersection of confidence intervals of one metric.\n",
    "\n",
    "            Parameters:\n",
    "            ----------\n",
    "            confidence_interval_1, confidence_interval_2 : Tupple of 2 float\n",
    "                Confidence intervals. Names are names of populations.\n",
    "\n",
    "            Returns:\n",
    "            -----------------------\n",
    "                Distance between the centers of the DI.\n",
    "        '''\n",
    "\n",
    "    # Return a Series of Float, where the indices are the names of the metrics.\n",
    "    # Series name - population names separated by commas and spaces\n",
    "    return pd.Series(\n",
    "        [_confidence_interval_center_diff(confidence_interval_1[metric], confidence_interval_2[metric])\n",
    "         for metric in metrics.index], \n",
    "        index = metrics.index, name = f'{confidence_interval_1.name}, {confidence_interval_2.name}'\n",
    "    )"
   ]
  },
  {
   "cell_type": "code",
   "execution_count": null,
   "metadata": {
    "code_folding": [
     0
    ]
   },
   "outputs": [],
   "source": [
    "def confidence_interval_info(data, metrics, group_pairs):\n",
    "    '''\n",
    "    Function:\n",
    "    - calculates confidence intervals (ci);\n",
    "    - checks for overlapping confidence intervals (ci_overlapping) of the specified pairs of groups (group_pairs);\n",
    "    - calculates confidence interval centers (ci_center);\n",
    "    - calculates the distance between the centers of the confidence intervals (ci_center) of the given pairs of groups (group_pairs).\n",
    "    \n",
    "        Parameters:\n",
    "        ----------\n",
    "        data : DataFrame or Series\n",
    "            Observed data sample.\n",
    "            When using Series, only a single metric dataset can be passed.\n",
    "            When it is necessary to calculate CI for sets of several metrics of the same size\n",
    "            DataFrame should be used. In this case, the metrics data sets should be located\n",
    "            in separate columns.\n",
    "                    \n",
    "        metrics : DataFrame\n",
    "            Information about metrics. Indexes - names of metrics. Column 'statistic' - statistical function.\n",
    "            \n",
    "        group_pairs : List or Tupple\n",
    "            List of pairs of groups of groups for which the intersection of confidence intervals is tested and\n",
    "            distances between the centers of confidence intervals.\n",
    "        \n",
    "        Returns:\n",
    "        -----------------------\n",
    "        ci : Series\n",
    "            Confidence intervals of groups. Indexes - names of groups (indices from data)\n",
    "            \n",
    "        ci_overlapping : DataFrame\n",
    "            The presence of intersections of confidence intervals of given pairs of groups.\n",
    "            \n",
    "        ci_center : Series\n",
    "            Centers of confidence intervals of groups. Indexes - names of groups (indices from data)\n",
    "            \n",
    "        ci_center_diffs : DataFrame\n",
    "            Distances between the centers of confidence intervals of given pairs of groups.\n",
    "    '''\n",
    "    # Calculating confidence intervals of statistics\n",
    "    ci = data.apply(lambda s: confidence_interval(s, statistic=metrics.loc[s.name, 'statistic']))\n",
    "    # Checking for overlapping confidence intervals of statistics of given pairs of groups\n",
    "    ci_overlapping = pd.DataFrame([\n",
    "        confidence_interval_overlapping(ci.loc[group_pair[0]], ci.loc[group_pair[1]], metrics)\n",
    "        for group_pair in group_pairs])\n",
    "    # Calculation of confidence interval centers of statistics\n",
    "    ci_center = ci.map(lambda x: (x[0] + x[1])/2)\n",
    "    # Calculation of distances between centers of confidence intervals of statistics of given pairs of groups\n",
    "    ci_center_diffs = pd.DataFrame([\n",
    "        confidence_interval_center_diffs(ci.loc[group_pair[0]], ci.loc[group_pair[1]], metrics)\n",
    "        for group_pair in group_pairs])\n",
    "    return ci, ci_overlapping, ci_center, ci_center_diffs"
   ]
  },
  {
   "cell_type": "code",
   "execution_count": null,
   "metadata": {
    "code_folding": [
     0
    ]
   },
   "outputs": [],
   "source": [
    "def display_cat_info(data):\n",
    "    '''\n",
    "    Generates a stylized tabular representation of the customer distribution map\n",
    "    by categories of mobile Internet service quality assessment and reasons for such assessment.\n",
    "    \n",
    "        Parameters:\n",
    "        ----------\n",
    "        data : DataFrame\n",
    "            Dataset of information about customer categories. Should contain the fields 'Internet score' and 'Dissatisfaction reasons'.\n",
    "        \n",
    "    \n",
    "        Returns:\n",
    "        -----------------------\n",
    "        io.formats.style.Styler\n",
    "            A stylized tabular representation of a customer distribution map.\n",
    "    '''\n",
    "    df = data.groupby(['Internet score', 'Dissatisfaction reasons'], sort=False).size().unstack(\n",
    "        level=1, fill_value=0)\n",
    "    df.index.name = None\n",
    "    df.columns.name = ''\n",
    "    df = df.map(lambda x: x if x > 0 else '-')\n",
    "    style = df.style.set_table_styles(\n",
    "        [{'selector': 'th, td', 'props': 'width: 80px; text-align: center; border: 1px solid lightgray;'}, \n",
    "         {'selector': 'th.index_name', 'props': 'border: none'}],\n",
    "        overwrite=False\n",
    "    )\n",
    "    return style"
   ]
  },
  {
   "cell_type": "code",
   "execution_count": null,
   "metadata": {
    "code_folding": [
     0
    ]
   },
   "outputs": [],
   "source": [
    "def display_statistics(data, axis=0, metrics=None, precision=1, caption=None, caption_font_size=12, \n",
    "                       opacity=1.0, index_width=120, col_width=130):\n",
    "    '''\n",
    "    Outputs statistics values for one or more metrics from one or more populations\n",
    "    in the form of a stylized table with a heading.\n",
    "    The best and worst values for each metric are highlighted in green and red font colors, respectively.\n",
    "    The background color of the population name is set from the px.colors.DEFAULT_PLOTLY_COLORS palette\n",
    "    in the order in which they appear in the data set.\n",
    "    \n",
    "        Parameters:\n",
    "        ----------\n",
    "        data : DataFrame\n",
    "            The set of statistics values to display.\n",
    "            The names of the metrics should be located on one axis, and the names of the populations on the other.\n",
    "            \n",
    "        axis: {0, 1}. Default - 0\n",
    "            Shows what is located in the rows and columns of a data set.\n",
    "            0 - indices are the names of populations, metric data are distributed across columns\n",
    "            1 - columns are the names of populations, metric data are distributed across rows\n",
    "                    \n",
    "        precision : int. Default - 4\n",
    "            The number of decimal places for the output statistics values.\n",
    "            \n",
    "        caption : string or None. Default is None\n",
    "            Table Header\n",
    "            \n",
    "        caption_font_size : int. Default - 12\n",
    "            Table Header Font Size\n",
    "            \n",
    "        opacity : float. Default is 1.0\n",
    "            Opacity level (from 0.0 to 1.0) of the population name background\n",
    "            \n",
    "        index_width : int. Default - 120\n",
    "            Index column width\n",
    "            \n",
    "        col_width : int. Default - 130\n",
    "            Width of value columns\n",
    "                    \n",
    "        Returns:\n",
    "        -----------------------\n",
    "            No.\n",
    "    '''\n",
    "\n",
    "    df = data.copy()\n",
    "    if axis==0:\n",
    "        df.columns = metrics['name']\n",
    "        df.columns.name = 'Metric'\n",
    "        df.index.name = 'Group'\n",
    "        positive_subset = pd.IndexSlice[:, metrics.loc[metrics.impact=='+', 'name'].to_list()]\n",
    "        negative_subset = pd.IndexSlice[:, metrics.loc[metrics.impact=='-', 'name'].to_list()]\n",
    "    else:\n",
    "        df.index = metrics['name']\n",
    "        df.index.name = 'Metric'\n",
    "        df.columns.name = 'Group'\n",
    "        positive_subset = pd.IndexSlice[metrics.loc[metrics.impact=='+', 'name'].to_list(), :]\n",
    "        negative_subset = pd.IndexSlice[metrics.loc[metrics.impact=='-', 'name'].to_list(), :]\n",
    "    \n",
    "    style = df.style\\\n",
    "    .map_index(lambda group: f'color: white; background-color: \\\n",
    "        {px.colors.DEFAULT_PLOTLY_COLORS[df.axes[axis].get_loc(group)]}; opacity: {opacity}', axis=axis)\\\n",
    "    .set_caption(caption)\\\n",
    "    .set_table_styles([\n",
    "        {'selector': 'caption', 'props': f'font-size:{caption_font_size}pt; text-align: center; color: black'},\n",
    "        {'selector': '.row_heading, td', 'props': f'width: {index_width}px; text-align: center;'},\n",
    "        {'selector': '.col_heading, td', 'props': f'width: {col_width}px; text-align: center;'}\n",
    "    ], overwrite=False)\\\n",
    "    .format(precision=precision)\n",
    "    \n",
    "    if len(positive_subset[1]) > 0:\n",
    "        style = style\\\n",
    "            .highlight_min(props='color: red; font-weight: bold', subset=positive_subset, axis=axis)\\\n",
    "            .highlight_max(props='color: green; font-weight: bold', subset=positive_subset, axis=axis)\\\n",
    "    \n",
    "    if len(negative_subset[1]) > 0:\n",
    "        style = style\\\n",
    "            .highlight_min(props='color: green; font-weight: bold', subset=negative_subset, axis=axis)\\\n",
    "            .highlight_max(props='color: red; font-weight: bold', subset=negative_subset, axis=axis)\n",
    "        \n",
    "    if df.axes[axis].size == 1:\n",
    "        style = style.hide(axis='index')\n",
    "   \n",
    "    display(style)"
   ]
  },
  {
   "cell_type": "code",
   "execution_count": null,
   "metadata": {
    "code_folding": [
     0
    ]
   },
   "outputs": [],
   "source": [
    "def display_pvalues(data, axis=0, metrics=None, precision=4, alpha=0.05, caption=None, caption_font_size=12, \n",
    "                    opacity=1.0, index_width=120, col_width=130):\n",
    "    '''\n",
    "    Outputs p-values for one or more metrics from one or more tests.\n",
    "    in the form of a stylized table with a heading.\n",
    "    Values below the significance level are highlighted in red font.\n",
    "    The background color of the population name is set from the px.colors.DEFAULT_PLOTLY_COLORS palette\n",
    "    in the order in which they appear in the data set.\n",
    "    \n",
    "        Parameters:\n",
    "        ----------\n",
    "        data : DataFrame\n",
    "            The set of displayed p-values.\n",
    "            The names of the metrics should be located on one axis, and the names of the pairs of populations, separated by a comma and a space, should be located on the other.\n",
    "            \n",
    "        axis: {0, 1}. Default - 0\n",
    "            Shows what is located in the rows and columns of a data set.\n",
    "            0 - indices are the names of population pairs separated by commas and spaces, metric data are distributed across columns\n",
    "            1 - columns are the names of population pairs separated by commas and spaces, metric data are distributed across rows\n",
    "                    \n",
    "        precision : int. Default - 4\n",
    "            The number of decimal places for the output statistics values.\n",
    "            \n",
    "        alpha : float. Default is 0.05\n",
    "            Level of significance.\n",
    "            \n",
    "        caption : string or None. Default is None\n",
    "            Table Header\n",
    "            \n",
    "        caption_font_size : int. Default - 12\n",
    "            Table Header Font Size\n",
    "            \n",
    "        opacity : float. Default is 1.0\n",
    "            Opacity level (from 0.0 to 1.0) of the population name background\n",
    "            \n",
    "        index_width : int. Default - 120\n",
    "            Index column width\n",
    "            \n",
    "        col_width : int. Default - 130\n",
    "            Width of value columns\n",
    "                    \n",
    "        Returns:\n",
    "        -----------------------\n",
    "            No.\n",
    "    '''\n",
    "\n",
    "    df = data.copy()\n",
    "    if axis==0:\n",
    "        df.index = pd.MultiIndex.from_tuples(df.index.str.split(', ').map(lambda x: tuple(x)), name=[None, None])\n",
    "        df.columns = pd.Index(metrics['name'].to_list(), name=None)\n",
    "        groups = pd.Index(df.index.get_level_values(0).to_list() + df.index.get_level_values(1).to_list()\n",
    "                         ).drop_duplicates()\n",
    "    else:\n",
    "        df.columns = pd.MultiIndex.from_tuples(df.columns.str.split(', ').map(lambda x: tuple(x)), name=[None, None])\n",
    "        df.index = pd.Index(metrics['name'].to_list(), name=None)\n",
    "        groups = pd.Index(df.columns.get_level_values(0).to_list() + df.columns.get_level_values(1).to_list()\n",
    "                         ).drop_duplicates()\n",
    "    \n",
    "    style = df.style\\\n",
    "    .map_index(lambda group: f'color: white; background-color: \\\n",
    "        {px.colors.DEFAULT_PLOTLY_COLORS[groups.get_loc(group)]}; opacity: {opacity}', axis=axis, level=0)\\\n",
    "    .map_index(lambda group: f'color: white; background-color: \\\n",
    "        {px.colors.DEFAULT_PLOTLY_COLORS[groups.get_loc(group)]}; opacity: {opacity}', axis=axis, level=1)\\\n",
    "    .set_caption(caption)\\\n",
    "    .set_table_styles([\n",
    "        {'selector': 'caption', 'props': f'font-size:{caption_font_size}pt; text-align:center; color:black'},\n",
    "        {'selector': 'td', 'props': 'text-align: center; border: 1px solid lightgray; border-collapse: collapse;'},\n",
    "        {'selector': '.row_heading, td', 'props': f'width: {index_width}px; text-align: center;'},\n",
    "        {'selector': '.col_heading, td', 'props': f'width: {col_width}px; text-align: center;'}\n",
    "    ], overwrite=False)\\\n",
    "    .map_index(lambda s: 'border: 1px solid lightgray; border-collapse: collapse;', axis=0)\\\n",
    "    .map_index(lambda s: 'border: 1px solid lightgray; border-collapse: collapse;', axis=1)\\\n",
    "    .format(precision=precision)\\\n",
    "    .highlight_between(right=alpha, inclusive='right', props='color: red; font-weight: bold')\n",
    "    \n",
    "    if df.axes[axis].size == 1:\n",
    "        style = style.hide(axis='index')\n",
    "   \n",
    "    display(style)"
   ]
  },
  {
   "cell_type": "code",
   "execution_count": null,
   "metadata": {
    "code_folding": [
     0
    ]
   },
   "outputs": [],
   "source": [
    "def display_confidence_interval(values, axis=0, metrics=None, precision=1, caption=None, caption_font_size=12, \n",
    "                                opacity=1.0, index_width=120, col_width=80):\n",
    "    '''\n",
    "    Outputs confidence interval values for one or more metrics in one or more populations.\n",
    "    in the form of a stylized table with a heading.\n",
    "    For each confidence interval, the minor boundary, the center, and the major boundary are displayed in a separate column or row.\n",
    "    The best and worst values of the CI center for each metric are highlighted in green and red font colors, respectively.\n",
    "    The background color of the population name is set from the px.colors.DEFAULT_PLOTLY_COLORS palette\n",
    "    in the order in which they appear in the data set.\n",
    "    \n",
    "        Parameters:\n",
    "        ----------\n",
    "        data : DataFrame\n",
    "            The set of displayed p-values.\n",
    "            The names of the metrics should be located on one axis, and the names of the pairs of populations, separated by a comma and a space, should be located on the other.\n",
    "            \n",
    "        axis: {0, 1}. Default - 0\n",
    "            Shows what is located in the rows and columns of a data set.\n",
    "            0 - indices are the names of population pairs separated by commas and spaces, metric data are distributed across columns\n",
    "            1 - columns are the names of population pairs separated by commas and spaces, metric data are distributed across rows\n",
    "                    \n",
    "        precision : int. Default - 1\n",
    "            The number of decimal places for the output statistics values.\n",
    "            \n",
    "        caption : string or None. Default is None\n",
    "            Table Header\n",
    "            \n",
    "        caption_font_size : int. Default - 12\n",
    "            Table Header Font Size\n",
    "            \n",
    "        opacity : float. Default is 1.0\n",
    "            Opacity level (from 0.0 to 1.0) of the population name background\n",
    "            \n",
    "        index_width : int. Default - 120\n",
    "            Index column width\n",
    "            \n",
    "        col_width : int. Default - 80\n",
    "            Width of value columns\n",
    "                    \n",
    "        Returns:\n",
    "        -----------------------\n",
    "            No.\n",
    "    '''\n",
    "    df = pd.DataFrame()\n",
    "    if axis==0:\n",
    "        if type(metrics) == pd.DataFrame:\n",
    "            df = pd.DataFrame(\n",
    "                columns=pd.MultiIndex.from_product(\n",
    "                    [metrics['name'], ['Low bound', 'Midpoint', 'Hi bound']],\n",
    "                    names = ['', '']),\n",
    "                index=pd.Index(values.index.to_list(), name=None)\n",
    "            )\n",
    "            positive_subsets = [pd.IndexSlice[:, (description, 'Midpoint')] \n",
    "                                for description in metrics.loc[metrics.impact=='+', 'name']]\n",
    "            negative_subsets = [pd.IndexSlice[:, (description, 'Midpoint')] \n",
    "                                for description in metrics.loc[metrics.impact=='-', 'name']]\n",
    "        else:\n",
    "            df = pd.DataFrame(\n",
    "                columns=pd.Index(\n",
    "                    ['Low bound', 'Midpoint', 'Hi bound'],\n",
    "                    name=''),\n",
    "                index=pd.Index(values.index.to_list(), name=None)\n",
    "            )\n",
    "            positive_subsets = [pd.IndexSlice[:, 'Midpoint']] if metrics.impact == '+' else []\n",
    "            negative_subsets = [pd.IndexSlice[:, 'Midpoint']] if metrics.impact == '-' else []\n",
    "    else:\n",
    "        if type(metrics) == pd.DataFrame:\n",
    "            df = pd.DataFrame(\n",
    "                index=pd.MultiIndex.from_product(\n",
    "                    [metrics['name'], ['Low bound', 'Midpoint', 'Hi bound']],\n",
    "                    names = ['', '']),\n",
    "                columns=pd.Index(values.index.to_list(), name=None)\n",
    "            )\n",
    "            negative_subsets = [pd.IndexSlice[(description, 'Midpoint'), :] \n",
    "                                for description in metrics.loc[metrics.impact=='+', 'name']]\n",
    "            positive_subsets = [pd.IndexSlice[(description, 'Midpoint'), :] \n",
    "                                for description in metrics.loc[metrics.impact=='-', 'name']]\n",
    "        else:\n",
    "            df = pd.DataFrame(\n",
    "                index=pd.Index(\n",
    "                    ['Low bound', 'Midpoint', 'Hi bound'],\n",
    "                    name=''),\n",
    "                columns=pd.Index(values.index.to_list(), name=None)\n",
    "            )\n",
    "            positive_subsets = [pd.IndexSlice[:, 'Midpoint']] if metrics.impact == '+' else []\n",
    "            negative_subsets = [pd.IndexSlice[:, 'Midpoint']] if metrics.impact == '-' else []\n",
    "            \n",
    "    if df.columns.nlevels == 2:\n",
    "        df = df.swaplevel(axis=1)\n",
    "    \n",
    "        df.loc[:, 'Low bound'] = values.map(lambda x: x[0]).to_numpy()\n",
    "        df.loc[:, 'Hi bound'] = values.map(lambda x: x[1]).to_numpy()\n",
    "        df.loc[:, 'Midpoint'] = (df.loc[:, 'Low bound'] + df.loc[:, 'Hi bound']).to_numpy() / 2\n",
    "    \n",
    "        df = df.swaplevel(axis=1)\n",
    "    else:\n",
    "        df.loc[:, 'Low bound'] = values.apply(lambda x: x[0]).to_numpy()\n",
    "        df.loc[:, 'Hi bound'] = values.apply(lambda x: x[1]).to_numpy()\n",
    "        df.loc[:, 'Midpoint'] = (df.loc[:, 'Low bound'] + df.loc[:, 'Hi bound']).to_numpy() / 2\n",
    "\n",
    "    style = df.style\\\n",
    "    .map_index(lambda group: f'''color: white; background-color: \n",
    "                            {px.colors.DEFAULT_PLOTLY_COLORS[df.axes[axis].get_loc(group)]}; \n",
    "                            opacity: {opacity}''', axis=axis)\\\n",
    "    .set_caption(caption)\\\n",
    "    .set_table_styles([\n",
    "        {'selector': 'caption', 'props': f'font-size:{caption_font_size}pt; text-align:center; color:black'},\n",
    "        {'selector': 'td', 'props': 'text-align: center; border: 1px solid lightgray; border-collapse: collapse;'},\n",
    "        {'selector': '.row_heading, td', 'props': f'width: {index_width}px; text-align: center;'},\n",
    "        {'selector': '.col_heading, td', 'props': f'width: {col_width}px; text-align: center;'}\n",
    "    ], overwrite=False)\\\n",
    "    .map_index(lambda s: 'border: 1px solid lightgray; border-collapse: collapse;', axis=0)\\\n",
    "    .map_index(lambda s: 'border: 1px solid lightgray; border-collapse: collapse;', axis=1)\\\n",
    "    .format(precision=precision)\n",
    "    \n",
    "    for positive_subset in positive_subsets:\n",
    "        style = style\\\n",
    "            .highlight_min(props=f'color: red; font-weight: bold;', \n",
    "                           subset=positive_subset, axis=axis)\\\n",
    "            .highlight_max(props=f'color: green; font-weight: bold;', \n",
    "                           subset=positive_subset, axis=axis)\n",
    "\n",
    "    for negative_subset in negative_subsets:\n",
    "        style = style\\\n",
    "            .highlight_max(props=f'color: red; font-weight: bold;', \n",
    "                           subset=negative_subset, axis=axis)\\\n",
    "            .highlight_min(props=f'color: green; font-weight: bold;', \n",
    "                           subset=negative_subset, axis=axis)\n",
    "\n",
    "    if df.axes[axis].size == 1:\n",
    "        style = style.hide(axis='index')\n",
    "   \n",
    "    display(style)"
   ]
  },
  {
   "cell_type": "code",
   "execution_count": null,
   "metadata": {
    "code_folding": [
     0
    ]
   },
   "outputs": [],
   "source": [
    "def display_confidence_interval_overlapping(values, axis=0, metrics=None, caption='', caption_font_size=12, \n",
    "                                            opacity=1.0, index_width=120, col_width=130):\n",
    "\n",
    "    df = values.map(lambda x: 'Yes' if x==1 else 'No')\n",
    "    if axis==0:\n",
    "        df.index = pd.MultiIndex.from_tuples(df.index.str.split(', ').map(lambda x: tuple(x)), name=[None, None])\n",
    "        df.columns = pd.Index(metrics['name'].to_list(), name=None)\n",
    "        groups = pd.Index(df.index.get_level_values(0).to_list() + df.index.get_level_values(1).to_list()\n",
    "                         ).drop_duplicates()\n",
    "    else:\n",
    "        df.columns = pd.MultiIndex.from_tuples(df.columns.str.split(', ').map(lambda x: tuple(x)), name=[None, None])\n",
    "        df.index = pd.Index(metrics['name'].to_list(), name=None)\n",
    "        groups = pd.Index(df.columns.get_level_values(0).to_list() + df.columns.get_level_values(1).to_list()\n",
    "                         ).drop_duplicates()\n",
    "    \n",
    "    style = df.style\\\n",
    "    .map_index(lambda group: f'color: white; background-color: {px.colors.DEFAULT_PLOTLY_COLORS[groups.get_loc(group)]}; opacity: {opacity}', axis=axis, level=0)\\\n",
    "    .map_index(lambda group: f'color: white; background-color: {px.colors.DEFAULT_PLOTLY_COLORS[groups.get_loc(group)]}; opacity: {opacity}', axis=axis, level=1)\\\n",
    "    .set_caption(caption)\\\n",
    "    .set_table_styles([\n",
    "        {'selector': 'caption', 'props': f'font-size:{caption_font_size}pt; text-align:center; color:black'},\n",
    "        {'selector': 'td', 'props': 'text-align: center; border: 1px solid lightgray; border-collapse: collapse;'},\n",
    "        {'selector': '.row_heading, td', 'props': f'width: {index_width}px; text-align: center;'},\n",
    "        {'selector': '.col_heading, td', 'props': f'width: {col_width}px; text-align: center;'}\n",
    "    ], overwrite=False)\\\n",
    "    .map_index(lambda s: 'border: 1px solid lightgray; border-collapse: collapse;', axis=0)\\\n",
    "    .map_index(lambda s: 'border: 1px solid lightgray; border-collapse: collapse;', axis=1)\\\n",
    "    .map(lambda x: f'color: red; font-weight: bold;' if x=='No' else None)\n",
    "    \n",
    "    if df.axes[axis].size == 1:\n",
    "        style = style.hide(axis='index')\n",
    "        \n",
    "    display(style)"
   ]
  },
  {
   "cell_type": "code",
   "execution_count": null,
   "metadata": {
    "code_folding": [
     0
    ]
   },
   "outputs": [],
   "source": [
    "def plot_metric_histograms(data, metrics, title=None, title_y=None, yaxis_title=None, \n",
    "                           title_font_size=14, labels_font_size=12, units_font_size=12, axes_tickfont_size=12,\n",
    "                           height=None, width=None, horizontal_spacing=None, vertical_spacing=None,\n",
    "                           n_cols=1, opacity=0.5, histnorm='percent', \n",
    "                           add_boxplot=False, boxplot_height_fraq=0.25, add_mean=False, add_kde=False,\n",
    "                           mark_confidence_interval=False, confidence_level=0.95,\n",
    "                           add_statistic=False, mark_statistic=None, statistic=None):\n",
    "    '''\n",
    "    The function is designed to build histograms for several metrics, divided into several groups.\n",
    "    A separate canvas is created for each metric. The canvas can be divided into several columns.\n",
    "    In each canvas, several histograms are built for each group.\n",
    "    Additionally, boxplots for each group can be placed above the histograms,\n",
    "    similar to what the px.histogram function does when specifying the margin parameter equal to boxplot.\n",
    "    Another option is the ability to construct kernel distribution estimates (KDE)\n",
    "    for each group on one canvas with histograms. KDE construction is only possible when building\n",
    "    probability density histogram.\n",
    "\n",
    "    Parameters:\n",
    "    ----------\n",
    "    data : DataFrame or Series\n",
    "        The data sample for which confidence interval bounds are calculated.\n",
    "        When using Series, only a single metric dataset can be passed.\n",
    "        When it is necessary to calculate CI for sets of several metrics of the same size\n",
    "        DataFrame should be used. In this case, the metrics data sets should be located\n",
    "        in separate columns.\n",
    "\n",
    "    metrics : DataFrame\n",
    "        Information about metrics. Indexes are names of metrics.\n",
    "        \n",
    "    title : string or None. Default is None\n",
    "        Chart Title\n",
    "        \n",
    "    title_y : float or None\n",
    "        Relative position of the chart title by height (from 0.0 (bottom) to 1.0 (top))\n",
    "        \n",
    "    yaxis_title : string or None. Defaults to None\n",
    "        Y-axis title\n",
    "        \n",
    "    title_font_size : int. Default - 14\n",
    "        Chart Title Font Size\n",
    "        \n",
    "    labels_font_size : int. Default - 12\n",
    "        Font size of inscriptions\n",
    "        \n",
    "    units_font_size : int. Default - 12\n",
    "        Font size of unit names\n",
    "        \n",
    "    axes_tickfont_size : int. Default - 12\n",
    "        Font size of axes labels\n",
    "        \n",
    "    height : int or None. Default is None\n",
    "        Height of the chart\n",
    "\n",
    "    width : int or None. Default is None\n",
    "        Diagram width\n",
    "                \n",
    "    horizontal_spacing : float or None. Defaults to None\n",
    "        Distance between columns of canvases in fractions of width (from 0.0 to 1.0)\n",
    "\n",
    "    vertical_spacing : float or None. Defaults to None\n",
    "        Distance between the rows of canvases in fractions of the height (from 0.0 to 1.0)\n",
    "        \n",
    "    n_cols : int. Default - 1\n",
    "        Number of columns of canvases\n",
    "\n",
    "    opacity : float. Default is 0.5\n",
    "        Opacity level (0.0 to 1.0) of the column color\n",
    "        \n",
    "    histnorm : {'percent', 'probability', 'density' or 'probability density'} or None. Defaults to 'percent'\n",
    "        Histogram type (see plotly.express.histogram)\n",
    "    \n",
    "    boxplot_height_fraq : float. Default is 0.25\n",
    "        Fraction of boxplot height. Only used if add_boxplot=True\n",
    "    \n",
    "    add_boxplot : boolean. Default is False\n",
    "        Add a boxplot above each histogram.\n",
    "        \n",
    "    add_mean : boolean. Default is False\n",
    "        Add a mean value marker to the boxlot. Only used if add_boxplot=True\n",
    "        \n",
    "    add_kde : boolean. Default is False\n",
    "        Add KDE curve to histogram. Only used if histnorm='probability density'\n",
    "    \n",
    "    mark_confidence_interval : boolean. Default is False\n",
    "        Color KDE regions outside the confidence interval with the histogram color at half transparency.\n",
    "        Only used if add_kde=True\n",
    "    \n",
    "    confidence_level : float. Default is 0.95\n",
    "        Confidence level. Only used if mark_confidence_interval=True\n",
    "        \n",
    "    add_statistic : boolean. Default is False\n",
    "        Mark the statistics on the histogram as a vertical dashed line.\n",
    "        \n",
    "    mark_statistic : {'tomin', 'tomax', 'tonearest'}. Default - False\n",
    "        Color the KDE area on the left ('tomin') or right ('tomax'),\n",
    "        or minimum ('min') or maximum ('max') in size in the histogram color with half transparency.\n",
    "    \n",
    "    statistic : Series\n",
    "        The value of the statistics displayed on the histogram. Indexes are the names of the metrics.\n",
    "        Used only if add_statistic=True and/or mark_statistic=True\n",
    "    \n",
    "    Returns:\n",
    "    -----------------------\n",
    "        No.\n",
    "    '''\n",
    "\n",
    "    def _confidence_interval(data, confidence_level=0.95):\n",
    "        '''\n",
    "        Calculates the confidence interval bounds of a data set\n",
    "\n",
    "        Parameters:\n",
    "        ----------\n",
    "        data : Series or DataFrame\n",
    "            The data sample for which confidence interval bounds are calculated.\n",
    "            When using Series, only a single metric dataset can be passed.\n",
    "            When it is necessary to calculate CI for sets of several metrics of the same size\n",
    "            DataFrame should be used. In this case, the metrics data sets should be located\n",
    "            in separate columns.\n",
    "            \n",
    "        confidence_level : float. Default is 0.95\n",
    "            Level of trust.\n",
    "            \n",
    "        Returns:\n",
    "        -----------------------\n",
    "            If data is a Series, then a Series with two elements: 'low' is the lower bound, 'high' is the upper bound.\n",
    "            If data is a DataFrame, then a DataFrame with two rows: 'low' is the lower bound, 'high' is the upper bound.\n",
    "        '''\n",
    "        alpha = 1 - confidence_level\n",
    "        result = data.quantile([alpha/2, 1 - alpha/2])\n",
    "        result = result.rename({alpha/2: 'low', 1 - alpha/2: 'high'})\n",
    "        return result\n",
    "    \n",
    "    # The list of metrics is the names of the columns in the dataset\n",
    "    n_metrics = metrics.shape[0]\n",
    "    # Calculate the number of lines and their heights\n",
    "    n_rows = int(np.ceil(n_metrics / n_cols))\n",
    "    if add_boxplot:\n",
    "        row_heights = [boxplot_height_fraq / n_rows, (1 - boxplot_height_fraq) / n_rows] * n_rows\n",
    "        n_rows *= 2\n",
    "    else:\n",
    "        row_heights = [1 / n_rows] * n_rows\n",
    "    titles = []\n",
    "    specs = []\n",
    "    # Generate a list of titles and chart specifications\n",
    "    for index in range(0, n_metrics, n_cols):\n",
    "        titles += metrics['label'].iloc[index:index + n_cols].to_list()\n",
    "        if add_boxplot:\n",
    "            titles += [''] * n_cols\n",
    "            specs.append([{'b': 0.004}] * n_cols)\n",
    "        specs.append([{'b': vertical_spacing}] * n_cols)\n",
    "    # Create a canvas with n_row*n_cols graphs\n",
    "    fig = make_subplots(cols=n_cols, rows=n_rows, row_heights=row_heights, subplot_titles=titles,\n",
    "                        horizontal_spacing=horizontal_spacing, vertical_spacing=0,\n",
    "                        specs=specs)\n",
    "    # Display metrics histograms with boxes and whiskers above them\n",
    "    for index, metric in enumerate(metrics.index):\n",
    "        # We go by metrics\n",
    "        col = index % n_cols + 1\n",
    "        row = (index // n_cols) * (2 if add_boxplot else 1) + 1\n",
    "        # Add a histogram\n",
    "        fig.add_histogram(x=data[metric], row=row + (1 if add_boxplot else 0), col=col, histnorm=histnorm,\n",
    "                          bingroup=index + 1,\n",
    "                          marker_color=px.colors.DEFAULT_PLOTLY_COLORS[index], \n",
    "                          marker_line_color='white', marker_line_width=1,\n",
    "                          opacity=opacity, showlegend=False, name=metrics.loc[metric, 'name'])\n",
    "        # Add KDE to the histogram\n",
    "        if add_kde and histnorm == 'probability density':\n",
    "            special_points = None\n",
    "            if mark_confidence_interval:\n",
    "                confidence_interval = _confidence_interval(data[metric], confidence_level)\n",
    "                special_points = confidence_interval\n",
    "            if mark_statistic is not None:\n",
    "                if special_points is None:\n",
    "                    special_points = pd.Series(statistic[metric])\n",
    "                else:\n",
    "                    special_points = special_points.append(\n",
    "                        pd.Series(statistic[metric]))\n",
    "            metric_kde = kde(data[metric],\n",
    "                             special_points=special_points)\n",
    "            metric_kde.sort_values(['value'], inplace=True)\n",
    "            fig.add_scatter(x=metric_kde['value'], y=metric_kde['pdf'], row=row + (1 if add_boxplot else 0), col=col,\n",
    "                            mode='lines', marker_color=px.colors.DEFAULT_PLOTLY_COLORS[index], marker_line_width=1,\n",
    "                            opacity=opacity, showlegend=False, name=metrics.loc[metric, 'name'])\n",
    "            if mark_confidence_interval:\n",
    "                df = metric_kde[metric_kde['value'] <= confidence_interval['low']]\n",
    "                fig.add_scatter(x=df['value'], y=df['pdf'], row=row + (1 if add_boxplot else 0), col=col, mode='lines',\n",
    "                                marker_color=px.colors.DEFAULT_PLOTLY_COLORS[index], marker_line_width=1,\n",
    "                                opacity=opacity, name=metrics.loc[metric, 'name'],\n",
    "                                showlegend=False, fill='tozeroy')\n",
    "                df = metric_kde[metric_kde['value'] >= confidence_interval['high']]\n",
    "                fig.add_scatter(x=df['value'], y=df['pdf'], row=row + (1 if add_boxplot else 0), col=col, mode='lines',\n",
    "                                marker_color=px.colors.DEFAULT_PLOTLY_COLORS[index], marker_line_width=1,\n",
    "                                opacity=opacity, name=metrics.loc[metric, 'name'], \n",
    "                                showlegend=False, fill='tozeroy')\n",
    "            if mark_statistic is not None and statistic is not None:\n",
    "                if mark_statistic[metric] == 'tomin':\n",
    "                    df = metric_kde[metric_kde['value'] <= statistic[metric]]\n",
    "                elif mark_statistic[metric] == 'tomax':\n",
    "                    df = metric_kde[metric_kde['value'] >= statistic[metric]]\n",
    "                elif mark_statistic[metric] == 'min':\n",
    "                    if sum(data[metric] <= statistic[metric]) <= sum(data[metric] >= statistic[metric]):\n",
    "                        df = metric_kde[metric_kde['value'] <= statistic[metric]]\n",
    "                    else:\n",
    "                        df = metric_kde[metric_kde['value'] >= statistic[metric]]\n",
    "                elif mark_statistic[metric] == 'max':\n",
    "                    if sum(data[metric] <= statistic[metric]) >= sum(data[metric] >= statistic[metric]):\n",
    "                        df = metric_kde[metric_kde['value'] >= statistic[metric]]\n",
    "                    else:\n",
    "                        df = metric_kde[metric_kde['value'] <= statistic[metric]]\n",
    "                fig.add_scatter(x=df['value'], y=df['pdf'], row=row + (1 if add_boxplot else 0), col=col, mode='lines',\n",
    "                                marker_color=px.colors.DEFAULT_PLOTLY_COLORS[index], marker_line_width=1,\n",
    "                                opacity=opacity, name=metrics.loc[metric, 'name'],\n",
    "                                showlegend=False, fill='tozeroy')\n",
    "            if add_statistic and statistic is not None:\n",
    "                # Add statistics\n",
    "                fig.add_vline(x=statistic[metric], row=row + (1 if add_boxplot else 0), col=col,\n",
    "                              line_color=px.colors.DEFAULT_PLOTLY_COLORS[index], line_width=2, line_dash='dash',\n",
    "                              opacity=opacity)\n",
    "        if add_boxplot:\n",
    "            # Add a \\\"box with whiskers\\\" above the histogram\n",
    "            fig.add_box(x=data[metric], row=row, col=col, marker_color=px.colors.DEFAULT_PLOTLY_COLORS[index],\n",
    "                        line_width=1, name=metrics.loc[metric, 'name'],\n",
    "                        boxmean=add_mean, showlegend=False)\n",
    "            # For \\\"boxes with whiskers\\\" we set the same range of values on the x-axis as for the histograms,\n",
    "            # show the grid on the x axis, but hide the labels on it\n",
    "            fig.update_xaxes(matches=list(fig.select_traces(row=row + 1, col=col))[0].xaxis, \n",
    "                             showgrid=True, showticklabels=False, row=row, col=col)\n",
    "            # For \\\"boxes with whiskers\\\" we hide the y-axis title and labels on it\n",
    "            fig.update_yaxes(title='', row=row, col=col, showticklabels=False)\n",
    "        fig.update_xaxes(title=metrics['units'].iloc[index], title_font_size=units_font_size, \n",
    "                         row=row + (1 if add_boxplot else 0), col=col)\n",
    "        fig.update_yaxes(title=yaxis_title, title_font_size=units_font_size, \n",
    "                         row=row + (1 if add_boxplot else 0), col=col)\n",
    "\n",
    "    fig.update_xaxes(tickfont_size=axes_tickfont_size)\n",
    "    fig.update_yaxes(tickfont_size=axes_tickfont_size)\n",
    "    fig.update_annotations(font_size=labels_font_size)\n",
    "    fig.update_layout(barmode='overlay', title=title, title_font_size=title_font_size,\n",
    "                      title_x=0.5, title_y=title_y,\n",
    "                      width=width, height=height,\n",
    "                      margin_b=0)\n",
    "    fig.show()"
   ]
  },
  {
   "cell_type": "code",
   "execution_count": null,
   "metadata": {
    "code_folding": [
     0
    ]
   },
   "outputs": [],
   "source": [
    "def plot_metric_confidence_interval(data, metrics, title=None, title_y=None, yaxis_title=None,\n",
    "                                    title_font_size=14, labels_font_size=12, units_font_size=12, axes_tickfont_size=12,\n",
    "                                    height=None, width=None, horizontal_spacing=None, vertical_spacing=None,\n",
    "                                    n_cols=1, opacity=0.5):\n",
    "    '''\n",
    "    The function is designed to construct confidence intervals for several metrics of several groups.\n",
    "    A separate canvas is created for each metric. The canvas can be divided into several columns.\n",
    "    The confidence interval is indicated as a horizontal segment with vertical cutoffs at the ends.\n",
    "    The center of the confidence interval is highlighted by a dot.\n",
    "    \n",
    "        Parameters:\n",
    "        ----------\n",
    "        data : pandas.Series or pandas.DataFrame\n",
    "            Confidential intervals of populations.\n",
    "            pandas.Series - for constructing CI for one metric\n",
    "            pandas.DataFrame - for constructing CI for several metrics. Metric data are arranged in columns.\n",
    "            Population names should be used as the dataset index.\n",
    "            \n",
    "        metrics : DataFrame\n",
    "            Information about metrics. Indexes are names of metrics.\n",
    "\n",
    "        title : string or None. Default is None\n",
    "            Chart Title\n",
    "            \n",
    "        title_y : float or None\n",
    "            Relative position of the chart title by height (from 0.0 (bottom) to 1.0 (top))\n",
    "            \n",
    "        title_font_size : int. Default - 14\n",
    "            Chart Title Font Size\n",
    "            \n",
    "        labels_font_size : int. Default - 12\n",
    "            Font size of inscriptions\n",
    "            \n",
    "        units_font_size : int. Default - 12\n",
    "            Font size of unit names\n",
    "            \n",
    "        axes_tickfont_size : int. Default - 12\n",
    "            Font size of axes labels\n",
    "            \n",
    "        height : int or None. Default is None\n",
    "            Height of the chart\n",
    "\n",
    "        width : int or None. Default is None\n",
    "            Diagram width\n",
    "                    \n",
    "        horizontal_spacing : float or None. Defaults to None\n",
    "            Distance between columns of canvases in fractions of width (from 0.0 to 1.0)\n",
    "\n",
    "        vertical_spacing : float or None. Defaults to None\n",
    "            Distance between the rows of canvases in fractions of the height (from 0.0 to 1.0)\n",
    "            \n",
    "        n_cols : int. Default - 1\n",
    "            Number of columns of canvases\n",
    "\n",
    "        opacity : float. Default is 0.5\n",
    "            Opacity level (0.0 to 1.0) of the column color\n",
    "            \n",
    "        Returns:\n",
    "        -----------------------\n",
    "            No.\n",
    "    '''\n",
    "    # Calculate the number of lines and their heights\n",
    "    n_rows = int(np.ceil(metrics.shape[0] / n_cols))\n",
    "    row_heights = [1 / n_rows] * n_rows\n",
    "    titles = []\n",
    "    specs = []\n",
    "    # Generate a list of titles and chart specifications\n",
    "    for index in range(0, metrics.shape[0], n_cols):\n",
    "        titles += (metrics.iloc[index:index + n_cols, :]['label'].to_list())\n",
    "        if vertical_spacing:\n",
    "            specs.append([{'b': vertical_spacing}] * n_cols)\n",
    "        else:\n",
    "            specs.append([{}] * n_cols)\n",
    "    # Create a canvas with n_row*n_cols graphs\n",
    "    fig = make_subplots(cols=n_cols, rows=n_rows, row_heights=row_heights,\n",
    "                        subplot_titles=titles, specs=specs,\n",
    "                        horizontal_spacing=horizontal_spacing, vertical_spacing=0.004)\n",
    "    # Display a scatter plot of metrics, placing boxes and whiskers above them\n",
    "    for index, metric in enumerate(metrics.index):\n",
    "        # We go by metrics\n",
    "        col = index % n_cols + 1\n",
    "        row = index // n_cols + 1\n",
    "        if type(data) == pd.Series:\n",
    "            # Add a dot plot to the canvas\n",
    "            fig.add_scatter(x=[(data[metric][0] + data[metric][1])/2], y=[0],\n",
    "                            error_x={'type': 'constant', 'value': abs(data[metric][0] - data[metric][1])/2},\n",
    "                            row=row, col=col, name='',\n",
    "                            marker_color=px.colors.DEFAULT_PLOTLY_COLORS[index],\n",
    "                            marker_line_color='white', marker_line_width=1,\n",
    "                            opacity=opacity, showlegend=False)\n",
    "        else:\n",
    "            # Add a dot for each group\n",
    "            for group_index, group in enumerate(data.index.unique()):\n",
    "                fig.add_scatter(x=[(data.loc[group, metric][0] + data.loc[group, metric][1]) / 2], y=[-group_index],\n",
    "                                error_x={'type': 'constant', 'value': abs(data.loc[group, metric][0] - data.loc[group, metric][1])/2},\n",
    "                                customdata=[data.loc[group, metric]],\n",
    "                                row=row, col=col, name=group,\n",
    "                                marker_color=px.colors.DEFAULT_PLOTLY_COLORS[group_index],\n",
    "                                marker_line_color='white', marker_line_width=1, marker_size=10, opacity=opacity,\n",
    "                                showlegend=index == 0, legendgroup=group,\n",
    "                                hovertemplate='%{x:.1f}, (%{customdata[0]:.1f}, %{customdata[1]:.1f})')\n",
    "        fig.update_xaxes(title=metrics.loc[metric, 'units'], title_font_size=units_font_size, row=row, col=col)\n",
    "        fig.update_yaxes(title=yaxis_title, title_font_size=units_font_size, row=row, col=col)\n",
    "    fig.update_xaxes(tickfont_size=axes_tickfont_size)\n",
    "    fig.update_yaxes(visible=False, tickfont_size=axes_tickfont_size)\n",
    "    fig.update_annotations(font_size=labels_font_size)\n",
    "    fig.update_layout(title=title, title_y=title_y, font_size=title_font_size, title_x=0.5,\n",
    "                      width=width, height=height, margin_b=0)\n",
    "    fig.show()"
   ]
  },
  {
   "cell_type": "code",
   "execution_count": null,
   "metadata": {
    "code_folding": [
     0
    ]
   },
   "outputs": [],
   "source": [
    "def plot_group_size_barchart(data, title=None, title_y=None, title_font_size=14, opacity=0.5, orientation='h', \n",
    "                             labels_font_size=12, xaxis_title=None, yaxis_title=None, \n",
    "                             axes_title_font_size=12, axes_tickfont_size=12, \n",
    "                             height=None, width=None):\n",
    "    '''\n",
    "    The function plots a bar chart that displays the sizes of the groups present in the data set.\n",
    "    \n",
    "        Parameters:\n",
    "        ----------\n",
    "        data : DataFrame\n",
    "            Dataset. Group names should be used as the dataset index.\n",
    "            \n",
    "        title : string or None. Default is None\n",
    "            Chart Title\n",
    "            \n",
    "        title_y : float or None\n",
    "            Relative position of the chart title by height (from 0.0 (bottom) to 1.0 (top))\n",
    "            \n",
    "        title_font_size : int. Default - 14\n",
    "            Chart Title Font Size\n",
    "            \n",
    "        opacity : float. Default is 0.5\n",
    "            Opacity level (0.0 to 1.0) of the column color\n",
    "            \n",
    "        orientation : {'h', 'v'}. Default is 'h'\n",
    "            Chart orientation: 'h'-horizontal, 'v'-vertical\n",
    "            \n",
    "        labels_font_size : int. Default - 12\n",
    "            Font size of inscriptions\n",
    "            \n",
    "        xaxis_title : string or None. Defaults to None\n",
    "            x-axis title\n",
    "            \n",
    "        yaxis_title : string or None. Defaults to None\n",
    "            Y-axis title\n",
    "            \n",
    "        axes_title_font_size : int. Default - 12\n",
    "            Axis Title Font Size\n",
    "            \n",
    "        axes_tickfont_size : int. Default - 12\n",
    "            Font size of axes labels\n",
    "            \n",
    "        height : int or None. Default is None\n",
    "            Height of the chart\n",
    "\n",
    "        width : int or None. Default is None\n",
    "            Diagram width\n",
    "                    \n",
    "        Returns:\n",
    "        -----------------------\n",
    "            No.\n",
    "    '''\n",
    "    \n",
    "    # Build a bar chart\n",
    "    # If the diagram is horizontal, then we change the order of the indices to the reverse\n",
    "    df = data.index if orientation == 'v' else data.index[::-1]\n",
    "    colors = px.colors.DEFAULT_PLOTLY_COLORS[:df.nunique()] \n",
    "    if orientation == 'h':\n",
    "        colors.reverse()\n",
    "    fig = px.histogram(df, title=title, opacity=opacity, orientation=orientation, height=height, width=width)\n",
    "    fig.update_traces(texttemplate=\"%{x}\", hovertemplate='%{y} - %{x:} clients',\n",
    "                      marker_color=colors, showlegend=False)\n",
    "    fig.update_layout(bargap=0.2, boxgroupgap=0.2,\n",
    "                      font_size=title_font_size,\n",
    "                      title_x=0.5, title_y=title_y,\n",
    "                      margin_t=60, margin_b=40)\n",
    "    fig.update_xaxes(title=xaxis_title, title_font_size=axes_title_font_size, tickfont_size=axes_tickfont_size)\n",
    "    fig.update_yaxes(title=yaxis_title, title_font_size=axes_title_font_size, tickfont_size=axes_tickfont_size)\n",
    "    fig.update_annotations(font_size=labels_font_size)\n",
    "    fig.show()"
   ]
  },
  {
   "cell_type": "markdown",
   "metadata": {},
   "source": [
    "## 1. Loading and viewing data\n",
    "\n",
    "We load the user survey data from the `megafon.csv` file into the `data` dataset and display information about the content."
   ]
  },
  {
   "cell_type": "code",
   "execution_count": null,
   "metadata": {},
   "outputs": [],
   "source": [
    "data = pd.read_csv('megafon.csv')\n",
    "data.info(memory_usage=False)"
   ]
  },
  {
   "cell_type": "markdown",
   "metadata": {
    "variables": {
     "data.shape[0]": "3112",
     "data['Q1'].dtype.name": "object",
     "sum(data['Q1'].notna())": "3110",
     "sum(~data['Q1'].notna())": "2"
    }
   },
   "source": [
    "From the dataset information we can glean the following important information:\n",
    "- the dataset contains the results of answers and metrics of mobile internet usage for `3112` customers;\n",
    "- the answer to the 1st question was not given by `2` customers (the `Q1` field contains `3110` non-null values);\n",
    "- some customers, when answering the 1st question, gave answers that were not numeric (the `Q1` field has the `object` type, and if all the answers were integers, the type would be `int64`)."
   ]
  },
  {
   "cell_type": "markdown",
   "metadata": {},
   "source": [
    "## 2. Data preparation and exploratory analysis\n",
    "\n",
    "### 2.1. Removing unnecessary data\n",
    "\n",
    "The dataset contains a user identifier field `user_id`. This information is not needed for analysis - it can be removed."
   ]
  },
  {
   "cell_type": "code",
   "execution_count": null,
   "metadata": {},
   "outputs": [],
   "source": [
    "data.drop(columns='user_id', inplace=True)"
   ]
  },
  {
   "cell_type": "markdown",
   "metadata": {},
   "source": [
    "### 2.2. Data cleaning and Exploratory analysis\n",
    "\n",
    "#### 2.2.1. Cleaning and Analyzing answers to the 1st question\n",
    "\n",
    "Earlier, we established that not all customers answered the 1st question as a number. It is impossible to analyze such answers, so we need to exclude records with such answers from the dataset and convert the `Q1` field to an integer type.\n",
    "\n",
    "To do this, we first leave only those records whose values in the `Q1` field are a text representation of an integer. And then we convert the `Q1` field to an integer type."
   ]
  },
  {
   "cell_type": "code",
   "execution_count": null,
   "metadata": {},
   "outputs": [],
   "source": [
    "data = data[data.Q1.notna()]\n",
    "data = data[data.Q1.str.isdecimal()]\n",
    "data.Q1 = data.Q1.astype(int)"
   ]
  },
  {
   "cell_type": "markdown",
   "metadata": {},
   "source": [
    "In addition, users could answer the 1st question with a number that is outside the rating scale. Let's correct this by leaving in the dataset only those records in which the value of the `Q1` field has a value in the range from 1 to 10."
   ]
  },
  {
   "cell_type": "code",
   "execution_count": null,
   "metadata": {},
   "outputs": [],
   "source": [
    "data = data[(data.Q1 >= 1) & (data.Q1 <= 10)]\n",
    "data.info()"
   ]
  },
  {
   "cell_type": "markdown",
   "metadata": {
    "variables": {
     "data.shape[0]": "3058"
    }
   },
   "source": [
    "After removing incorrect answers to the 1st question, there are `3058` records left in the data set.\n",
    "\n",
    "Let's look at the structure of the answers to the 1st question. To do this, Let's build a histogram of the percentage distribution of answers to this question."
   ]
  },
  {
   "cell_type": "code",
   "execution_count": null,
   "metadata": {},
   "outputs": [],
   "source": [
    "fig = px.histogram(data, x='Q1', histnorm='percent',\n",
    "                   title='<b>Distribution of customers by quality satisfaction score</b>', opacity=0.5)\n",
    "fig.update_traces(texttemplate=\"%{y:.1f}%\", hovertemplate='%{x} - %{y:.1f}%',\n",
    "                  marker_color=px.colors.DEFAULT_PLOTLY_COLORS)\n",
    "fig.update_layout(title_x=0.5, title_y=0.88, bargap=0.2, width=800, height=400, margin_l=0, margin_b=0)\n",
    "fig.update_xaxes(title='', tickvals=data['Q1'].sort_values().unique())\n",
    "fig.update_yaxes(title='')\n",
    "fig.show()"
   ]
  },
  {
   "cell_type": "markdown",
   "metadata": {},
   "source": [
    "As we can see, more than a quarter of customers (`27.7%`) are completely satisfied with the quality of communication. But it is also worth noting that a significant part (`17.4%`) gave an extremely negative assessment.\n",
    "\n",
    "The main thing to pay attention to is that the percentage of adjacent assessments among customers often differs several times. For example, the share of customers who gave a score of `6` is only `3.3%`, but the share of customers who gave a score of `5` and `7` is approximately 2 times greater. This circumstance may indicate that it was difficult for customers who participated in the survey to give a score on a 10-point scale. Indeed, it is quite difficult for you to determine the difference between a scores `6` and `7`. Even the survey organizers themselves, as if anticipating this, did not ask the 2nd question to customers who gave a score `9` as well as a score `10`. Let's try to convert the `10`-point scale to `5`-point and look at the distribution again."
   ]
  },
  {
   "cell_type": "code",
   "execution_count": null,
   "metadata": {},
   "outputs": [],
   "source": [
    "s = (data['Q1'] + 1) // 2\n",
    "fig = px.histogram(s, x='Q1', histnorm='percent',\n",
    "    title='<b>Distribution of customers<br>by quality satisfaction score</b><br>5-point scale',\n",
    "    opacity=0.5)\n",
    "fig.update_traces(texttemplate=\"%{y:.1f}%\", hovertemplate='%{x} - %{y:.1f}%', \n",
    "                  marker_color=px.colors.DEFAULT_PLOTLY_COLORS)\n",
    "fig.update_layout(title_x=0.5, title_y=0.93, bargap=0.5, width=700, height=400, margin_l=0, margin_b=0)\n",
    "fig.update_xaxes(title='')\n",
    "fig.update_yaxes(title='')\n",
    "fig.show()"
   ]
  },
  {
   "cell_type": "markdown",
   "metadata": {},
   "source": [
    "This distribution looks **more uniform**. Let's take this circumstance into account in our further work."
   ]
  },
  {
   "cell_type": "markdown",
   "metadata": {},
   "source": [
    "#### 2.2.2. Cleaning and analyzing answers to the 2nd question\n",
    "\n",
    "Now let's move on to processing the answers to the 2nd question, the values of which are in the `Q2` field. Correct answers to the 2nd ques are a string with numbers from `1` to `7`, separated by a comma and a space.\n",
    "\n",
    "Also take into account that the customer could have answered only the 1st question and left the second one unanswered. Let's not need these records for the analysis, so they can be deleted.\n",
    "\n",
    "Among the answers to the 2nd question, Let's leave only the correct ones: numbers from `1` to `7`. In addition, for customers who gave several answers and indicated `1`...`5`, `7` among these answers, Let's delete the incorrect answers `0` (\"Unknown\") or `6` (\"Difficult to answer\"). After all, the answers `0` and `6` are correct only if the customer did not give other answers."
   ]
  },
  {
   "cell_type": "code",
   "execution_count": null,
   "metadata": {
    "code_folding": [
     0
    ]
   },
   "outputs": [],
   "source": [
    "# Fill in missing answers to the 2nd question with nulls\n",
    "data['Q2'] = data['Q2'].fillna('0')\n",
    "# Convert the rows with answers to the 2nd question into a list of grades\n",
    "data['Q2'] = data['Q2'].str.split(', ')\n",
    "# Expand the lists with grades from the answer to the 2nd question.\n",
    "# As a result, we get a dataset in which a separate row is created for each assessment from the answer to the 2nd question\n",
    "data = data.explode('Q2')\n",
    "# We leave only those records in which the answers to the 2nd question are numbers\n",
    "data = data[data['Q2'].astype(str).str.isdecimal()]\n",
    "# Now we convert the answers to the 2nd question to an integer type\n",
    "data['Q2'] = data['Q2'].astype(int)\n",
    "# We leave only those records in which the answers to the 2nd question are numbers from 0 to 7\n",
    "data = data[(data['Q2'] >= 0) & (data['Q2'] <= 7)]\n",
    "# We sort the data by the number of the answer to the 2nd question\n",
    "data.sort_values('Q2', inplace=True)\n",
    "# We collapse the assessments data for the 2nd question back into a line with a comma and space as a separator\n",
    "data['Q2'] = data['Q2'].astype(str)\n",
    "data['Q2'] = data['Q2'].groupby(level=0).apply(', '.join)\n",
    "# Remove duplicates\n",
    "data.drop_duplicates(inplace=True)\n",
    "# Remove answers \"0\" or \"6\" if there are other answers\n",
    "data['Q2'] = data['Q2'].str.replace('([06], )|(, [06])', '', regex=True)\n",
    "data.info(memory_usage=False)"
   ]
  },
  {
   "cell_type": "markdown",
   "metadata": {
    "variables": {
     "data.shape[0]": "3057"
    }
   },
   "source": [
    "After removing incorrect answers, there are `3057` records left in the dataset. Now let's look at the structure of the answers to this question. To do this, Let's construct a histogram of the percentage distribution of answers."
   ]
  },
  {
   "cell_type": "code",
   "execution_count": null,
   "metadata": {
    "code_folding": []
   },
   "outputs": [],
   "source": [
    "s = pd.Series(index = [\n",
    "    \"0 - Unknown\", \"1 - Missed calls, disconnected calls\",\n",
    "    \"2 - Waiting time for ringtones\",\n",
    "    \"3 - Poor connection quality in buildings, shopping centers, etc.\",\n",
    "    \"4 - Slow mobile Internet\", \"5 - Slow video loading\",\n",
    "    \"6 - Difficult to answer\", \"7 - Your own option\"\n",
    "], dtype=float)\n",
    "s.index = s.index.map(lambda x: wrap_text(x, 40))\n",
    "for index in range(s.size):\n",
    "    s.iloc[index] = data[data['Q1'] <= 8]['Q2'].str.contains(str(index)).sum()\n",
    "s = s / s.sum() * 100\n",
    "\n",
    "fig = px.bar(s, title='<b>Distribution of reasons for quality dissatisfaction</b>',\n",
    "             orientation='h', opacity=0.5)\n",
    "fig.update_traces(texttemplate=\"%{x:.1f}%\", hovertemplate='%{y} - %{x:.1f}%',\n",
    "                  marker_color=px.colors.DEFAULT_PLOTLY_COLORS)\n",
    "fig.update_layout(title_x=0.5, title_y=0.88,\n",
    "                  title_font_size=14,\n",
    "                  width=700, height=500,\n",
    "                  showlegend=False,\n",
    "                  bargap=0.2, boxgroupgap=0.2,\n",
    "                  margin_l=0, margin_b=0)\n",
    "fig.update_xaxes(title='', title_font_size=12, tickfont_size=12)\n",
    "fig.update_yaxes(title='', title_font_size=12, tickfont_size=12)\n",
    "fig.show()"
   ]
  },
  {
   "cell_type": "markdown",
   "metadata": {},
   "source": [
    "The diagram shows that almost 1/5 (`19.9%`) of customers are unsatisfied with mobile Internet. A smaller, but still significant (`7.1%`) part of the responses are unsatisfied with the video loading speed.\n",
    "\n",
    "Let's look at the structure of the responses, grouping them by services. So, responses `1` and `2` refer to the voice communication service, `4` and `5` to the mobile Internet service. Responses `6` and `7`, as well as the absence of responses, do not give us an idea of the reason for the customer's lower scoring. So they can also be grouped. Rating `3` shows that the customer is unsatisfied with the quality of coverage.\n",
    "\n",
    "Let's build a diagram that shows the structure of the responses in the context of the above groups."
   ]
  },
  {
   "cell_type": "code",
   "execution_count": null,
   "metadata": {
    "code_folding": []
   },
   "outputs": [],
   "source": [
    "s = pd.Series(dtype=float)\n",
    "s.loc[\"0, 6, 7 - Unknown\"] = (data['Q2'].str.contains('[067]', regex=True) & (data['Q1'] <= 8)).sum()\n",
    "s.loc[\"1, 2 - Voice communation\"] = data['Q2'].str.contains('[12]', regex=True).sum()\n",
    "s.loc[\"3 - Coverage\"] = data['Q2'].str.contains('3').sum()\n",
    "s.loc[\"4, 5 - Mobile Internet\"] = data['Q2'].str.contains('[45]', regex=True).sum()\n",
    "s = s / s.sum() * 100\n",
    "\n",
    "fig = px.bar(s, title='<b>Distribution of reasons for rating decrease</b>',\n",
    "             orientation='h', opacity=0.5)\n",
    "fig.update_traces(texttemplate=\"%{x:.1f}%\",\n",
    "                  hovertemplate='%{y} - %{x:.1f}%',\n",
    "                  marker_color=px.colors.DEFAULT_PLOTLY_COLORS)\n",
    "fig.update_layout(title_x=0.5, title_y=0.82,\n",
    "                  title_font_size=14,\n",
    "                  showlegend=False,\n",
    "                  bargap=0.2, boxgroupgap=0.2,\n",
    "                  width=650, height=300,\n",
    "                  margin_l=0, margin_b=0)\n",
    "fig.update_xaxes(title='', title_font_size=12, tickfont_size=12)\n",
    "fig.update_yaxes(title='', title_font_size=12, tickfont_size=12)\n",
    "fig.show()"
   ]
  },
  {
   "cell_type": "markdown",
   "metadata": {},
   "source": [
    "As we can see, the answers were distributed into approximately equal parts. About `1/4` of the customers are unsatisfied with voice communication, mobile Internet or coverage."
   ]
  },
  {
   "cell_type": "markdown",
   "metadata": {},
   "source": [
    "#### 2.2.3. Cleaning and analyzing mobile internet metrics\n",
    "\n",
    "First, let's describe the metrics that are present in the dataset. This description will be useful later.\n",
    "\n",
    "Let's collect information about the names (`name`) and units of measurement (`units`) of the metrics. This information will be needed when outputting the reporting text and graphic information.\n",
    "\n",
    "For each metric, let's indicate what influence (`impact`) it has on the quality of the mobile internet service and, accordingly, on customer satisfaction. This information will be useful to us in further research.\n",
    "\n",
    "Metrics with a \"positive\" (`+`) impact include metrics whose value is \"the higher, the better\":\n",
    "- `Downlink Throughput(Kbps)`;\n",
    "- `Uplink Throughput(Kbps)`;\n",
    "- `Video Streaming Download Throughput(Kbps)`;\n",
    "- `Web Page Download Throughput(Kbps)`.\n",
    "\n",
    "Metrics with \"negative\" (`-`) influence include metrics whose value is \"the lower, the better\":\n",
    "- `Downlink TCP Retransmission Rate(%)`;\n",
    "- `Video Streaming xKB Start Delay(ms)`;\n",
    "- `Web Average TCP RTT(ms)`.\n",
    "\n",
    "Since the `'Total Traffic(MB)'` metric is only an indicator of the intensity of mobile Internet usage by the customer, Let's indicate its influence as absent `0`."
   ]
  },
  {
   "cell_type": "code",
   "execution_count": null,
   "metadata": {
    "code_folding": [],
    "scrolled": true
   },
   "outputs": [],
   "source": [
    "metrics = pd.DataFrame(\n",
    "    columns = ['name', 'units', 'impact'],\n",
    "    index=pd.Index(data.columns.drop(['Q1', 'Q2']), name='metric')\n",
    ")\n",
    "\n",
    "for metric in metrics.index:\n",
    "    name, units = metric[:-1].split('(')\n",
    "    label = '<b>' + wrap_text(name, 30) + '</b>'\n",
    "    metrics.loc[metric, ['name', 'units', 'label']] = name, units, label\n",
    "\n",
    "metrics.loc['Total Traffic(MB)', 'impact'\n",
    "] = '0'\n",
    "\n",
    "metrics.loc[\n",
    "    ['Downlink Throughput(Kbps)', 'Uplink Throughput(Kbps)', \n",
    "     'Video Streaming Download Throughput(Kbps)', \n",
    "     'Web Page Download Throughput(Kbps)'], 'impact'\n",
    "] = '+'\n",
    "\n",
    "metrics.loc[\n",
    "    ['Downlink TCP Retransmission Rate(%)', \n",
    "     'Video Streaming xKB Start Delay(ms)', \n",
    "     'Web Average TCP RTT(ms)'], 'impact'\n",
    "] = '-'"
   ]
  },
  {
   "cell_type": "markdown",
   "metadata": {},
   "source": [
    "The resulting set of metrics information is as follows:"
   ]
  },
  {
   "cell_type": "code",
   "execution_count": null,
   "metadata": {
    "variables": {
     "metrics.reset_index().rename(columns={'metric': 'Метрика', 'units': 'Ед. изм.', 'impact': 'Влияние', 'description': 'Описание'}).style.hide(axis='index').hide('label', axis='columns')": "<style type=\"text/css\">\n</style>\n<table id=\"T_a80d0\">\n  <thead>\n    <tr>\n      <th id=\"T_a80d0_level0_col0\" class=\"col_heading level0 col0\" >Метрика</th>\n      <th id=\"T_a80d0_level0_col1\" class=\"col_heading level0 col1\" >Описание</th>\n      <th id=\"T_a80d0_level0_col2\" class=\"col_heading level0 col2\" >Ед. изм.</th>\n      <th id=\"T_a80d0_level0_col3\" class=\"col_heading level0 col3\" >Влияние</th>\n    </tr>\n  </thead>\n  <tbody>\n    <tr>\n      <td id=\"T_a80d0_row0_col0\" class=\"data row0 col0\" >Total Traffic(MB)</td>\n      <td id=\"T_a80d0_row0_col1\" class=\"data row0 col1\" >Объем трафика передачи данных</td>\n      <td id=\"T_a80d0_row0_col2\" class=\"data row0 col2\" >МБ</td>\n      <td id=\"T_a80d0_row0_col3\" class=\"data row0 col3\" >0</td>\n    </tr>\n    <tr>\n      <td id=\"T_a80d0_row1_col0\" class=\"data row1 col0\" >Downlink Throughput(Kbps)</td>\n      <td id=\"T_a80d0_row1_col1\" class=\"data row1 col1\" >Средняя скорость «к абоненту»</td>\n      <td id=\"T_a80d0_row1_col2\" class=\"data row1 col2\" >кбит/с</td>\n      <td id=\"T_a80d0_row1_col3\" class=\"data row1 col3\" >+</td>\n    </tr>\n    <tr>\n      <td id=\"T_a80d0_row2_col0\" class=\"data row2 col0\" >Uplink Throughput(Kbps)</td>\n      <td id=\"T_a80d0_row2_col1\" class=\"data row2 col1\" >Средняя скорость «от абонента»</td>\n      <td id=\"T_a80d0_row2_col2\" class=\"data row2 col2\" >кбит/с</td>\n      <td id=\"T_a80d0_row2_col3\" class=\"data row2 col3\" >-</td>\n    </tr>\n    <tr>\n      <td id=\"T_a80d0_row3_col0\" class=\"data row3 col0\" >Downlink TCP Retransmission Rate(%)</td>\n      <td id=\"T_a80d0_row3_col1\" class=\"data row3 col1\" >Частота переотправок пакетов «к абоненту»</td>\n      <td id=\"T_a80d0_row3_col2\" class=\"data row3 col2\" >%</td>\n      <td id=\"T_a80d0_row3_col3\" class=\"data row3 col3\" >+</td>\n    </tr>\n    <tr>\n      <td id=\"T_a80d0_row4_col0\" class=\"data row4 col0\" >Video Streaming Download Throughput(Kbps)</td>\n      <td id=\"T_a80d0_row4_col1\" class=\"data row4 col1\" >Скорость загрузки потокового видео</td>\n      <td id=\"T_a80d0_row4_col2\" class=\"data row4 col2\" >кбит/с</td>\n      <td id=\"T_a80d0_row4_col3\" class=\"data row4 col3\" >+</td>\n    </tr>\n    <tr>\n      <td id=\"T_a80d0_row5_col0\" class=\"data row5 col0\" >Video Streaming xKB Start Delay(ms)</td>\n      <td id=\"T_a80d0_row5_col1\" class=\"data row5 col1\" >Задержка старта воспроизведения видео</td>\n      <td id=\"T_a80d0_row5_col2\" class=\"data row5 col2\" >мс</td>\n      <td id=\"T_a80d0_row5_col3\" class=\"data row5 col3\" >-</td>\n    </tr>\n    <tr>\n      <td id=\"T_a80d0_row6_col0\" class=\"data row6 col0\" >Web Page Download Throughput(Kbps)</td>\n      <td id=\"T_a80d0_row6_col1\" class=\"data row6 col1\" >Скорость загрузки web-страниц через браузер</td>\n      <td id=\"T_a80d0_row6_col2\" class=\"data row6 col2\" >кбит/с</td>\n      <td id=\"T_a80d0_row6_col3\" class=\"data row6 col3\" >+</td>\n    </tr>\n    <tr>\n      <td id=\"T_a80d0_row7_col0\" class=\"data row7 col0\" >Web Average TCP RTT(ms)</td>\n      <td id=\"T_a80d0_row7_col1\" class=\"data row7 col1\" >Пинг при просмотре web-страниц</td>\n      <td id=\"T_a80d0_row7_col2\" class=\"data row7 col2\" >мс</td>\n      <td id=\"T_a80d0_row7_col3\" class=\"data row7 col3\" >-</td>\n    </tr>\n  </tbody>\n</table>\n"
    }
   },
   "outputs": [],
   "source": [
    "metrics.style.hide(axis='index').hide('label', axis='columns')"
   ]
  },
  {
   "cell_type": "markdown",
   "metadata": {},
   "source": [
    "Next, Let's analyze the distributions of the metric values. First of all, this must be done in order to correctly select statistics for assessing the central position of the distributions and the criteria that we can use to test statistical hypotheses. To assess the distribution, Let's use standard tools - a histogram and a \"box with whiskers\". Additionally, for the convenience of assessing the shape of the distribution, Let's overlay the curves of the kernel density estimate (KDE) on the histograms."
   ]
  },
  {
   "cell_type": "code",
   "execution_count": null,
   "metadata": {
    "code_folding": []
   },
   "outputs": [],
   "source": [
    "plot_metric_histograms(\n",
    "    data[metrics.index], metrics,\n",
    "    title='<b>Probability density function of metrics in the observed sample</b>', title_y=0.95,\n",
    "    height=900, boxplot_height_fraq=0.15, n_cols=3, opacity=0.5,\n",
    "    histnorm='probability density',\n",
    "    add_boxplot=True, add_kde=True, add_mean=True,\n",
    "    horizontal_spacing=0.07, vertical_spacing=0.12)"
   ]
  },
  {
   "cell_type": "markdown",
   "metadata": {
    "variables": {
     "metrics.loc['Total Traffic(MB)', 'description']": "Объем трафика передачи данных",
     "metrics['description'].to_frame().merge(data[metrics.index].apply(lambda s: stats.percentileofscore(s, s.mean())).to_frame(), left_index=True, right_index=True).rename(columns={'description': 'Метрика', 0: 'Процентиль'}).style.hide(axis='index').format(precision=0)": "<style type=\"text/css\">\n</style>\n<table id=\"T_4ae40\">\n  <thead>\n    <tr>\n      <th id=\"T_4ae40_level0_col0\" class=\"col_heading level0 col0\" >Метрика</th>\n      <th id=\"T_4ae40_level0_col1\" class=\"col_heading level0 col1\" >Процентиль</th>\n    </tr>\n  </thead>\n  <tbody>\n    <tr>\n      <td id=\"T_4ae40_row0_col0\" class=\"data row0 col0\" >Объем трафика передачи данных</td>\n      <td id=\"T_4ae40_row0_col1\" class=\"data row0 col1\" >55</td>\n    </tr>\n    <tr>\n      <td id=\"T_4ae40_row1_col0\" class=\"data row1 col0\" >Средняя скорость «к абоненту»</td>\n      <td id=\"T_4ae40_row1_col1\" class=\"data row1 col1\" >67</td>\n    </tr>\n    <tr>\n      <td id=\"T_4ae40_row2_col0\" class=\"data row2 col0\" >Средняя скорость «от абонента»</td>\n      <td id=\"T_4ae40_row2_col1\" class=\"data row2 col1\" >67</td>\n    </tr>\n    <tr>\n      <td id=\"T_4ae40_row3_col0\" class=\"data row3 col0\" >Частота переотправок пакетов «к абоненту»</td>\n      <td id=\"T_4ae40_row3_col1\" class=\"data row3 col1\" >66</td>\n    </tr>\n    <tr>\n      <td id=\"T_4ae40_row4_col0\" class=\"data row4 col0\" >Скорость загрузки потокового видео</td>\n      <td id=\"T_4ae40_row4_col1\" class=\"data row4 col1\" >63</td>\n    </tr>\n    <tr>\n      <td id=\"T_4ae40_row5_col0\" class=\"data row5 col0\" >Задержка старта воспроизведения видео</td>\n      <td id=\"T_4ae40_row5_col1\" class=\"data row5 col1\" >70</td>\n    </tr>\n    <tr>\n      <td id=\"T_4ae40_row6_col0\" class=\"data row6 col0\" >Скорость загрузки web-страниц через браузер</td>\n      <td id=\"T_4ae40_row6_col1\" class=\"data row6 col1\" >64</td>\n    </tr>\n    <tr>\n      <td id=\"T_4ae40_row7_col0\" class=\"data row7 col0\" >Пинг при просмотре web-страниц</td>\n      <td id=\"T_4ae40_row7_col1\" class=\"data row7 col1\" >73</td>\n    </tr>\n  </tbody>\n</table>\n"
    }
   },
   "source": [
    "Based on the histogram analysis, we can make the following observations:\n",
    "- the distributions of all metrics except `Total traffic` are strongly skewed to the right and have a very long thin \"tail\";\n",
    "- the distribution of all metrics is far from \"normal\";\n",
    "- a lot of values on the right are located far from the rest, which raises questions about their reliability (these may be the so-called \"outliers\").\n",
    "\n",
    "As we noted, there is a lot of data in the sample that are suspected of being \"outliers\". They can have a negative impact on the reliability of the assessment of the central position of the distributions. That is, the mean value will reflect a far different metric value from what an ordinary user \"sees\". Let's check this by deriving the percentile values corresponding to the mean values of the metrics."
   ]
  },
  {
   "cell_type": "code",
   "execution_count": null,
   "metadata": {},
   "outputs": [],
   "source": [
    "metrics['name'].to_frame().merge(data[metrics.index].apply(lambda s: stats.percentileofscore(s, s.mean())).to_frame(), left_index=True, right_index=True).rename(columns={'name': 'Metric', 0: 'Percentile'}).style.hide(axis='index').format(precision=0)"
   ]
  },
  {
   "cell_type": "markdown",
   "metadata": {},
   "source": [
    "There are two options for further action in this situation:\n",
    "- either try to clean the data from outliers;\n",
    "- or use robust (less susceptible) statistics to \"outliers\" to estimate the central positions of the distributions.\n",
    "\n",
    "There are no universal and reliable methods for detecting \"outliers\". Since the sample distributions are very skewed to the right and are far from normal, traditional \"simple\" methods such as the \"3-sigma rule\" or determining outliers by the border of the \"whiskers\" boxpolot are not suitable. Of course, you can use more \"advanced\" methods such as `Local Outlier Factor (LOF)` or `Isolation Forest`, but they all require fine-tuning. Therefore, Let's use the second option for solving the problem. **Let's not remove \"outliers\", but will use statistics that are robust to them.**"
   ]
  },
  {
   "cell_type": "markdown",
   "metadata": {},
   "source": [
    "## 3. Setting the objective\n",
    "\n",
    "The metrics present in the dataset are related exclusively to the quality of mobile Internet service. In addition, we have customer scores regarding the quality of communication and the reasons that determined the scores. Based on this, we can try to recognize how to classify users in terms of their assessment of the quality of the mobile Internet service. Having this information will make it possible to build a classifier for use in predicting customer churn and ways to retain them.\n",
    "\n",
    "We can only initially divide users into classes (categories) based on the answers to questions. And only then will we be able to see which categories of users have similar metric values, i.e. which categories of customers belong to the same population and can be combined into one class.\n",
    "\n",
    "### 3.1. Selecting customers for the research\n",
    "\n",
    "In the context of the research, only those customers are interested whose assessment of the mobile Internet service can be determined.<br>\n",
    "The most obvious thing is that customers who gave `9` and `10` scores in response to the 1st question also highly assess the mobile Internet service.<br>\n",
    "Also it's appropriate to analyze that customers who, in aswer to the 2nd question, specified slow mobile Internet (`4`) and/or slow video loading speed (`5`).\n",
    "The exact assessment of the remaining customers who gave from `1` to `8` score in the answer to the 1st question, but did not specify either slow mobile Internet (`4`) or slow video loading speed (`5`) in their answer to the 2nd question is unknown. It's possible only to assume that their score of the mobile Internet service is higher than the score they gave for the connection quality."
   ]
  },
  {
   "cell_type": "code",
   "execution_count": null,
   "metadata": {},
   "outputs": [],
   "source": [
    "data_clean = data.loc[(data['Q1'] >= 9) | data['Q2'].str.contains('[45]', regex=True)].copy()"
   ]
  },
  {
   "cell_type": "markdown",
   "metadata": {},
   "source": [
    "### 3.2. Dividing customers into categories depending on the answer to the 1st question\n",
    "\n",
    "When answering the 1st question, we asked users to score the quality of the service on a 10-point scale (where 10 is \"Excellent\" and 1 is \"Terrible\"). But as previously established, when using such a scale, it was quite difficult for the user to rate, and therefore it is better to convert the scores to a 5-point scale. Therefore, Let's divide the selected customers into `5` categories of mobile Internet service ratings depending on the answer to the 1st question:\n",
    "\n",
    "| Category | Scores |\n",
    "|:-----------------|:-------|\n",
    "| Very unsatisfied |1, 2 |\n",
    "| Unsatisfied |3, 4 |\n",
    "| Neutral |5, 6 |\n",
    "| Satisfied |7, 8 |\n",
    "| Very satisfied |9, 10 |\n",
    "\n",
    "According to above, let's append to the dataset a column `Internet score` indicating to which category the customer belongs."
   ]
  },
  {
   "cell_type": "code",
   "execution_count": null,
   "metadata": {},
   "outputs": [],
   "source": [
    "data_clean['Internet score'] = data_clean['Q1'].apply(\n",
    "    lambda q1: 'Very unsatisfied' if q1 <= 2 else ('Unsatisfied' if q1 <= 4 else (\n",
    "        'Neutral' if q1 <= 6 else ('Satisfied' if q1 <= 8 else 'Very satisfied'))))"
   ]
  },
  {
   "cell_type": "markdown",
   "metadata": {},
   "source": [
    "### 3.3. Dividing customers into categories based on answers to the 2nd question\n",
    "\n",
    "In answers to the 2nd question, the selected customers could specify either slow internet (`4`) or slow video loading (`5`) separately, or both reasons together.<br>\n",
    "\n",
    "It's possible to assume with the greatest certainty that they are fully satisfied with the mobile internet service and, accordingly, that there are no reasons for dissatisfaction with the internet only for those customers who scored the quality of the mobile service as `Very satisfied`.\n",
    "\n",
    "Based on all of the above, it's appropriate split the selected customers into the following categories based on the reasons for dissatisfaction with the mobile internet service:\n",
    "\n",
    "|Category |Description |Answers |\n",
    "|:----------------|:----------------------------------------------------------|:-------------------------|\n",
    "| Internet and Video|Unsatisfied with Mobile Internet and Video loading in the same way|Contain 4 and 5 |\n",
    "| Internet |More unsatisfied with Mobile Internet than Video loading|Contain 4, do not contain 5 |\n",
    "| Video |More unsatisfied with Video loading than Mobile Internet|Contain 5, do not contain 4 |\n",
    "| No |Satisfied with mobile Internet and Video loading |- |\n",
    "\n",
    "According to above, let's append to the dataset a column `Dissatisfaction reasons` indicating to which category the customer belongs."
   ]
  },
  {
   "cell_type": "code",
   "execution_count": null,
   "metadata": {},
   "outputs": [],
   "source": [
    "data_clean['Dissatisfaction reasons'] = data_clean['Q2'].apply(\n",
    "    lambda q2: 'Internet and Video' if q2.find('4, 5') >= 0 else (\n",
    "        'Internet' if q2.find('4') >= 0 else (\n",
    "            'Video' if q2.find('5') >= 0 else 'No')))\n",
    "data_clean.sort_values(\n",
    "    ['Q1', 'Q2'], \n",
    "    key=lambda x: x if x.name=='Q1' else (x.str.contains('5') - x.str.contains('4, 5')*2), \n",
    "    inplace=True)"
   ]
  },
  {
   "cell_type": "markdown",
   "metadata": {},
   "source": [
    "### 3.4. Customer distribution map"
   ]
  },
  {
   "cell_type": "markdown",
   "metadata": {
    "variables": {
     "display_cat_info(data_clean)": "<style type=\"text/css\">\n#T_aec96 th {\n  width: 80px;\n  text-align: center;\n  border: 1px solid lightgray;\n}\n#T_aec96  td {\n  width: 80px;\n  text-align: center;\n  border: 1px solid lightgray;\n}\n#T_aec96 th.index_name {\n  border: none;\n}\n</style>\n<table id=\"T_aec96\">\n  <thead>\n    <tr>\n      <th class=\"index_name level0\" ></th>\n      <th id=\"T_aec96_level0_col0\" class=\"col_heading level0 col0\" >Интернет и видео</th>\n      <th id=\"T_aec96_level0_col1\" class=\"col_heading level0 col1\" >Интернет</th>\n      <th id=\"T_aec96_level0_col2\" class=\"col_heading level0 col2\" >Видео</th>\n      <th id=\"T_aec96_level0_col3\" class=\"col_heading level0 col3\" >Нет</th>\n    </tr>\n  </thead>\n  <tbody>\n    <tr>\n      <th id=\"T_aec96_level0_row0\" class=\"row_heading level0 row0\" >Ужасно</th>\n      <td id=\"T_aec96_row0_col0\" class=\"data row0 col0\" >82</td>\n      <td id=\"T_aec96_row0_col1\" class=\"data row0 col1\" >142</td>\n      <td id=\"T_aec96_row0_col2\" class=\"data row0 col2\" >3</td>\n      <td id=\"T_aec96_row0_col3\" class=\"data row0 col3\" >-</td>\n    </tr>\n    <tr>\n      <th id=\"T_aec96_level0_row1\" class=\"row_heading level0 row1\" >Плохо</th>\n      <td id=\"T_aec96_row1_col0\" class=\"data row1 col0\" >49</td>\n      <td id=\"T_aec96_row1_col1\" class=\"data row1 col1\" >117</td>\n      <td id=\"T_aec96_row1_col2\" class=\"data row1 col2\" >3</td>\n      <td id=\"T_aec96_row1_col3\" class=\"data row1 col3\" >-</td>\n    </tr>\n    <tr>\n      <th id=\"T_aec96_level0_row2\" class=\"row_heading level0 row2\" >Нормально</th>\n      <td id=\"T_aec96_row2_col0\" class=\"data row2 col0\" >23</td>\n      <td id=\"T_aec96_row2_col1\" class=\"data row2 col1\" >84</td>\n      <td id=\"T_aec96_row2_col2\" class=\"data row2 col2\" >11</td>\n      <td id=\"T_aec96_row2_col3\" class=\"data row2 col3\" >-</td>\n    </tr>\n    <tr>\n      <th id=\"T_aec96_level0_row3\" class=\"row_heading level0 row3\" >Хорошо</th>\n      <td id=\"T_aec96_row3_col0\" class=\"data row3 col0\" >31</td>\n      <td id=\"T_aec96_row3_col1\" class=\"data row3 col1\" >97</td>\n      <td id=\"T_aec96_row3_col2\" class=\"data row3 col2\" >20</td>\n      <td id=\"T_aec96_row3_col3\" class=\"data row3 col3\" >-</td>\n    </tr>\n    <tr>\n      <th id=\"T_aec96_level0_row4\" class=\"row_heading level0 row4\" >Отлично</th>\n      <td id=\"T_aec96_row4_col0\" class=\"data row4 col0\" >-</td>\n      <td id=\"T_aec96_row4_col1\" class=\"data row4 col1\" >-</td>\n      <td id=\"T_aec96_row4_col2\" class=\"data row4 col2\" >-</td>\n      <td id=\"T_aec96_row4_col3\" class=\"data row4 col3\" >1084</td>\n    </tr>\n  </tbody>\n</table>\n"
    }
   },
   "source": [
    "All the customers under consideration belong to one of the categories of assessing the quality of the Internet service and one of the categories of reasons for dissatisfaction with it. Based on this information, we can create a map of the distribution of customers:"
   ]
  },
  {
   "cell_type": "code",
   "execution_count": null,
   "metadata": {},
   "outputs": [],
   "source": [
    "display_cat_info(data_clean)"
   ]
  },
  {
   "cell_type": "markdown",
   "metadata": {},
   "source": [
    "## 4. Selecting metrics, their evaluation statistics and criteria for testing hypotheses\n",
    "\n",
    "### 4.1. Selecting key metrics\n",
    "\n",
    "We have information on 8 metrics of mobile Internet service. All of these metrics, except `Data transfer traffic volume`, affect the convenience of using this service to one degree or another. We need to select from these metrics those that have the greatest impact on the reasons for dissatisfaction indicated by users:\n",
    "- Slow mobile Internet;\n",
    "- Slow video loading.\n",
    "\n",
    "Both of these reasons are related to the assessment of data transfer speed. Let's turn to the opinion of experts and see which metrics are used specifically for Internet speed.\n",
    "\n",
    "One of such experts is the company `Ookla`, which is engaged in assessing the quality of services of mobile and fixed Internet operators around the world. This company publishes its methods for forming some assessments. Let's use this information.\n",
    "\n",
    "The company's experts evaluate the speed of the Internet provided by the operator based on two metrics: `Average speed \"to the subscriber\"` and `Average speed \"from the subscriber\"`. Moreover, the ratio of the influence of these metrics is estimated as `9:1`: *\\\"...Speed Score which incorporates a measure of each provider’s download and upload speed to rank network speed performance (90% of the final Speed Score is attributed to download speed and the remaining 10% to upload speed)\\\"*.\n",
    "\n",
    "Therefore, Let's consider the metrics characterize data transfer speed:\n",
    "- `Downlink Throughput`\n",
    "- `Video Streaming Download Throughput`\n",
    "- `Web Page Download Throughput`."
   ]
  },
  {
   "cell_type": "code",
   "execution_count": null,
   "metadata": {
    "code_folding": []
   },
   "outputs": [],
   "source": [
    "research_metrics = metrics.loc[[\n",
    "    'Downlink Throughput(Kbps)',\n",
    "    'Video Streaming Download Throughput(Kbps)',\n",
    "    'Web Page Download Throughput(Kbps)'\n",
    "]]"
   ]
  },
  {
   "cell_type": "markdown",
   "metadata": {
    "variables": {
     "research_metrics.reset_index().rename(columns={'metric': 'Метрика', 'units': 'Ед. изм.', 'impact': 'Влияние', 'description': 'Описание'}).style.hide(axis='index').hide('label', axis='columns')": "<style type=\"text/css\">\n</style>\n<table id=\"T_a2732\">\n  <thead>\n    <tr>\n      <th id=\"T_a2732_level0_col0\" class=\"col_heading level0 col0\" >Метрика</th>\n      <th id=\"T_a2732_level0_col1\" class=\"col_heading level0 col1\" >Описание</th>\n      <th id=\"T_a2732_level0_col2\" class=\"col_heading level0 col2\" >Ед. изм.</th>\n      <th id=\"T_a2732_level0_col3\" class=\"col_heading level0 col3\" >Влияние</th>\n    </tr>\n  </thead>\n  <tbody>\n    <tr>\n      <td id=\"T_a2732_row0_col0\" class=\"data row0 col0\" >Downlink Throughput(Kbps)</td>\n      <td id=\"T_a2732_row0_col1\" class=\"data row0 col1\" >Средняя скорость «к абоненту»</td>\n      <td id=\"T_a2732_row0_col2\" class=\"data row0 col2\" >кбит/с</td>\n      <td id=\"T_a2732_row0_col3\" class=\"data row0 col3\" >+</td>\n    </tr>\n    <tr>\n      <td id=\"T_a2732_row1_col0\" class=\"data row1 col0\" >Video Streaming Download Throughput(Kbps)</td>\n      <td id=\"T_a2732_row1_col1\" class=\"data row1 col1\" >Скорость загрузки потокового видео</td>\n      <td id=\"T_a2732_row1_col2\" class=\"data row1 col2\" >кбит/с</td>\n      <td id=\"T_a2732_row1_col3\" class=\"data row1 col3\" >+</td>\n    </tr>\n    <tr>\n      <td id=\"T_a2732_row2_col0\" class=\"data row2 col0\" >Web Page Download Throughput(Kbps)</td>\n      <td id=\"T_a2732_row2_col1\" class=\"data row2 col1\" >Скорость загрузки web-страниц через браузер</td>\n      <td id=\"T_a2732_row2_col2\" class=\"data row2 col2\" >кбит/с</td>\n      <td id=\"T_a2732_row2_col3\" class=\"data row2 col3\" >+</td>\n    </tr>\n  </tbody>\n</table>\n"
    }
   },
   "source": [
    "The final list of metrics we will use to evaluate user groups is as follows:"
   ]
  },
  {
   "cell_type": "code",
   "execution_count": null,
   "metadata": {},
   "outputs": [],
   "source": [
    "research_metrics.style.hide(axis='index').hide('label', axis='columns')"
   ]
  },
  {
   "cell_type": "markdown",
   "metadata": {},
   "source": [
    "### 4.2. Statistic selection\n",
    "\n",
    "As was found out earlier, using the \"average\" to estimate the central position of the metric distribution is not very correct due to the asymmetry of the metric distributions and a large number of values with suspected anomalies. Accordingly, it is necessary to select statistics that will be more applicable in these conditions. There are the following standard versions of such statistics:\n",
    "- median;\n",
    "- trimmed mean;\n",
    "- trimmer (weighted average of median, 10th and fourth quartiles, Trimean (TM)).\n",
    "\n",
    "In practice, various modifications of these metrics are also used. For example, the company `Ookla` uses a modified version of the trimmer in the methodology for assessing the speed of Internet connections of providers. The company's experts estimate the central value of speed as a weighted average of the 10th, 50th (median) and 90th percentiles in the ratio `1:8:1`, which is described by the following formula:\n",
    "\n",
    "$$\\hat{TM}=\\frac{P_{10}+8\\cdot P_{50}+P_{90}}{10}\\ .$$\n",
    "\n",
    "Let's use the developments of experts in this field and will estimate the central position of the metrics under research in the same way."
   ]
  },
  {
   "cell_type": "code",
   "execution_count": null,
   "metadata": {},
   "outputs": [],
   "source": [
    "research_metrics['statistic'] = trimean_mod"
   ]
  },
  {
   "cell_type": "markdown",
   "metadata": {},
   "source": [
    "Now let's look at the distribution of this statistic for the metrics under research. To build the distribution, let's use the **bootstrap** method. Let's visualize the distributions using histograms, additionally marking the 95% confidence intervals, coloring the distribution areas outside the confidence intervals, and the median values using dashed lines."
   ]
  },
  {
   "cell_type": "code",
   "execution_count": null,
   "metadata": {
    "scrolled": true
   },
   "outputs": [],
   "source": [
    "statistic_distributions = data[research_metrics.index]\\\n",
    "    .apply(lambda s: my_bootstrap(s, research_metrics.loc[s.name, 'statistic'], n_resamples=9999))\n",
    "plot_metric_histograms(statistic_distributions, statistic=statistic_distributions.median(),\n",
    "                       metrics=research_metrics,\n",
    "                       title='<b>Probability density function of statistics</b>', title_y=0.9,\n",
    "                       height=300, n_cols=3, opacity=0.5,\n",
    "                       histnorm='probability density',\n",
    "                       add_kde=True, add_statistic=True, mark_confidence_interval=True,\n",
    "                       horizontal_spacing=0.06, vertical_spacing=0.07)"
   ]
  },
  {
   "cell_type": "markdown",
   "metadata": {},
   "source": [
    "As we see, the distributions of statistics of all metrics are almost symmetrical, therefore the median values of statistics match with the modes and are approximately in the middle of the confidence intervals. This circumstance allows, knowing the confidence interval, to estimate the central position of statistics as its middle."
   ]
  },
  {
   "cell_type": "markdown",
   "metadata": {},
   "source": [
    "### 4.3. Selecting a statistical criterion for testing hypotheses\n",
    "\n",
    "Let's select a statistical test based on the following points:\n",
    "1. The metrics being studied are quantitative, so the criterion must be suitable for comparing quantitative data.\n",
    "2. As we established earlier, the distribution of the metrics being studied is far from \"Neutral\", so parametric criteria are not very suitable - we must use a non-parametric criterion.\n",
    "3. Since Let's be investigating the difference between groups that include different customers, we can assume that the groups are \"independent\". Therefore, we must select a criterion that is suitable for independent samples.\n",
    "4. In addition, the criterion must allow us to compare groups using the statistics we have chosen - a modified trimmer.\n",
    "\n",
    "Based on the above conditions, tests based on the use of repeated samples can help to verify statistical hypotheses:\n",
    "- Bootstrap test;\n",
    "- Permutation test.\n",
    "\n",
    "According to many experts, the `Permutation Test` is more suitable for testing hypotheses about the belonging of groups to the same population. But the `Bootstrap Test` is better used to test a certain difference between group statistics. Since our task is to identify statistically distinguishable classes among customers, we should use the `Permutation Test` as a criterion. And Let's use the `Bootstrap` to find confidence intervals and central positions of metric statistics in the groups under research.\n",
    "\n",
    "As a test statistic for the `Permutation test` Let's use the difference in the statistics of the test groups:\n",
    "$$\\Delta \\hat{TM} = \\hat{TM}_1 - \\hat{TM}_2,$$\n",
    "where $\\hat{TM}_1$ and $\\hat{TM}_2$ are the values of the statistics of the first and second test groups, respectively."
   ]
  },
  {
   "cell_type": "code",
   "execution_count": null,
   "metadata": {},
   "outputs": [],
   "source": [
    "research_metrics['test statistic'] = trimean_mod_diff"
   ]
  },
  {
   "cell_type": "markdown",
   "metadata": {},
   "source": [
    "### 4.4. Selecting the significance level for testing statistical hypotheses and the confidence level for interval estimation of statistics\n",
    "\n",
    "The cost of error in the research is not as high as, for example, in a research of drug effectiveness, so it's possible to choose a standard significance level $\\alpha$ equal to `0.05`. The confidence level $\\beta$, accordingly, will be chosen equal to `0.95` (1-$\\alpha$)."
   ]
  },
  {
   "cell_type": "code",
   "execution_count": null,
   "metadata": {},
   "outputs": [],
   "source": [
    "alpha = 0.05\n",
    "betta = 1 - alpha"
   ]
  },
  {
   "cell_type": "markdown",
   "metadata": {},
   "source": [
    "### 4.5. Decision rule for customer groups belonging to the same or different populations\n",
    "Let's make a decision on the belonging of two test groups based on the results of a statistical test, using the following rule:\n",
    "- if the `p-value` for all metrics is below the significance level, i.e. if we can reject the null hypothesis for all metrics, then we consider that the customers of the test groups belong to the same population;\n",
    "- otherwise, we consider that the customers of the test groups belong to different populations."
   ]
  },
  {
   "cell_type": "markdown",
   "metadata": {
    "variables": {
     "display_cat_info(data_clean).set_properties(pd.IndexSlice['Ужасно':'Хорошо', 'Интернет и видео'], color='white', background=px.colors.DEFAULT_PLOTLY_COLORS[0], opacity=0.5).set_properties(pd.IndexSlice['Ужасно':'Хорошо', 'Интернет'], color='white', background=px.colors.DEFAULT_PLOTLY_COLORS[1], opacity=0.5).set_properties(pd.IndexSlice['Ужасно':'Хорошо', 'Видео'], color='white', background=px.colors.DEFAULT_PLOTLY_COLORS[2], opacity=0.5)": "<style type=\"text/css\">\n#T_00b99 th {\n  width: 80px;\n  text-align: center;\n  border: 1px solid lightgray;\n}\n#T_00b99  td {\n  width: 80px;\n  text-align: center;\n  border: 1px solid lightgray;\n}\n#T_00b99 th.index_name {\n  border: none;\n}\n#T_00b99_row0_col0, #T_00b99_row1_col0, #T_00b99_row2_col0, #T_00b99_row3_col0 {\n  color: white;\n  background: rgb(31, 119, 180);\n  opacity: 0.5;\n}\n#T_00b99_row0_col1, #T_00b99_row1_col1, #T_00b99_row2_col1, #T_00b99_row3_col1 {\n  color: white;\n  background: rgb(255, 127, 14);\n  opacity: 0.5;\n}\n#T_00b99_row0_col2, #T_00b99_row1_col2, #T_00b99_row2_col2, #T_00b99_row3_col2 {\n  color: white;\n  background: rgb(44, 160, 44);\n  opacity: 0.5;\n}\n</style>\n<table id=\"T_00b99\">\n  <thead>\n    <tr>\n      <th class=\"index_name level0\" ></th>\n      <th id=\"T_00b99_level0_col0\" class=\"col_heading level0 col0\" >Интернет и видео</th>\n      <th id=\"T_00b99_level0_col1\" class=\"col_heading level0 col1\" >Интернет</th>\n      <th id=\"T_00b99_level0_col2\" class=\"col_heading level0 col2\" >Видео</th>\n      <th id=\"T_00b99_level0_col3\" class=\"col_heading level0 col3\" >Нет</th>\n    </tr>\n  </thead>\n  <tbody>\n    <tr>\n      <th id=\"T_00b99_level0_row0\" class=\"row_heading level0 row0\" >Ужасно</th>\n      <td id=\"T_00b99_row0_col0\" class=\"data row0 col0\" >82</td>\n      <td id=\"T_00b99_row0_col1\" class=\"data row0 col1\" >142</td>\n      <td id=\"T_00b99_row0_col2\" class=\"data row0 col2\" >3</td>\n      <td id=\"T_00b99_row0_col3\" class=\"data row0 col3\" >-</td>\n    </tr>\n    <tr>\n      <th id=\"T_00b99_level0_row1\" class=\"row_heading level0 row1\" >Плохо</th>\n      <td id=\"T_00b99_row1_col0\" class=\"data row1 col0\" >49</td>\n      <td id=\"T_00b99_row1_col1\" class=\"data row1 col1\" >117</td>\n      <td id=\"T_00b99_row1_col2\" class=\"data row1 col2\" >3</td>\n      <td id=\"T_00b99_row1_col3\" class=\"data row1 col3\" >-</td>\n    </tr>\n    <tr>\n      <th id=\"T_00b99_level0_row2\" class=\"row_heading level0 row2\" >Нормально</th>\n      <td id=\"T_00b99_row2_col0\" class=\"data row2 col0\" >23</td>\n      <td id=\"T_00b99_row2_col1\" class=\"data row2 col1\" >84</td>\n      <td id=\"T_00b99_row2_col2\" class=\"data row2 col2\" >11</td>\n      <td id=\"T_00b99_row2_col3\" class=\"data row2 col3\" >-</td>\n    </tr>\n    <tr>\n      <th id=\"T_00b99_level0_row3\" class=\"row_heading level0 row3\" >Хорошо</th>\n      <td id=\"T_00b99_row3_col0\" class=\"data row3 col0\" >31</td>\n      <td id=\"T_00b99_row3_col1\" class=\"data row3 col1\" >97</td>\n      <td id=\"T_00b99_row3_col2\" class=\"data row3 col2\" >20</td>\n      <td id=\"T_00b99_row3_col3\" class=\"data row3 col3\" >-</td>\n    </tr>\n    <tr>\n      <th id=\"T_00b99_level0_row4\" class=\"row_heading level0 row4\" >Отлично</th>\n      <td id=\"T_00b99_row4_col0\" class=\"data row4 col0\" >-</td>\n      <td id=\"T_00b99_row4_col1\" class=\"data row4 col1\" >-</td>\n      <td id=\"T_00b99_row4_col2\" class=\"data row4 col2\" >-</td>\n      <td id=\"T_00b99_row4_col3\" class=\"data row4 col3\" >1084</td>\n    </tr>\n  </tbody>\n</table>\n"
    }
   },
   "source": [
    "## 5. Research of reasons for dissatisfaction with mobile Internet service\n",
    "\n",
    "### 5.1. Purpose of the research\n",
    "\n",
    "Depending on the reasons for dissatisfaction with the mobile Internet service, we divided customers into three categories. To research customers belonging to the above categories, Let's allocate the selected customers into groups of the same name. For the convenience of analyzing the research data, Let's assign the following color scheme to each group, which Let's use when displaying graphic and tabular data:\n",
    "- <span style=\"color:white;background-color:rgb(31, 119, 180);opacity:0.5\">&nbsp;Internet and Video&nbsp;</span> - unsatisfied with the speed of Mobile Internet and Video loading;\n",
    "- <span style=\"color:white;background-color:rgb(255, 127, 14);opacity:0.5\">&nbsp;Internet&nbsp;</span> - unsatisfied primarily with the speed of Mobile Internet;\n",
    "- <span style=\"color:white;background-color:rgb(44, 160, 44);opacity:0.5\">&nbsp;Video&nbsp;</span> - unsatisfied primarily with the speed of Video loading.\n",
    "\n",
    "Let's illustrate these groups on a customer distribution map:"
   ]
  },
  {
   "cell_type": "code",
   "execution_count": null,
   "metadata": {
    "variables": {
     "display_cat_info(data_clean).set_properties(pd.IndexSlice['Ужасно':'Хорошо', 'Интернет и видео'], color='white', background=px.colors.DEFAULT_PLOTLY_COLORS[0], opacity=0.5).set_properties(pd.IndexSlice['Ужасно':'Хорошо', 'Интернет'], color='white', background=px.colors.DEFAULT_PLOTLY_COLORS[1], opacity=0.5).set_properties(pd.IndexSlice['Ужасно':'Хорошо', 'Видео'], color='white', background=px.colors.DEFAULT_PLOTLY_COLORS[2], opacity=0.5)": "<style type=\"text/css\">\n#T_00b99 th {\n  width: 80px;\n  text-align: center;\n  border: 1px solid lightgray;\n}\n#T_00b99  td {\n  width: 80px;\n  text-align: center;\n  border: 1px solid lightgray;\n}\n#T_00b99 th.index_name {\n  border: none;\n}\n#T_00b99_row0_col0, #T_00b99_row1_col0, #T_00b99_row2_col0, #T_00b99_row3_col0 {\n  color: white;\n  background: rgb(31, 119, 180);\n  opacity: 0.5;\n}\n#T_00b99_row0_col1, #T_00b99_row1_col1, #T_00b99_row2_col1, #T_00b99_row3_col1 {\n  color: white;\n  background: rgb(255, 127, 14);\n  opacity: 0.5;\n}\n#T_00b99_row0_col2, #T_00b99_row1_col2, #T_00b99_row2_col2, #T_00b99_row3_col2 {\n  color: white;\n  background: rgb(44, 160, 44);\n  opacity: 0.5;\n}\n</style>\n<table id=\"T_00b99\">\n  <thead>\n    <tr>\n      <th class=\"index_name level0\" ></th>\n      <th id=\"T_00b99_level0_col0\" class=\"col_heading level0 col0\" >Интернет и видео</th>\n      <th id=\"T_00b99_level0_col1\" class=\"col_heading level0 col1\" >Интернет</th>\n      <th id=\"T_00b99_level0_col2\" class=\"col_heading level0 col2\" >Видео</th>\n      <th id=\"T_00b99_level0_col3\" class=\"col_heading level0 col3\" >Нет</th>\n    </tr>\n  </thead>\n  <tbody>\n    <tr>\n      <th id=\"T_00b99_level0_row0\" class=\"row_heading level0 row0\" >Ужасно</th>\n      <td id=\"T_00b99_row0_col0\" class=\"data row0 col0\" >82</td>\n      <td id=\"T_00b99_row0_col1\" class=\"data row0 col1\" >142</td>\n      <td id=\"T_00b99_row0_col2\" class=\"data row0 col2\" >3</td>\n      <td id=\"T_00b99_row0_col3\" class=\"data row0 col3\" >-</td>\n    </tr>\n    <tr>\n      <th id=\"T_00b99_level0_row1\" class=\"row_heading level0 row1\" >Плохо</th>\n      <td id=\"T_00b99_row1_col0\" class=\"data row1 col0\" >49</td>\n      <td id=\"T_00b99_row1_col1\" class=\"data row1 col1\" >117</td>\n      <td id=\"T_00b99_row1_col2\" class=\"data row1 col2\" >3</td>\n      <td id=\"T_00b99_row1_col3\" class=\"data row1 col3\" >-</td>\n    </tr>\n    <tr>\n      <th id=\"T_00b99_level0_row2\" class=\"row_heading level0 row2\" >Нормально</th>\n      <td id=\"T_00b99_row2_col0\" class=\"data row2 col0\" >23</td>\n      <td id=\"T_00b99_row2_col1\" class=\"data row2 col1\" >84</td>\n      <td id=\"T_00b99_row2_col2\" class=\"data row2 col2\" >11</td>\n      <td id=\"T_00b99_row2_col3\" class=\"data row2 col3\" >-</td>\n    </tr>\n    <tr>\n      <th id=\"T_00b99_level0_row3\" class=\"row_heading level0 row3\" >Хорошо</th>\n      <td id=\"T_00b99_row3_col0\" class=\"data row3 col0\" >31</td>\n      <td id=\"T_00b99_row3_col1\" class=\"data row3 col1\" >97</td>\n      <td id=\"T_00b99_row3_col2\" class=\"data row3 col2\" >20</td>\n      <td id=\"T_00b99_row3_col3\" class=\"data row3 col3\" >-</td>\n    </tr>\n    <tr>\n      <th id=\"T_00b99_level0_row4\" class=\"row_heading level0 row4\" >Отлично</th>\n      <td id=\"T_00b99_row4_col0\" class=\"data row4 col0\" >-</td>\n      <td id=\"T_00b99_row4_col1\" class=\"data row4 col1\" >-</td>\n      <td id=\"T_00b99_row4_col2\" class=\"data row4 col2\" >-</td>\n      <td id=\"T_00b99_row4_col3\" class=\"data row4 col3\" >1084</td>\n    </tr>\n  </tbody>\n</table>\n"
    }
   },
   "outputs": [],
   "source": [
    "display_cat_info(data_clean).set_properties(pd.IndexSlice['Very unsatisfied':'Satisfied', 'Internet and Video'], color='white', background=px.colors.DEFAULT_PLOTLY_COLORS[0], opacity=0.5).set_properties(pd.IndexSlice['Very unsatisfied':'Satisfied', 'Internet'], color='white', background=px.colors.DEFAULT_PLOTLY_COLORS[1], opacity=0.5).set_properties(pd.IndexSlice['Very unsatisfied':'Satisfied', 'Video'], color='white', background=px.colors.DEFAULT_PLOTLY_COLORS[2], opacity=0.5)"
   ]
  },
  {
   "cell_type": "markdown",
   "metadata": {
    "variables": {
     "display_cat_info(data_clean).set_properties(pd.IndexSlice['Ужасно':'Хорошо', 'Интернет и видео'], color='white', background=px.colors.DEFAULT_PLOTLY_COLORS[0], opacity=0.5).set_properties(pd.IndexSlice['Ужасно':'Хорошо', 'Интернет'], color='white', background=px.colors.DEFAULT_PLOTLY_COLORS[1], opacity=0.5).set_properties(pd.IndexSlice['Ужасно':'Хорошо', 'Видео'], color='white', background=px.colors.DEFAULT_PLOTLY_COLORS[2], opacity=0.5)": "<style type=\"text/css\">\n#T_00b99 th {\n  width: 80px;\n  text-align: center;\n  border: 1px solid lightgray;\n}\n#T_00b99  td {\n  width: 80px;\n  text-align: center;\n  border: 1px solid lightgray;\n}\n#T_00b99 th.index_name {\n  border: none;\n}\n#T_00b99_row0_col0, #T_00b99_row1_col0, #T_00b99_row2_col0, #T_00b99_row3_col0 {\n  color: white;\n  background: rgb(31, 119, 180);\n  opacity: 0.5;\n}\n#T_00b99_row0_col1, #T_00b99_row1_col1, #T_00b99_row2_col1, #T_00b99_row3_col1 {\n  color: white;\n  background: rgb(255, 127, 14);\n  opacity: 0.5;\n}\n#T_00b99_row0_col2, #T_00b99_row1_col2, #T_00b99_row2_col2, #T_00b99_row3_col2 {\n  color: white;\n  background: rgb(44, 160, 44);\n  opacity: 0.5;\n}\n</style>\n<table id=\"T_00b99\">\n  <thead>\n    <tr>\n      <th class=\"index_name level0\" ></th>\n      <th id=\"T_00b99_level0_col0\" class=\"col_heading level0 col0\" >Интернет и видео</th>\n      <th id=\"T_00b99_level0_col1\" class=\"col_heading level0 col1\" >Интернет</th>\n      <th id=\"T_00b99_level0_col2\" class=\"col_heading level0 col2\" >Видео</th>\n      <th id=\"T_00b99_level0_col3\" class=\"col_heading level0 col3\" >Нет</th>\n    </tr>\n  </thead>\n  <tbody>\n    <tr>\n      <th id=\"T_00b99_level0_row0\" class=\"row_heading level0 row0\" >Ужасно</th>\n      <td id=\"T_00b99_row0_col0\" class=\"data row0 col0\" >82</td>\n      <td id=\"T_00b99_row0_col1\" class=\"data row0 col1\" >142</td>\n      <td id=\"T_00b99_row0_col2\" class=\"data row0 col2\" >3</td>\n      <td id=\"T_00b99_row0_col3\" class=\"data row0 col3\" >-</td>\n    </tr>\n    <tr>\n      <th id=\"T_00b99_level0_row1\" class=\"row_heading level0 row1\" >Плохо</th>\n      <td id=\"T_00b99_row1_col0\" class=\"data row1 col0\" >49</td>\n      <td id=\"T_00b99_row1_col1\" class=\"data row1 col1\" >117</td>\n      <td id=\"T_00b99_row1_col2\" class=\"data row1 col2\" >3</td>\n      <td id=\"T_00b99_row1_col3\" class=\"data row1 col3\" >-</td>\n    </tr>\n    <tr>\n      <th id=\"T_00b99_level0_row2\" class=\"row_heading level0 row2\" >Нормально</th>\n      <td id=\"T_00b99_row2_col0\" class=\"data row2 col0\" >23</td>\n      <td id=\"T_00b99_row2_col1\" class=\"data row2 col1\" >84</td>\n      <td id=\"T_00b99_row2_col2\" class=\"data row2 col2\" >11</td>\n      <td id=\"T_00b99_row2_col3\" class=\"data row2 col3\" >-</td>\n    </tr>\n    <tr>\n      <th id=\"T_00b99_level0_row3\" class=\"row_heading level0 row3\" >Хорошо</th>\n      <td id=\"T_00b99_row3_col0\" class=\"data row3 col0\" >31</td>\n      <td id=\"T_00b99_row3_col1\" class=\"data row3 col1\" >97</td>\n      <td id=\"T_00b99_row3_col2\" class=\"data row3 col2\" >20</td>\n      <td id=\"T_00b99_row3_col3\" class=\"data row3 col3\" >-</td>\n    </tr>\n    <tr>\n      <th id=\"T_00b99_level0_row4\" class=\"row_heading level0 row4\" >Отлично</th>\n      <td id=\"T_00b99_row4_col0\" class=\"data row4 col0\" >-</td>\n      <td id=\"T_00b99_row4_col1\" class=\"data row4 col1\" >-</td>\n      <td id=\"T_00b99_row4_col2\" class=\"data row4 col2\" >-</td>\n      <td id=\"T_00b99_row4_col3\" class=\"data row4 col3\" >1084</td>\n    </tr>\n  </tbody>\n</table>\n"
    }
   },
   "source": [
    "Perhaps this grouping is not statistically correct. For example, customers who are unsatisfied with video loading may simply consume more video content, which is why they only reported slow video loading in their responses, although their page loading speed is also low.\n",
    "\n",
    "In this research, Let's try to understand whether this is true by answering **the following questions**:\n",
    "\n",
    "1. Do customers in the groups belong to different populations?\n",
    "2. If customers do not belong to the same population, what metrics do they differ in?"
   ]
  },
  {
   "cell_type": "markdown",
   "metadata": {},
   "source": [
    "### 5.2. Data Preparation\n",
    "\n",
    "Let's build a dataset for the research by selecting information about the customers of the above groups using the name of the groups as an index."
   ]
  },
  {
   "cell_type": "code",
   "execution_count": null,
   "metadata": {},
   "outputs": [],
   "source": [
    "research_data = data_clean\\\n",
    "    .loc[data_clean['Internet score'] != 'Very satisfied']\\\n",
    "    .set_index('Dissatisfaction reasons')[research_metrics.index]\n",
    "research_data.index.rename('Group', inplace=True)\n",
    "groups = research_data.index.unique().to_list()"
   ]
  },
  {
   "cell_type": "markdown",
   "metadata": {},
   "source": [
    "### 5.3. Exploratory analysis\n",
    "\n",
    "First, let's look at the number of customers in groups utilizing a bar chart."
   ]
  },
  {
   "cell_type": "code",
   "execution_count": null,
   "metadata": {},
   "outputs": [],
   "source": [
    "plot_group_size_barchart(research_data,\n",
    "                         title='<b>Number of customers in the considered groups</b>', title_y=0.85,\n",
    "                         width=600, height=210)"
   ]
  },
  {
   "cell_type": "markdown",
   "metadata": {
    "variables": {
     "research_data.loc['Видео'].shape[0]": "37",
     "research_data.loc['Интернет и видео'].shape[0]": "185",
     "research_data.loc['Интернет'].shape[0]": "440"
    }
   },
   "source": [
    "As we can see, the largest group `Internet` (`440` customers) is the group of customers unsatisfied primarily with the speed of Mobile Internet. There are significantly fewer customers in the group `Internet and video` who are unsatisfied with both the speed of Mobile Internet and the speed of Video loading (`185` customers). And the group of customers unsatisfied primarily with the speed of video downloading `Video` is very small (`37` customers) - several times smaller than the number of customers in other groups.\n",
    "\n",
    "Then Let's find the confidence intervals of the statistics of the metrics in the groups. This information will help to estimate the central values of the statistics and make assumptions about the presence of significant differences between the metrics of the customer groups and their direction (up or down).\n",
    "\n",
    "Let's calculate the confidence intervals using the bootstrap method. The results will be displayed graphically (the confidence intervals will be marked using horizontal segments, and their midpoints will be marked using dots)."
   ]
  },
  {
   "cell_type": "code",
   "execution_count": null,
   "metadata": {},
   "outputs": [],
   "source": [
    "# Build a list of tested pairs of groups\n",
    "group_pairs = [[groups[0], groups[1]], [groups[1], groups[2]], [groups[2], groups[0]]]\n",
    "# Calculate confidence intervals and their midpoints, check for \"overlapping\" between confidence intervals\n",
    "ci, ci_overlapping, ci_center, _ = confidence_interval_info(research_data, research_metrics, group_pairs)\n",
    "# Visualize confidence intervals\n",
    "plot_metric_confidence_interval(ci, metrics=research_metrics,\n",
    "                                title='<b>Confidence intervals of metric statistics</b>',\n",
    "                                height=230, n_cols=3,\n",
    "                                horizontal_spacing=0.04, vertical_spacing=0.07)"
   ]
  },
  {
   "cell_type": "markdown",
   "metadata": {
    "variables": {
     "display_confidence_interval(ci, metrics=research_metrics, caption='<b>Доверительные интервалы статистик</b>', caption_font_size=12, opacity=0.5, precision=1)": "<style type=\"text/css\">\n#T_58d66 caption {\n  font-size: 12pt;\n  text-align: center;\n  color: black;\n}\n#T_58d66 td {\n  text-align: center;\n  border: 1px solid lightgray;\n  border-collapse: collapse;\n}\n#T_58d66 .row_heading {\n  width: 120px;\n  text-align: center;\n}\n#T_58d66  td {\n  width: 120px;\n  text-align: center;\n}\n#T_58d66 .col_heading {\n  width: 80px;\n  text-align: center;\n}\n#T_58d66  td {\n  width: 80px;\n  text-align: center;\n}\n#T_58d66_row0_col1, #T_58d66_row0_col4, #T_58d66_row0_col7 {\n  color: red;\n  font-weight: bold;\n}\n#T_58d66_row1_col4, #T_58d66_row2_col1, #T_58d66_row2_col7 {\n  color: green;\n  font-weight: bold;\n}\n#T_58d66_level0_row0 {\n  color: white;\n  background-color: rgb(31, 119, 180);\n  opacity: 0.5;\n  border: 1px solid lightgray;\n  border-collapse: collapse;\n}\n#T_58d66_level0_row1 {\n  color: white;\n  background-color: rgb(255, 127, 14);\n  opacity: 0.5;\n  border: 1px solid lightgray;\n  border-collapse: collapse;\n}\n#T_58d66_level0_row2 {\n  color: white;\n  background-color: rgb(44, 160, 44);\n  opacity: 0.5;\n  border: 1px solid lightgray;\n  border-collapse: collapse;\n}\n#T_58d66_level0_col0, #T_58d66_level0_col3, #T_58d66_level0_col6, #T_58d66_level1_col0, #T_58d66_level1_col1, #T_58d66_level1_col2, #T_58d66_level1_col3, #T_58d66_level1_col4, #T_58d66_level1_col5, #T_58d66_level1_col6, #T_58d66_level1_col7, #T_58d66_level1_col8 {\n  border: 1px solid lightgray;\n  border-collapse: collapse;\n}\n</style>\n<table id=\"T_58d66\">\n  <caption><b>Доверительные интервалы статистик</b></caption>\n  <thead>\n    <tr>\n      <th class=\"index_name level0\" ></th>\n      <th id=\"T_58d66_level0_col0\" class=\"col_heading level0 col0\" colspan=\"3\">Средняя скорость «к абоненту»</th>\n      <th id=\"T_58d66_level0_col3\" class=\"col_heading level0 col3\" colspan=\"3\">Скорость загрузки потокового видео</th>\n      <th id=\"T_58d66_level0_col6\" class=\"col_heading level0 col6\" colspan=\"3\">Скорость загрузки web-страниц через браузер</th>\n    </tr>\n    <tr>\n      <th class=\"index_name level1\" ></th>\n      <th id=\"T_58d66_level1_col0\" class=\"col_heading level1 col0\" >Начало</th>\n      <th id=\"T_58d66_level1_col1\" class=\"col_heading level1 col1\" >Середина</th>\n      <th id=\"T_58d66_level1_col2\" class=\"col_heading level1 col2\" >Конец</th>\n      <th id=\"T_58d66_level1_col3\" class=\"col_heading level1 col3\" >Начало</th>\n      <th id=\"T_58d66_level1_col4\" class=\"col_heading level1 col4\" >Середина</th>\n      <th id=\"T_58d66_level1_col5\" class=\"col_heading level1 col5\" >Конец</th>\n      <th id=\"T_58d66_level1_col6\" class=\"col_heading level1 col6\" >Начало</th>\n      <th id=\"T_58d66_level1_col7\" class=\"col_heading level1 col7\" >Середина</th>\n      <th id=\"T_58d66_level1_col8\" class=\"col_heading level1 col8\" >Конец</th>\n    </tr>\n  </thead>\n  <tbody>\n    <tr>\n      <th id=\"T_58d66_level0_row0\" class=\"row_heading level0 row0\" >Интернет и видео</th>\n      <td id=\"T_58d66_row0_col0\" class=\"data row0 col0\" >870.1</td>\n      <td id=\"T_58d66_row0_col1\" class=\"data row0 col1\" >1063.2</td>\n      <td id=\"T_58d66_row0_col2\" class=\"data row0 col2\" >1256.4</td>\n      <td id=\"T_58d66_row0_col3\" class=\"data row0 col3\" >2555.3</td>\n      <td id=\"T_58d66_row0_col4\" class=\"data row0 col4\" >2997.3</td>\n      <td id=\"T_58d66_row0_col5\" class=\"data row0 col5\" >3439.3</td>\n      <td id=\"T_58d66_row0_col6\" class=\"data row0 col6\" >1088.2</td>\n      <td id=\"T_58d66_row0_col7\" class=\"data row0 col7\" >1230.4</td>\n      <td id=\"T_58d66_row0_col8\" class=\"data row0 col8\" >1372.6</td>\n    </tr>\n    <tr>\n      <th id=\"T_58d66_level0_row1\" class=\"row_heading level0 row1\" >Интернет</th>\n      <td id=\"T_58d66_row1_col0\" class=\"data row1 col0\" >1202.0</td>\n      <td id=\"T_58d66_row1_col1\" class=\"data row1 col1\" >1349.8</td>\n      <td id=\"T_58d66_row1_col2\" class=\"data row1 col2\" >1497.6</td>\n      <td id=\"T_58d66_row1_col3\" class=\"data row1 col3\" >3803.7</td>\n      <td id=\"T_58d66_row1_col4\" class=\"data row1 col4\" >4246.8</td>\n      <td id=\"T_58d66_row1_col5\" class=\"data row1 col5\" >4689.8</td>\n      <td id=\"T_58d66_row1_col6\" class=\"data row1 col6\" >1397.3</td>\n      <td id=\"T_58d66_row1_col7\" class=\"data row1 col7\" >1539.7</td>\n      <td id=\"T_58d66_row1_col8\" class=\"data row1 col8\" >1682.2</td>\n    </tr>\n    <tr>\n      <th id=\"T_58d66_level0_row2\" class=\"row_heading level0 row2\" >Видео</th>\n      <td id=\"T_58d66_row2_col0\" class=\"data row2 col0\" >1413.8</td>\n      <td id=\"T_58d66_row2_col1\" class=\"data row2 col1\" >1885.0</td>\n      <td id=\"T_58d66_row2_col2\" class=\"data row2 col2\" >2356.2</td>\n      <td id=\"T_58d66_row2_col3\" class=\"data row2 col3\" >3234.7</td>\n      <td id=\"T_58d66_row2_col4\" class=\"data row2 col4\" >4081.8</td>\n      <td id=\"T_58d66_row2_col5\" class=\"data row2 col5\" >4928.9</td>\n      <td id=\"T_58d66_row2_col6\" class=\"data row2 col6\" >1260.3</td>\n      <td id=\"T_58d66_row2_col7\" class=\"data row2 col7\" >1588.1</td>\n      <td id=\"T_58d66_row2_col8\" class=\"data row2 col8\" >1915.9</td>\n    </tr>\n  </tbody>\n</table>\n",
     "display_confidence_interval_overlapping(ci_overlapping, metrics=research_metrics, caption='<b>Наличие перекрытия доверительных интервалов статистик</b>', opacity=0.5)": "<style type=\"text/css\">\n#T_8bc5e caption {\n  font-size: 12pt;\n  text-align: center;\n  color: black;\n}\n#T_8bc5e td {\n  text-align: center;\n  border: 1px solid lightgray;\n  border-collapse: collapse;\n}\n#T_8bc5e .row_heading {\n  width: 120px;\n  text-align: center;\n}\n#T_8bc5e  td {\n  width: 120px;\n  text-align: center;\n}\n#T_8bc5e .col_heading {\n  width: 130px;\n  text-align: center;\n}\n#T_8bc5e  td {\n  width: 130px;\n  text-align: center;\n}\n#T_8bc5e_row0_col1, #T_8bc5e_row0_col2, #T_8bc5e_row2_col0 {\n  color: red;\n  font-weight: bold;\n}\n#T_8bc5e_level0_row0, #T_8bc5e_level1_row2 {\n  color: white;\n  background-color: rgb(31, 119, 180);\n  opacity: 0.5;\n  border: 1px solid lightgray;\n  border-collapse: collapse;\n}\n#T_8bc5e_level1_row0, #T_8bc5e_level0_row1 {\n  color: white;\n  background-color: rgb(255, 127, 14);\n  opacity: 0.5;\n  border: 1px solid lightgray;\n  border-collapse: collapse;\n}\n#T_8bc5e_level1_row1, #T_8bc5e_level0_row2 {\n  color: white;\n  background-color: rgb(44, 160, 44);\n  opacity: 0.5;\n  border: 1px solid lightgray;\n  border-collapse: collapse;\n}\n#T_8bc5e_level0_col0, #T_8bc5e_level0_col1, #T_8bc5e_level0_col2 {\n  border: 1px solid lightgray;\n  border-collapse: collapse;\n}\n</style>\n<table id=\"T_8bc5e\">\n  <caption><b>Наличие перекрытия доверительных интервалов статистик</b></caption>\n  <thead>\n    <tr>\n      <th class=\"blank\" >&nbsp;</th>\n      <th class=\"blank level0\" >&nbsp;</th>\n      <th id=\"T_8bc5e_level0_col0\" class=\"col_heading level0 col0\" >Средняя скорость «к абоненту»</th>\n      <th id=\"T_8bc5e_level0_col1\" class=\"col_heading level0 col1\" >Скорость загрузки потокового видео</th>\n      <th id=\"T_8bc5e_level0_col2\" class=\"col_heading level0 col2\" >Скорость загрузки web-страниц через браузер</th>\n    </tr>\n  </thead>\n  <tbody>\n    <tr>\n      <th id=\"T_8bc5e_level0_row0\" class=\"row_heading level0 row0\" >Интернет и видео</th>\n      <th id=\"T_8bc5e_level1_row0\" class=\"row_heading level1 row0\" >Интернет</th>\n      <td id=\"T_8bc5e_row0_col0\" class=\"data row0 col0\" >Да</td>\n      <td id=\"T_8bc5e_row0_col1\" class=\"data row0 col1\" >Нет</td>\n      <td id=\"T_8bc5e_row0_col2\" class=\"data row0 col2\" >Нет</td>\n    </tr>\n    <tr>\n      <th id=\"T_8bc5e_level0_row1\" class=\"row_heading level0 row1\" >Интернет</th>\n      <th id=\"T_8bc5e_level1_row1\" class=\"row_heading level1 row1\" >Видео</th>\n      <td id=\"T_8bc5e_row1_col0\" class=\"data row1 col0\" >Да</td>\n      <td id=\"T_8bc5e_row1_col1\" class=\"data row1 col1\" >Да</td>\n      <td id=\"T_8bc5e_row1_col2\" class=\"data row1 col2\" >Да</td>\n    </tr>\n    <tr>\n      <th id=\"T_8bc5e_level0_row2\" class=\"row_heading level0 row2\" >Видео</th>\n      <th id=\"T_8bc5e_level1_row2\" class=\"row_heading level1 row2\" >Интернет и видео</th>\n      <td id=\"T_8bc5e_row2_col0\" class=\"data row2 col0\" >Нет</td>\n      <td id=\"T_8bc5e_row2_col1\" class=\"data row2 col1\" >Да</td>\n      <td id=\"T_8bc5e_row2_col2\" class=\"data row2 col2\" >Да</td>\n    </tr>\n  </tbody>\n</table>\n"
    }
   },
   "source": [
    "For clarity, Let's also demonstrate the obtained results in a tabular form (the \"worst\" and \"best\" values of the confidence interval centers will be highlighted in \"<span style=\"color: red; font-weight: bold;\">red</span>\" and \"<span style=\"color: green; font-weight: bold;\">green</span>\" colors, respectively)."
   ]
  },
  {
   "cell_type": "code",
   "execution_count": null,
   "metadata": {
    "variables": {
     "display_confidence_interval(ci, metrics=research_metrics, caption='<b>Доверительные интервалы статистик</b>', caption_font_size=12, opacity=0.5, precision=1)": "<style type=\"text/css\">\n#T_58d66 caption {\n  font-size: 12pt;\n  text-align: center;\n  color: black;\n}\n#T_58d66 td {\n  text-align: center;\n  border: 1px solid lightgray;\n  border-collapse: collapse;\n}\n#T_58d66 .row_heading {\n  width: 120px;\n  text-align: center;\n}\n#T_58d66  td {\n  width: 120px;\n  text-align: center;\n}\n#T_58d66 .col_heading {\n  width: 80px;\n  text-align: center;\n}\n#T_58d66  td {\n  width: 80px;\n  text-align: center;\n}\n#T_58d66_row0_col1, #T_58d66_row0_col4, #T_58d66_row0_col7 {\n  color: red;\n  font-weight: bold;\n}\n#T_58d66_row1_col4, #T_58d66_row2_col1, #T_58d66_row2_col7 {\n  color: green;\n  font-weight: bold;\n}\n#T_58d66_level0_row0 {\n  color: white;\n  background-color: rgb(31, 119, 180);\n  opacity: 0.5;\n  border: 1px solid lightgray;\n  border-collapse: collapse;\n}\n#T_58d66_level0_row1 {\n  color: white;\n  background-color: rgb(255, 127, 14);\n  opacity: 0.5;\n  border: 1px solid lightgray;\n  border-collapse: collapse;\n}\n#T_58d66_level0_row2 {\n  color: white;\n  background-color: rgb(44, 160, 44);\n  opacity: 0.5;\n  border: 1px solid lightgray;\n  border-collapse: collapse;\n}\n#T_58d66_level0_col0, #T_58d66_level0_col3, #T_58d66_level0_col6, #T_58d66_level1_col0, #T_58d66_level1_col1, #T_58d66_level1_col2, #T_58d66_level1_col3, #T_58d66_level1_col4, #T_58d66_level1_col5, #T_58d66_level1_col6, #T_58d66_level1_col7, #T_58d66_level1_col8 {\n  border: 1px solid lightgray;\n  border-collapse: collapse;\n}\n</style>\n<table id=\"T_58d66\">\n  <caption><b>Доверительные интервалы статистик</b></caption>\n  <thead>\n    <tr>\n      <th class=\"index_name level0\" ></th>\n      <th id=\"T_58d66_level0_col0\" class=\"col_heading level0 col0\" colspan=\"3\">Средняя скорость «к абоненту»</th>\n      <th id=\"T_58d66_level0_col3\" class=\"col_heading level0 col3\" colspan=\"3\">Скорость загрузки потокового видео</th>\n      <th id=\"T_58d66_level0_col6\" class=\"col_heading level0 col6\" colspan=\"3\">Скорость загрузки web-страниц через браузер</th>\n    </tr>\n    <tr>\n      <th class=\"index_name level1\" ></th>\n      <th id=\"T_58d66_level1_col0\" class=\"col_heading level1 col0\" >Начало</th>\n      <th id=\"T_58d66_level1_col1\" class=\"col_heading level1 col1\" >Середина</th>\n      <th id=\"T_58d66_level1_col2\" class=\"col_heading level1 col2\" >Конец</th>\n      <th id=\"T_58d66_level1_col3\" class=\"col_heading level1 col3\" >Начало</th>\n      <th id=\"T_58d66_level1_col4\" class=\"col_heading level1 col4\" >Середина</th>\n      <th id=\"T_58d66_level1_col5\" class=\"col_heading level1 col5\" >Конец</th>\n      <th id=\"T_58d66_level1_col6\" class=\"col_heading level1 col6\" >Начало</th>\n      <th id=\"T_58d66_level1_col7\" class=\"col_heading level1 col7\" >Середина</th>\n      <th id=\"T_58d66_level1_col8\" class=\"col_heading level1 col8\" >Конец</th>\n    </tr>\n  </thead>\n  <tbody>\n    <tr>\n      <th id=\"T_58d66_level0_row0\" class=\"row_heading level0 row0\" >Интернет и видео</th>\n      <td id=\"T_58d66_row0_col0\" class=\"data row0 col0\" >870.1</td>\n      <td id=\"T_58d66_row0_col1\" class=\"data row0 col1\" >1063.2</td>\n      <td id=\"T_58d66_row0_col2\" class=\"data row0 col2\" >1256.4</td>\n      <td id=\"T_58d66_row0_col3\" class=\"data row0 col3\" >2555.3</td>\n      <td id=\"T_58d66_row0_col4\" class=\"data row0 col4\" >2997.3</td>\n      <td id=\"T_58d66_row0_col5\" class=\"data row0 col5\" >3439.3</td>\n      <td id=\"T_58d66_row0_col6\" class=\"data row0 col6\" >1088.2</td>\n      <td id=\"T_58d66_row0_col7\" class=\"data row0 col7\" >1230.4</td>\n      <td id=\"T_58d66_row0_col8\" class=\"data row0 col8\" >1372.6</td>\n    </tr>\n    <tr>\n      <th id=\"T_58d66_level0_row1\" class=\"row_heading level0 row1\" >Интернет</th>\n      <td id=\"T_58d66_row1_col0\" class=\"data row1 col0\" >1202.0</td>\n      <td id=\"T_58d66_row1_col1\" class=\"data row1 col1\" >1349.8</td>\n      <td id=\"T_58d66_row1_col2\" class=\"data row1 col2\" >1497.6</td>\n      <td id=\"T_58d66_row1_col3\" class=\"data row1 col3\" >3803.7</td>\n      <td id=\"T_58d66_row1_col4\" class=\"data row1 col4\" >4246.8</td>\n      <td id=\"T_58d66_row1_col5\" class=\"data row1 col5\" >4689.8</td>\n      <td id=\"T_58d66_row1_col6\" class=\"data row1 col6\" >1397.3</td>\n      <td id=\"T_58d66_row1_col7\" class=\"data row1 col7\" >1539.7</td>\n      <td id=\"T_58d66_row1_col8\" class=\"data row1 col8\" >1682.2</td>\n    </tr>\n    <tr>\n      <th id=\"T_58d66_level0_row2\" class=\"row_heading level0 row2\" >Видео</th>\n      <td id=\"T_58d66_row2_col0\" class=\"data row2 col0\" >1413.8</td>\n      <td id=\"T_58d66_row2_col1\" class=\"data row2 col1\" >1885.0</td>\n      <td id=\"T_58d66_row2_col2\" class=\"data row2 col2\" >2356.2</td>\n      <td id=\"T_58d66_row2_col3\" class=\"data row2 col3\" >3234.7</td>\n      <td id=\"T_58d66_row2_col4\" class=\"data row2 col4\" >4081.8</td>\n      <td id=\"T_58d66_row2_col5\" class=\"data row2 col5\" >4928.9</td>\n      <td id=\"T_58d66_row2_col6\" class=\"data row2 col6\" >1260.3</td>\n      <td id=\"T_58d66_row2_col7\" class=\"data row2 col7\" >1588.1</td>\n      <td id=\"T_58d66_row2_col8\" class=\"data row2 col8\" >1915.9</td>\n    </tr>\n  </tbody>\n</table>\n",
     "display_confidence_interval_overlapping(ci_overlapping, metrics=research_metrics, caption='<b>Наличие перекрытия доверительных интервалов статистик</b>', opacity=0.5)": "<style type=\"text/css\">\n#T_8bc5e caption {\n  font-size: 12pt;\n  text-align: center;\n  color: black;\n}\n#T_8bc5e td {\n  text-align: center;\n  border: 1px solid lightgray;\n  border-collapse: collapse;\n}\n#T_8bc5e .row_heading {\n  width: 120px;\n  text-align: center;\n}\n#T_8bc5e  td {\n  width: 120px;\n  text-align: center;\n}\n#T_8bc5e .col_heading {\n  width: 130px;\n  text-align: center;\n}\n#T_8bc5e  td {\n  width: 130px;\n  text-align: center;\n}\n#T_8bc5e_row0_col1, #T_8bc5e_row0_col2, #T_8bc5e_row2_col0 {\n  color: red;\n  font-weight: bold;\n}\n#T_8bc5e_level0_row0, #T_8bc5e_level1_row2 {\n  color: white;\n  background-color: rgb(31, 119, 180);\n  opacity: 0.5;\n  border: 1px solid lightgray;\n  border-collapse: collapse;\n}\n#T_8bc5e_level1_row0, #T_8bc5e_level0_row1 {\n  color: white;\n  background-color: rgb(255, 127, 14);\n  opacity: 0.5;\n  border: 1px solid lightgray;\n  border-collapse: collapse;\n}\n#T_8bc5e_level1_row1, #T_8bc5e_level0_row2 {\n  color: white;\n  background-color: rgb(44, 160, 44);\n  opacity: 0.5;\n  border: 1px solid lightgray;\n  border-collapse: collapse;\n}\n#T_8bc5e_level0_col0, #T_8bc5e_level0_col1, #T_8bc5e_level0_col2 {\n  border: 1px solid lightgray;\n  border-collapse: collapse;\n}\n</style>\n<table id=\"T_8bc5e\">\n  <caption><b>Наличие перекрытия доверительных интервалов статистик</b></caption>\n  <thead>\n    <tr>\n      <th class=\"blank\" >&nbsp;</th>\n      <th class=\"blank level0\" >&nbsp;</th>\n      <th id=\"T_8bc5e_level0_col0\" class=\"col_heading level0 col0\" >Средняя скорость «к абоненту»</th>\n      <th id=\"T_8bc5e_level0_col1\" class=\"col_heading level0 col1\" >Скорость загрузки потокового видео</th>\n      <th id=\"T_8bc5e_level0_col2\" class=\"col_heading level0 col2\" >Скорость загрузки web-страниц через браузер</th>\n    </tr>\n  </thead>\n  <tbody>\n    <tr>\n      <th id=\"T_8bc5e_level0_row0\" class=\"row_heading level0 row0\" >Интернет и видео</th>\n      <th id=\"T_8bc5e_level1_row0\" class=\"row_heading level1 row0\" >Интернет</th>\n      <td id=\"T_8bc5e_row0_col0\" class=\"data row0 col0\" >Да</td>\n      <td id=\"T_8bc5e_row0_col1\" class=\"data row0 col1\" >Нет</td>\n      <td id=\"T_8bc5e_row0_col2\" class=\"data row0 col2\" >Нет</td>\n    </tr>\n    <tr>\n      <th id=\"T_8bc5e_level0_row1\" class=\"row_heading level0 row1\" >Интернет</th>\n      <th id=\"T_8bc5e_level1_row1\" class=\"row_heading level1 row1\" >Видео</th>\n      <td id=\"T_8bc5e_row1_col0\" class=\"data row1 col0\" >Да</td>\n      <td id=\"T_8bc5e_row1_col1\" class=\"data row1 col1\" >Да</td>\n      <td id=\"T_8bc5e_row1_col2\" class=\"data row1 col2\" >Да</td>\n    </tr>\n    <tr>\n      <th id=\"T_8bc5e_level0_row2\" class=\"row_heading level0 row2\" >Видео</th>\n      <th id=\"T_8bc5e_level1_row2\" class=\"row_heading level1 row2\" >Интернет и видео</th>\n      <td id=\"T_8bc5e_row2_col0\" class=\"data row2 col0\" >Нет</td>\n      <td id=\"T_8bc5e_row2_col1\" class=\"data row2 col1\" >Да</td>\n      <td id=\"T_8bc5e_row2_col2\" class=\"data row2 col2\" >Да</td>\n    </tr>\n  </tbody>\n</table>\n"
    }
   },
   "outputs": [],
   "source": [
    "display_confidence_interval(ci, metrics=research_metrics, caption='<b>Confidence intervals of metric statistics</b>', caption_font_size=12, opacity=0.5, precision=1)"
   ]
  },
  {
   "cell_type": "markdown",
   "metadata": {
    "variables": {
     "display_confidence_interval(ci, metrics=research_metrics, caption='<b>Доверительные интервалы статистик</b>', caption_font_size=12, opacity=0.5, precision=1)": "<style type=\"text/css\">\n#T_58d66 caption {\n  font-size: 12pt;\n  text-align: center;\n  color: black;\n}\n#T_58d66 td {\n  text-align: center;\n  border: 1px solid lightgray;\n  border-collapse: collapse;\n}\n#T_58d66 .row_heading {\n  width: 120px;\n  text-align: center;\n}\n#T_58d66  td {\n  width: 120px;\n  text-align: center;\n}\n#T_58d66 .col_heading {\n  width: 80px;\n  text-align: center;\n}\n#T_58d66  td {\n  width: 80px;\n  text-align: center;\n}\n#T_58d66_row0_col1, #T_58d66_row0_col4, #T_58d66_row0_col7 {\n  color: red;\n  font-weight: bold;\n}\n#T_58d66_row1_col4, #T_58d66_row2_col1, #T_58d66_row2_col7 {\n  color: green;\n  font-weight: bold;\n}\n#T_58d66_level0_row0 {\n  color: white;\n  background-color: rgb(31, 119, 180);\n  opacity: 0.5;\n  border: 1px solid lightgray;\n  border-collapse: collapse;\n}\n#T_58d66_level0_row1 {\n  color: white;\n  background-color: rgb(255, 127, 14);\n  opacity: 0.5;\n  border: 1px solid lightgray;\n  border-collapse: collapse;\n}\n#T_58d66_level0_row2 {\n  color: white;\n  background-color: rgb(44, 160, 44);\n  opacity: 0.5;\n  border: 1px solid lightgray;\n  border-collapse: collapse;\n}\n#T_58d66_level0_col0, #T_58d66_level0_col3, #T_58d66_level0_col6, #T_58d66_level1_col0, #T_58d66_level1_col1, #T_58d66_level1_col2, #T_58d66_level1_col3, #T_58d66_level1_col4, #T_58d66_level1_col5, #T_58d66_level1_col6, #T_58d66_level1_col7, #T_58d66_level1_col8 {\n  border: 1px solid lightgray;\n  border-collapse: collapse;\n}\n</style>\n<table id=\"T_58d66\">\n  <caption><b>Доверительные интервалы статистик</b></caption>\n  <thead>\n    <tr>\n      <th class=\"index_name level0\" ></th>\n      <th id=\"T_58d66_level0_col0\" class=\"col_heading level0 col0\" colspan=\"3\">Средняя скорость «к абоненту»</th>\n      <th id=\"T_58d66_level0_col3\" class=\"col_heading level0 col3\" colspan=\"3\">Скорость загрузки потокового видео</th>\n      <th id=\"T_58d66_level0_col6\" class=\"col_heading level0 col6\" colspan=\"3\">Скорость загрузки web-страниц через браузер</th>\n    </tr>\n    <tr>\n      <th class=\"index_name level1\" ></th>\n      <th id=\"T_58d66_level1_col0\" class=\"col_heading level1 col0\" >Начало</th>\n      <th id=\"T_58d66_level1_col1\" class=\"col_heading level1 col1\" >Середина</th>\n      <th id=\"T_58d66_level1_col2\" class=\"col_heading level1 col2\" >Конец</th>\n      <th id=\"T_58d66_level1_col3\" class=\"col_heading level1 col3\" >Начало</th>\n      <th id=\"T_58d66_level1_col4\" class=\"col_heading level1 col4\" >Середина</th>\n      <th id=\"T_58d66_level1_col5\" class=\"col_heading level1 col5\" >Конец</th>\n      <th id=\"T_58d66_level1_col6\" class=\"col_heading level1 col6\" >Начало</th>\n      <th id=\"T_58d66_level1_col7\" class=\"col_heading level1 col7\" >Середина</th>\n      <th id=\"T_58d66_level1_col8\" class=\"col_heading level1 col8\" >Конец</th>\n    </tr>\n  </thead>\n  <tbody>\n    <tr>\n      <th id=\"T_58d66_level0_row0\" class=\"row_heading level0 row0\" >Интернет и видео</th>\n      <td id=\"T_58d66_row0_col0\" class=\"data row0 col0\" >870.1</td>\n      <td id=\"T_58d66_row0_col1\" class=\"data row0 col1\" >1063.2</td>\n      <td id=\"T_58d66_row0_col2\" class=\"data row0 col2\" >1256.4</td>\n      <td id=\"T_58d66_row0_col3\" class=\"data row0 col3\" >2555.3</td>\n      <td id=\"T_58d66_row0_col4\" class=\"data row0 col4\" >2997.3</td>\n      <td id=\"T_58d66_row0_col5\" class=\"data row0 col5\" >3439.3</td>\n      <td id=\"T_58d66_row0_col6\" class=\"data row0 col6\" >1088.2</td>\n      <td id=\"T_58d66_row0_col7\" class=\"data row0 col7\" >1230.4</td>\n      <td id=\"T_58d66_row0_col8\" class=\"data row0 col8\" >1372.6</td>\n    </tr>\n    <tr>\n      <th id=\"T_58d66_level0_row1\" class=\"row_heading level0 row1\" >Интернет</th>\n      <td id=\"T_58d66_row1_col0\" class=\"data row1 col0\" >1202.0</td>\n      <td id=\"T_58d66_row1_col1\" class=\"data row1 col1\" >1349.8</td>\n      <td id=\"T_58d66_row1_col2\" class=\"data row1 col2\" >1497.6</td>\n      <td id=\"T_58d66_row1_col3\" class=\"data row1 col3\" >3803.7</td>\n      <td id=\"T_58d66_row1_col4\" class=\"data row1 col4\" >4246.8</td>\n      <td id=\"T_58d66_row1_col5\" class=\"data row1 col5\" >4689.8</td>\n      <td id=\"T_58d66_row1_col6\" class=\"data row1 col6\" >1397.3</td>\n      <td id=\"T_58d66_row1_col7\" class=\"data row1 col7\" >1539.7</td>\n      <td id=\"T_58d66_row1_col8\" class=\"data row1 col8\" >1682.2</td>\n    </tr>\n    <tr>\n      <th id=\"T_58d66_level0_row2\" class=\"row_heading level0 row2\" >Видео</th>\n      <td id=\"T_58d66_row2_col0\" class=\"data row2 col0\" >1413.8</td>\n      <td id=\"T_58d66_row2_col1\" class=\"data row2 col1\" >1885.0</td>\n      <td id=\"T_58d66_row2_col2\" class=\"data row2 col2\" >2356.2</td>\n      <td id=\"T_58d66_row2_col3\" class=\"data row2 col3\" >3234.7</td>\n      <td id=\"T_58d66_row2_col4\" class=\"data row2 col4\" >4081.8</td>\n      <td id=\"T_58d66_row2_col5\" class=\"data row2 col5\" >4928.9</td>\n      <td id=\"T_58d66_row2_col6\" class=\"data row2 col6\" >1260.3</td>\n      <td id=\"T_58d66_row2_col7\" class=\"data row2 col7\" >1588.1</td>\n      <td id=\"T_58d66_row2_col8\" class=\"data row2 col8\" >1915.9</td>\n    </tr>\n  </tbody>\n</table>\n",
     "display_confidence_interval_overlapping(ci_overlapping, metrics=research_metrics, caption='<b>Наличие перекрытия доверительных интервалов статистик</b>', opacity=0.5)": "<style type=\"text/css\">\n#T_8bc5e caption {\n  font-size: 12pt;\n  text-align: center;\n  color: black;\n}\n#T_8bc5e td {\n  text-align: center;\n  border: 1px solid lightgray;\n  border-collapse: collapse;\n}\n#T_8bc5e .row_heading {\n  width: 120px;\n  text-align: center;\n}\n#T_8bc5e  td {\n  width: 120px;\n  text-align: center;\n}\n#T_8bc5e .col_heading {\n  width: 130px;\n  text-align: center;\n}\n#T_8bc5e  td {\n  width: 130px;\n  text-align: center;\n}\n#T_8bc5e_row0_col1, #T_8bc5e_row0_col2, #T_8bc5e_row2_col0 {\n  color: red;\n  font-weight: bold;\n}\n#T_8bc5e_level0_row0, #T_8bc5e_level1_row2 {\n  color: white;\n  background-color: rgb(31, 119, 180);\n  opacity: 0.5;\n  border: 1px solid lightgray;\n  border-collapse: collapse;\n}\n#T_8bc5e_level1_row0, #T_8bc5e_level0_row1 {\n  color: white;\n  background-color: rgb(255, 127, 14);\n  opacity: 0.5;\n  border: 1px solid lightgray;\n  border-collapse: collapse;\n}\n#T_8bc5e_level1_row1, #T_8bc5e_level0_row2 {\n  color: white;\n  background-color: rgb(44, 160, 44);\n  opacity: 0.5;\n  border: 1px solid lightgray;\n  border-collapse: collapse;\n}\n#T_8bc5e_level0_col0, #T_8bc5e_level0_col1, #T_8bc5e_level0_col2 {\n  border: 1px solid lightgray;\n  border-collapse: collapse;\n}\n</style>\n<table id=\"T_8bc5e\">\n  <caption><b>Наличие перекрытия доверительных интервалов статистик</b></caption>\n  <thead>\n    <tr>\n      <th class=\"blank\" >&nbsp;</th>\n      <th class=\"blank level0\" >&nbsp;</th>\n      <th id=\"T_8bc5e_level0_col0\" class=\"col_heading level0 col0\" >Средняя скорость «к абоненту»</th>\n      <th id=\"T_8bc5e_level0_col1\" class=\"col_heading level0 col1\" >Скорость загрузки потокового видео</th>\n      <th id=\"T_8bc5e_level0_col2\" class=\"col_heading level0 col2\" >Скорость загрузки web-страниц через браузер</th>\n    </tr>\n  </thead>\n  <tbody>\n    <tr>\n      <th id=\"T_8bc5e_level0_row0\" class=\"row_heading level0 row0\" >Интернет и видео</th>\n      <th id=\"T_8bc5e_level1_row0\" class=\"row_heading level1 row0\" >Интернет</th>\n      <td id=\"T_8bc5e_row0_col0\" class=\"data row0 col0\" >Да</td>\n      <td id=\"T_8bc5e_row0_col1\" class=\"data row0 col1\" >Нет</td>\n      <td id=\"T_8bc5e_row0_col2\" class=\"data row0 col2\" >Нет</td>\n    </tr>\n    <tr>\n      <th id=\"T_8bc5e_level0_row1\" class=\"row_heading level0 row1\" >Интернет</th>\n      <th id=\"T_8bc5e_level1_row1\" class=\"row_heading level1 row1\" >Видео</th>\n      <td id=\"T_8bc5e_row1_col0\" class=\"data row1 col0\" >Да</td>\n      <td id=\"T_8bc5e_row1_col1\" class=\"data row1 col1\" >Да</td>\n      <td id=\"T_8bc5e_row1_col2\" class=\"data row1 col2\" >Да</td>\n    </tr>\n    <tr>\n      <th id=\"T_8bc5e_level0_row2\" class=\"row_heading level0 row2\" >Видео</th>\n      <th id=\"T_8bc5e_level1_row2\" class=\"row_heading level1 row2\" >Интернет и видео</th>\n      <td id=\"T_8bc5e_row2_col0\" class=\"data row2 col0\" >Нет</td>\n      <td id=\"T_8bc5e_row2_col1\" class=\"data row2 col1\" >Да</td>\n      <td id=\"T_8bc5e_row2_col2\" class=\"data row2 col2\" >Да</td>\n    </tr>\n  </tbody>\n</table>\n"
    }
   },
   "source": [
    "Based on the analysis of confidence intervals, we can make the following **conclusions**:\n",
    "1. customers of the `Internet and Video` group have significantly \"worse\" values of the metrics than the `Internet` and `Video` groups.\n",
    "2. customers of the `Internet` and `Video` groups have similar values of the `Streaming video download speed` and `Web page download speed via browser` metrics.\n",
    "3. customers of the `Video` group have a higher central value of the `Average speed \"to subscriber\"` metric statistics than the `Web page download speed via browser` metric. This may indicate that customers of this group consume video content to a greater extent.\n",
    "4. The confidence intervals of the metrics of the `Video` group are significantly wider than those of the `Internet and Video` and `Internet` groups. But this most likely does not indicate a significantly greater spread of the values of these metrics in the population to which this group belongs than in the populations to which the other groups belong. It is quite possible that such an effect is due to the fact that this group is significantly smaller in size. And, accordingly, with repeated samples from this group, the probability of obtaining more extreme statistical values is higher than with samples from other larger groups.\n",
    "\n",
    "Additionally, we let's display information on the presence of \"overlaps\" of confidence intervals of the statistics of the groups in pairs. Let's highlight \"<span style=\"color: red; font-weight: bold;\">negative</span>\" results in red because they are the most important and informative."
   ]
  },
  {
   "cell_type": "code",
   "execution_count": null,
   "metadata": {},
   "outputs": [],
   "source": [
    "display_confidence_interval_overlapping(ci_overlapping, metrics=research_metrics, caption='<b>Overlapping confidence intervals of the statistics</b>', opacity=0.5)"
   ]
  },
  {
   "cell_type": "markdown",
   "metadata": {},
   "source": [
    "Based on the obtained results on the presence of \"overlapping\" confidence intervals of statistics, the following conclusions can be made:\n",
    "1. Confidence intervals of the `Video Streaming Download Throughput` and `Web Page Download Throughput` metrics of the `Internet and Video` and `Internet` groups **do not overlap**, which indicates a **significant difference** in the statistics of these metrics of this pair of groups. Thus, it is possible not to perform a test for this pair of groups, but to immediately conclude that these groups belong to different populations.\n",
    "2. Confidence intervals of the `Downlink Throughput` metric statistics of the `Internet and Video` and `Video` groups also are not overlapped. This indicates a significant difference in the statistics of this metric of this pair of groups. Thus, it is possible not to perform a test for this pair of groups, but to immediately conclude that these groups belong to different populations.\n",
    "3. Confidence intervals of the statistics of all metrics of the `Internet` and `Video` groups \"overlapped\". Therefore, we cannot draw a conclusion about the significance of the difference in the statistics of the researched metrics of these groups based on exploratory analysis - a statistical test must be performed."
   ]
  },
  {
   "cell_type": "markdown",
   "metadata": {},
   "source": [
    "### 5.4. Statistical tests\n",
    "\n",
    "Based on exploratory analysis, we have established that the `Internet and Video` group has significant differences in metrics relative to the `Internet` and `Video` groups. That is, without performing testing, we can already conclude that the `Internet and Video` group belongs to a separate population.<br>\n",
    "To answer the 1st question, it is enough to perform a test only for the `Internet` and `Video` groups. But it's still needed to find out which metrics influence the difference between the groups most strongly, so we need to perform tests for all pairs of groups.<br>\n",
    "In this case, it does not matter to us in which direction (larger or smaller) this difference is directed. Therefore, we can perform the so-called `two-sided` test.<br>\n",
    "But the `p-value` for a two-sided `Permutation test` is twice the minimum `p-value` for a left-sided or right-sided test. Therefore, to compare with the selected significance level, it is necessary to first halve the obtained `p-values`."
   ]
  },
  {
   "cell_type": "code",
   "execution_count": null,
   "metadata": {},
   "outputs": [],
   "source": [
    "alternatives = research_metrics['impact'].apply(lambda impact: 'two-sided')\n",
    "pvalues = pd.DataFrame(index=[', '.join(group_pair) for group_pair in group_pairs], columns=research_metrics.index)\n",
    "mark_statistic = alternatives.apply(lambda impact: 'min')"
   ]
  },
  {
   "cell_type": "markdown",
   "metadata": {
    "variables": {
     "groups[0]": "Интернет и видео",
     "groups[1]": "Интернет"
    }
   },
   "source": [
    "#### 5.4.1. Statistical test for the groups \"Internet and Video\" and \"Internet\"\n",
    "\n",
    "For all metrics, Let's accept the assumption that there are **no significant differences** between the values of the test group statistics as the `null hypothesis`. And the opposite statement that **there are differences** as the `alternative hypothesis`. In mathematical form, the test statistics and formulated hypotheses can be written as follows:\n",
    "\n",
    "$$\n",
    "\\Delta \\hat{TM}=\\hat{TM}_{Internet \\, and \\, Video}-\\hat{TM}_{Internet}\\\\\n",
    "H_0:\\Delta \\hat{TM}=0\\\\\n",
    "H_1:\\Delta \\hat{TM}≠0\n",
    "$$\n",
    "\n",
    "Let's perform testing and visualize the results by constructing histograms of the null distribution of the test statistics of the metrics. On the histograms, we mark the observed value of the test statistic with a vertical dashed line and color the areas of the distributions that are used to calculate the `p-values` (to the right or left of the lines of the observed values of the test statistic)."
   ]
  },
  {
   "cell_type": "code",
   "execution_count": null,
   "metadata": {
    "code_folding": []
   },
   "outputs": [],
   "source": [
    "# Test data preparation\n",
    "group_pair_index = 0\n",
    "test_data = research_data.loc[group_pairs[group_pair_index]]\n",
    "# Testing\n",
    "pvalues.loc[', '.join(group_pairs[group_pair_index])], null_distributions, statistics = permutation_test(\n",
    "    test_data, research_metrics['test statistic'], alternatives)\n",
    "# Dividing obtained `p-values` by 2\n",
    "pvalues.loc[', '.join(group_pairs[group_pair_index])] /= 2\n",
    "# Output of the density histogram of the null distribution\n",
    "plot_metric_histograms(\n",
    "    null_distributions, statistic=statistics, metrics=research_metrics,\n",
    "    title=f'<b>Density of the null probability distribution of the test statistic</b>', title_y=0.9,\n",
    "    height=300, n_cols=3, opacity=0.5,\n",
    "    histnorm='probability density',\n",
    "    add_kde=True, add_statistic=True, mark_statistic=mark_statistic,\n",
    "    horizontal_spacing=0.08, vertical_spacing=0.07)"
   ]
  },
  {
   "cell_type": "markdown",
   "metadata": {
    "variables": {
     "display_pvalues(pvalues.loc[', '.join(group_pairs[group_pair_index])].to_frame().T, metrics=research_metrics, alpha=alpha, caption=f'<b>Значения p-value статистического теста</b>', col_width=160)": "<style type=\"text/css\">\n#T_7798f caption {\n  font-size: 12pt;\n  text-align: center;\n  color: black;\n}\n#T_7798f td {\n  text-align: center;\n  border: 1px solid lightgray;\n  border-collapse: collapse;\n}\n#T_7798f .row_heading {\n  width: 120px;\n  text-align: center;\n}\n#T_7798f  td {\n  width: 120px;\n  text-align: center;\n}\n#T_7798f .col_heading {\n  width: 160px;\n  text-align: center;\n}\n#T_7798f  td {\n  width: 160px;\n  text-align: center;\n}\n#T_7798f_row0_col0, #T_7798f_row0_col1, #T_7798f_row0_col2 {\n  color: red;\n  font-weight: bold;\n}\n#T_7798f_level0_col0, #T_7798f_level0_col1, #T_7798f_level0_col2 {\n  border: 1px solid lightgray;\n  border-collapse: collapse;\n}\n</style>\n<table id=\"T_7798f\">\n  <caption><b>Значения p-value статистического теста</b></caption>\n  <thead>\n    <tr>\n      <th id=\"T_7798f_level0_col0\" class=\"col_heading level0 col0\" >Средняя скорость «к абоненту»</th>\n      <th id=\"T_7798f_level0_col1\" class=\"col_heading level0 col1\" >Скорость загрузки потокового видео</th>\n      <th id=\"T_7798f_level0_col2\" class=\"col_heading level0 col2\" >Скорость загрузки web-страниц через браузер</th>\n    </tr>\n  </thead>\n  <tbody>\n    <tr>\n      <td id=\"T_7798f_row0_col0\" class=\"data row0 col0\" >0.0013</td>\n      <td id=\"T_7798f_row0_col1\" class=\"data row0 col1\" >0.0007</td>\n      <td id=\"T_7798f_row0_col2\" class=\"data row0 col2\" >0.0032</td>\n    </tr>\n  </tbody>\n</table>\n"
    }
   },
   "source": [
    "Let's present the obtained `p-values` in a tabular form, marking in \"<span style=\"color: red; font-weight: bold;\">red</span>\" those values that are below the significance level."
   ]
  },
  {
   "cell_type": "code",
   "execution_count": null,
   "metadata": {
    "scrolled": true,
    "variables": {
     "display_pvalues(pvalues.loc[', '.join(group_pairs[group_pair_index])].to_frame().T, metrics=research_metrics, alpha=alpha, caption=f'<b>Значения p-value статистического теста</b>', col_width=160)": "<style type=\"text/css\">\n#T_7798f caption {\n  font-size: 12pt;\n  text-align: center;\n  color: black;\n}\n#T_7798f td {\n  text-align: center;\n  border: 1px solid lightgray;\n  border-collapse: collapse;\n}\n#T_7798f .row_heading {\n  width: 120px;\n  text-align: center;\n}\n#T_7798f  td {\n  width: 120px;\n  text-align: center;\n}\n#T_7798f .col_heading {\n  width: 160px;\n  text-align: center;\n}\n#T_7798f  td {\n  width: 160px;\n  text-align: center;\n}\n#T_7798f_row0_col0, #T_7798f_row0_col1, #T_7798f_row0_col2 {\n  color: red;\n  font-weight: bold;\n}\n#T_7798f_level0_col0, #T_7798f_level0_col1, #T_7798f_level0_col2 {\n  border: 1px solid lightgray;\n  border-collapse: collapse;\n}\n</style>\n<table id=\"T_7798f\">\n  <caption><b>Значения p-value статистического теста</b></caption>\n  <thead>\n    <tr>\n      <th id=\"T_7798f_level0_col0\" class=\"col_heading level0 col0\" >Средняя скорость «к абоненту»</th>\n      <th id=\"T_7798f_level0_col1\" class=\"col_heading level0 col1\" >Скорость загрузки потокового видео</th>\n      <th id=\"T_7798f_level0_col2\" class=\"col_heading level0 col2\" >Скорость загрузки web-страниц через браузер</th>\n    </tr>\n  </thead>\n  <tbody>\n    <tr>\n      <td id=\"T_7798f_row0_col0\" class=\"data row0 col0\" >0.0013</td>\n      <td id=\"T_7798f_row0_col1\" class=\"data row0 col1\" >0.0007</td>\n      <td id=\"T_7798f_row0_col2\" class=\"data row0 col2\" >0.0032</td>\n    </tr>\n  </tbody>\n</table>\n"
    }
   },
   "outputs": [],
   "source": [
    "display_pvalues(pvalues.loc[', '.join(group_pairs[group_pair_index])].to_frame().T, metrics=research_metrics, alpha=alpha, caption=f'<b>Test p-values</b>', col_width=160)"
   ]
  },
  {
   "cell_type": "markdown",
   "metadata": {
    "variables": {
     "display_pvalues(pvalues.loc[', '.join(group_pairs[group_pair_index])].to_frame().T, metrics=research_metrics, alpha=alpha, caption=f'<b>Значения p-value статистического теста</b>', col_width=160)": "<style type=\"text/css\">\n#T_7798f caption {\n  font-size: 12pt;\n  text-align: center;\n  color: black;\n}\n#T_7798f td {\n  text-align: center;\n  border: 1px solid lightgray;\n  border-collapse: collapse;\n}\n#T_7798f .row_heading {\n  width: 120px;\n  text-align: center;\n}\n#T_7798f  td {\n  width: 120px;\n  text-align: center;\n}\n#T_7798f .col_heading {\n  width: 160px;\n  text-align: center;\n}\n#T_7798f  td {\n  width: 160px;\n  text-align: center;\n}\n#T_7798f_row0_col0, #T_7798f_row0_col1, #T_7798f_row0_col2 {\n  color: red;\n  font-weight: bold;\n}\n#T_7798f_level0_col0, #T_7798f_level0_col1, #T_7798f_level0_col2 {\n  border: 1px solid lightgray;\n  border-collapse: collapse;\n}\n</style>\n<table id=\"T_7798f\">\n  <caption><b>Значения p-value статистического теста</b></caption>\n  <thead>\n    <tr>\n      <th id=\"T_7798f_level0_col0\" class=\"col_heading level0 col0\" >Средняя скорость «к абоненту»</th>\n      <th id=\"T_7798f_level0_col1\" class=\"col_heading level0 col1\" >Скорость загрузки потокового видео</th>\n      <th id=\"T_7798f_level0_col2\" class=\"col_heading level0 col2\" >Скорость загрузки web-страниц через браузер</th>\n    </tr>\n  </thead>\n  <tbody>\n    <tr>\n      <td id=\"T_7798f_row0_col0\" class=\"data row0 col0\" >0.0013</td>\n      <td id=\"T_7798f_row0_col1\" class=\"data row0 col1\" >0.0007</td>\n      <td id=\"T_7798f_row0_col2\" class=\"data row0 col2\" >0.0032</td>\n    </tr>\n  </tbody>\n</table>\n"
    }
   },
   "source": [
    "**Conclusions:**\n",
    "\n",
    "1. Since the `p-values` obtained as a result of the test for all metrics are **less than** the significance level, we **can reject the null hypothesis** and, accordingly, Let's assume that there are **significant differences** between all metrics of these groups.\n",
    "2. Since the areas of the null distribution of the test statistics for all metrics **to the left** of the observed test statistics are **less** than **to the right**, this indicates that the values of all metrics of the `Internet and Video` group are **less** than those of the `Internet` group, which confirms the preliminary conclusions of the exploratory analysis."
   ]
  },
  {
   "cell_type": "markdown",
   "metadata": {
    "variables": {
     "groups[1]": "Интернет",
     "groups[2]": "Видео"
    }
   },
   "source": [
    "#### 5.4.2. Statistical test for the groups \"Internet\" and \"Video\"\n",
    "\n",
    "For all metrics, Let's accept the assumption that there are **no significant differences** between the values of the test group statistics as the `null hypothesis`. And the opposite statement that **there are differences** as the `alternative hypothesis`. In mathematical form, the test statistics and formulated hypotheses can be written as follows:\n",
    "\n",
    "$$\n",
    "\\Delta \\hat{TM}=\\hat{TM}_{Internet}-\\hat{TM}_{Video}\\\\\n",
    "H_0:\\Delta \\hat{TM}=0\\\\\n",
    "H_1:\\Delta \\hat{TM}≠0\n",
    "$$\n",
    "\n",
    "Let's perform testing and visualize the results by constructing histograms of the null distribution of the test statistics of the metrics. On the histograms, we mark the observed value of the test statistic with a vertical dashed line and color the areas of the distributions that are used to calculate the `p-values` (to the right or left of the lines of the observed values of the test statistic)."
   ]
  },
  {
   "cell_type": "code",
   "execution_count": null,
   "metadata": {},
   "outputs": [],
   "source": [
    "# Test data preparation\n",
    "group_pair_index = 1\n",
    "test_data = research_data.loc[group_pairs[group_pair_index]]\n",
    "# Testing\n",
    "pvalues.loc[', '.join(group_pairs[group_pair_index])], null_distributions, statistics = permutation_test(\n",
    "    test_data, research_metrics['test statistic'], alternatives)\n",
    "# Dividing obtained `p-values` by 2\n",
    "pvalues.loc[', '.join(group_pairs[group_pair_index])] /= 2\n",
    "# Output of the density histogram of the null distribution\n",
    "plot_metric_histograms(\n",
    "    null_distributions, statistic=statistics, metrics=research_metrics,\n",
    "    title=f'<b>Density of the null probability distribution of the test statistic</b>', title_y=0.9,\n",
    "    height=300, n_cols=3, opacity=0.5,\n",
    "    histnorm='probability density',\n",
    "    add_kde=True, add_statistic=True, mark_statistic=mark_statistic,\n",
    "    horizontal_spacing=0.08, vertical_spacing=0.07)"
   ]
  },
  {
   "cell_type": "markdown",
   "metadata": {
    "variables": {
     "display_pvalues(pvalues.loc[', '.join(group_pairs[group_pair_index])].to_frame().T, metrics=research_metrics, alpha=alpha, caption=f'<b>Значения p-value статистического теста</b>', col_width=160)": "<style type=\"text/css\">\n#T_7798f caption {\n  font-size: 12pt;\n  text-align: center;\n  color: black;\n}\n#T_7798f td {\n  text-align: center;\n  border: 1px solid lightgray;\n  border-collapse: collapse;\n}\n#T_7798f .row_heading {\n  width: 120px;\n  text-align: center;\n}\n#T_7798f  td {\n  width: 120px;\n  text-align: center;\n}\n#T_7798f .col_heading {\n  width: 160px;\n  text-align: center;\n}\n#T_7798f  td {\n  width: 160px;\n  text-align: center;\n}\n#T_7798f_row0_col0, #T_7798f_row0_col1, #T_7798f_row0_col2 {\n  color: red;\n  font-weight: bold;\n}\n#T_7798f_level0_col0, #T_7798f_level0_col1, #T_7798f_level0_col2 {\n  border: 1px solid lightgray;\n  border-collapse: collapse;\n}\n</style>\n<table id=\"T_7798f\">\n  <caption><b>Значения p-value статистического теста</b></caption>\n  <thead>\n    <tr>\n      <th id=\"T_7798f_level0_col0\" class=\"col_heading level0 col0\" >Средняя скорость «к абоненту»</th>\n      <th id=\"T_7798f_level0_col1\" class=\"col_heading level0 col1\" >Скорость загрузки потокового видео</th>\n      <th id=\"T_7798f_level0_col2\" class=\"col_heading level0 col2\" >Скорость загрузки web-страниц через браузер</th>\n    </tr>\n  </thead>\n  <tbody>\n    <tr>\n      <td id=\"T_7798f_row0_col0\" class=\"data row0 col0\" >0.0013</td>\n      <td id=\"T_7798f_row0_col1\" class=\"data row0 col1\" >0.0007</td>\n      <td id=\"T_7798f_row0_col2\" class=\"data row0 col2\" >0.0032</td>\n    </tr>\n  </tbody>\n</table>\n"
    }
   },
   "source": [
    "Let's present the obtained `p-values` in a tabular form, marking in \"<span style=\"color: red; font-weight: bold;\">red</span>\" those values that are below the significance level."
   ]
  },
  {
   "cell_type": "code",
   "execution_count": null,
   "metadata": {
    "scrolled": true,
    "variables": {
     "display_pvalues(pvalues.loc[', '.join(group_pairs[group_pair_index])].to_frame().T, metrics=research_metrics, alpha=alpha, caption=f'<b>Значения p-value статистического теста</b>', col_width=160)": "<style type=\"text/css\">\n#T_7798f caption {\n  font-size: 12pt;\n  text-align: center;\n  color: black;\n}\n#T_7798f td {\n  text-align: center;\n  border: 1px solid lightgray;\n  border-collapse: collapse;\n}\n#T_7798f .row_heading {\n  width: 120px;\n  text-align: center;\n}\n#T_7798f  td {\n  width: 120px;\n  text-align: center;\n}\n#T_7798f .col_heading {\n  width: 160px;\n  text-align: center;\n}\n#T_7798f  td {\n  width: 160px;\n  text-align: center;\n}\n#T_7798f_row0_col0, #T_7798f_row0_col1, #T_7798f_row0_col2 {\n  color: red;\n  font-weight: bold;\n}\n#T_7798f_level0_col0, #T_7798f_level0_col1, #T_7798f_level0_col2 {\n  border: 1px solid lightgray;\n  border-collapse: collapse;\n}\n</style>\n<table id=\"T_7798f\">\n  <caption><b>Значения p-value статистического теста</b></caption>\n  <thead>\n    <tr>\n      <th id=\"T_7798f_level0_col0\" class=\"col_heading level0 col0\" >Средняя скорость «к абоненту»</th>\n      <th id=\"T_7798f_level0_col1\" class=\"col_heading level0 col1\" >Скорость загрузки потокового видео</th>\n      <th id=\"T_7798f_level0_col2\" class=\"col_heading level0 col2\" >Скорость загрузки web-страниц через браузер</th>\n    </tr>\n  </thead>\n  <tbody>\n    <tr>\n      <td id=\"T_7798f_row0_col0\" class=\"data row0 col0\" >0.0013</td>\n      <td id=\"T_7798f_row0_col1\" class=\"data row0 col1\" >0.0007</td>\n      <td id=\"T_7798f_row0_col2\" class=\"data row0 col2\" >0.0032</td>\n    </tr>\n  </tbody>\n</table>\n"
    }
   },
   "outputs": [],
   "source": [
    "display_pvalues(pvalues.loc[', '.join(group_pairs[group_pair_index])].to_frame().T, metrics=research_metrics, alpha=alpha, caption=f'<b>Test p-values</b>', col_width=160)"
   ]
  },
  {
   "cell_type": "markdown",
   "metadata": {
    "variables": {
     "display_pvalues(pvalues.loc[', '.join(group_pairs[group_pair_index])].to_frame().T, metrics=research_metrics, alpha=alpha, caption=f'<b>Значения p-value статистического теста</b>', col_width=160)": "<style type=\"text/css\">\n#T_05f1b caption {\n  font-size: 12pt;\n  text-align: center;\n  color: black;\n}\n#T_05f1b td {\n  text-align: center;\n  border: 1px solid lightgray;\n  border-collapse: collapse;\n}\n#T_05f1b .row_heading {\n  width: 120px;\n  text-align: center;\n}\n#T_05f1b  td {\n  width: 120px;\n  text-align: center;\n}\n#T_05f1b .col_heading {\n  width: 160px;\n  text-align: center;\n}\n#T_05f1b  td {\n  width: 160px;\n  text-align: center;\n}\n#T_05f1b_level0_col0, #T_05f1b_level0_col1, #T_05f1b_level0_col2 {\n  border: 1px solid lightgray;\n  border-collapse: collapse;\n}\n</style>\n<table id=\"T_05f1b\">\n  <caption><b>Значения p-value статистического теста</b></caption>\n  <thead>\n    <tr>\n      <th id=\"T_05f1b_level0_col0\" class=\"col_heading level0 col0\" >Средняя скорость «к абоненту»</th>\n      <th id=\"T_05f1b_level0_col1\" class=\"col_heading level0 col1\" >Скорость загрузки потокового видео</th>\n      <th id=\"T_05f1b_level0_col2\" class=\"col_heading level0 col2\" >Скорость загрузки web-страниц через браузер</th>\n    </tr>\n  </thead>\n  <tbody>\n    <tr>\n      <td id=\"T_05f1b_row0_col0\" class=\"data row0 col0\" >0.0733</td>\n      <td id=\"T_05f1b_row0_col1\" class=\"data row0 col1\" >0.4584</td>\n      <td id=\"T_05f1b_row0_col2\" class=\"data row0 col2\" >0.3080</td>\n    </tr>\n  </tbody>\n</table>\n"
    }
   },
   "source": [
    "**Conclusions:**<br>\n",
    "1. Since the `p-values` obtained as a result of the test for all metrics are **greater** than the significance level, we **cannot reject the null hypothesis** and, accordingly, will assume that there are **no significant differences** between all metrics of these groups.\n",
    "2. Since the areas of the zero distribution of the test statistics for the `Downlink Throughput` and `Web Page Download Throughput` metrics **to the left** of the observed test statistics are **smaller** than **to the right**, this suggests that the values of these metrics for the `Internet` group are **smaller** than for the `Video` group, which confirms the preliminary conclusions of the exploratory analysis.\n",
    "3. Since the null distribution region of the test statistic for the `Video Streaming Download Throughput` metric is **larger** to the left** of the observed test statistic than to the **right**, this suggests that the values of this metric for the `Internet` group are **larger** than for the `Video` group. However, this difference is not significant, since the `p-value` is close to `0.5`. This also confirms the conclusions of the exploratory analysis."
   ]
  },
  {
   "cell_type": "markdown",
   "metadata": {
    "variables": {
     "groups[0]": "Интернет и видео",
     "groups[2]": "Видео"
    }
   },
   "source": [
    "#### 5.4.3. Statistical test for the groups \"Video\" and \"Internet and Video\"\n",
    "\n",
    "For all metrics, Let's accept the assumption that there are **no significant differences** between the values of the test group statistics as the `null hypothesis`. And the opposite statement that **there are differences** as the `alternative hypothesis`. In mathematical form, the test statistics and formulated hypotheses can be written as follows:\n",
    "\n",
    "$$\n",
    "\\Delta \\hat{TM}=\\hat{TM}_{Video}-\\hat{TM}_{Internet \\, and \\, Video}\\\\\n",
    "H_0:\\Delta \\hat{TM}=0\\\\\n",
    "H_1:\\Delta \\hat{TM}≠0\n",
    "$$\n",
    "\n",
    "Let's perform testing and visualize the results by constructing histograms of the null distribution of the test statistics of the metrics. On the histograms, we mark the observed value of the test statistic with a vertical dashed line and color the areas of the distributions that are used to calculate the `p-values` (to the right or left of the lines of the observed values of the test statistic)."
   ]
  },
  {
   "cell_type": "code",
   "execution_count": null,
   "metadata": {
    "scrolled": true
   },
   "outputs": [],
   "source": [
    "# Test data preparation\n",
    "group_pair_index = 2\n",
    "test_data = research_data.loc[group_pairs[group_pair_index]]\n",
    "# Testing\n",
    "pvalues.loc[', '.join(group_pairs[group_pair_index])], null_distributions, statistics = permutation_test(\n",
    "    test_data, research_metrics['test statistic'], alternatives)\n",
    "# Dividing obtained `p-values` by 2\n",
    "pvalues.loc[', '.join(group_pairs[group_pair_index])] /= 2\n",
    "# Output of the density histogram of the null distribution\n",
    "plot_metric_histograms(\n",
    "    null_distributions, statistic=statistics, metrics=research_metrics,\n",
    "    title=f'<b>Density of the null probability distribution of the test statistic</b>', title_y=0.9,\n",
    "    height=300, n_cols=3, opacity=0.5,\n",
    "    histnorm='probability density',\n",
    "    add_kde=True, add_statistic=True, mark_statistic=mark_statistic,\n",
    "    horizontal_spacing=0.08, vertical_spacing=0.07)"
   ]
  },
  {
   "cell_type": "code",
   "execution_count": null,
   "metadata": {
    "scrolled": true,
    "variables": {
     "display_pvalues(pvalues.loc[', '.join(group_pairs[group_pair_index])].to_frame().T, metrics=research_metrics, alpha=alpha, caption=f'<b>Значения p-value статистического теста</b>', col_width=160)": "<style type=\"text/css\">\n#T_7798f caption {\n  font-size: 12pt;\n  text-align: center;\n  color: black;\n}\n#T_7798f td {\n  text-align: center;\n  border: 1px solid lightgray;\n  border-collapse: collapse;\n}\n#T_7798f .row_heading {\n  width: 120px;\n  text-align: center;\n}\n#T_7798f  td {\n  width: 120px;\n  text-align: center;\n}\n#T_7798f .col_heading {\n  width: 160px;\n  text-align: center;\n}\n#T_7798f  td {\n  width: 160px;\n  text-align: center;\n}\n#T_7798f_row0_col0, #T_7798f_row0_col1, #T_7798f_row0_col2 {\n  color: red;\n  font-weight: bold;\n}\n#T_7798f_level0_col0, #T_7798f_level0_col1, #T_7798f_level0_col2 {\n  border: 1px solid lightgray;\n  border-collapse: collapse;\n}\n</style>\n<table id=\"T_7798f\">\n  <caption><b>Значения p-value статистического теста</b></caption>\n  <thead>\n    <tr>\n      <th id=\"T_7798f_level0_col0\" class=\"col_heading level0 col0\" >Средняя скорость «к абоненту»</th>\n      <th id=\"T_7798f_level0_col1\" class=\"col_heading level0 col1\" >Скорость загрузки потокового видео</th>\n      <th id=\"T_7798f_level0_col2\" class=\"col_heading level0 col2\" >Скорость загрузки web-страниц через браузер</th>\n    </tr>\n  </thead>\n  <tbody>\n    <tr>\n      <td id=\"T_7798f_row0_col0\" class=\"data row0 col0\" >0.0013</td>\n      <td id=\"T_7798f_row0_col1\" class=\"data row0 col1\" >0.0007</td>\n      <td id=\"T_7798f_row0_col2\" class=\"data row0 col2\" >0.0032</td>\n    </tr>\n  </tbody>\n</table>\n"
    }
   },
   "outputs": [],
   "source": [
    "display_pvalues(pvalues.loc[', '.join(group_pairs[group_pair_index])].to_frame().T, metrics=research_metrics, alpha=alpha, caption=f'<b>Test p-values</b>', col_width=160)"
   ]
  },
  {
   "cell_type": "markdown",
   "metadata": {
    "variables": {
     "display_pvalues(pvalues.loc[', '.join(group_pairs[group_pair_index])].to_frame().T, metrics=research_metrics, alpha=alpha, caption=f'<b>Значения p-value статистического теста</b>', col_width=160)": "<style type=\"text/css\">\n#T_5f744 caption {\n  font-size: 12pt;\n  text-align: center;\n  color: black;\n}\n#T_5f744 td {\n  text-align: center;\n  border: 1px solid lightgray;\n  border-collapse: collapse;\n}\n#T_5f744 .row_heading {\n  width: 120px;\n  text-align: center;\n}\n#T_5f744  td {\n  width: 120px;\n  text-align: center;\n}\n#T_5f744 .col_heading {\n  width: 160px;\n  text-align: center;\n}\n#T_5f744  td {\n  width: 160px;\n  text-align: center;\n}\n#T_5f744_row0_col0, #T_5f744_row0_col1, #T_5f744_row0_col2 {\n  color: red;\n  font-weight: bold;\n}\n#T_5f744_level0_col0, #T_5f744_level0_col1, #T_5f744_level0_col2 {\n  border: 1px solid lightgray;\n  border-collapse: collapse;\n}\n</style>\n<table id=\"T_5f744\">\n  <caption><b>Значения p-value статистического теста</b></caption>\n  <thead>\n    <tr>\n      <th id=\"T_5f744_level0_col0\" class=\"col_heading level0 col0\" >Средняя скорость «к абоненту»</th>\n      <th id=\"T_5f744_level0_col1\" class=\"col_heading level0 col1\" >Скорость загрузки потокового видео</th>\n      <th id=\"T_5f744_level0_col2\" class=\"col_heading level0 col2\" >Скорость загрузки web-страниц через браузер</th>\n    </tr>\n  </thead>\n  <tbody>\n    <tr>\n      <td id=\"T_5f744_row0_col0\" class=\"data row0 col0\" >0.0027</td>\n      <td id=\"T_5f744_row0_col1\" class=\"data row0 col1\" >0.0393</td>\n      <td id=\"T_5f744_row0_col2\" class=\"data row0 col2\" >0.0195</td>\n    </tr>\n  </tbody>\n</table>\n"
    }
   },
   "source": [
    "**Conclusions:**<br>\n",
    "1. Since the `p-values` obtained as a result of the test for all metrics are **less than** the significance level, we **cannot reject the null hypothesis** and, accordingly, will assume that there are **significant differences** between the test groups.\n",
    "2. Since the areas of the zero distribution of the test statistics for all metrics **to the left** of the observed test statistics are **larger** than **to the right**, this suggests that the values of all metrics in the `Video` group are **larger** than those in the `Internet and Video` group, which confirms the preliminary conclusions of the exploratory analysis.\n",
    "3. **The most significant difference** between the groups is observed for the `Downlink Throughput` metric, since the `p-value` value for this metric is significantly less than for other metrics."
   ]
  },
  {
   "cell_type": "markdown",
   "metadata": {
    "variables": {
     "display_pvalues(pvalues.loc[', '.join(group_pairs[group_pair_index])].to_frame().T, metrics=research_metrics, alpha=alpha, caption=f'<b>Значения p-value статистического теста</b>', col_width=160)": "<style type=\"text/css\">\n#T_7798f caption {\n  font-size: 12pt;\n  text-align: center;\n  color: black;\n}\n#T_7798f td {\n  text-align: center;\n  border: 1px solid lightgray;\n  border-collapse: collapse;\n}\n#T_7798f .row_heading {\n  width: 120px;\n  text-align: center;\n}\n#T_7798f  td {\n  width: 120px;\n  text-align: center;\n}\n#T_7798f .col_heading {\n  width: 160px;\n  text-align: center;\n}\n#T_7798f  td {\n  width: 160px;\n  text-align: center;\n}\n#T_7798f_row0_col0, #T_7798f_row0_col1, #T_7798f_row0_col2 {\n  color: red;\n  font-weight: bold;\n}\n#T_7798f_level0_col0, #T_7798f_level0_col1, #T_7798f_level0_col2 {\n  border: 1px solid lightgray;\n  border-collapse: collapse;\n}\n</style>\n<table id=\"T_7798f\">\n  <caption><b>Значения p-value статистического теста</b></caption>\n  <thead>\n    <tr>\n      <th id=\"T_7798f_level0_col0\" class=\"col_heading level0 col0\" >Средняя скорость «к абоненту»</th>\n      <th id=\"T_7798f_level0_col1\" class=\"col_heading level0 col1\" >Скорость загрузки потокового видео</th>\n      <th id=\"T_7798f_level0_col2\" class=\"col_heading level0 col2\" >Скорость загрузки web-страниц через браузер</th>\n    </tr>\n  </thead>\n  <tbody>\n    <tr>\n      <td id=\"T_7798f_row0_col0\" class=\"data row0 col0\" >0.0013</td>\n      <td id=\"T_7798f_row0_col1\" class=\"data row0 col1\" >0.0007</td>\n      <td id=\"T_7798f_row0_col2\" class=\"data row0 col2\" >0.0032</td>\n    </tr>\n  </tbody>\n</table>\n"
    }
   },
   "source": [
    "Let's present the obtained `p-values` in a tabular form, marking in \"<span style=\"color: red; font-weight: bold;\">red</span>\" those values that are below the significance level."
   ]
  },
  {
   "cell_type": "markdown",
   "metadata": {
    "variables": {
     "display_cat_info(data_clean).set_properties(pd.IndexSlice['Ужасно':'Хорошо', 'Интернет и видео'], color='white', background=px.colors.DEFAULT_PLOTLY_COLORS[0], opacity=0.5).set_properties(pd.IndexSlice['Ужасно':'Хорошо', 'Интернет': 'Видео'], color='white', background=px.colors.DEFAULT_PLOTLY_COLORS[1], opacity=0.5)": "<style type=\"text/css\">\n#T_8228c th {\n  width: 80px;\n  text-align: center;\n  border: 1px solid lightgray;\n}\n#T_8228c  td {\n  width: 80px;\n  text-align: center;\n  border: 1px solid lightgray;\n}\n#T_8228c th.index_name {\n  border: none;\n}\n#T_8228c_row0_col0, #T_8228c_row1_col0, #T_8228c_row2_col0, #T_8228c_row3_col0 {\n  color: white;\n  background: rgb(31, 119, 180);\n  opacity: 0.5;\n}\n#T_8228c_row0_col1, #T_8228c_row0_col2, #T_8228c_row1_col1, #T_8228c_row1_col2, #T_8228c_row2_col1, #T_8228c_row2_col2, #T_8228c_row3_col1, #T_8228c_row3_col2 {\n  color: white;\n  background: rgb(255, 127, 14);\n  opacity: 0.5;\n}\n</style>\n<table id=\"T_8228c\">\n  <thead>\n    <tr>\n      <th class=\"index_name level0\" ></th>\n      <th id=\"T_8228c_level0_col0\" class=\"col_heading level0 col0\" >Интернет и видео</th>\n      <th id=\"T_8228c_level0_col1\" class=\"col_heading level0 col1\" >Интернет</th>\n      <th id=\"T_8228c_level0_col2\" class=\"col_heading level0 col2\" >Видео</th>\n      <th id=\"T_8228c_level0_col3\" class=\"col_heading level0 col3\" >Нет</th>\n    </tr>\n  </thead>\n  <tbody>\n    <tr>\n      <th id=\"T_8228c_level0_row0\" class=\"row_heading level0 row0\" >Ужасно</th>\n      <td id=\"T_8228c_row0_col0\" class=\"data row0 col0\" >82</td>\n      <td id=\"T_8228c_row0_col1\" class=\"data row0 col1\" >142</td>\n      <td id=\"T_8228c_row0_col2\" class=\"data row0 col2\" >3</td>\n      <td id=\"T_8228c_row0_col3\" class=\"data row0 col3\" >-</td>\n    </tr>\n    <tr>\n      <th id=\"T_8228c_level0_row1\" class=\"row_heading level0 row1\" >Плохо</th>\n      <td id=\"T_8228c_row1_col0\" class=\"data row1 col0\" >49</td>\n      <td id=\"T_8228c_row1_col1\" class=\"data row1 col1\" >117</td>\n      <td id=\"T_8228c_row1_col2\" class=\"data row1 col2\" >3</td>\n      <td id=\"T_8228c_row1_col3\" class=\"data row1 col3\" >-</td>\n    </tr>\n    <tr>\n      <th id=\"T_8228c_level0_row2\" class=\"row_heading level0 row2\" >Нормально</th>\n      <td id=\"T_8228c_row2_col0\" class=\"data row2 col0\" >23</td>\n      <td id=\"T_8228c_row2_col1\" class=\"data row2 col1\" >84</td>\n      <td id=\"T_8228c_row2_col2\" class=\"data row2 col2\" >11</td>\n      <td id=\"T_8228c_row2_col3\" class=\"data row2 col3\" >-</td>\n    </tr>\n    <tr>\n      <th id=\"T_8228c_level0_row3\" class=\"row_heading level0 row3\" >Хорошо</th>\n      <td id=\"T_8228c_row3_col0\" class=\"data row3 col0\" >31</td>\n      <td id=\"T_8228c_row3_col1\" class=\"data row3 col1\" >97</td>\n      <td id=\"T_8228c_row3_col2\" class=\"data row3 col2\" >20</td>\n      <td id=\"T_8228c_row3_col3\" class=\"data row3 col3\" >-</td>\n    </tr>\n    <tr>\n      <th id=\"T_8228c_level0_row4\" class=\"row_heading level0 row4\" >Отлично</th>\n      <td id=\"T_8228c_row4_col0\" class=\"data row4 col0\" >-</td>\n      <td id=\"T_8228c_row4_col1\" class=\"data row4 col1\" >-</td>\n      <td id=\"T_8228c_row4_col2\" class=\"data row4 col2\" >-</td>\n      <td id=\"T_8228c_row4_col3\" class=\"data row4 col3\" >1084</td>\n    </tr>\n  </tbody>\n</table>\n",
     "display_pvalues(pvalues, metrics=research_metrics, alpha=alpha, caption=f'<b>Значение p-value статистических тестов</b>', opacity=0.5, col_width=160)": "<style type=\"text/css\">\n#T_b0084 caption {\n  font-size: 12pt;\n  text-align: center;\n  color: black;\n}\n#T_b0084 td {\n  text-align: center;\n  border: 1px solid lightgray;\n  border-collapse: collapse;\n}\n#T_b0084 .row_heading {\n  width: 120px;\n  text-align: center;\n}\n#T_b0084  td {\n  width: 120px;\n  text-align: center;\n}\n#T_b0084 .col_heading {\n  width: 160px;\n  text-align: center;\n}\n#T_b0084  td {\n  width: 160px;\n  text-align: center;\n}\n#T_b0084_row0_col0, #T_b0084_row0_col1, #T_b0084_row0_col2, #T_b0084_row2_col0, #T_b0084_row2_col1, #T_b0084_row2_col2 {\n  color: red;\n  font-weight: bold;\n}\n#T_b0084_level0_row0, #T_b0084_level1_row2 {\n  color: white;\n  background-color: rgb(31, 119, 180);\n  opacity: 0.5;\n  border: 1px solid lightgray;\n  border-collapse: collapse;\n}\n#T_b0084_level1_row0, #T_b0084_level0_row1 {\n  color: white;\n  background-color: rgb(255, 127, 14);\n  opacity: 0.5;\n  border: 1px solid lightgray;\n  border-collapse: collapse;\n}\n#T_b0084_level1_row1, #T_b0084_level0_row2 {\n  color: white;\n  background-color: rgb(44, 160, 44);\n  opacity: 0.5;\n  border: 1px solid lightgray;\n  border-collapse: collapse;\n}\n#T_b0084_level0_col0, #T_b0084_level0_col1, #T_b0084_level0_col2 {\n  border: 1px solid lightgray;\n  border-collapse: collapse;\n}\n</style>\n<table id=\"T_b0084\">\n  <caption><b>Значение p-value статистических тестов</b></caption>\n  <thead>\n    <tr>\n      <th class=\"blank\" >&nbsp;</th>\n      <th class=\"blank level0\" >&nbsp;</th>\n      <th id=\"T_b0084_level0_col0\" class=\"col_heading level0 col0\" >Средняя скорость «к абоненту»</th>\n      <th id=\"T_b0084_level0_col1\" class=\"col_heading level0 col1\" >Скорость загрузки потокового видео</th>\n      <th id=\"T_b0084_level0_col2\" class=\"col_heading level0 col2\" >Скорость загрузки web-страниц через браузер</th>\n    </tr>\n  </thead>\n  <tbody>\n    <tr>\n      <th id=\"T_b0084_level0_row0\" class=\"row_heading level0 row0\" >Интернет и видео</th>\n      <th id=\"T_b0084_level1_row0\" class=\"row_heading level1 row0\" >Интернет</th>\n      <td id=\"T_b0084_row0_col0\" class=\"data row0 col0\" >0.0013</td>\n      <td id=\"T_b0084_row0_col1\" class=\"data row0 col1\" >0.0007</td>\n      <td id=\"T_b0084_row0_col2\" class=\"data row0 col2\" >0.0032</td>\n    </tr>\n    <tr>\n      <th id=\"T_b0084_level0_row1\" class=\"row_heading level0 row1\" >Интернет</th>\n      <th id=\"T_b0084_level1_row1\" class=\"row_heading level1 row1\" >Видео</th>\n      <td id=\"T_b0084_row1_col0\" class=\"data row1 col0\" >0.0733</td>\n      <td id=\"T_b0084_row1_col1\" class=\"data row1 col1\" >0.4584</td>\n      <td id=\"T_b0084_row1_col2\" class=\"data row1 col2\" >0.3080</td>\n    </tr>\n    <tr>\n      <th id=\"T_b0084_level0_row2\" class=\"row_heading level0 row2\" >Видео</th>\n      <th id=\"T_b0084_level1_row2\" class=\"row_heading level1 row2\" >Интернет и видео</th>\n      <td id=\"T_b0084_row2_col0\" class=\"data row2 col0\" >0.0027</td>\n      <td id=\"T_b0084_row2_col1\" class=\"data row2 col1\" >0.0393</td>\n      <td id=\"T_b0084_row2_col2\" class=\"data row2 col2\" >0.0195</td>\n    </tr>\n  </tbody>\n</table>\n"
    }
   },
   "source": [
    "### 5.5. Conclusion"
   ]
  },
  {
   "cell_type": "markdown",
   "metadata": {},
   "source": [
    "To form the conclusions of the research, it is necessary to analyze the results of all the tests performed. To do this, Let's display the obtained `p-values` of all the tests in tabular form:"
   ]
  },
  {
   "cell_type": "code",
   "execution_count": null,
   "metadata": {},
   "outputs": [],
   "source": [
    "display_pvalues(pvalues, metrics=research_metrics, alpha=alpha, caption=f'<b>Tests p-values</b>', opacity=0.5, col_width=160)"
   ]
  },
  {
   "cell_type": "markdown",
   "metadata": {
    "variables": {
     "display_cat_info(data_clean).set_properties(pd.IndexSlice['Ужасно':'Хорошо', 'Интернет и видео'], color='white', background=px.colors.DEFAULT_PLOTLY_COLORS[0], opacity=0.5).set_properties(pd.IndexSlice['Ужасно':'Хорошо', 'Интернет': 'Видео'], color='white', background=px.colors.DEFAULT_PLOTLY_COLORS[1], opacity=0.5)": "<style type=\"text/css\">\n#T_8228c th {\n  width: 80px;\n  text-align: center;\n  border: 1px solid lightgray;\n}\n#T_8228c  td {\n  width: 80px;\n  text-align: center;\n  border: 1px solid lightgray;\n}\n#T_8228c th.index_name {\n  border: none;\n}\n#T_8228c_row0_col0, #T_8228c_row1_col0, #T_8228c_row2_col0, #T_8228c_row3_col0 {\n  color: white;\n  background: rgb(31, 119, 180);\n  opacity: 0.5;\n}\n#T_8228c_row0_col1, #T_8228c_row0_col2, #T_8228c_row1_col1, #T_8228c_row1_col2, #T_8228c_row2_col1, #T_8228c_row2_col2, #T_8228c_row3_col1, #T_8228c_row3_col2 {\n  color: white;\n  background: rgb(255, 127, 14);\n  opacity: 0.5;\n}\n</style>\n<table id=\"T_8228c\">\n  <thead>\n    <tr>\n      <th class=\"index_name level0\" ></th>\n      <th id=\"T_8228c_level0_col0\" class=\"col_heading level0 col0\" >Интернет и видео</th>\n      <th id=\"T_8228c_level0_col1\" class=\"col_heading level0 col1\" >Интернет</th>\n      <th id=\"T_8228c_level0_col2\" class=\"col_heading level0 col2\" >Видео</th>\n      <th id=\"T_8228c_level0_col3\" class=\"col_heading level0 col3\" >Нет</th>\n    </tr>\n  </thead>\n  <tbody>\n    <tr>\n      <th id=\"T_8228c_level0_row0\" class=\"row_heading level0 row0\" >Ужасно</th>\n      <td id=\"T_8228c_row0_col0\" class=\"data row0 col0\" >82</td>\n      <td id=\"T_8228c_row0_col1\" class=\"data row0 col1\" >142</td>\n      <td id=\"T_8228c_row0_col2\" class=\"data row0 col2\" >3</td>\n      <td id=\"T_8228c_row0_col3\" class=\"data row0 col3\" >-</td>\n    </tr>\n    <tr>\n      <th id=\"T_8228c_level0_row1\" class=\"row_heading level0 row1\" >Плохо</th>\n      <td id=\"T_8228c_row1_col0\" class=\"data row1 col0\" >49</td>\n      <td id=\"T_8228c_row1_col1\" class=\"data row1 col1\" >117</td>\n      <td id=\"T_8228c_row1_col2\" class=\"data row1 col2\" >3</td>\n      <td id=\"T_8228c_row1_col3\" class=\"data row1 col3\" >-</td>\n    </tr>\n    <tr>\n      <th id=\"T_8228c_level0_row2\" class=\"row_heading level0 row2\" >Нормально</th>\n      <td id=\"T_8228c_row2_col0\" class=\"data row2 col0\" >23</td>\n      <td id=\"T_8228c_row2_col1\" class=\"data row2 col1\" >84</td>\n      <td id=\"T_8228c_row2_col2\" class=\"data row2 col2\" >11</td>\n      <td id=\"T_8228c_row2_col3\" class=\"data row2 col3\" >-</td>\n    </tr>\n    <tr>\n      <th id=\"T_8228c_level0_row3\" class=\"row_heading level0 row3\" >Хорошо</th>\n      <td id=\"T_8228c_row3_col0\" class=\"data row3 col0\" >31</td>\n      <td id=\"T_8228c_row3_col1\" class=\"data row3 col1\" >97</td>\n      <td id=\"T_8228c_row3_col2\" class=\"data row3 col2\" >20</td>\n      <td id=\"T_8228c_row3_col3\" class=\"data row3 col3\" >-</td>\n    </tr>\n    <tr>\n      <th id=\"T_8228c_level0_row4\" class=\"row_heading level0 row4\" >Отлично</th>\n      <td id=\"T_8228c_row4_col0\" class=\"data row4 col0\" >-</td>\n      <td id=\"T_8228c_row4_col1\" class=\"data row4 col1\" >-</td>\n      <td id=\"T_8228c_row4_col2\" class=\"data row4 col2\" >-</td>\n      <td id=\"T_8228c_row4_col3\" class=\"data row4 col3\" >1084</td>\n    </tr>\n  </tbody>\n</table>\n",
     "display_pvalues(pvalues, metrics=research_metrics, alpha=alpha, caption=f'<b>Значение p-value статистических тестов</b>', opacity=0.5, col_width=160)": "<style type=\"text/css\">\n#T_b0084 caption {\n  font-size: 12pt;\n  text-align: center;\n  color: black;\n}\n#T_b0084 td {\n  text-align: center;\n  border: 1px solid lightgray;\n  border-collapse: collapse;\n}\n#T_b0084 .row_heading {\n  width: 120px;\n  text-align: center;\n}\n#T_b0084  td {\n  width: 120px;\n  text-align: center;\n}\n#T_b0084 .col_heading {\n  width: 160px;\n  text-align: center;\n}\n#T_b0084  td {\n  width: 160px;\n  text-align: center;\n}\n#T_b0084_row0_col0, #T_b0084_row0_col1, #T_b0084_row0_col2, #T_b0084_row2_col0, #T_b0084_row2_col1, #T_b0084_row2_col2 {\n  color: red;\n  font-weight: bold;\n}\n#T_b0084_level0_row0, #T_b0084_level1_row2 {\n  color: white;\n  background-color: rgb(31, 119, 180);\n  opacity: 0.5;\n  border: 1px solid lightgray;\n  border-collapse: collapse;\n}\n#T_b0084_level1_row0, #T_b0084_level0_row1 {\n  color: white;\n  background-color: rgb(255, 127, 14);\n  opacity: 0.5;\n  border: 1px solid lightgray;\n  border-collapse: collapse;\n}\n#T_b0084_level1_row1, #T_b0084_level0_row2 {\n  color: white;\n  background-color: rgb(44, 160, 44);\n  opacity: 0.5;\n  border: 1px solid lightgray;\n  border-collapse: collapse;\n}\n#T_b0084_level0_col0, #T_b0084_level0_col1, #T_b0084_level0_col2 {\n  border: 1px solid lightgray;\n  border-collapse: collapse;\n}\n</style>\n<table id=\"T_b0084\">\n  <caption><b>Значение p-value статистических тестов</b></caption>\n  <thead>\n    <tr>\n      <th class=\"blank\" >&nbsp;</th>\n      <th class=\"blank level0\" >&nbsp;</th>\n      <th id=\"T_b0084_level0_col0\" class=\"col_heading level0 col0\" >Средняя скорость «к абоненту»</th>\n      <th id=\"T_b0084_level0_col1\" class=\"col_heading level0 col1\" >Скорость загрузки потокового видео</th>\n      <th id=\"T_b0084_level0_col2\" class=\"col_heading level0 col2\" >Скорость загрузки web-страниц через браузер</th>\n    </tr>\n  </thead>\n  <tbody>\n    <tr>\n      <th id=\"T_b0084_level0_row0\" class=\"row_heading level0 row0\" >Интернет и видео</th>\n      <th id=\"T_b0084_level1_row0\" class=\"row_heading level1 row0\" >Интернет</th>\n      <td id=\"T_b0084_row0_col0\" class=\"data row0 col0\" >0.0013</td>\n      <td id=\"T_b0084_row0_col1\" class=\"data row0 col1\" >0.0007</td>\n      <td id=\"T_b0084_row0_col2\" class=\"data row0 col2\" >0.0032</td>\n    </tr>\n    <tr>\n      <th id=\"T_b0084_level0_row1\" class=\"row_heading level0 row1\" >Интернет</th>\n      <th id=\"T_b0084_level1_row1\" class=\"row_heading level1 row1\" >Видео</th>\n      <td id=\"T_b0084_row1_col0\" class=\"data row1 col0\" >0.0733</td>\n      <td id=\"T_b0084_row1_col1\" class=\"data row1 col1\" >0.4584</td>\n      <td id=\"T_b0084_row1_col2\" class=\"data row1 col2\" >0.3080</td>\n    </tr>\n    <tr>\n      <th id=\"T_b0084_level0_row2\" class=\"row_heading level0 row2\" >Видео</th>\n      <th id=\"T_b0084_level1_row2\" class=\"row_heading level1 row2\" >Интернет и видео</th>\n      <td id=\"T_b0084_row2_col0\" class=\"data row2 col0\" >0.0027</td>\n      <td id=\"T_b0084_row2_col1\" class=\"data row2 col1\" >0.0393</td>\n      <td id=\"T_b0084_row2_col2\" class=\"data row2 col2\" >0.0195</td>\n    </tr>\n  </tbody>\n</table>\n"
    }
   },
   "source": [
    "Based on this information, the following answers can be given to the questions posed:\n",
    "1. customers who expressed dissatisfaction primarily with the Internet speed (the `Internet` group) or primarily with video downloading (the `Video` group) do not have statistically significant differences in the metrics under research and belong to the same population. A noticeable difference is observed only for the `Downlink Throughput` metric, since the `p-value` of this metric is only slightly higher than the significance level.\n",
    "2. The researched metrics of the `Internet and Video` group have statistically significant differences with the other groups. That is, this group belongs to a separate population. The strongest differences were found in the `Downlink Throughput` metric.\n",
    "\n",
    "Since it was established that customers of the `Internet` and `Video` groups can be attributed to the same population, then in the future Let's consider customers of these groups as belonging to the same category of customers of reasons for dissatisfaction with the mobile Internet service. Let's call this category `Internet or video`. Thus, we are left with two categories of customers based on their dissatisfaction with the mobile Internet service:\n",
    "- <span style=\"color:white;background-color:rgb(31, 119, 180);opacity:0.5\">&nbsp;Internet and Video&nbsp;</span> - Dissatisfied with the speed of mobile Internet and video loading;\n",
    "- <span style=\"color:white;background-color:rgb(255, 127, 14);opacity:0.5\">&nbsp;Internet or Video&nbsp;</span> - Dissatisfied with the speed of mobile Internet or video loading.\n",
    "\n",
    "Let's illustrate these categories on a customer distribution map:"
   ]
  },
  {
   "cell_type": "code",
   "execution_count": null,
   "metadata": {},
   "outputs": [],
   "source": [
    "display_cat_info(data_clean).set_properties(pd.IndexSlice['Very unsatisfied':'Satisfied', 'Internet and Video'], color='white', background=px.colors.DEFAULT_PLOTLY_COLORS[0], opacity=0.5).set_properties(pd.IndexSlice['Very unsatisfied':'Satisfied', 'Internet': 'Video'], color='white', background=px.colors.DEFAULT_PLOTLY_COLORS[1], opacity=0.5)"
   ]
  },
  {
   "cell_type": "markdown",
   "metadata": {
    "variables": {
     "display_cat_info(data_clean).set_properties(pd.IndexSlice['Ужасно', 'Интернет и видео': 'Видео'], color='white', background=px.colors.DEFAULT_PLOTLY_COLORS[0], opacity=0.5).set_properties(pd.IndexSlice['Плохо', 'Интернет и видео': 'Видео'], color='white', background=px.colors.DEFAULT_PLOTLY_COLORS[1], opacity=0.5).set_properties(pd.IndexSlice['Нормально', 'Интернет и видео': 'Видео'], color='white', background=px.colors.DEFAULT_PLOTLY_COLORS[2], opacity=0.5).set_properties(pd.IndexSlice['Хорошо', 'Интернет и видео': 'Видео'], color='white', background=px.colors.DEFAULT_PLOTLY_COLORS[3], opacity=0.5).set_properties(pd.IndexSlice['Отлично', 'Нет'], color='white', background=px.colors.DEFAULT_PLOTLY_COLORS[4], opacity=0.5)": "<style type=\"text/css\">\n#T_e5bd7 th {\n  width: 80px;\n  text-align: center;\n  border: 1px solid lightgray;\n}\n#T_e5bd7  td {\n  width: 80px;\n  text-align: center;\n  border: 1px solid lightgray;\n}\n#T_e5bd7 th.index_name {\n  border: none;\n}\n#T_e5bd7_row0_col0, #T_e5bd7_row0_col1, #T_e5bd7_row0_col2 {\n  color: white;\n  background: rgb(31, 119, 180);\n  opacity: 0.5;\n}\n#T_e5bd7_row1_col0, #T_e5bd7_row1_col1, #T_e5bd7_row1_col2 {\n  color: white;\n  background: rgb(255, 127, 14);\n  opacity: 0.5;\n}\n#T_e5bd7_row2_col0, #T_e5bd7_row2_col1, #T_e5bd7_row2_col2 {\n  color: white;\n  background: rgb(44, 160, 44);\n  opacity: 0.5;\n}\n#T_e5bd7_row3_col0, #T_e5bd7_row3_col1, #T_e5bd7_row3_col2 {\n  color: white;\n  background: rgb(214, 39, 40);\n  opacity: 0.5;\n}\n#T_e5bd7_row4_col3 {\n  color: white;\n  background: rgb(148, 103, 189);\n  opacity: 0.5;\n}\n</style>\n<table id=\"T_e5bd7\">\n  <thead>\n    <tr>\n      <th class=\"index_name level0\" ></th>\n      <th id=\"T_e5bd7_level0_col0\" class=\"col_heading level0 col0\" >Интернет и видео</th>\n      <th id=\"T_e5bd7_level0_col1\" class=\"col_heading level0 col1\" >Интернет</th>\n      <th id=\"T_e5bd7_level0_col2\" class=\"col_heading level0 col2\" >Видео</th>\n      <th id=\"T_e5bd7_level0_col3\" class=\"col_heading level0 col3\" >Нет</th>\n    </tr>\n  </thead>\n  <tbody>\n    <tr>\n      <th id=\"T_e5bd7_level0_row0\" class=\"row_heading level0 row0\" >Ужасно</th>\n      <td id=\"T_e5bd7_row0_col0\" class=\"data row0 col0\" >82</td>\n      <td id=\"T_e5bd7_row0_col1\" class=\"data row0 col1\" >142</td>\n      <td id=\"T_e5bd7_row0_col2\" class=\"data row0 col2\" >3</td>\n      <td id=\"T_e5bd7_row0_col3\" class=\"data row0 col3\" >-</td>\n    </tr>\n    <tr>\n      <th id=\"T_e5bd7_level0_row1\" class=\"row_heading level0 row1\" >Плохо</th>\n      <td id=\"T_e5bd7_row1_col0\" class=\"data row1 col0\" >49</td>\n      <td id=\"T_e5bd7_row1_col1\" class=\"data row1 col1\" >117</td>\n      <td id=\"T_e5bd7_row1_col2\" class=\"data row1 col2\" >3</td>\n      <td id=\"T_e5bd7_row1_col3\" class=\"data row1 col3\" >-</td>\n    </tr>\n    <tr>\n      <th id=\"T_e5bd7_level0_row2\" class=\"row_heading level0 row2\" >Нормально</th>\n      <td id=\"T_e5bd7_row2_col0\" class=\"data row2 col0\" >23</td>\n      <td id=\"T_e5bd7_row2_col1\" class=\"data row2 col1\" >84</td>\n      <td id=\"T_e5bd7_row2_col2\" class=\"data row2 col2\" >11</td>\n      <td id=\"T_e5bd7_row2_col3\" class=\"data row2 col3\" >-</td>\n    </tr>\n    <tr>\n      <th id=\"T_e5bd7_level0_row3\" class=\"row_heading level0 row3\" >Хорошо</th>\n      <td id=\"T_e5bd7_row3_col0\" class=\"data row3 col0\" >31</td>\n      <td id=\"T_e5bd7_row3_col1\" class=\"data row3 col1\" >97</td>\n      <td id=\"T_e5bd7_row3_col2\" class=\"data row3 col2\" >20</td>\n      <td id=\"T_e5bd7_row3_col3\" class=\"data row3 col3\" >-</td>\n    </tr>\n    <tr>\n      <th id=\"T_e5bd7_level0_row4\" class=\"row_heading level0 row4\" >Отлично</th>\n      <td id=\"T_e5bd7_row4_col0\" class=\"data row4 col0\" >-</td>\n      <td id=\"T_e5bd7_row4_col1\" class=\"data row4 col1\" >-</td>\n      <td id=\"T_e5bd7_row4_col2\" class=\"data row4 col2\" >-</td>\n      <td id=\"T_e5bd7_row4_col3\" class=\"data row4 col3\" >1084</td>\n    </tr>\n  </tbody>\n</table>\n"
    }
   },
   "source": [
    "## 6. Research of mobile internet service quality assessments\n",
    "\n",
    "### 6.1. Research objective\n",
    "\n",
    "Depending on the assessment of the mobile internet service, we divided the customers into five categories. To research the customers belonging to the above categories, Let's allocate the customers into groups of the same name. For ease of analysis of the research data, Let's assign the following color scheme to each group, which Let's use when displaying graphical and tabular data:\n",
    "- <span style=\"color:white;background-color:rgb(31, 119, 180);opacity:0.5\">&nbsp;Very unsatisfied&nbsp;</span>\n",
    "- <span style=\"color:white;background-color:rgb(255, 127, 14);opacity:0.5\">&nbsp;Unsatisfied&nbsp;</span>\n",
    "- <span style=\"color:white;background-color:rgb(44, 160, 44);opacity:0.5\">&nbsp;Neutral&nbsp;</span>\n",
    "- <span style=\"color:white;background-color:rgb(214, 39, 40);opacity:0.5\">&nbsp;Satisfied&nbsp;</span>\n",
    "- <span style=\"color:white;background-color:rgb(148, 103, 189);opacity:0.5\">&nbsp;Very satisfied&nbsp;</span>\n",
    "\n",
    "Let's illustrate these groups on a customer distribution map:"
   ]
  },
  {
   "cell_type": "code",
   "execution_count": null,
   "metadata": {},
   "outputs": [],
   "source": [
    "display_cat_info(data_clean).set_properties(pd.IndexSlice['Very unsatisfied', 'Internet and Video': 'Video'], color='white', background=px.colors.DEFAULT_PLOTLY_COLORS[0], opacity=0.5).set_properties(pd.IndexSlice['Unsatisfied', 'Internet and Video': 'Video'], color='white', background=px.colors.DEFAULT_PLOTLY_COLORS[1], opacity=0.5).set_properties(pd.IndexSlice['Neutral', 'Internet and Video': 'Video'], color='white', background=px.colors.DEFAULT_PLOTLY_COLORS[2], opacity=0.5).set_properties(pd.IndexSlice['Satisfied', 'Internet and Video': 'Video'], color='white', background=px.colors.DEFAULT_PLOTLY_COLORS[3], opacity=0.5).set_properties(pd.IndexSlice['Very satisfied', 'No'], color='white', background=px.colors.DEFAULT_PLOTLY_COLORS[4], opacity=0.5)"
   ]
  },
  {
   "cell_type": "markdown",
   "metadata": {},
   "source": [
    "Perhaps this division is not statistically correct. For example, for customers who rate the quality of mobile Internet service as `Very unsatisfied`, the researched Internet metrics are close to customers who rated the mobile Internet service as `Unsatisfied`.\n",
    "\n",
    "In this research, Let's try to understand whether this is true by answering the **following questions**:\n",
    "\n",
    "1. Do customers of the above groups belong to different populations?\n",
    "2. If customers do not belong to the same population, then by what metrics do they differ especially strongly?"
   ]
  },
  {
   "cell_type": "markdown",
   "metadata": {},
   "source": [
    "### 6.2. Data Preparation\n",
    "\n",
    "Let's build a dataset for the research by selecting information about the customers of the above groups from the general set of the researched data. Let's use the name of the groups as an index."
   ]
  },
  {
   "cell_type": "code",
   "execution_count": null,
   "metadata": {},
   "outputs": [],
   "source": [
    "research_data = data_clean\\\n",
    "    .set_index('Internet score')[research_metrics.index]\n",
    "research_data.index.rename('Group', inplace=True)\n",
    "groups = research_data.index.unique().to_list()"
   ]
  },
  {
   "cell_type": "markdown",
   "metadata": {},
   "source": [
    "### 6.3. Exploratory analysis\n",
    "\n",
    "First, let's look at the number of customers in groups utilizing a bar chart."
   ]
  },
  {
   "cell_type": "code",
   "execution_count": null,
   "metadata": {},
   "outputs": [],
   "source": [
    "plot_group_size_barchart(research_data,\n",
    "                         title='<b>Number of customers in the groups</b>', title_y=0.9,\n",
    "                         width=550, height=300)"
   ]
  },
  {
   "cell_type": "markdown",
   "metadata": {
    "variables": {
     "research_data.loc['Нормально'].shape[0]": "118",
     "research_data.loc['Отлично'].shape[0]": "1084"
    }
   },
   "source": [
    "As we can see, the largest group is `Very satisfied` (`1084` customers) - this is a group of customers who are completely satisfied with the mobile Internet service. The other groups are several times smaller and the difference in numbers between them is not so significant. The smallest group is `Neutral` (`118` customers), which includes customers who find the quality of the mobile Internet service satisfactory.\n",
    "\n",
    "Then Let's find the confidence intervals of the statistics of the researched metrics of the researched groups. This information will help to evaluate the central values of the statistics and make assumptions about the presence of significant differences between the researched metrics of the customer groups and their direction (in the \"large\" or \"smaller\" direction).\n",
    "\n",
    "Let's calculate the confidence intervals using the bootstrap method. The results will be displayed graphically (Let's construct confidence intervals using horizontal segments, and Let's mark their middle points with dots)."
   ]
  },
  {
   "cell_type": "code",
   "execution_count": null,
   "metadata": {},
   "outputs": [],
   "source": [
    "# Build a list of test group pairs \n",
    "group_pairs = [[groups[0], groups[1]], [groups[1], groups[2]], [groups[2], groups[3]], [groups[3], groups[4]]]\n",
    "# Calculate confidence intervals, their midpoints and check precense of \"overlaps\" among them\n",
    "ci, ci_overlapping, ci_center, _ = confidence_interval_info(research_data, research_metrics, group_pairs)\n",
    "# Visualize confidence intervls\n",
    "plot_metric_confidence_interval(ci, metrics=research_metrics, \n",
    "                                title='<b>Confidence intervals of the statistics</b>',\n",
    "                                height=300, n_cols=3,\n",
    "                                horizontal_spacing=0.04, vertical_spacing=0.07)"
   ]
  },
  {
   "cell_type": "markdown",
   "metadata": {
    "variables": {
     "display_confidence_interval(ci, metrics=research_metrics, caption='<b>Доверительные интервалы статистик</b>', caption_font_size=12, opacity=0.5, precision=1)": "<style type=\"text/css\">\n#T_84c00 caption {\n  font-size: 12pt;\n  text-align: center;\n  color: black;\n}\n#T_84c00 td {\n  text-align: center;\n  border: 1px solid lightgray;\n  border-collapse: collapse;\n}\n#T_84c00 .row_heading {\n  width: 120px;\n  text-align: center;\n}\n#T_84c00  td {\n  width: 120px;\n  text-align: center;\n}\n#T_84c00 .col_heading {\n  width: 80px;\n  text-align: center;\n}\n#T_84c00  td {\n  width: 80px;\n  text-align: center;\n}\n#T_84c00_row0_col1, #T_84c00_row0_col7, #T_84c00_row1_col4 {\n  color: red;\n  font-weight: bold;\n}\n#T_84c00_row4_col1, #T_84c00_row4_col4, #T_84c00_row4_col7 {\n  color: green;\n  font-weight: bold;\n}\n#T_84c00_level0_row0 {\n  color: white;\n  background-color: rgb(31, 119, 180);\n  opacity: 0.5;\n  border: 1px solid lightgray;\n  border-collapse: collapse;\n}\n#T_84c00_level0_row1 {\n  color: white;\n  background-color: rgb(255, 127, 14);\n  opacity: 0.5;\n  border: 1px solid lightgray;\n  border-collapse: collapse;\n}\n#T_84c00_level0_row2 {\n  color: white;\n  background-color: rgb(44, 160, 44);\n  opacity: 0.5;\n  border: 1px solid lightgray;\n  border-collapse: collapse;\n}\n#T_84c00_level0_row3 {\n  color: white;\n  background-color: rgb(214, 39, 40);\n  opacity: 0.5;\n  border: 1px solid lightgray;\n  border-collapse: collapse;\n}\n#T_84c00_level0_row4 {\n  color: white;\n  background-color: rgb(148, 103, 189);\n  opacity: 0.5;\n  border: 1px solid lightgray;\n  border-collapse: collapse;\n}\n#T_84c00_level0_col0, #T_84c00_level0_col3, #T_84c00_level0_col6, #T_84c00_level1_col0, #T_84c00_level1_col1, #T_84c00_level1_col2, #T_84c00_level1_col3, #T_84c00_level1_col4, #T_84c00_level1_col5, #T_84c00_level1_col6, #T_84c00_level1_col7, #T_84c00_level1_col8 {\n  border: 1px solid lightgray;\n  border-collapse: collapse;\n}\n</style>\n<table id=\"T_84c00\">\n  <caption><b>Доверительные интервалы статистик</b></caption>\n  <thead>\n    <tr>\n      <th class=\"index_name level0\" ></th>\n      <th id=\"T_84c00_level0_col0\" class=\"col_heading level0 col0\" colspan=\"3\">Средняя скорость «к абоненту»</th>\n      <th id=\"T_84c00_level0_col3\" class=\"col_heading level0 col3\" colspan=\"3\">Скорость загрузки потокового видео</th>\n      <th id=\"T_84c00_level0_col6\" class=\"col_heading level0 col6\" colspan=\"3\">Скорость загрузки web-страниц через браузер</th>\n    </tr>\n    <tr>\n      <th class=\"index_name level1\" ></th>\n      <th id=\"T_84c00_level1_col0\" class=\"col_heading level1 col0\" >Начало</th>\n      <th id=\"T_84c00_level1_col1\" class=\"col_heading level1 col1\" >Середина</th>\n      <th id=\"T_84c00_level1_col2\" class=\"col_heading level1 col2\" >Конец</th>\n      <th id=\"T_84c00_level1_col3\" class=\"col_heading level1 col3\" >Начало</th>\n      <th id=\"T_84c00_level1_col4\" class=\"col_heading level1 col4\" >Середина</th>\n      <th id=\"T_84c00_level1_col5\" class=\"col_heading level1 col5\" >Конец</th>\n      <th id=\"T_84c00_level1_col6\" class=\"col_heading level1 col6\" >Начало</th>\n      <th id=\"T_84c00_level1_col7\" class=\"col_heading level1 col7\" >Середина</th>\n      <th id=\"T_84c00_level1_col8\" class=\"col_heading level1 col8\" >Конец</th>\n    </tr>\n  </thead>\n  <tbody>\n    <tr>\n      <th id=\"T_84c00_level0_row0\" class=\"row_heading level0 row0\" >Ужасно</th>\n      <td id=\"T_84c00_row0_col0\" class=\"data row0 col0\" >989.7</td>\n      <td id=\"T_84c00_row0_col1\" class=\"data row0 col1\" >1167.8</td>\n      <td id=\"T_84c00_row0_col2\" class=\"data row0 col2\" >1345.8</td>\n      <td id=\"T_84c00_row0_col3\" class=\"data row0 col3\" >2502.1</td>\n      <td id=\"T_84c00_row0_col4\" class=\"data row0 col4\" >3048.3</td>\n      <td id=\"T_84c00_row0_col5\" class=\"data row0 col5\" >3594.5</td>\n      <td id=\"T_84c00_row0_col6\" class=\"data row0 col6\" >1186.8</td>\n      <td id=\"T_84c00_row0_col7\" class=\"data row0 col7\" >1365.7</td>\n      <td id=\"T_84c00_row0_col8\" class=\"data row0 col8\" >1544.6</td>\n    </tr>\n    <tr>\n      <th id=\"T_84c00_level0_row1\" class=\"row_heading level0 row1\" >Плохо</th>\n      <td id=\"T_84c00_row1_col0\" class=\"data row1 col0\" >1063.9</td>\n      <td id=\"T_84c00_row1_col1\" class=\"data row1 col1\" >1296.7</td>\n      <td id=\"T_84c00_row1_col2\" class=\"data row1 col2\" >1529.6</td>\n      <td id=\"T_84c00_row1_col3\" class=\"data row1 col3\" >2501.8</td>\n      <td id=\"T_84c00_row1_col4\" class=\"data row1 col4\" >3029.9</td>\n      <td id=\"T_84c00_row1_col5\" class=\"data row1 col5\" >3558.0</td>\n      <td id=\"T_84c00_row1_col6\" class=\"data row1 col6\" >1241.2</td>\n      <td id=\"T_84c00_row1_col7\" class=\"data row1 col7\" >1441.2</td>\n      <td id=\"T_84c00_row1_col8\" class=\"data row1 col8\" >1641.1</td>\n    </tr>\n    <tr>\n      <th id=\"T_84c00_level0_row2\" class=\"row_heading level0 row2\" >Нормально</th>\n      <td id=\"T_84c00_row2_col0\" class=\"data row2 col0\" >1151.3</td>\n      <td id=\"T_84c00_row2_col1\" class=\"data row2 col1\" >1366.6</td>\n      <td id=\"T_84c00_row2_col2\" class=\"data row2 col2\" >1581.9</td>\n      <td id=\"T_84c00_row2_col3\" class=\"data row2 col3\" >3320.0</td>\n      <td id=\"T_84c00_row2_col4\" class=\"data row2 col4\" >3969.3</td>\n      <td id=\"T_84c00_row2_col5\" class=\"data row2 col5\" >4618.6</td>\n      <td id=\"T_84c00_row2_col6\" class=\"data row2 col6\" >1331.4</td>\n      <td id=\"T_84c00_row2_col7\" class=\"data row2 col7\" >1542.3</td>\n      <td id=\"T_84c00_row2_col8\" class=\"data row2 col8\" >1753.2</td>\n    </tr>\n    <tr>\n      <th id=\"T_84c00_level0_row3\" class=\"row_heading level0 row3\" >Хорошо</th>\n      <td id=\"T_84c00_row3_col0\" class=\"data row3 col0\" >1378.1</td>\n      <td id=\"T_84c00_row3_col1\" class=\"data row3 col1\" >1669.3</td>\n      <td id=\"T_84c00_row3_col2\" class=\"data row3 col2\" >1960.4</td>\n      <td id=\"T_84c00_row3_col3\" class=\"data row3 col3\" >4014.1</td>\n      <td id=\"T_84c00_row3_col4\" class=\"data row3 col4\" >4694.0</td>\n      <td id=\"T_84c00_row3_col5\" class=\"data row3 col5\" >5373.9</td>\n      <td id=\"T_84c00_row3_col6\" class=\"data row3 col6\" >1395.9</td>\n      <td id=\"T_84c00_row3_col7\" class=\"data row3 col7\" >1664.4</td>\n      <td id=\"T_84c00_row3_col8\" class=\"data row3 col8\" >1932.8</td>\n    </tr>\n    <tr>\n      <th id=\"T_84c00_level0_row4\" class=\"row_heading level0 row4\" >Отлично</th>\n      <td id=\"T_84c00_row4_col0\" class=\"data row4 col0\" >1798.3</td>\n      <td id=\"T_84c00_row4_col1\" class=\"data row4 col1\" >1924.5</td>\n      <td id=\"T_84c00_row4_col2\" class=\"data row4 col2\" >2050.8</td>\n      <td id=\"T_84c00_row4_col3\" class=\"data row4 col3\" >5028.9</td>\n      <td id=\"T_84c00_row4_col4\" class=\"data row4 col4\" >5284.6</td>\n      <td id=\"T_84c00_row4_col5\" class=\"data row4 col5\" >5540.4</td>\n      <td id=\"T_84c00_row4_col6\" class=\"data row4 col6\" >1850.9</td>\n      <td id=\"T_84c00_row4_col7\" class=\"data row4 col7\" >1946.4</td>\n      <td id=\"T_84c00_row4_col8\" class=\"data row4 col8\" >2041.9</td>\n    </tr>\n  </tbody>\n</table>\n",
     "display_confidence_interval_overlapping(ci_overlapping, metrics=research_metrics, caption='<b>Наличие перекрытия доверительных интервалов статистик</b>', opacity=0.5)": "<style type=\"text/css\">\n#T_ac0c7 caption {\n  font-size: 12pt;\n  text-align: center;\n  color: black;\n}\n#T_ac0c7 td {\n  text-align: center;\n  border: 1px solid lightgray;\n  border-collapse: collapse;\n}\n#T_ac0c7 .row_heading {\n  width: 120px;\n  text-align: center;\n}\n#T_ac0c7  td {\n  width: 120px;\n  text-align: center;\n}\n#T_ac0c7 .col_heading {\n  width: 130px;\n  text-align: center;\n}\n#T_ac0c7  td {\n  width: 130px;\n  text-align: center;\n}\n#T_ac0c7_level0_row0 {\n  color: white;\n  background-color: rgb(31, 119, 180);\n  opacity: 0.5;\n  border: 1px solid lightgray;\n  border-collapse: collapse;\n}\n#T_ac0c7_level1_row0, #T_ac0c7_level0_row1 {\n  color: white;\n  background-color: rgb(255, 127, 14);\n  opacity: 0.5;\n  border: 1px solid lightgray;\n  border-collapse: collapse;\n}\n#T_ac0c7_level1_row1, #T_ac0c7_level0_row2 {\n  color: white;\n  background-color: rgb(44, 160, 44);\n  opacity: 0.5;\n  border: 1px solid lightgray;\n  border-collapse: collapse;\n}\n#T_ac0c7_level1_row2, #T_ac0c7_level0_row3 {\n  color: white;\n  background-color: rgb(214, 39, 40);\n  opacity: 0.5;\n  border: 1px solid lightgray;\n  border-collapse: collapse;\n}\n#T_ac0c7_level1_row3 {\n  color: white;\n  background-color: rgb(148, 103, 189);\n  opacity: 0.5;\n  border: 1px solid lightgray;\n  border-collapse: collapse;\n}\n#T_ac0c7_level0_col0, #T_ac0c7_level0_col1, #T_ac0c7_level0_col2 {\n  border: 1px solid lightgray;\n  border-collapse: collapse;\n}\n</style>\n<table id=\"T_ac0c7\">\n  <caption><b>Наличие перекрытия доверительных интервалов статистик</b></caption>\n  <thead>\n    <tr>\n      <th class=\"blank\" >&nbsp;</th>\n      <th class=\"blank level0\" >&nbsp;</th>\n      <th id=\"T_ac0c7_level0_col0\" class=\"col_heading level0 col0\" >Средняя скорость «к абоненту»</th>\n      <th id=\"T_ac0c7_level0_col1\" class=\"col_heading level0 col1\" >Скорость загрузки потокового видео</th>\n      <th id=\"T_ac0c7_level0_col2\" class=\"col_heading level0 col2\" >Скорость загрузки web-страниц через браузер</th>\n    </tr>\n  </thead>\n  <tbody>\n    <tr>\n      <th id=\"T_ac0c7_level0_row0\" class=\"row_heading level0 row0\" >Ужасно</th>\n      <th id=\"T_ac0c7_level1_row0\" class=\"row_heading level1 row0\" >Плохо</th>\n      <td id=\"T_ac0c7_row0_col0\" class=\"data row0 col0\" >Да</td>\n      <td id=\"T_ac0c7_row0_col1\" class=\"data row0 col1\" >Да</td>\n      <td id=\"T_ac0c7_row0_col2\" class=\"data row0 col2\" >Да</td>\n    </tr>\n    <tr>\n      <th id=\"T_ac0c7_level0_row1\" class=\"row_heading level0 row1\" >Плохо</th>\n      <th id=\"T_ac0c7_level1_row1\" class=\"row_heading level1 row1\" >Нормально</th>\n      <td id=\"T_ac0c7_row1_col0\" class=\"data row1 col0\" >Да</td>\n      <td id=\"T_ac0c7_row1_col1\" class=\"data row1 col1\" >Да</td>\n      <td id=\"T_ac0c7_row1_col2\" class=\"data row1 col2\" >Да</td>\n    </tr>\n    <tr>\n      <th id=\"T_ac0c7_level0_row2\" class=\"row_heading level0 row2\" >Нормально</th>\n      <th id=\"T_ac0c7_level1_row2\" class=\"row_heading level1 row2\" >Хорошо</th>\n      <td id=\"T_ac0c7_row2_col0\" class=\"data row2 col0\" >Да</td>\n      <td id=\"T_ac0c7_row2_col1\" class=\"data row2 col1\" >Да</td>\n      <td id=\"T_ac0c7_row2_col2\" class=\"data row2 col2\" >Да</td>\n    </tr>\n    <tr>\n      <th id=\"T_ac0c7_level0_row3\" class=\"row_heading level0 row3\" >Хорошо</th>\n      <th id=\"T_ac0c7_level1_row3\" class=\"row_heading level1 row3\" >Отлично</th>\n      <td id=\"T_ac0c7_row3_col0\" class=\"data row3 col0\" >Да</td>\n      <td id=\"T_ac0c7_row3_col1\" class=\"data row3 col1\" >Да</td>\n      <td id=\"T_ac0c7_row3_col2\" class=\"data row3 col2\" >Да</td>\n    </tr>\n  </tbody>\n</table>\n"
    }
   },
   "source": [
    "For clarity, Let's also present the obtained results in a tabular form (the \"worst\" and \"best\" values of the confidence interval centers will be highlighted in \"<span style=\"color: red; font-weight: bold;\">red</span>\" and \"<span style=\"color: green; font-weight: bold;\">green</span>\" colors, respectively)."
   ]
  },
  {
   "cell_type": "code",
   "execution_count": null,
   "metadata": {
    "variables": {
     "display_confidence_interval(ci, metrics=research_metrics, caption='<b>Доверительные интервалы статистик</b>', caption_font_size=12, opacity=0.5, precision=1)": "<style type=\"text/css\">\n#T_84c00 caption {\n  font-size: 12pt;\n  text-align: center;\n  color: black;\n}\n#T_84c00 td {\n  text-align: center;\n  border: 1px solid lightgray;\n  border-collapse: collapse;\n}\n#T_84c00 .row_heading {\n  width: 120px;\n  text-align: center;\n}\n#T_84c00  td {\n  width: 120px;\n  text-align: center;\n}\n#T_84c00 .col_heading {\n  width: 80px;\n  text-align: center;\n}\n#T_84c00  td {\n  width: 80px;\n  text-align: center;\n}\n#T_84c00_row0_col1, #T_84c00_row0_col7, #T_84c00_row1_col4 {\n  color: red;\n  font-weight: bold;\n}\n#T_84c00_row4_col1, #T_84c00_row4_col4, #T_84c00_row4_col7 {\n  color: green;\n  font-weight: bold;\n}\n#T_84c00_level0_row0 {\n  color: white;\n  background-color: rgb(31, 119, 180);\n  opacity: 0.5;\n  border: 1px solid lightgray;\n  border-collapse: collapse;\n}\n#T_84c00_level0_row1 {\n  color: white;\n  background-color: rgb(255, 127, 14);\n  opacity: 0.5;\n  border: 1px solid lightgray;\n  border-collapse: collapse;\n}\n#T_84c00_level0_row2 {\n  color: white;\n  background-color: rgb(44, 160, 44);\n  opacity: 0.5;\n  border: 1px solid lightgray;\n  border-collapse: collapse;\n}\n#T_84c00_level0_row3 {\n  color: white;\n  background-color: rgb(214, 39, 40);\n  opacity: 0.5;\n  border: 1px solid lightgray;\n  border-collapse: collapse;\n}\n#T_84c00_level0_row4 {\n  color: white;\n  background-color: rgb(148, 103, 189);\n  opacity: 0.5;\n  border: 1px solid lightgray;\n  border-collapse: collapse;\n}\n#T_84c00_level0_col0, #T_84c00_level0_col3, #T_84c00_level0_col6, #T_84c00_level1_col0, #T_84c00_level1_col1, #T_84c00_level1_col2, #T_84c00_level1_col3, #T_84c00_level1_col4, #T_84c00_level1_col5, #T_84c00_level1_col6, #T_84c00_level1_col7, #T_84c00_level1_col8 {\n  border: 1px solid lightgray;\n  border-collapse: collapse;\n}\n</style>\n<table id=\"T_84c00\">\n  <caption><b>Доверительные интервалы статистик</b></caption>\n  <thead>\n    <tr>\n      <th class=\"index_name level0\" ></th>\n      <th id=\"T_84c00_level0_col0\" class=\"col_heading level0 col0\" colspan=\"3\">Средняя скорость «к абоненту»</th>\n      <th id=\"T_84c00_level0_col3\" class=\"col_heading level0 col3\" colspan=\"3\">Скорость загрузки потокового видео</th>\n      <th id=\"T_84c00_level0_col6\" class=\"col_heading level0 col6\" colspan=\"3\">Скорость загрузки web-страниц через браузер</th>\n    </tr>\n    <tr>\n      <th class=\"index_name level1\" ></th>\n      <th id=\"T_84c00_level1_col0\" class=\"col_heading level1 col0\" >Начало</th>\n      <th id=\"T_84c00_level1_col1\" class=\"col_heading level1 col1\" >Середина</th>\n      <th id=\"T_84c00_level1_col2\" class=\"col_heading level1 col2\" >Конец</th>\n      <th id=\"T_84c00_level1_col3\" class=\"col_heading level1 col3\" >Начало</th>\n      <th id=\"T_84c00_level1_col4\" class=\"col_heading level1 col4\" >Середина</th>\n      <th id=\"T_84c00_level1_col5\" class=\"col_heading level1 col5\" >Конец</th>\n      <th id=\"T_84c00_level1_col6\" class=\"col_heading level1 col6\" >Начало</th>\n      <th id=\"T_84c00_level1_col7\" class=\"col_heading level1 col7\" >Середина</th>\n      <th id=\"T_84c00_level1_col8\" class=\"col_heading level1 col8\" >Конец</th>\n    </tr>\n  </thead>\n  <tbody>\n    <tr>\n      <th id=\"T_84c00_level0_row0\" class=\"row_heading level0 row0\" >Ужасно</th>\n      <td id=\"T_84c00_row0_col0\" class=\"data row0 col0\" >989.7</td>\n      <td id=\"T_84c00_row0_col1\" class=\"data row0 col1\" >1167.8</td>\n      <td id=\"T_84c00_row0_col2\" class=\"data row0 col2\" >1345.8</td>\n      <td id=\"T_84c00_row0_col3\" class=\"data row0 col3\" >2502.1</td>\n      <td id=\"T_84c00_row0_col4\" class=\"data row0 col4\" >3048.3</td>\n      <td id=\"T_84c00_row0_col5\" class=\"data row0 col5\" >3594.5</td>\n      <td id=\"T_84c00_row0_col6\" class=\"data row0 col6\" >1186.8</td>\n      <td id=\"T_84c00_row0_col7\" class=\"data row0 col7\" >1365.7</td>\n      <td id=\"T_84c00_row0_col8\" class=\"data row0 col8\" >1544.6</td>\n    </tr>\n    <tr>\n      <th id=\"T_84c00_level0_row1\" class=\"row_heading level0 row1\" >Плохо</th>\n      <td id=\"T_84c00_row1_col0\" class=\"data row1 col0\" >1063.9</td>\n      <td id=\"T_84c00_row1_col1\" class=\"data row1 col1\" >1296.7</td>\n      <td id=\"T_84c00_row1_col2\" class=\"data row1 col2\" >1529.6</td>\n      <td id=\"T_84c00_row1_col3\" class=\"data row1 col3\" >2501.8</td>\n      <td id=\"T_84c00_row1_col4\" class=\"data row1 col4\" >3029.9</td>\n      <td id=\"T_84c00_row1_col5\" class=\"data row1 col5\" >3558.0</td>\n      <td id=\"T_84c00_row1_col6\" class=\"data row1 col6\" >1241.2</td>\n      <td id=\"T_84c00_row1_col7\" class=\"data row1 col7\" >1441.2</td>\n      <td id=\"T_84c00_row1_col8\" class=\"data row1 col8\" >1641.1</td>\n    </tr>\n    <tr>\n      <th id=\"T_84c00_level0_row2\" class=\"row_heading level0 row2\" >Нормально</th>\n      <td id=\"T_84c00_row2_col0\" class=\"data row2 col0\" >1151.3</td>\n      <td id=\"T_84c00_row2_col1\" class=\"data row2 col1\" >1366.6</td>\n      <td id=\"T_84c00_row2_col2\" class=\"data row2 col2\" >1581.9</td>\n      <td id=\"T_84c00_row2_col3\" class=\"data row2 col3\" >3320.0</td>\n      <td id=\"T_84c00_row2_col4\" class=\"data row2 col4\" >3969.3</td>\n      <td id=\"T_84c00_row2_col5\" class=\"data row2 col5\" >4618.6</td>\n      <td id=\"T_84c00_row2_col6\" class=\"data row2 col6\" >1331.4</td>\n      <td id=\"T_84c00_row2_col7\" class=\"data row2 col7\" >1542.3</td>\n      <td id=\"T_84c00_row2_col8\" class=\"data row2 col8\" >1753.2</td>\n    </tr>\n    <tr>\n      <th id=\"T_84c00_level0_row3\" class=\"row_heading level0 row3\" >Хорошо</th>\n      <td id=\"T_84c00_row3_col0\" class=\"data row3 col0\" >1378.1</td>\n      <td id=\"T_84c00_row3_col1\" class=\"data row3 col1\" >1669.3</td>\n      <td id=\"T_84c00_row3_col2\" class=\"data row3 col2\" >1960.4</td>\n      <td id=\"T_84c00_row3_col3\" class=\"data row3 col3\" >4014.1</td>\n      <td id=\"T_84c00_row3_col4\" class=\"data row3 col4\" >4694.0</td>\n      <td id=\"T_84c00_row3_col5\" class=\"data row3 col5\" >5373.9</td>\n      <td id=\"T_84c00_row3_col6\" class=\"data row3 col6\" >1395.9</td>\n      <td id=\"T_84c00_row3_col7\" class=\"data row3 col7\" >1664.4</td>\n      <td id=\"T_84c00_row3_col8\" class=\"data row3 col8\" >1932.8</td>\n    </tr>\n    <tr>\n      <th id=\"T_84c00_level0_row4\" class=\"row_heading level0 row4\" >Отлично</th>\n      <td id=\"T_84c00_row4_col0\" class=\"data row4 col0\" >1798.3</td>\n      <td id=\"T_84c00_row4_col1\" class=\"data row4 col1\" >1924.5</td>\n      <td id=\"T_84c00_row4_col2\" class=\"data row4 col2\" >2050.8</td>\n      <td id=\"T_84c00_row4_col3\" class=\"data row4 col3\" >5028.9</td>\n      <td id=\"T_84c00_row4_col4\" class=\"data row4 col4\" >5284.6</td>\n      <td id=\"T_84c00_row4_col5\" class=\"data row4 col5\" >5540.4</td>\n      <td id=\"T_84c00_row4_col6\" class=\"data row4 col6\" >1850.9</td>\n      <td id=\"T_84c00_row4_col7\" class=\"data row4 col7\" >1946.4</td>\n      <td id=\"T_84c00_row4_col8\" class=\"data row4 col8\" >2041.9</td>\n    </tr>\n  </tbody>\n</table>\n",
     "display_confidence_interval_overlapping(ci_overlapping, metrics=research_metrics, caption='<b>Наличие перекрытия доверительных интервалов статистик</b>', opacity=0.5)": "<style type=\"text/css\">\n#T_ac0c7 caption {\n  font-size: 12pt;\n  text-align: center;\n  color: black;\n}\n#T_ac0c7 td {\n  text-align: center;\n  border: 1px solid lightgray;\n  border-collapse: collapse;\n}\n#T_ac0c7 .row_heading {\n  width: 120px;\n  text-align: center;\n}\n#T_ac0c7  td {\n  width: 120px;\n  text-align: center;\n}\n#T_ac0c7 .col_heading {\n  width: 130px;\n  text-align: center;\n}\n#T_ac0c7  td {\n  width: 130px;\n  text-align: center;\n}\n#T_ac0c7_level0_row0 {\n  color: white;\n  background-color: rgb(31, 119, 180);\n  opacity: 0.5;\n  border: 1px solid lightgray;\n  border-collapse: collapse;\n}\n#T_ac0c7_level1_row0, #T_ac0c7_level0_row1 {\n  color: white;\n  background-color: rgb(255, 127, 14);\n  opacity: 0.5;\n  border: 1px solid lightgray;\n  border-collapse: collapse;\n}\n#T_ac0c7_level1_row1, #T_ac0c7_level0_row2 {\n  color: white;\n  background-color: rgb(44, 160, 44);\n  opacity: 0.5;\n  border: 1px solid lightgray;\n  border-collapse: collapse;\n}\n#T_ac0c7_level1_row2, #T_ac0c7_level0_row3 {\n  color: white;\n  background-color: rgb(214, 39, 40);\n  opacity: 0.5;\n  border: 1px solid lightgray;\n  border-collapse: collapse;\n}\n#T_ac0c7_level1_row3 {\n  color: white;\n  background-color: rgb(148, 103, 189);\n  opacity: 0.5;\n  border: 1px solid lightgray;\n  border-collapse: collapse;\n}\n#T_ac0c7_level0_col0, #T_ac0c7_level0_col1, #T_ac0c7_level0_col2 {\n  border: 1px solid lightgray;\n  border-collapse: collapse;\n}\n</style>\n<table id=\"T_ac0c7\">\n  <caption><b>Наличие перекрытия доверительных интервалов статистик</b></caption>\n  <thead>\n    <tr>\n      <th class=\"blank\" >&nbsp;</th>\n      <th class=\"blank level0\" >&nbsp;</th>\n      <th id=\"T_ac0c7_level0_col0\" class=\"col_heading level0 col0\" >Средняя скорость «к абоненту»</th>\n      <th id=\"T_ac0c7_level0_col1\" class=\"col_heading level0 col1\" >Скорость загрузки потокового видео</th>\n      <th id=\"T_ac0c7_level0_col2\" class=\"col_heading level0 col2\" >Скорость загрузки web-страниц через браузер</th>\n    </tr>\n  </thead>\n  <tbody>\n    <tr>\n      <th id=\"T_ac0c7_level0_row0\" class=\"row_heading level0 row0\" >Ужасно</th>\n      <th id=\"T_ac0c7_level1_row0\" class=\"row_heading level1 row0\" >Плохо</th>\n      <td id=\"T_ac0c7_row0_col0\" class=\"data row0 col0\" >Да</td>\n      <td id=\"T_ac0c7_row0_col1\" class=\"data row0 col1\" >Да</td>\n      <td id=\"T_ac0c7_row0_col2\" class=\"data row0 col2\" >Да</td>\n    </tr>\n    <tr>\n      <th id=\"T_ac0c7_level0_row1\" class=\"row_heading level0 row1\" >Плохо</th>\n      <th id=\"T_ac0c7_level1_row1\" class=\"row_heading level1 row1\" >Нормально</th>\n      <td id=\"T_ac0c7_row1_col0\" class=\"data row1 col0\" >Да</td>\n      <td id=\"T_ac0c7_row1_col1\" class=\"data row1 col1\" >Да</td>\n      <td id=\"T_ac0c7_row1_col2\" class=\"data row1 col2\" >Да</td>\n    </tr>\n    <tr>\n      <th id=\"T_ac0c7_level0_row2\" class=\"row_heading level0 row2\" >Нормально</th>\n      <th id=\"T_ac0c7_level1_row2\" class=\"row_heading level1 row2\" >Хорошо</th>\n      <td id=\"T_ac0c7_row2_col0\" class=\"data row2 col0\" >Да</td>\n      <td id=\"T_ac0c7_row2_col1\" class=\"data row2 col1\" >Да</td>\n      <td id=\"T_ac0c7_row2_col2\" class=\"data row2 col2\" >Да</td>\n    </tr>\n    <tr>\n      <th id=\"T_ac0c7_level0_row3\" class=\"row_heading level0 row3\" >Хорошо</th>\n      <th id=\"T_ac0c7_level1_row3\" class=\"row_heading level1 row3\" >Отлично</th>\n      <td id=\"T_ac0c7_row3_col0\" class=\"data row3 col0\" >Да</td>\n      <td id=\"T_ac0c7_row3_col1\" class=\"data row3 col1\" >Да</td>\n      <td id=\"T_ac0c7_row3_col2\" class=\"data row3 col2\" >Да</td>\n    </tr>\n  </tbody>\n</table>\n"
    }
   },
   "outputs": [],
   "source": [
    "display_confidence_interval(ci, metrics=research_metrics, caption='<b>Confidence intervals of the statistics</b>', caption_font_size=12, opacity=0.5, precision=1)"
   ]
  },
  {
   "cell_type": "markdown",
   "metadata": {
    "variables": {
     "display_confidence_interval(ci, metrics=research_metrics, caption='<b>Доверительные интервалы статистик</b>', caption_font_size=12, opacity=0.5, precision=1)": "<style type=\"text/css\">\n#T_84c00 caption {\n  font-size: 12pt;\n  text-align: center;\n  color: black;\n}\n#T_84c00 td {\n  text-align: center;\n  border: 1px solid lightgray;\n  border-collapse: collapse;\n}\n#T_84c00 .row_heading {\n  width: 120px;\n  text-align: center;\n}\n#T_84c00  td {\n  width: 120px;\n  text-align: center;\n}\n#T_84c00 .col_heading {\n  width: 80px;\n  text-align: center;\n}\n#T_84c00  td {\n  width: 80px;\n  text-align: center;\n}\n#T_84c00_row0_col1, #T_84c00_row0_col7, #T_84c00_row1_col4 {\n  color: red;\n  font-weight: bold;\n}\n#T_84c00_row4_col1, #T_84c00_row4_col4, #T_84c00_row4_col7 {\n  color: green;\n  font-weight: bold;\n}\n#T_84c00_level0_row0 {\n  color: white;\n  background-color: rgb(31, 119, 180);\n  opacity: 0.5;\n  border: 1px solid lightgray;\n  border-collapse: collapse;\n}\n#T_84c00_level0_row1 {\n  color: white;\n  background-color: rgb(255, 127, 14);\n  opacity: 0.5;\n  border: 1px solid lightgray;\n  border-collapse: collapse;\n}\n#T_84c00_level0_row2 {\n  color: white;\n  background-color: rgb(44, 160, 44);\n  opacity: 0.5;\n  border: 1px solid lightgray;\n  border-collapse: collapse;\n}\n#T_84c00_level0_row3 {\n  color: white;\n  background-color: rgb(214, 39, 40);\n  opacity: 0.5;\n  border: 1px solid lightgray;\n  border-collapse: collapse;\n}\n#T_84c00_level0_row4 {\n  color: white;\n  background-color: rgb(148, 103, 189);\n  opacity: 0.5;\n  border: 1px solid lightgray;\n  border-collapse: collapse;\n}\n#T_84c00_level0_col0, #T_84c00_level0_col3, #T_84c00_level0_col6, #T_84c00_level1_col0, #T_84c00_level1_col1, #T_84c00_level1_col2, #T_84c00_level1_col3, #T_84c00_level1_col4, #T_84c00_level1_col5, #T_84c00_level1_col6, #T_84c00_level1_col7, #T_84c00_level1_col8 {\n  border: 1px solid lightgray;\n  border-collapse: collapse;\n}\n</style>\n<table id=\"T_84c00\">\n  <caption><b>Доверительные интервалы статистик</b></caption>\n  <thead>\n    <tr>\n      <th class=\"index_name level0\" ></th>\n      <th id=\"T_84c00_level0_col0\" class=\"col_heading level0 col0\" colspan=\"3\">Средняя скорость «к абоненту»</th>\n      <th id=\"T_84c00_level0_col3\" class=\"col_heading level0 col3\" colspan=\"3\">Скорость загрузки потокового видео</th>\n      <th id=\"T_84c00_level0_col6\" class=\"col_heading level0 col6\" colspan=\"3\">Скорость загрузки web-страниц через браузер</th>\n    </tr>\n    <tr>\n      <th class=\"index_name level1\" ></th>\n      <th id=\"T_84c00_level1_col0\" class=\"col_heading level1 col0\" >Начало</th>\n      <th id=\"T_84c00_level1_col1\" class=\"col_heading level1 col1\" >Середина</th>\n      <th id=\"T_84c00_level1_col2\" class=\"col_heading level1 col2\" >Конец</th>\n      <th id=\"T_84c00_level1_col3\" class=\"col_heading level1 col3\" >Начало</th>\n      <th id=\"T_84c00_level1_col4\" class=\"col_heading level1 col4\" >Середина</th>\n      <th id=\"T_84c00_level1_col5\" class=\"col_heading level1 col5\" >Конец</th>\n      <th id=\"T_84c00_level1_col6\" class=\"col_heading level1 col6\" >Начало</th>\n      <th id=\"T_84c00_level1_col7\" class=\"col_heading level1 col7\" >Середина</th>\n      <th id=\"T_84c00_level1_col8\" class=\"col_heading level1 col8\" >Конец</th>\n    </tr>\n  </thead>\n  <tbody>\n    <tr>\n      <th id=\"T_84c00_level0_row0\" class=\"row_heading level0 row0\" >Ужасно</th>\n      <td id=\"T_84c00_row0_col0\" class=\"data row0 col0\" >989.7</td>\n      <td id=\"T_84c00_row0_col1\" class=\"data row0 col1\" >1167.8</td>\n      <td id=\"T_84c00_row0_col2\" class=\"data row0 col2\" >1345.8</td>\n      <td id=\"T_84c00_row0_col3\" class=\"data row0 col3\" >2502.1</td>\n      <td id=\"T_84c00_row0_col4\" class=\"data row0 col4\" >3048.3</td>\n      <td id=\"T_84c00_row0_col5\" class=\"data row0 col5\" >3594.5</td>\n      <td id=\"T_84c00_row0_col6\" class=\"data row0 col6\" >1186.8</td>\n      <td id=\"T_84c00_row0_col7\" class=\"data row0 col7\" >1365.7</td>\n      <td id=\"T_84c00_row0_col8\" class=\"data row0 col8\" >1544.6</td>\n    </tr>\n    <tr>\n      <th id=\"T_84c00_level0_row1\" class=\"row_heading level0 row1\" >Плохо</th>\n      <td id=\"T_84c00_row1_col0\" class=\"data row1 col0\" >1063.9</td>\n      <td id=\"T_84c00_row1_col1\" class=\"data row1 col1\" >1296.7</td>\n      <td id=\"T_84c00_row1_col2\" class=\"data row1 col2\" >1529.6</td>\n      <td id=\"T_84c00_row1_col3\" class=\"data row1 col3\" >2501.8</td>\n      <td id=\"T_84c00_row1_col4\" class=\"data row1 col4\" >3029.9</td>\n      <td id=\"T_84c00_row1_col5\" class=\"data row1 col5\" >3558.0</td>\n      <td id=\"T_84c00_row1_col6\" class=\"data row1 col6\" >1241.2</td>\n      <td id=\"T_84c00_row1_col7\" class=\"data row1 col7\" >1441.2</td>\n      <td id=\"T_84c00_row1_col8\" class=\"data row1 col8\" >1641.1</td>\n    </tr>\n    <tr>\n      <th id=\"T_84c00_level0_row2\" class=\"row_heading level0 row2\" >Нормально</th>\n      <td id=\"T_84c00_row2_col0\" class=\"data row2 col0\" >1151.3</td>\n      <td id=\"T_84c00_row2_col1\" class=\"data row2 col1\" >1366.6</td>\n      <td id=\"T_84c00_row2_col2\" class=\"data row2 col2\" >1581.9</td>\n      <td id=\"T_84c00_row2_col3\" class=\"data row2 col3\" >3320.0</td>\n      <td id=\"T_84c00_row2_col4\" class=\"data row2 col4\" >3969.3</td>\n      <td id=\"T_84c00_row2_col5\" class=\"data row2 col5\" >4618.6</td>\n      <td id=\"T_84c00_row2_col6\" class=\"data row2 col6\" >1331.4</td>\n      <td id=\"T_84c00_row2_col7\" class=\"data row2 col7\" >1542.3</td>\n      <td id=\"T_84c00_row2_col8\" class=\"data row2 col8\" >1753.2</td>\n    </tr>\n    <tr>\n      <th id=\"T_84c00_level0_row3\" class=\"row_heading level0 row3\" >Хорошо</th>\n      <td id=\"T_84c00_row3_col0\" class=\"data row3 col0\" >1378.1</td>\n      <td id=\"T_84c00_row3_col1\" class=\"data row3 col1\" >1669.3</td>\n      <td id=\"T_84c00_row3_col2\" class=\"data row3 col2\" >1960.4</td>\n      <td id=\"T_84c00_row3_col3\" class=\"data row3 col3\" >4014.1</td>\n      <td id=\"T_84c00_row3_col4\" class=\"data row3 col4\" >4694.0</td>\n      <td id=\"T_84c00_row3_col5\" class=\"data row3 col5\" >5373.9</td>\n      <td id=\"T_84c00_row3_col6\" class=\"data row3 col6\" >1395.9</td>\n      <td id=\"T_84c00_row3_col7\" class=\"data row3 col7\" >1664.4</td>\n      <td id=\"T_84c00_row3_col8\" class=\"data row3 col8\" >1932.8</td>\n    </tr>\n    <tr>\n      <th id=\"T_84c00_level0_row4\" class=\"row_heading level0 row4\" >Отлично</th>\n      <td id=\"T_84c00_row4_col0\" class=\"data row4 col0\" >1798.3</td>\n      <td id=\"T_84c00_row4_col1\" class=\"data row4 col1\" >1924.5</td>\n      <td id=\"T_84c00_row4_col2\" class=\"data row4 col2\" >2050.8</td>\n      <td id=\"T_84c00_row4_col3\" class=\"data row4 col3\" >5028.9</td>\n      <td id=\"T_84c00_row4_col4\" class=\"data row4 col4\" >5284.6</td>\n      <td id=\"T_84c00_row4_col5\" class=\"data row4 col5\" >5540.4</td>\n      <td id=\"T_84c00_row4_col6\" class=\"data row4 col6\" >1850.9</td>\n      <td id=\"T_84c00_row4_col7\" class=\"data row4 col7\" >1946.4</td>\n      <td id=\"T_84c00_row4_col8\" class=\"data row4 col8\" >2041.9</td>\n    </tr>\n  </tbody>\n</table>\n",
     "display_confidence_interval_overlapping(ci_overlapping, metrics=research_metrics, caption='<b>Наличие перекрытия доверительных интервалов статистик</b>', opacity=0.5)": "<style type=\"text/css\">\n#T_ac0c7 caption {\n  font-size: 12pt;\n  text-align: center;\n  color: black;\n}\n#T_ac0c7 td {\n  text-align: center;\n  border: 1px solid lightgray;\n  border-collapse: collapse;\n}\n#T_ac0c7 .row_heading {\n  width: 120px;\n  text-align: center;\n}\n#T_ac0c7  td {\n  width: 120px;\n  text-align: center;\n}\n#T_ac0c7 .col_heading {\n  width: 130px;\n  text-align: center;\n}\n#T_ac0c7  td {\n  width: 130px;\n  text-align: center;\n}\n#T_ac0c7_level0_row0 {\n  color: white;\n  background-color: rgb(31, 119, 180);\n  opacity: 0.5;\n  border: 1px solid lightgray;\n  border-collapse: collapse;\n}\n#T_ac0c7_level1_row0, #T_ac0c7_level0_row1 {\n  color: white;\n  background-color: rgb(255, 127, 14);\n  opacity: 0.5;\n  border: 1px solid lightgray;\n  border-collapse: collapse;\n}\n#T_ac0c7_level1_row1, #T_ac0c7_level0_row2 {\n  color: white;\n  background-color: rgb(44, 160, 44);\n  opacity: 0.5;\n  border: 1px solid lightgray;\n  border-collapse: collapse;\n}\n#T_ac0c7_level1_row2, #T_ac0c7_level0_row3 {\n  color: white;\n  background-color: rgb(214, 39, 40);\n  opacity: 0.5;\n  border: 1px solid lightgray;\n  border-collapse: collapse;\n}\n#T_ac0c7_level1_row3 {\n  color: white;\n  background-color: rgb(148, 103, 189);\n  opacity: 0.5;\n  border: 1px solid lightgray;\n  border-collapse: collapse;\n}\n#T_ac0c7_level0_col0, #T_ac0c7_level0_col1, #T_ac0c7_level0_col2 {\n  border: 1px solid lightgray;\n  border-collapse: collapse;\n}\n</style>\n<table id=\"T_ac0c7\">\n  <caption><b>Наличие перекрытия доверительных интервалов статистик</b></caption>\n  <thead>\n    <tr>\n      <th class=\"blank\" >&nbsp;</th>\n      <th class=\"blank level0\" >&nbsp;</th>\n      <th id=\"T_ac0c7_level0_col0\" class=\"col_heading level0 col0\" >Средняя скорость «к абоненту»</th>\n      <th id=\"T_ac0c7_level0_col1\" class=\"col_heading level0 col1\" >Скорость загрузки потокового видео</th>\n      <th id=\"T_ac0c7_level0_col2\" class=\"col_heading level0 col2\" >Скорость загрузки web-страниц через браузер</th>\n    </tr>\n  </thead>\n  <tbody>\n    <tr>\n      <th id=\"T_ac0c7_level0_row0\" class=\"row_heading level0 row0\" >Ужасно</th>\n      <th id=\"T_ac0c7_level1_row0\" class=\"row_heading level1 row0\" >Плохо</th>\n      <td id=\"T_ac0c7_row0_col0\" class=\"data row0 col0\" >Да</td>\n      <td id=\"T_ac0c7_row0_col1\" class=\"data row0 col1\" >Да</td>\n      <td id=\"T_ac0c7_row0_col2\" class=\"data row0 col2\" >Да</td>\n    </tr>\n    <tr>\n      <th id=\"T_ac0c7_level0_row1\" class=\"row_heading level0 row1\" >Плохо</th>\n      <th id=\"T_ac0c7_level1_row1\" class=\"row_heading level1 row1\" >Нормально</th>\n      <td id=\"T_ac0c7_row1_col0\" class=\"data row1 col0\" >Да</td>\n      <td id=\"T_ac0c7_row1_col1\" class=\"data row1 col1\" >Да</td>\n      <td id=\"T_ac0c7_row1_col2\" class=\"data row1 col2\" >Да</td>\n    </tr>\n    <tr>\n      <th id=\"T_ac0c7_level0_row2\" class=\"row_heading level0 row2\" >Нормально</th>\n      <th id=\"T_ac0c7_level1_row2\" class=\"row_heading level1 row2\" >Хорошо</th>\n      <td id=\"T_ac0c7_row2_col0\" class=\"data row2 col0\" >Да</td>\n      <td id=\"T_ac0c7_row2_col1\" class=\"data row2 col1\" >Да</td>\n      <td id=\"T_ac0c7_row2_col2\" class=\"data row2 col2\" >Да</td>\n    </tr>\n    <tr>\n      <th id=\"T_ac0c7_level0_row3\" class=\"row_heading level0 row3\" >Хорошо</th>\n      <th id=\"T_ac0c7_level1_row3\" class=\"row_heading level1 row3\" >Отлично</th>\n      <td id=\"T_ac0c7_row3_col0\" class=\"data row3 col0\" >Да</td>\n      <td id=\"T_ac0c7_row3_col1\" class=\"data row3 col1\" >Да</td>\n      <td id=\"T_ac0c7_row3_col2\" class=\"data row3 col2\" >Да</td>\n    </tr>\n  </tbody>\n</table>\n"
    }
   },
   "source": [
    "Based on the analysis of confidence intervals, we can make the following **conclusions**:\n",
    "1. All metrics show a tendency for the central values of statistics to increase, i.e. to change for the \"better\" with an increase in the level of satisfaction. That is, we can state that the dynamics of metric values is consistent with the level of assessment of the quality of mobile Internet service by customers. Therefore, statistically significant differences may be absent primarily between neighboring groups.\n",
    "2. The metric `Video Streaming Download Throughput` stands out from the overall picture. customers of the `Very unsatisfied` group have a slightly higher average statistical value than the more satisfied `Unsatisfied` group. But this difference does not seem to be significant.\n",
    "3. The confidence intervals of the `Very satisfied` group are significantly smaller than those of the other groups. But this does not indicate a significantly smaller spread of metric values in the population to which this group belongs than in the populations to which the other groups belong. It is quite possible that such an effect is due to the fact that this group is significantly larger in size, and therefore, with repeated samples from it, the probability of obtaining more extreme statistical values is lower than in smaller groups.\n",
    "4. But the larger size of the confidence interval of the `Satisfied` group than that of groups comparable in size: `Very unsatisfied`, `Unsatisfied` and `Neutral`, may indicate a greater dispersion of metrics in this group.\n",
    "\n",
    "It is visually noticeable that the confidence intervals of the statistics of the metrics under research intersect in all pairs of neighboring groups. But, to be sure of this, Let's additionally display information about the presence of \"overlaps\" (common areas) of the confidence intervals of the statistics of the metrics under research in the groups under research in pairs. \"<span style=\"color: red; font-weight: bold;\">Let's highlight negative results in red</span>\" since they are the most important and informative."
   ]
  },
  {
   "cell_type": "code",
   "execution_count": null,
   "metadata": {},
   "outputs": [],
   "source": [
    "display_confidence_interval_overlapping(ci_overlapping, metrics=research_metrics, caption='<b>Overlapping confidence intervals of the statistics</b>', opacity=0.5)"
   ]
  },
  {
   "cell_type": "markdown",
   "metadata": {},
   "source": [
    "Based on the obtained results on the presence of \"overlapping\" confidence intervals of the metrics under research, the following **conclusion** can be made:\n",
    "since the confidence intervals of the statistics of all the metrics under research in neighboring groups **do not overlap**, this does not allow us to draw a conclusion about the significance of the difference in the statistics of these groups based on exploratory analysis - statistical tests must be carried out."
   ]
  },
  {
   "cell_type": "markdown",
   "metadata": {},
   "source": [
    "### 6.4. Statistical tests\n",
    "\n",
    "Based on exploratory analysis, we have established that there is a clear tendency for the metric values to increase with the growth of the ratings given by customers to the mobile Internet service. That is, to answer the 1st question, we should perform \"one-sided\" tests of comparison of statistics of only neighboring groups. The first group in the tested pair will be the group of customers with the lower rating, therefore Let's perform \"left-sided\" tests."
   ]
  },
  {
   "cell_type": "code",
   "execution_count": null,
   "metadata": {},
   "outputs": [],
   "source": [
    "# Use \"left-handed\" test for all metrics\n",
    "alternatives = research_metrics['impact'].apply(lambda impact: 'less')\n",
    "# Create a dataframe for test results\n",
    "pvalues = pd.DataFrame(index=[', '.join(group_pair) for group_pair in group_pairs], columns=research_metrics.index)\n",
    "# On the zero distribution, Let's mark the region located to the left of the observed value of the statistic\n",
    "mark_statistic = alternatives.apply(lambda impact: 'tomin')"
   ]
  },
  {
   "cell_type": "markdown",
   "metadata": {
    "variables": {
     "groups[0]": "Ужасно",
     "groups[1]": "Плохо"
    }
   },
   "source": [
    "#### 6.4.1. Statistical test for the groups \"Very unsatisfied\" and \"Unsatisfied\"\n",
    "\n",
    "For all metrics, Let's accept as the `null hypothesis` the assumption that the values of the `Very unsatisfied` group statistics are **not less than** the values of the `Unsatisfied` group statistics. And as the `alternative hypothesis` the opposite statement that the values of the `Very unsatisfied` group statistics are still **less than** the values of the `Unsatisfied` group statistics. In mathematical form, the test statistics and formulated hypotheses can be written as follows:\n",
    "\n",
    "$$\n",
    "\\Delta \\hat{TM}=\\hat{TM}_{Very unsatisfied}-\\hat{TM}_{Unsatisfied}\\\\\n",
    "H_0:\\Delta \\hat{TM}≥0\\\\\n",
    "H_1:\\Delta \\hat{TM}<0\n",
    "$$\n",
    "\n",
    "Let's perform testing and visualize the results by constructing histograms of the zero distribution of the test statistics of the metrics under research. On the histograms, Let's mark the observed value of the test statistics with a vertical dashed line and color the distribution areas that are used to calculate the `p-values` (from the lines of the observed values of the test statistics)."
   ]
  },
  {
   "cell_type": "code",
   "execution_count": null,
   "metadata": {},
   "outputs": [],
   "source": [
    "# Test data preparation\n",
    "group_pair_index = 0\n",
    "test_data = research_data.loc[group_pairs[group_pair_index]]\n",
    "# Perform testing\n",
    "pvalues.loc[', '.join(group_pairs[group_pair_index])], null_distributions, statistics = permutation_test(\n",
    "    test_data, research_metrics['test statistic'], alternatives)\n",
    "# Output of the density histogram of the null distribution\n",
    "plot_metric_histograms(\n",
    "    null_distributions, statistic=statistics, metrics=research_metrics,\n",
    "    title=f'<b>Density of the null probability distribution of the test statistic</b>', title_y=0.9,\n",
    "    height=300, n_cols=3, opacity=0.5,\n",
    "    histnorm='probability density',\n",
    "    add_kde=True, add_statistic=True, mark_statistic=mark_statistic,\n",
    "    horizontal_spacing=0.08, vertical_spacing=0.07)"
   ]
  },
  {
   "cell_type": "markdown",
   "metadata": {
    "variables": {
     "display_pvalues(pvalues.loc[', '.join(group_pairs[group_pair_index])].to_frame().T, metrics=research_metrics, alpha=alpha, caption=f'<b>Значения p-value статистического теста</b>', col_width=160)": "<style type=\"text/css\">\n#T_7798f caption {\n  font-size: 12pt;\n  text-align: center;\n  color: black;\n}\n#T_7798f td {\n  text-align: center;\n  border: 1px solid lightgray;\n  border-collapse: collapse;\n}\n#T_7798f .row_heading {\n  width: 120px;\n  text-align: center;\n}\n#T_7798f  td {\n  width: 120px;\n  text-align: center;\n}\n#T_7798f .col_heading {\n  width: 160px;\n  text-align: center;\n}\n#T_7798f  td {\n  width: 160px;\n  text-align: center;\n}\n#T_7798f_row0_col0, #T_7798f_row0_col1, #T_7798f_row0_col2 {\n  color: red;\n  font-weight: bold;\n}\n#T_7798f_level0_col0, #T_7798f_level0_col1, #T_7798f_level0_col2 {\n  border: 1px solid lightgray;\n  border-collapse: collapse;\n}\n</style>\n<table id=\"T_7798f\">\n  <caption><b>Значения p-value статистического теста</b></caption>\n  <thead>\n    <tr>\n      <th id=\"T_7798f_level0_col0\" class=\"col_heading level0 col0\" >Средняя скорость «к абоненту»</th>\n      <th id=\"T_7798f_level0_col1\" class=\"col_heading level0 col1\" >Скорость загрузки потокового видео</th>\n      <th id=\"T_7798f_level0_col2\" class=\"col_heading level0 col2\" >Скорость загрузки web-страниц через браузер</th>\n    </tr>\n  </thead>\n  <tbody>\n    <tr>\n      <td id=\"T_7798f_row0_col0\" class=\"data row0 col0\" >0.0013</td>\n      <td id=\"T_7798f_row0_col1\" class=\"data row0 col1\" >0.0007</td>\n      <td id=\"T_7798f_row0_col2\" class=\"data row0 col2\" >0.0032</td>\n    </tr>\n  </tbody>\n</table>\n"
    }
   },
   "source": [
    "Let's present the obtained `p-values` in a tabular form, marking in \"<span style=\"color: red; font-weight: bold;\">red</span>\" those values that are below the significance level."
   ]
  },
  {
   "cell_type": "code",
   "execution_count": null,
   "metadata": {
    "scrolled": true,
    "variables": {
     "display_pvalues(pvalues.loc[', '.join(group_pairs[group_pair_index])].to_frame().T, metrics=research_metrics, alpha=alpha, caption=f'<b>Значения p-value статистического теста</b>', col_width=160)": "<style type=\"text/css\">\n#T_7798f caption {\n  font-size: 12pt;\n  text-align: center;\n  color: black;\n}\n#T_7798f td {\n  text-align: center;\n  border: 1px solid lightgray;\n  border-collapse: collapse;\n}\n#T_7798f .row_heading {\n  width: 120px;\n  text-align: center;\n}\n#T_7798f  td {\n  width: 120px;\n  text-align: center;\n}\n#T_7798f .col_heading {\n  width: 160px;\n  text-align: center;\n}\n#T_7798f  td {\n  width: 160px;\n  text-align: center;\n}\n#T_7798f_row0_col0, #T_7798f_row0_col1, #T_7798f_row0_col2 {\n  color: red;\n  font-weight: bold;\n}\n#T_7798f_level0_col0, #T_7798f_level0_col1, #T_7798f_level0_col2 {\n  border: 1px solid lightgray;\n  border-collapse: collapse;\n}\n</style>\n<table id=\"T_7798f\">\n  <caption><b>Значения p-value статистического теста</b></caption>\n  <thead>\n    <tr>\n      <th id=\"T_7798f_level0_col0\" class=\"col_heading level0 col0\" >Средняя скорость «к абоненту»</th>\n      <th id=\"T_7798f_level0_col1\" class=\"col_heading level0 col1\" >Скорость загрузки потокового видео</th>\n      <th id=\"T_7798f_level0_col2\" class=\"col_heading level0 col2\" >Скорость загрузки web-страниц через браузер</th>\n    </tr>\n  </thead>\n  <tbody>\n    <tr>\n      <td id=\"T_7798f_row0_col0\" class=\"data row0 col0\" >0.0013</td>\n      <td id=\"T_7798f_row0_col1\" class=\"data row0 col1\" >0.0007</td>\n      <td id=\"T_7798f_row0_col2\" class=\"data row0 col2\" >0.0032</td>\n    </tr>\n  </tbody>\n</table>\n"
    }
   },
   "outputs": [],
   "source": [
    "display_pvalues(pvalues.loc[', '.join(group_pairs[group_pair_index])].to_frame().T, metrics=research_metrics, alpha=alpha, caption=f'<b>Test p-values</b>', col_width=160)"
   ]
  },
  {
   "cell_type": "markdown",
   "metadata": {
    "variables": {
     "display_pvalues(pvalues.loc[', '.join(group_pairs[group_pair_index])].to_frame().T, metrics=research_metrics, alpha=alpha, caption=f'<b>Значения p-value статистического теста</b>', col_width=160)": "<style type=\"text/css\">\n#T_6da85 caption {\n  font-size: 12pt;\n  text-align: center;\n  color: black;\n}\n#T_6da85 td {\n  text-align: center;\n  border: 1px solid lightgray;\n  border-collapse: collapse;\n}\n#T_6da85 .row_heading {\n  width: 120px;\n  text-align: center;\n}\n#T_6da85  td {\n  width: 120px;\n  text-align: center;\n}\n#T_6da85 .col_heading {\n  width: 160px;\n  text-align: center;\n}\n#T_6da85  td {\n  width: 160px;\n  text-align: center;\n}\n#T_6da85_level0_col0, #T_6da85_level0_col1, #T_6da85_level0_col2 {\n  border: 1px solid lightgray;\n  border-collapse: collapse;\n}\n</style>\n<table id=\"T_6da85\">\n  <caption><b>Значения p-value статистического теста</b></caption>\n  <thead>\n    <tr>\n      <th id=\"T_6da85_level0_col0\" class=\"col_heading level0 col0\" >Средняя скорость «к абоненту»</th>\n      <th id=\"T_6da85_level0_col1\" class=\"col_heading level0 col1\" >Скорость загрузки потокового видео</th>\n      <th id=\"T_6da85_level0_col2\" class=\"col_heading level0 col2\" >Скорость загрузки web-страниц через браузер</th>\n    </tr>\n  </thead>\n  <tbody>\n    <tr>\n      <td id=\"T_6da85_row0_col0\" class=\"data row0 col0\" >0.2275</td>\n      <td id=\"T_6da85_row0_col1\" class=\"data row0 col1\" >0.4500</td>\n      <td id=\"T_6da85_row0_col2\" class=\"data row0 col2\" >0.1916</td>\n    </tr>\n  </tbody>\n</table>\n",
     "groups[0]": "Ужасно",
     "groups[1]": "Плохо"
    }
   },
   "source": [
    "**Conclusions:**\n",
    "\n",
    "1. Since the `p-values` obtained as a result of the test for all metrics are **greater** than the significance level, we **cannot reject the null hypothesis** with respect to all the metrics under research and, accordingly, Let's assume that the values of all metrics in the `Very unsatisfied` group are not less than those in the `Unsatisfied` group.\n",
    "\n",
    "2. The groups under research have especially **close** values for the `Video Streaming Download Throughput` metric, since the `p-value` value for this metric is closest to `0.5`. This also confirms the conclusions of the exploratory analysis."
   ]
  },
  {
   "cell_type": "markdown",
   "metadata": {
    "variables": {
     "groups[1]": "Плохо",
     "groups[2]": "Нормально"
    }
   },
   "source": [
    "#### 6.4.2. Statistical test for the groups \"Unsatisfied\" and \"Neutral\"\n",
    "\n",
    "For all metrics, Let's accept the assumption that the values of the Unsatisfied group statistics are **not less than** the values of the Neutral group statistics as the `null hypothesis`. And the opposite statement that the value of the Unsatisfied group statistics is **less than** the values of the Neutral group statistics is the `alternative hypothesis`. In mathematical form, the test statistics and formulated hypotheses can be written as follows:\n",
    "\n",
    "$$\n",
    "\\Delta \\hat{TM}=\\hat{TM}_{Unsatisfied}-\\hat{TM}_{Neutral}\\\\\n",
    "H_0:\\Delta \\hat{TM}≥0\\\\\n",
    "H_1:\\Delta \\hat{TM}<0\n",
    "$$\n",
    "\n",
    "Let's perform testing and visualize the results by constructing histograms of the zero distribution of the test statistics of the metrics under research. On the histograms, we mark the observed value of the test statistic with a vertical dashed line and color the areas of the distributions that are used to calculate the `p-values` (from the lines of the observed values of the test statistic)."
   ]
  },
  {
   "cell_type": "code",
   "execution_count": null,
   "metadata": {},
   "outputs": [],
   "source": [
    "# Test data preparation\n",
    "group_pair_index = 1\n",
    "test_data = research_data.loc[group_pairs[group_pair_index]]\n",
    "# Perform testing\n",
    "pvalues.loc[', '.join(group_pairs[group_pair_index])], null_distributions, statistics = permutation_test(\n",
    "    test_data, research_metrics['test statistic'], alternatives)\n",
    "# Output of the density histogram of the null distribution\n",
    "plot_metric_histograms(\n",
    "    null_distributions, statistic=statistics, metrics=research_metrics,\n",
    "    title=f'<b>Density of the null probability distribution of the test statistic</b>', title_y=0.9,\n",
    "    height=300, n_cols=3, opacity=0.5,\n",
    "    histnorm='probability density',\n",
    "    add_kde=True, add_statistic=True, mark_statistic=mark_statistic,\n",
    "    horizontal_spacing=0.08, vertical_spacing=0.07)"
   ]
  },
  {
   "cell_type": "markdown",
   "metadata": {
    "variables": {
     "display_pvalues(pvalues.loc[', '.join(group_pairs[group_pair_index])].to_frame().T, metrics=research_metrics, alpha=alpha, caption=f'<b>Значения p-value статистического теста</b>', col_width=160)": "<style type=\"text/css\">\n#T_7798f caption {\n  font-size: 12pt;\n  text-align: center;\n  color: black;\n}\n#T_7798f td {\n  text-align: center;\n  border: 1px solid lightgray;\n  border-collapse: collapse;\n}\n#T_7798f .row_heading {\n  width: 120px;\n  text-align: center;\n}\n#T_7798f  td {\n  width: 120px;\n  text-align: center;\n}\n#T_7798f .col_heading {\n  width: 160px;\n  text-align: center;\n}\n#T_7798f  td {\n  width: 160px;\n  text-align: center;\n}\n#T_7798f_row0_col0, #T_7798f_row0_col1, #T_7798f_row0_col2 {\n  color: red;\n  font-weight: bold;\n}\n#T_7798f_level0_col0, #T_7798f_level0_col1, #T_7798f_level0_col2 {\n  border: 1px solid lightgray;\n  border-collapse: collapse;\n}\n</style>\n<table id=\"T_7798f\">\n  <caption><b>Значения p-value статистического теста</b></caption>\n  <thead>\n    <tr>\n      <th id=\"T_7798f_level0_col0\" class=\"col_heading level0 col0\" >Средняя скорость «к абоненту»</th>\n      <th id=\"T_7798f_level0_col1\" class=\"col_heading level0 col1\" >Скорость загрузки потокового видео</th>\n      <th id=\"T_7798f_level0_col2\" class=\"col_heading level0 col2\" >Скорость загрузки web-страниц через браузер</th>\n    </tr>\n  </thead>\n  <tbody>\n    <tr>\n      <td id=\"T_7798f_row0_col0\" class=\"data row0 col0\" >0.0013</td>\n      <td id=\"T_7798f_row0_col1\" class=\"data row0 col1\" >0.0007</td>\n      <td id=\"T_7798f_row0_col2\" class=\"data row0 col2\" >0.0032</td>\n    </tr>\n  </tbody>\n</table>\n"
    }
   },
   "source": [
    "Let's present the obtained `p-values` in a tabular form, marking in \"<span style=\"color: red; font-weight: bold;\">red</span>\" those values that are below the significance level."
   ]
  },
  {
   "cell_type": "code",
   "execution_count": null,
   "metadata": {
    "scrolled": true,
    "variables": {
     "display_pvalues(pvalues.loc[', '.join(group_pairs[group_pair_index])].to_frame().T, metrics=research_metrics, alpha=alpha, caption=f'<b>Значения p-value статистического теста</b>', col_width=160)": "<style type=\"text/css\">\n#T_7798f caption {\n  font-size: 12pt;\n  text-align: center;\n  color: black;\n}\n#T_7798f td {\n  text-align: center;\n  border: 1px solid lightgray;\n  border-collapse: collapse;\n}\n#T_7798f .row_heading {\n  width: 120px;\n  text-align: center;\n}\n#T_7798f  td {\n  width: 120px;\n  text-align: center;\n}\n#T_7798f .col_heading {\n  width: 160px;\n  text-align: center;\n}\n#T_7798f  td {\n  width: 160px;\n  text-align: center;\n}\n#T_7798f_row0_col0, #T_7798f_row0_col1, #T_7798f_row0_col2 {\n  color: red;\n  font-weight: bold;\n}\n#T_7798f_level0_col0, #T_7798f_level0_col1, #T_7798f_level0_col2 {\n  border: 1px solid lightgray;\n  border-collapse: collapse;\n}\n</style>\n<table id=\"T_7798f\">\n  <caption><b>Значения p-value статистического теста</b></caption>\n  <thead>\n    <tr>\n      <th id=\"T_7798f_level0_col0\" class=\"col_heading level0 col0\" >Средняя скорость «к абоненту»</th>\n      <th id=\"T_7798f_level0_col1\" class=\"col_heading level0 col1\" >Скорость загрузки потокового видео</th>\n      <th id=\"T_7798f_level0_col2\" class=\"col_heading level0 col2\" >Скорость загрузки web-страниц через браузер</th>\n    </tr>\n  </thead>\n  <tbody>\n    <tr>\n      <td id=\"T_7798f_row0_col0\" class=\"data row0 col0\" >0.0013</td>\n      <td id=\"T_7798f_row0_col1\" class=\"data row0 col1\" >0.0007</td>\n      <td id=\"T_7798f_row0_col2\" class=\"data row0 col2\" >0.0032</td>\n    </tr>\n  </tbody>\n</table>\n"
    }
   },
   "outputs": [],
   "source": [
    "display_pvalues(pvalues.loc[', '.join(group_pairs[group_pair_index])].to_frame().T, metrics=research_metrics, alpha=alpha, caption=f'<b>Test p-values</b>', col_width=160)"
   ]
  },
  {
   "cell_type": "markdown",
   "metadata": {
    "variables": {
     "display_pvalues(pvalues.loc[', '.join(group_pairs[group_pair_index])].to_frame().T, metrics=research_metrics, alpha=alpha, caption=f'<b>Значения p-value статистического теста</b>', col_width=160)": "<style type=\"text/css\">\n#T_1c191 caption {\n  font-size: 12pt;\n  text-align: center;\n  color: black;\n}\n#T_1c191 td {\n  text-align: center;\n  border: 1px solid lightgray;\n  border-collapse: collapse;\n}\n#T_1c191 .row_heading {\n  width: 120px;\n  text-align: center;\n}\n#T_1c191  td {\n  width: 120px;\n  text-align: center;\n}\n#T_1c191 .col_heading {\n  width: 160px;\n  text-align: center;\n}\n#T_1c191  td {\n  width: 160px;\n  text-align: center;\n}\n#T_1c191_row0_col1 {\n  color: red;\n  font-weight: bold;\n}\n#T_1c191_level0_col0, #T_1c191_level0_col1, #T_1c191_level0_col2 {\n  border: 1px solid lightgray;\n  border-collapse: collapse;\n}\n</style>\n<table id=\"T_1c191\">\n  <caption><b>Значения p-value статистического теста</b></caption>\n  <thead>\n    <tr>\n      <th id=\"T_1c191_level0_col0\" class=\"col_heading level0 col0\" >Средняя скорость «к абоненту»</th>\n      <th id=\"T_1c191_level0_col1\" class=\"col_heading level0 col1\" >Скорость загрузки потокового видео</th>\n      <th id=\"T_1c191_level0_col2\" class=\"col_heading level0 col2\" >Скорость загрузки web-страниц через браузер</th>\n    </tr>\n  </thead>\n  <tbody>\n    <tr>\n      <td id=\"T_1c191_row0_col0\" class=\"data row0 col0\" >0.2895</td>\n      <td id=\"T_1c191_row0_col1\" class=\"data row0 col1\" >0.0412</td>\n      <td id=\"T_1c191_row0_col2\" class=\"data row0 col2\" >0.3149</td>\n    </tr>\n  </tbody>\n</table>\n"
    }
   },
   "source": [
    "**Conclusions:**\n",
    "\n",
    "1. Since the `p-value` obtained as a result of the test for the `Video Streaming Download Throughput` metric is **less** than the significance level, we **can reject the null hypothesis** in relation to it and, accordingly, Let's assume that the values of this metric for the `Unsatisfied` group are **less** than for the `Neutral` group.\n",
    "\n",
    "2. The values of the remaining metrics for the researched groups are quite **close**, since the `p-values` for these metrics are significantly **higher** than the significance level."
   ]
  },
  {
   "cell_type": "markdown",
   "metadata": {
    "variables": {
     "groups[2]": "Нормально",
     "groups[3]": "Хорошо"
    }
   },
   "source": [
    "#### 6.4.3. Statistical test for the groups \"Neutral\" and \"Satisfied\"\n",
    "\n",
    "For all metrics, as a `null hypothesis` Let's accept the assumption that the values of the `Neutral` group statistics are **not less than** the values of the `Satisfied` group statistics. And as an `alternative hypothesis` Let's accept the opposite statement that the value of the `Neutral` group statistics is **less than** the values of the `Satisfied` group statistics. In mathematical form, the test statistics and formulated hypotheses can be written as follows:\n",
    "\n",
    "$$\n",
    "\\Delta \\hat{TM}=\\hat{TM}_{Neutral}-\\hat{TM}_{Satisfied}\\\\\n",
    "H_0:\\Delta \\hat{TM}≥0\\\\\n",
    "H_1:\\Delta \\hat{TM}<0\n",
    "$$\n",
    "\n",
    "Let's perform testing and visualize the results by constructing histograms of the zero distribution of the test statistics of the metrics under research. On the histograms, we mark the observed value of the test statistic with a vertical dashed line and color the areas of the distributions that are used to calculate the `p-values` (from the lines of the observed values of the test statistic)."
   ]
  },
  {
   "cell_type": "code",
   "execution_count": null,
   "metadata": {},
   "outputs": [],
   "source": [
    "# Test data preparation\n",
    "group_pair_index = 2\n",
    "test_data = research_data.loc[group_pairs[group_pair_index]]\n",
    "# Perform testing\n",
    "pvalues.loc[', '.join(group_pairs[group_pair_index])], null_distributions, statistics = permutation_test(\n",
    "    test_data, research_metrics['test statistic'], alternatives)\n",
    "# Output of the density histogram of the null distribution\n",
    "plot_metric_histograms(\n",
    "    null_distributions, statistic=statistics, metrics=research_metrics,\n",
    "    title=f'<b>Density of the null probability distribution of the test statistic</b>', title_y=0.9,\n",
    "    height=300, n_cols=3, opacity=0.5,\n",
    "    histnorm='probability density',\n",
    "    add_kde=True, add_statistic=True, mark_statistic=mark_statistic,\n",
    "    horizontal_spacing=0.08, vertical_spacing=0.07)"
   ]
  },
  {
   "cell_type": "markdown",
   "metadata": {
    "variables": {
     "display_pvalues(pvalues.loc[', '.join(group_pairs[group_pair_index])].to_frame().T, metrics=research_metrics, alpha=alpha, caption=f'<b>Значения p-value статистического теста</b>', col_width=160)": "<style type=\"text/css\">\n#T_b11be caption {\n  font-size: 12pt;\n  text-align: center;\n  color: black;\n}\n#T_b11be td {\n  text-align: center;\n  border: 1px solid lightgray;\n  border-collapse: collapse;\n}\n#T_b11be .row_heading {\n  width: 120px;\n  text-align: center;\n}\n#T_b11be  td {\n  width: 120px;\n  text-align: center;\n}\n#T_b11be .col_heading {\n  width: 160px;\n  text-align: center;\n}\n#T_b11be  td {\n  width: 160px;\n  text-align: center;\n}\n#T_b11be_level0_col0, #T_b11be_level0_col1, #T_b11be_level0_col2 {\n  border: 1px solid lightgray;\n  border-collapse: collapse;\n}\n</style>\n<table id=\"T_b11be\">\n  <caption><b>Значения p-value статистического теста</b></caption>\n  <thead>\n    <tr>\n      <th id=\"T_b11be_level0_col0\" class=\"col_heading level0 col0\" >Средняя скорость «к абоненту»</th>\n      <th id=\"T_b11be_level0_col1\" class=\"col_heading level0 col1\" >Скорость загрузки потокового видео</th>\n      <th id=\"T_b11be_level0_col2\" class=\"col_heading level0 col2\" >Скорость загрузки web-страниц через браузер</th>\n    </tr>\n  </thead>\n  <tbody>\n    <tr>\n      <td id=\"T_b11be_row0_col0\" class=\"data row0 col0\" >0.0785</td>\n      <td id=\"T_b11be_row0_col1\" class=\"data row0 col1\" >0.0797</td>\n      <td id=\"T_b11be_row0_col2\" class=\"data row0 col2\" >0.1866</td>\n    </tr>\n  </tbody>\n</table>\n",
     "groups[0]": "Ужасно",
     "groups[1]": "Плохо"
    }
   },
   "source": [
    "Let's present the obtained `p-values` in a tabular form, marking in \"<span style=\"color: red; font-weight: bold;\">red</span>\" those values that are below the significance level."
   ]
  },
  {
   "cell_type": "code",
   "execution_count": null,
   "metadata": {
    "variables": {
     "display_pvalues(pvalues.loc[', '.join(group_pairs[group_pair_index])].to_frame().T, metrics=research_metrics, alpha=alpha, caption=f'<b>Значения p-value статистического теста</b>', col_width=160)": "<style type=\"text/css\">\n#T_b11be caption {\n  font-size: 12pt;\n  text-align: center;\n  color: black;\n}\n#T_b11be td {\n  text-align: center;\n  border: 1px solid lightgray;\n  border-collapse: collapse;\n}\n#T_b11be .row_heading {\n  width: 120px;\n  text-align: center;\n}\n#T_b11be  td {\n  width: 120px;\n  text-align: center;\n}\n#T_b11be .col_heading {\n  width: 160px;\n  text-align: center;\n}\n#T_b11be  td {\n  width: 160px;\n  text-align: center;\n}\n#T_b11be_level0_col0, #T_b11be_level0_col1, #T_b11be_level0_col2 {\n  border: 1px solid lightgray;\n  border-collapse: collapse;\n}\n</style>\n<table id=\"T_b11be\">\n  <caption><b>Значения p-value статистического теста</b></caption>\n  <thead>\n    <tr>\n      <th id=\"T_b11be_level0_col0\" class=\"col_heading level0 col0\" >Средняя скорость «к абоненту»</th>\n      <th id=\"T_b11be_level0_col1\" class=\"col_heading level0 col1\" >Скорость загрузки потокового видео</th>\n      <th id=\"T_b11be_level0_col2\" class=\"col_heading level0 col2\" >Скорость загрузки web-страниц через браузер</th>\n    </tr>\n  </thead>\n  <tbody>\n    <tr>\n      <td id=\"T_b11be_row0_col0\" class=\"data row0 col0\" >0.0785</td>\n      <td id=\"T_b11be_row0_col1\" class=\"data row0 col1\" >0.0797</td>\n      <td id=\"T_b11be_row0_col2\" class=\"data row0 col2\" >0.1866</td>\n    </tr>\n  </tbody>\n</table>\n",
     "groups[0]": "Ужасно",
     "groups[1]": "Плохо"
    }
   },
   "outputs": [],
   "source": [
    "display_pvalues(pvalues.loc[', '.join(group_pairs[group_pair_index])].to_frame().T, metrics=research_metrics, alpha=alpha, caption=f'<b>Test p-values</b>', col_width=160)"
   ]
  },
  {
   "cell_type": "markdown",
   "metadata": {
    "variables": {
     "display_pvalues(pvalues.loc[', '.join(group_pairs[group_pair_index])].to_frame().T, metrics=research_metrics, alpha=alpha, caption=f'<b>Значения p-value статистического теста</b>', col_width=160)": "<style type=\"text/css\">\n#T_b11be caption {\n  font-size: 12pt;\n  text-align: center;\n  color: black;\n}\n#T_b11be td {\n  text-align: center;\n  border: 1px solid lightgray;\n  border-collapse: collapse;\n}\n#T_b11be .row_heading {\n  width: 120px;\n  text-align: center;\n}\n#T_b11be  td {\n  width: 120px;\n  text-align: center;\n}\n#T_b11be .col_heading {\n  width: 160px;\n  text-align: center;\n}\n#T_b11be  td {\n  width: 160px;\n  text-align: center;\n}\n#T_b11be_level0_col0, #T_b11be_level0_col1, #T_b11be_level0_col2 {\n  border: 1px solid lightgray;\n  border-collapse: collapse;\n}\n</style>\n<table id=\"T_b11be\">\n  <caption><b>Значения p-value статистического теста</b></caption>\n  <thead>\n    <tr>\n      <th id=\"T_b11be_level0_col0\" class=\"col_heading level0 col0\" >Средняя скорость «к абоненту»</th>\n      <th id=\"T_b11be_level0_col1\" class=\"col_heading level0 col1\" >Скорость загрузки потокового видео</th>\n      <th id=\"T_b11be_level0_col2\" class=\"col_heading level0 col2\" >Скорость загрузки web-страниц через браузер</th>\n    </tr>\n  </thead>\n  <tbody>\n    <tr>\n      <td id=\"T_b11be_row0_col0\" class=\"data row0 col0\" >0.0785</td>\n      <td id=\"T_b11be_row0_col1\" class=\"data row0 col1\" >0.0797</td>\n      <td id=\"T_b11be_row0_col2\" class=\"data row0 col2\" >0.1866</td>\n    </tr>\n  </tbody>\n</table>\n",
     "groups[0]": "Ужасно",
     "groups[1]": "Плохо"
    }
   },
   "source": [
    "**Conclusions:**\n",
    "\n",
    "1. Since the `p-values` obtained as a result of the test for all metrics are **greater** than the significance level, we **cannot reject the null hypothesis** with respect to all the metrics under research and, accordingly, Let's assume that the values of all metrics in the `Neutral` group are **not less** than those in the `Satisfied` group.\n",
    "\n",
    "2. It should be noted that the values of the `Downlink Throughput` and `Video Streaming Download Throughput` metrics of the researched groups have, although not significant, but **significant differences**, since the `p-values` of these metrics are **close** to the significance level."
   ]
  },
  {
   "cell_type": "markdown",
   "metadata": {
    "variables": {
     "groups[3]": "Хорошо",
     "groups[4]": "Отлично"
    }
   },
   "source": [
    "#### 6.4.4. Statistical test for the groups \"Satisfied\" and \"Very satisfied\"\n",
    "\n",
    "For all metrics, as a `null hypothesis` Let's accept the assumption that the values of the `Satisfied` group statistics are **not less than** the values of the `Very satisfied` group statistics. And as an `alternative hypothesis` Let's accept the opposite statement that the value of the `Satisfied` group statistics is **less than** the values of the `Very satisfied` group statistics. In mathematical form, the test statistics and formulated hypotheses can be written as follows:\n",
    "\n",
    "$$\n",
    "\\Delta \\hat{TM}=\\hat{TM}_{Satisfied}-\\hat{TM}_{Very satisfied}\\\\\n",
    "H_0:\\Delta \\hat{TM}≥0\\\\\n",
    "H_1:\\Delta \\hat{TM}<0\n",
    "$$\n",
    "\n",
    "Let's perform testing and visualize the results by constructing histograms of the zero distribution of the test statistics of the metrics under research. On the histograms, we mark the observed value of the test statistic with a vertical dashed line and color the areas of the distributions that are used to calculate the `p-values` (from the lines of the observed values of the test statistic)."
   ]
  },
  {
   "cell_type": "code",
   "execution_count": null,
   "metadata": {},
   "outputs": [],
   "source": [
    "# Test data preparation\n",
    "group_pair_index = 3\n",
    "test_data = research_data.loc[group_pairs[group_pair_index]]\n",
    "# Perform testing\n",
    "pvalues.loc[', '.join(group_pairs[group_pair_index])], null_distributions, statistics = permutation_test(\n",
    "    test_data, research_metrics['test statistic'], alternatives)\n",
    "# Output of the density histogram of the null distribution\n",
    "plot_metric_histograms(\n",
    "    null_distributions, statistic=statistics, metrics=research_metrics,\n",
    "    title=f'<b>Density of the null probability distribution of the test statistic</b>', title_y=0.9,\n",
    "    height=300, n_cols=3, opacity=0.5,\n",
    "    histnorm='probability density',\n",
    "    add_kde=True, add_statistic=True, mark_statistic=mark_statistic,\n",
    "    horizontal_spacing=0.08, vertical_spacing=0.07)"
   ]
  },
  {
   "cell_type": "markdown",
   "metadata": {
    "variables": {
     "display_pvalues(pvalues.loc[', '.join(group_pairs[group_pair_index])].to_frame().T, metrics=research_metrics, alpha=alpha, caption=f'<b>Значения p-value статистического теста</b>', col_width=160)": "<style type=\"text/css\">\n#T_7798f caption {\n  font-size: 12pt;\n  text-align: center;\n  color: black;\n}\n#T_7798f td {\n  text-align: center;\n  border: 1px solid lightgray;\n  border-collapse: collapse;\n}\n#T_7798f .row_heading {\n  width: 120px;\n  text-align: center;\n}\n#T_7798f  td {\n  width: 120px;\n  text-align: center;\n}\n#T_7798f .col_heading {\n  width: 160px;\n  text-align: center;\n}\n#T_7798f  td {\n  width: 160px;\n  text-align: center;\n}\n#T_7798f_row0_col0, #T_7798f_row0_col1, #T_7798f_row0_col2 {\n  color: red;\n  font-weight: bold;\n}\n#T_7798f_level0_col0, #T_7798f_level0_col1, #T_7798f_level0_col2 {\n  border: 1px solid lightgray;\n  border-collapse: collapse;\n}\n</style>\n<table id=\"T_7798f\">\n  <caption><b>Значения p-value статистического теста</b></caption>\n  <thead>\n    <tr>\n      <th id=\"T_7798f_level0_col0\" class=\"col_heading level0 col0\" >Средняя скорость «к абоненту»</th>\n      <th id=\"T_7798f_level0_col1\" class=\"col_heading level0 col1\" >Скорость загрузки потокового видео</th>\n      <th id=\"T_7798f_level0_col2\" class=\"col_heading level0 col2\" >Скорость загрузки web-страниц через браузер</th>\n    </tr>\n  </thead>\n  <tbody>\n    <tr>\n      <td id=\"T_7798f_row0_col0\" class=\"data row0 col0\" >0.0013</td>\n      <td id=\"T_7798f_row0_col1\" class=\"data row0 col1\" >0.0007</td>\n      <td id=\"T_7798f_row0_col2\" class=\"data row0 col2\" >0.0032</td>\n    </tr>\n  </tbody>\n</table>\n"
    }
   },
   "source": [
    "Let's present the obtained `p-values` in a tabular form, marking in \"<span style=\"color: red; font-weight: bold;\">red</span>\" those values that are below the significance level."
   ]
  },
  {
   "cell_type": "code",
   "execution_count": null,
   "metadata": {
    "scrolled": true,
    "variables": {
     "display_pvalues(pvalues.loc[', '.join(group_pairs[group_pair_index])].to_frame().T, metrics=research_metrics, alpha=alpha, caption=f'<b>Значения p-value статистического теста</b>', col_width=160)": "<style type=\"text/css\">\n#T_7798f caption {\n  font-size: 12pt;\n  text-align: center;\n  color: black;\n}\n#T_7798f td {\n  text-align: center;\n  border: 1px solid lightgray;\n  border-collapse: collapse;\n}\n#T_7798f .row_heading {\n  width: 120px;\n  text-align: center;\n}\n#T_7798f  td {\n  width: 120px;\n  text-align: center;\n}\n#T_7798f .col_heading {\n  width: 160px;\n  text-align: center;\n}\n#T_7798f  td {\n  width: 160px;\n  text-align: center;\n}\n#T_7798f_row0_col0, #T_7798f_row0_col1, #T_7798f_row0_col2 {\n  color: red;\n  font-weight: bold;\n}\n#T_7798f_level0_col0, #T_7798f_level0_col1, #T_7798f_level0_col2 {\n  border: 1px solid lightgray;\n  border-collapse: collapse;\n}\n</style>\n<table id=\"T_7798f\">\n  <caption><b>Значения p-value статистического теста</b></caption>\n  <thead>\n    <tr>\n      <th id=\"T_7798f_level0_col0\" class=\"col_heading level0 col0\" >Средняя скорость «к абоненту»</th>\n      <th id=\"T_7798f_level0_col1\" class=\"col_heading level0 col1\" >Скорость загрузки потокового видео</th>\n      <th id=\"T_7798f_level0_col2\" class=\"col_heading level0 col2\" >Скорость загрузки web-страниц через браузер</th>\n    </tr>\n  </thead>\n  <tbody>\n    <tr>\n      <td id=\"T_7798f_row0_col0\" class=\"data row0 col0\" >0.0013</td>\n      <td id=\"T_7798f_row0_col1\" class=\"data row0 col1\" >0.0007</td>\n      <td id=\"T_7798f_row0_col2\" class=\"data row0 col2\" >0.0032</td>\n    </tr>\n  </tbody>\n</table>\n"
    }
   },
   "outputs": [],
   "source": [
    "display_pvalues(pvalues.loc[', '.join(group_pairs[group_pair_index])].to_frame().T, metrics=research_metrics, alpha=alpha, caption=f'<b>Test p-values</b>', col_width=160)"
   ]
  },
  {
   "cell_type": "markdown",
   "metadata": {
    "variables": {
     "display_pvalues(pvalues.loc[', '.join(group_pairs[group_pair_index])].to_frame().T, metrics=research_metrics, alpha=alpha, caption=f'<b>Значения p-value статистического теста</b>', col_width=160)": "<style type=\"text/css\">\n#T_00605 caption {\n  font-size: 12pt;\n  text-align: center;\n  color: black;\n}\n#T_00605 td {\n  text-align: center;\n  border: 1px solid lightgray;\n  border-collapse: collapse;\n}\n#T_00605 .row_heading {\n  width: 120px;\n  text-align: center;\n}\n#T_00605  td {\n  width: 120px;\n  text-align: center;\n}\n#T_00605 .col_heading {\n  width: 160px;\n  text-align: center;\n}\n#T_00605  td {\n  width: 160px;\n  text-align: center;\n}\n#T_00605_row0_col1, #T_00605_row0_col2 {\n  color: red;\n  font-weight: bold;\n}\n#T_00605_level0_col0, #T_00605_level0_col1, #T_00605_level0_col2 {\n  border: 1px solid lightgray;\n  border-collapse: collapse;\n}\n</style>\n<table id=\"T_00605\">\n  <caption><b>Значения p-value статистического теста</b></caption>\n  <thead>\n    <tr>\n      <th id=\"T_00605_level0_col0\" class=\"col_heading level0 col0\" >Средняя скорость «к абоненту»</th>\n      <th id=\"T_00605_level0_col1\" class=\"col_heading level0 col1\" >Скорость загрузки потокового видео</th>\n      <th id=\"T_00605_level0_col2\" class=\"col_heading level0 col2\" >Скорость загрузки web-страниц через браузер</th>\n    </tr>\n  </thead>\n  <tbody>\n    <tr>\n      <td id=\"T_00605_row0_col0\" class=\"data row0 col0\" >0.0801</td>\n      <td id=\"T_00605_row0_col1\" class=\"data row0 col1\" >0.0378</td>\n      <td id=\"T_00605_row0_col2\" class=\"data row0 col2\" >0.0075</td>\n    </tr>\n  </tbody>\n</table>\n",
     "group_pairs[group_pair_index][0]": "Хорошо",
     "group_pairs[group_pair_index][1]": "Отлично"
    }
   },
   "source": [
    "**Conclusions:**\n",
    "\n",
    "1. Since the `p-values` of the `Video Streaming Download Throughput` and `Web Page Download Throughput` metrics obtained as a result of the test are **less** than the significance level, we **can reject the null hypothesis** with respect to these metrics and, accordingly, Let's assume that the values of these metrics of the `Satisfied` group are **less** than those of the `Very satisfied` group.\n",
    "\n",
    "2. The values of the `Downlink Throughput` metric of the `Satisfied` group, although not significantly, are **significantly** `less`, since the `p-value` value of this metric is close to the significance level."
   ]
  },
  {
   "cell_type": "markdown",
   "metadata": {
    "variables": {
     "display_cat_info(data_clean).set_properties(pd.IndexSlice['Ужасно':'Хорошо', 'Интернет и видео'], color='white', background=px.colors.DEFAULT_PLOTLY_COLORS[0], opacity=0.5).set_properties(pd.IndexSlice['Ужасно':'Хорошо', 'Интернет': 'Видео'], color='white', background=px.colors.DEFAULT_PLOTLY_COLORS[1], opacity=0.5)": "<style type=\"text/css\">\n#T_8228c th {\n  width: 80px;\n  text-align: center;\n  border: 1px solid lightgray;\n}\n#T_8228c  td {\n  width: 80px;\n  text-align: center;\n  border: 1px solid lightgray;\n}\n#T_8228c th.index_name {\n  border: none;\n}\n#T_8228c_row0_col0, #T_8228c_row1_col0, #T_8228c_row2_col0, #T_8228c_row3_col0 {\n  color: white;\n  background: rgb(31, 119, 180);\n  opacity: 0.5;\n}\n#T_8228c_row0_col1, #T_8228c_row0_col2, #T_8228c_row1_col1, #T_8228c_row1_col2, #T_8228c_row2_col1, #T_8228c_row2_col2, #T_8228c_row3_col1, #T_8228c_row3_col2 {\n  color: white;\n  background: rgb(255, 127, 14);\n  opacity: 0.5;\n}\n</style>\n<table id=\"T_8228c\">\n  <thead>\n    <tr>\n      <th class=\"index_name level0\" ></th>\n      <th id=\"T_8228c_level0_col0\" class=\"col_heading level0 col0\" >Интернет и видео</th>\n      <th id=\"T_8228c_level0_col1\" class=\"col_heading level0 col1\" >Интернет</th>\n      <th id=\"T_8228c_level0_col2\" class=\"col_heading level0 col2\" >Видео</th>\n      <th id=\"T_8228c_level0_col3\" class=\"col_heading level0 col3\" >Нет</th>\n    </tr>\n  </thead>\n  <tbody>\n    <tr>\n      <th id=\"T_8228c_level0_row0\" class=\"row_heading level0 row0\" >Ужасно</th>\n      <td id=\"T_8228c_row0_col0\" class=\"data row0 col0\" >82</td>\n      <td id=\"T_8228c_row0_col1\" class=\"data row0 col1\" >142</td>\n      <td id=\"T_8228c_row0_col2\" class=\"data row0 col2\" >3</td>\n      <td id=\"T_8228c_row0_col3\" class=\"data row0 col3\" >-</td>\n    </tr>\n    <tr>\n      <th id=\"T_8228c_level0_row1\" class=\"row_heading level0 row1\" >Плохо</th>\n      <td id=\"T_8228c_row1_col0\" class=\"data row1 col0\" >49</td>\n      <td id=\"T_8228c_row1_col1\" class=\"data row1 col1\" >117</td>\n      <td id=\"T_8228c_row1_col2\" class=\"data row1 col2\" >3</td>\n      <td id=\"T_8228c_row1_col3\" class=\"data row1 col3\" >-</td>\n    </tr>\n    <tr>\n      <th id=\"T_8228c_level0_row2\" class=\"row_heading level0 row2\" >Нормально</th>\n      <td id=\"T_8228c_row2_col0\" class=\"data row2 col0\" >23</td>\n      <td id=\"T_8228c_row2_col1\" class=\"data row2 col1\" >84</td>\n      <td id=\"T_8228c_row2_col2\" class=\"data row2 col2\" >11</td>\n      <td id=\"T_8228c_row2_col3\" class=\"data row2 col3\" >-</td>\n    </tr>\n    <tr>\n      <th id=\"T_8228c_level0_row3\" class=\"row_heading level0 row3\" >Хорошо</th>\n      <td id=\"T_8228c_row3_col0\" class=\"data row3 col0\" >31</td>\n      <td id=\"T_8228c_row3_col1\" class=\"data row3 col1\" >97</td>\n      <td id=\"T_8228c_row3_col2\" class=\"data row3 col2\" >20</td>\n      <td id=\"T_8228c_row3_col3\" class=\"data row3 col3\" >-</td>\n    </tr>\n    <tr>\n      <th id=\"T_8228c_level0_row4\" class=\"row_heading level0 row4\" >Отлично</th>\n      <td id=\"T_8228c_row4_col0\" class=\"data row4 col0\" >-</td>\n      <td id=\"T_8228c_row4_col1\" class=\"data row4 col1\" >-</td>\n      <td id=\"T_8228c_row4_col2\" class=\"data row4 col2\" >-</td>\n      <td id=\"T_8228c_row4_col3\" class=\"data row4 col3\" >1084</td>\n    </tr>\n  </tbody>\n</table>\n",
     "display_pvalues(pvalues, metrics=research_metrics, alpha=alpha, caption=f'<b>Значение p-value статистических тестов</b>', opacity=0.5, col_width=160)": "<style type=\"text/css\">\n#T_b0084 caption {\n  font-size: 12pt;\n  text-align: center;\n  color: black;\n}\n#T_b0084 td {\n  text-align: center;\n  border: 1px solid lightgray;\n  border-collapse: collapse;\n}\n#T_b0084 .row_heading {\n  width: 120px;\n  text-align: center;\n}\n#T_b0084  td {\n  width: 120px;\n  text-align: center;\n}\n#T_b0084 .col_heading {\n  width: 160px;\n  text-align: center;\n}\n#T_b0084  td {\n  width: 160px;\n  text-align: center;\n}\n#T_b0084_row0_col0, #T_b0084_row0_col1, #T_b0084_row0_col2, #T_b0084_row2_col0, #T_b0084_row2_col1, #T_b0084_row2_col2 {\n  color: red;\n  font-weight: bold;\n}\n#T_b0084_level0_row0, #T_b0084_level1_row2 {\n  color: white;\n  background-color: rgb(31, 119, 180);\n  opacity: 0.5;\n  border: 1px solid lightgray;\n  border-collapse: collapse;\n}\n#T_b0084_level1_row0, #T_b0084_level0_row1 {\n  color: white;\n  background-color: rgb(255, 127, 14);\n  opacity: 0.5;\n  border: 1px solid lightgray;\n  border-collapse: collapse;\n}\n#T_b0084_level1_row1, #T_b0084_level0_row2 {\n  color: white;\n  background-color: rgb(44, 160, 44);\n  opacity: 0.5;\n  border: 1px solid lightgray;\n  border-collapse: collapse;\n}\n#T_b0084_level0_col0, #T_b0084_level0_col1, #T_b0084_level0_col2 {\n  border: 1px solid lightgray;\n  border-collapse: collapse;\n}\n</style>\n<table id=\"T_b0084\">\n  <caption><b>Значение p-value статистических тестов</b></caption>\n  <thead>\n    <tr>\n      <th class=\"blank\" >&nbsp;</th>\n      <th class=\"blank level0\" >&nbsp;</th>\n      <th id=\"T_b0084_level0_col0\" class=\"col_heading level0 col0\" >Средняя скорость «к абоненту»</th>\n      <th id=\"T_b0084_level0_col1\" class=\"col_heading level0 col1\" >Скорость загрузки потокового видео</th>\n      <th id=\"T_b0084_level0_col2\" class=\"col_heading level0 col2\" >Скорость загрузки web-страниц через браузер</th>\n    </tr>\n  </thead>\n  <tbody>\n    <tr>\n      <th id=\"T_b0084_level0_row0\" class=\"row_heading level0 row0\" >Интернет и видео</th>\n      <th id=\"T_b0084_level1_row0\" class=\"row_heading level1 row0\" >Интернет</th>\n      <td id=\"T_b0084_row0_col0\" class=\"data row0 col0\" >0.0013</td>\n      <td id=\"T_b0084_row0_col1\" class=\"data row0 col1\" >0.0007</td>\n      <td id=\"T_b0084_row0_col2\" class=\"data row0 col2\" >0.0032</td>\n    </tr>\n    <tr>\n      <th id=\"T_b0084_level0_row1\" class=\"row_heading level0 row1\" >Интернет</th>\n      <th id=\"T_b0084_level1_row1\" class=\"row_heading level1 row1\" >Видео</th>\n      <td id=\"T_b0084_row1_col0\" class=\"data row1 col0\" >0.0733</td>\n      <td id=\"T_b0084_row1_col1\" class=\"data row1 col1\" >0.4584</td>\n      <td id=\"T_b0084_row1_col2\" class=\"data row1 col2\" >0.3080</td>\n    </tr>\n    <tr>\n      <th id=\"T_b0084_level0_row2\" class=\"row_heading level0 row2\" >Видео</th>\n      <th id=\"T_b0084_level1_row2\" class=\"row_heading level1 row2\" >Интернет и видео</th>\n      <td id=\"T_b0084_row2_col0\" class=\"data row2 col0\" >0.0027</td>\n      <td id=\"T_b0084_row2_col1\" class=\"data row2 col1\" >0.0393</td>\n      <td id=\"T_b0084_row2_col2\" class=\"data row2 col2\" >0.0195</td>\n    </tr>\n  </tbody>\n</table>\n"
    }
   },
   "source": [
    "### 6.5. Conclusion"
   ]
  },
  {
   "cell_type": "markdown",
   "metadata": {},
   "source": [
    "To form the conclusions of the research, it is necessary to analyze the results of all the tests performed. To do this, Let's display the obtained `p-values` of all the tests in tabular form:"
   ]
  },
  {
   "cell_type": "code",
   "execution_count": null,
   "metadata": {
    "variables": {
     "display_cat_info(data_clean).set_properties(pd.IndexSlice['Ужасно': 'Плохо', 'Интернет и видео':'Видео'], color='white', background=px.colors.DEFAULT_PLOTLY_COLORS[0], opacity=0.5).set_properties(pd.IndexSlice['Нормально': 'Хорошо', 'Интернет и видео':'Видео'], color='white', background=px.colors.DEFAULT_PLOTLY_COLORS[1], opacity=0.5).set_properties(pd.IndexSlice['Отлично', 'Нет'], color='white', background=px.colors.DEFAULT_PLOTLY_COLORS[2], opacity=0.5)": "<style type=\"text/css\">\n#T_fe7de th {\n  width: 80px;\n  text-align: center;\n  border: 1px solid lightgray;\n}\n#T_fe7de  td {\n  width: 80px;\n  text-align: center;\n  border: 1px solid lightgray;\n}\n#T_fe7de th.index_name {\n  border: none;\n}\n#T_fe7de_row0_col0, #T_fe7de_row0_col1, #T_fe7de_row0_col2, #T_fe7de_row1_col0, #T_fe7de_row1_col1, #T_fe7de_row1_col2 {\n  color: white;\n  background: rgb(31, 119, 180);\n  opacity: 0.5;\n}\n#T_fe7de_row2_col0, #T_fe7de_row2_col1, #T_fe7de_row2_col2, #T_fe7de_row3_col0, #T_fe7de_row3_col1, #T_fe7de_row3_col2 {\n  color: white;\n  background: rgb(255, 127, 14);\n  opacity: 0.5;\n}\n#T_fe7de_row4_col3 {\n  color: white;\n  background: rgb(44, 160, 44);\n  opacity: 0.5;\n}\n</style>\n<table id=\"T_fe7de\">\n  <thead>\n    <tr>\n      <th class=\"index_name level0\" ></th>\n      <th id=\"T_fe7de_level0_col0\" class=\"col_heading level0 col0\" >Интернет и видео</th>\n      <th id=\"T_fe7de_level0_col1\" class=\"col_heading level0 col1\" >Интернет</th>\n      <th id=\"T_fe7de_level0_col2\" class=\"col_heading level0 col2\" >Видео</th>\n      <th id=\"T_fe7de_level0_col3\" class=\"col_heading level0 col3\" >Нет</th>\n    </tr>\n  </thead>\n  <tbody>\n    <tr>\n      <th id=\"T_fe7de_level0_row0\" class=\"row_heading level0 row0\" >Ужасно</th>\n      <td id=\"T_fe7de_row0_col0\" class=\"data row0 col0\" >82</td>\n      <td id=\"T_fe7de_row0_col1\" class=\"data row0 col1\" >142</td>\n      <td id=\"T_fe7de_row0_col2\" class=\"data row0 col2\" >3</td>\n      <td id=\"T_fe7de_row0_col3\" class=\"data row0 col3\" >-</td>\n    </tr>\n    <tr>\n      <th id=\"T_fe7de_level0_row1\" class=\"row_heading level0 row1\" >Плохо</th>\n      <td id=\"T_fe7de_row1_col0\" class=\"data row1 col0\" >49</td>\n      <td id=\"T_fe7de_row1_col1\" class=\"data row1 col1\" >117</td>\n      <td id=\"T_fe7de_row1_col2\" class=\"data row1 col2\" >3</td>\n      <td id=\"T_fe7de_row1_col3\" class=\"data row1 col3\" >-</td>\n    </tr>\n    <tr>\n      <th id=\"T_fe7de_level0_row2\" class=\"row_heading level0 row2\" >Нормально</th>\n      <td id=\"T_fe7de_row2_col0\" class=\"data row2 col0\" >23</td>\n      <td id=\"T_fe7de_row2_col1\" class=\"data row2 col1\" >84</td>\n      <td id=\"T_fe7de_row2_col2\" class=\"data row2 col2\" >11</td>\n      <td id=\"T_fe7de_row2_col3\" class=\"data row2 col3\" >-</td>\n    </tr>\n    <tr>\n      <th id=\"T_fe7de_level0_row3\" class=\"row_heading level0 row3\" >Хорошо</th>\n      <td id=\"T_fe7de_row3_col0\" class=\"data row3 col0\" >31</td>\n      <td id=\"T_fe7de_row3_col1\" class=\"data row3 col1\" >97</td>\n      <td id=\"T_fe7de_row3_col2\" class=\"data row3 col2\" >20</td>\n      <td id=\"T_fe7de_row3_col3\" class=\"data row3 col3\" >-</td>\n    </tr>\n    <tr>\n      <th id=\"T_fe7de_level0_row4\" class=\"row_heading level0 row4\" >Отлично</th>\n      <td id=\"T_fe7de_row4_col0\" class=\"data row4 col0\" >-</td>\n      <td id=\"T_fe7de_row4_col1\" class=\"data row4 col1\" >-</td>\n      <td id=\"T_fe7de_row4_col2\" class=\"data row4 col2\" >-</td>\n      <td id=\"T_fe7de_row4_col3\" class=\"data row4 col3\" >1084</td>\n    </tr>\n  </tbody>\n</table>\n",
     "display_pvalues(pvalues, metrics=research_metrics, alpha=alpha, caption=f'<b>Значение p-value статистических тестов</b>', opacity=0.5, col_width=160)": "<style type=\"text/css\">\n#T_e604a caption {\n  font-size: 12pt;\n  text-align: center;\n  color: black;\n}\n#T_e604a td {\n  text-align: center;\n  border: 1px solid lightgray;\n  border-collapse: collapse;\n}\n#T_e604a .row_heading {\n  width: 120px;\n  text-align: center;\n}\n#T_e604a  td {\n  width: 120px;\n  text-align: center;\n}\n#T_e604a .col_heading {\n  width: 160px;\n  text-align: center;\n}\n#T_e604a  td {\n  width: 160px;\n  text-align: center;\n}\n#T_e604a_row1_col1, #T_e604a_row3_col1, #T_e604a_row3_col2 {\n  color: red;\n  font-weight: bold;\n}\n#T_e604a_level0_row0 {\n  color: white;\n  background-color: rgb(31, 119, 180);\n  opacity: 0.5;\n  border: 1px solid lightgray;\n  border-collapse: collapse;\n}\n#T_e604a_level1_row0, #T_e604a_level0_row1 {\n  color: white;\n  background-color: rgb(255, 127, 14);\n  opacity: 0.5;\n  border: 1px solid lightgray;\n  border-collapse: collapse;\n}\n#T_e604a_level1_row1, #T_e604a_level0_row2 {\n  color: white;\n  background-color: rgb(44, 160, 44);\n  opacity: 0.5;\n  border: 1px solid lightgray;\n  border-collapse: collapse;\n}\n#T_e604a_level1_row2, #T_e604a_level0_row3 {\n  color: white;\n  background-color: rgb(214, 39, 40);\n  opacity: 0.5;\n  border: 1px solid lightgray;\n  border-collapse: collapse;\n}\n#T_e604a_level1_row3 {\n  color: white;\n  background-color: rgb(148, 103, 189);\n  opacity: 0.5;\n  border: 1px solid lightgray;\n  border-collapse: collapse;\n}\n#T_e604a_level0_col0, #T_e604a_level0_col1, #T_e604a_level0_col2 {\n  border: 1px solid lightgray;\n  border-collapse: collapse;\n}\n</style>\n<table id=\"T_e604a\">\n  <caption><b>Значение p-value статистических тестов</b></caption>\n  <thead>\n    <tr>\n      <th class=\"blank\" >&nbsp;</th>\n      <th class=\"blank level0\" >&nbsp;</th>\n      <th id=\"T_e604a_level0_col0\" class=\"col_heading level0 col0\" >Средняя скорость «к абоненту»</th>\n      <th id=\"T_e604a_level0_col1\" class=\"col_heading level0 col1\" >Скорость загрузки потокового видео</th>\n      <th id=\"T_e604a_level0_col2\" class=\"col_heading level0 col2\" >Скорость загрузки web-страниц через браузер</th>\n    </tr>\n  </thead>\n  <tbody>\n    <tr>\n      <th id=\"T_e604a_level0_row0\" class=\"row_heading level0 row0\" >Ужасно</th>\n      <th id=\"T_e604a_level1_row0\" class=\"row_heading level1 row0\" >Плохо</th>\n      <td id=\"T_e604a_row0_col0\" class=\"data row0 col0\" >0.2275</td>\n      <td id=\"T_e604a_row0_col1\" class=\"data row0 col1\" >0.4500</td>\n      <td id=\"T_e604a_row0_col2\" class=\"data row0 col2\" >0.1916</td>\n    </tr>\n    <tr>\n      <th id=\"T_e604a_level0_row1\" class=\"row_heading level0 row1\" >Плохо</th>\n      <th id=\"T_e604a_level1_row1\" class=\"row_heading level1 row1\" >Нормально</th>\n      <td id=\"T_e604a_row1_col0\" class=\"data row1 col0\" >0.2895</td>\n      <td id=\"T_e604a_row1_col1\" class=\"data row1 col1\" >0.0412</td>\n      <td id=\"T_e604a_row1_col2\" class=\"data row1 col2\" >0.3149</td>\n    </tr>\n    <tr>\n      <th id=\"T_e604a_level0_row2\" class=\"row_heading level0 row2\" >Нормально</th>\n      <th id=\"T_e604a_level1_row2\" class=\"row_heading level1 row2\" >Хорошо</th>\n      <td id=\"T_e604a_row2_col0\" class=\"data row2 col0\" >0.0785</td>\n      <td id=\"T_e604a_row2_col1\" class=\"data row2 col1\" >0.0797</td>\n      <td id=\"T_e604a_row2_col2\" class=\"data row2 col2\" >0.1866</td>\n    </tr>\n    <tr>\n      <th id=\"T_e604a_level0_row3\" class=\"row_heading level0 row3\" >Хорошо</th>\n      <th id=\"T_e604a_level1_row3\" class=\"row_heading level1 row3\" >Отлично</th>\n      <td id=\"T_e604a_row3_col0\" class=\"data row3 col0\" >0.0801</td>\n      <td id=\"T_e604a_row3_col1\" class=\"data row3 col1\" >0.0378</td>\n      <td id=\"T_e604a_row3_col2\" class=\"data row3 col2\" >0.0075</td>\n    </tr>\n  </tbody>\n</table>\n"
    }
   },
   "outputs": [],
   "source": [
    "display_pvalues(pvalues, metrics=research_metrics, alpha=alpha, caption=f'<b>Tests p-values</b>', opacity=0.5, col_width=160)"
   ]
  },
  {
   "cell_type": "markdown",
   "metadata": {
    "variables": {
     "display_cat_info(data_clean).set_properties(pd.IndexSlice['Ужасно': 'Плохо', 'Интернет и видео':'Видео'], color='white', background=px.colors.DEFAULT_PLOTLY_COLORS[0], opacity=0.5).set_properties(pd.IndexSlice['Нормально': 'Хорошо', 'Интернет и видео':'Видео'], color='white', background=px.colors.DEFAULT_PLOTLY_COLORS[1], opacity=0.5).set_properties(pd.IndexSlice['Отлично', 'Нет'], color='white', background=px.colors.DEFAULT_PLOTLY_COLORS[2], opacity=0.5)": "<style type=\"text/css\">\n#T_fe7de th {\n  width: 80px;\n  text-align: center;\n  border: 1px solid lightgray;\n}\n#T_fe7de  td {\n  width: 80px;\n  text-align: center;\n  border: 1px solid lightgray;\n}\n#T_fe7de th.index_name {\n  border: none;\n}\n#T_fe7de_row0_col0, #T_fe7de_row0_col1, #T_fe7de_row0_col2, #T_fe7de_row1_col0, #T_fe7de_row1_col1, #T_fe7de_row1_col2 {\n  color: white;\n  background: rgb(31, 119, 180);\n  opacity: 0.5;\n}\n#T_fe7de_row2_col0, #T_fe7de_row2_col1, #T_fe7de_row2_col2, #T_fe7de_row3_col0, #T_fe7de_row3_col1, #T_fe7de_row3_col2 {\n  color: white;\n  background: rgb(255, 127, 14);\n  opacity: 0.5;\n}\n#T_fe7de_row4_col3 {\n  color: white;\n  background: rgb(44, 160, 44);\n  opacity: 0.5;\n}\n</style>\n<table id=\"T_fe7de\">\n  <thead>\n    <tr>\n      <th class=\"index_name level0\" ></th>\n      <th id=\"T_fe7de_level0_col0\" class=\"col_heading level0 col0\" >Интернет и видео</th>\n      <th id=\"T_fe7de_level0_col1\" class=\"col_heading level0 col1\" >Интернет</th>\n      <th id=\"T_fe7de_level0_col2\" class=\"col_heading level0 col2\" >Видео</th>\n      <th id=\"T_fe7de_level0_col3\" class=\"col_heading level0 col3\" >Нет</th>\n    </tr>\n  </thead>\n  <tbody>\n    <tr>\n      <th id=\"T_fe7de_level0_row0\" class=\"row_heading level0 row0\" >Ужасно</th>\n      <td id=\"T_fe7de_row0_col0\" class=\"data row0 col0\" >82</td>\n      <td id=\"T_fe7de_row0_col1\" class=\"data row0 col1\" >142</td>\n      <td id=\"T_fe7de_row0_col2\" class=\"data row0 col2\" >3</td>\n      <td id=\"T_fe7de_row0_col3\" class=\"data row0 col3\" >-</td>\n    </tr>\n    <tr>\n      <th id=\"T_fe7de_level0_row1\" class=\"row_heading level0 row1\" >Плохо</th>\n      <td id=\"T_fe7de_row1_col0\" class=\"data row1 col0\" >49</td>\n      <td id=\"T_fe7de_row1_col1\" class=\"data row1 col1\" >117</td>\n      <td id=\"T_fe7de_row1_col2\" class=\"data row1 col2\" >3</td>\n      <td id=\"T_fe7de_row1_col3\" class=\"data row1 col3\" >-</td>\n    </tr>\n    <tr>\n      <th id=\"T_fe7de_level0_row2\" class=\"row_heading level0 row2\" >Нормально</th>\n      <td id=\"T_fe7de_row2_col0\" class=\"data row2 col0\" >23</td>\n      <td id=\"T_fe7de_row2_col1\" class=\"data row2 col1\" >84</td>\n      <td id=\"T_fe7de_row2_col2\" class=\"data row2 col2\" >11</td>\n      <td id=\"T_fe7de_row2_col3\" class=\"data row2 col3\" >-</td>\n    </tr>\n    <tr>\n      <th id=\"T_fe7de_level0_row3\" class=\"row_heading level0 row3\" >Хорошо</th>\n      <td id=\"T_fe7de_row3_col0\" class=\"data row3 col0\" >31</td>\n      <td id=\"T_fe7de_row3_col1\" class=\"data row3 col1\" >97</td>\n      <td id=\"T_fe7de_row3_col2\" class=\"data row3 col2\" >20</td>\n      <td id=\"T_fe7de_row3_col3\" class=\"data row3 col3\" >-</td>\n    </tr>\n    <tr>\n      <th id=\"T_fe7de_level0_row4\" class=\"row_heading level0 row4\" >Отлично</th>\n      <td id=\"T_fe7de_row4_col0\" class=\"data row4 col0\" >-</td>\n      <td id=\"T_fe7de_row4_col1\" class=\"data row4 col1\" >-</td>\n      <td id=\"T_fe7de_row4_col2\" class=\"data row4 col2\" >-</td>\n      <td id=\"T_fe7de_row4_col3\" class=\"data row4 col3\" >1084</td>\n    </tr>\n  </tbody>\n</table>\n",
     "display_pvalues(pvalues, metrics=research_metrics, alpha=alpha, caption=f'<b>Значение p-value статистических тестов</b>', opacity=0.5, col_width=160)": "<style type=\"text/css\">\n#T_e604a caption {\n  font-size: 12pt;\n  text-align: center;\n  color: black;\n}\n#T_e604a td {\n  text-align: center;\n  border: 1px solid lightgray;\n  border-collapse: collapse;\n}\n#T_e604a .row_heading {\n  width: 120px;\n  text-align: center;\n}\n#T_e604a  td {\n  width: 120px;\n  text-align: center;\n}\n#T_e604a .col_heading {\n  width: 160px;\n  text-align: center;\n}\n#T_e604a  td {\n  width: 160px;\n  text-align: center;\n}\n#T_e604a_row1_col1, #T_e604a_row3_col1, #T_e604a_row3_col2 {\n  color: red;\n  font-weight: bold;\n}\n#T_e604a_level0_row0 {\n  color: white;\n  background-color: rgb(31, 119, 180);\n  opacity: 0.5;\n  border: 1px solid lightgray;\n  border-collapse: collapse;\n}\n#T_e604a_level1_row0, #T_e604a_level0_row1 {\n  color: white;\n  background-color: rgb(255, 127, 14);\n  opacity: 0.5;\n  border: 1px solid lightgray;\n  border-collapse: collapse;\n}\n#T_e604a_level1_row1, #T_e604a_level0_row2 {\n  color: white;\n  background-color: rgb(44, 160, 44);\n  opacity: 0.5;\n  border: 1px solid lightgray;\n  border-collapse: collapse;\n}\n#T_e604a_level1_row2, #T_e604a_level0_row3 {\n  color: white;\n  background-color: rgb(214, 39, 40);\n  opacity: 0.5;\n  border: 1px solid lightgray;\n  border-collapse: collapse;\n}\n#T_e604a_level1_row3 {\n  color: white;\n  background-color: rgb(148, 103, 189);\n  opacity: 0.5;\n  border: 1px solid lightgray;\n  border-collapse: collapse;\n}\n#T_e604a_level0_col0, #T_e604a_level0_col1, #T_e604a_level0_col2 {\n  border: 1px solid lightgray;\n  border-collapse: collapse;\n}\n</style>\n<table id=\"T_e604a\">\n  <caption><b>Значение p-value статистических тестов</b></caption>\n  <thead>\n    <tr>\n      <th class=\"blank\" >&nbsp;</th>\n      <th class=\"blank level0\" >&nbsp;</th>\n      <th id=\"T_e604a_level0_col0\" class=\"col_heading level0 col0\" >Средняя скорость «к абоненту»</th>\n      <th id=\"T_e604a_level0_col1\" class=\"col_heading level0 col1\" >Скорость загрузки потокового видео</th>\n      <th id=\"T_e604a_level0_col2\" class=\"col_heading level0 col2\" >Скорость загрузки web-страниц через браузер</th>\n    </tr>\n  </thead>\n  <tbody>\n    <tr>\n      <th id=\"T_e604a_level0_row0\" class=\"row_heading level0 row0\" >Ужасно</th>\n      <th id=\"T_e604a_level1_row0\" class=\"row_heading level1 row0\" >Плохо</th>\n      <td id=\"T_e604a_row0_col0\" class=\"data row0 col0\" >0.2275</td>\n      <td id=\"T_e604a_row0_col1\" class=\"data row0 col1\" >0.4500</td>\n      <td id=\"T_e604a_row0_col2\" class=\"data row0 col2\" >0.1916</td>\n    </tr>\n    <tr>\n      <th id=\"T_e604a_level0_row1\" class=\"row_heading level0 row1\" >Плохо</th>\n      <th id=\"T_e604a_level1_row1\" class=\"row_heading level1 row1\" >Нормально</th>\n      <td id=\"T_e604a_row1_col0\" class=\"data row1 col0\" >0.2895</td>\n      <td id=\"T_e604a_row1_col1\" class=\"data row1 col1\" >0.0412</td>\n      <td id=\"T_e604a_row1_col2\" class=\"data row1 col2\" >0.3149</td>\n    </tr>\n    <tr>\n      <th id=\"T_e604a_level0_row2\" class=\"row_heading level0 row2\" >Нормально</th>\n      <th id=\"T_e604a_level1_row2\" class=\"row_heading level1 row2\" >Хорошо</th>\n      <td id=\"T_e604a_row2_col0\" class=\"data row2 col0\" >0.0785</td>\n      <td id=\"T_e604a_row2_col1\" class=\"data row2 col1\" >0.0797</td>\n      <td id=\"T_e604a_row2_col2\" class=\"data row2 col2\" >0.1866</td>\n    </tr>\n    <tr>\n      <th id=\"T_e604a_level0_row3\" class=\"row_heading level0 row3\" >Хорошо</th>\n      <th id=\"T_e604a_level1_row3\" class=\"row_heading level1 row3\" >Отлично</th>\n      <td id=\"T_e604a_row3_col0\" class=\"data row3 col0\" >0.0801</td>\n      <td id=\"T_e604a_row3_col1\" class=\"data row3 col1\" >0.0378</td>\n      <td id=\"T_e604a_row3_col2\" class=\"data row3 col2\" >0.0075</td>\n    </tr>\n  </tbody>\n</table>\n"
    }
   },
   "source": [
    "Based on this information, we can give the following answers to the questions posed:\n",
    "1. Since all the metrics of the customers of the `Very unsatisfied` group are **no less** than those of the neighboring `Unsatisfied` group, we can assume that the customers of these groups **belong to the same population**.\n",
    "2. Since all the metrics of the customers of the `Neutral` group are **no less** than those of the neighboring `Satisfied` group, we can assume that the customers of these groups **belong to the same population**.\n",
    "3. The `Video Streaming Download Throughput` metric has the **strongest** influence on the division of customers into populations depending on the assessment of the mobile Internet service, since differences were found in the value of this metric between two pairs of the researched groups. But the `Downlink Throughput` metric has the **weakest** influence on this, since no pair of neighboring groups have differences in the values of this metric.\n",
    "\n",
    "Since it was found that the groups `Very unsatisfied` and `Unsatisfied` can be attributed to the same population, then in the future Let's consider the customers of these groups as belonging to the same category of customers with the same assessment of the quality of mobile Internet service. Let's call this category `Unsatisfied`.\n",
    "\n",
    "A similar situation is with the groups `Neutral` and `Satisfied`. Let's call the combined category `Satisfied`.\n",
    "\n",
    "Thus, we have the following categories of customers depending on the assessment of the quality of mobile Internet service:\n",
    "- <span style=\"color:white;background-color:rgb(31, 119, 180);opacity:0.5\">&nbsp;Unsatisfied&nbsp;</span>\n",
    "- <span style=\"color:white;background-color:rgb(255, 127, 14);opacity:0.5\">&nbsp;Satisfied&nbsp;</span>\n",
    "- <span style=\"color:white;background-color:rgb(44, 160, 44);opacity:0.5\">&nbsp;Very satisfied&nbsp;</span>\n",
    "\n",
    "Let's illustrate these categories on a customer distribution map:"
   ]
  },
  {
   "cell_type": "code",
   "execution_count": null,
   "metadata": {
    "variables": {
     "display_cat_info(data_clean).set_properties(pd.IndexSlice['Ужасно': 'Плохо', 'Интернет и видео':'Видео'], color='white', background=px.colors.DEFAULT_PLOTLY_COLORS[0], opacity=0.5).set_properties(pd.IndexSlice['Нормально': 'Хорошо', 'Интернет и видео':'Видео'], color='white', background=px.colors.DEFAULT_PLOTLY_COLORS[1], opacity=0.5).set_properties(pd.IndexSlice['Отлично', 'Нет'], color='white', background=px.colors.DEFAULT_PLOTLY_COLORS[2], opacity=0.5)": "<style type=\"text/css\">\n#T_fe7de th {\n  width: 80px;\n  text-align: center;\n  border: 1px solid lightgray;\n}\n#T_fe7de  td {\n  width: 80px;\n  text-align: center;\n  border: 1px solid lightgray;\n}\n#T_fe7de th.index_name {\n  border: none;\n}\n#T_fe7de_row0_col0, #T_fe7de_row0_col1, #T_fe7de_row0_col2, #T_fe7de_row1_col0, #T_fe7de_row1_col1, #T_fe7de_row1_col2 {\n  color: white;\n  background: rgb(31, 119, 180);\n  opacity: 0.5;\n}\n#T_fe7de_row2_col0, #T_fe7de_row2_col1, #T_fe7de_row2_col2, #T_fe7de_row3_col0, #T_fe7de_row3_col1, #T_fe7de_row3_col2 {\n  color: white;\n  background: rgb(255, 127, 14);\n  opacity: 0.5;\n}\n#T_fe7de_row4_col3 {\n  color: white;\n  background: rgb(44, 160, 44);\n  opacity: 0.5;\n}\n</style>\n<table id=\"T_fe7de\">\n  <thead>\n    <tr>\n      <th class=\"index_name level0\" ></th>\n      <th id=\"T_fe7de_level0_col0\" class=\"col_heading level0 col0\" >Интернет и видео</th>\n      <th id=\"T_fe7de_level0_col1\" class=\"col_heading level0 col1\" >Интернет</th>\n      <th id=\"T_fe7de_level0_col2\" class=\"col_heading level0 col2\" >Видео</th>\n      <th id=\"T_fe7de_level0_col3\" class=\"col_heading level0 col3\" >Нет</th>\n    </tr>\n  </thead>\n  <tbody>\n    <tr>\n      <th id=\"T_fe7de_level0_row0\" class=\"row_heading level0 row0\" >Ужасно</th>\n      <td id=\"T_fe7de_row0_col0\" class=\"data row0 col0\" >82</td>\n      <td id=\"T_fe7de_row0_col1\" class=\"data row0 col1\" >142</td>\n      <td id=\"T_fe7de_row0_col2\" class=\"data row0 col2\" >3</td>\n      <td id=\"T_fe7de_row0_col3\" class=\"data row0 col3\" >-</td>\n    </tr>\n    <tr>\n      <th id=\"T_fe7de_level0_row1\" class=\"row_heading level0 row1\" >Плохо</th>\n      <td id=\"T_fe7de_row1_col0\" class=\"data row1 col0\" >49</td>\n      <td id=\"T_fe7de_row1_col1\" class=\"data row1 col1\" >117</td>\n      <td id=\"T_fe7de_row1_col2\" class=\"data row1 col2\" >3</td>\n      <td id=\"T_fe7de_row1_col3\" class=\"data row1 col3\" >-</td>\n    </tr>\n    <tr>\n      <th id=\"T_fe7de_level0_row2\" class=\"row_heading level0 row2\" >Нормально</th>\n      <td id=\"T_fe7de_row2_col0\" class=\"data row2 col0\" >23</td>\n      <td id=\"T_fe7de_row2_col1\" class=\"data row2 col1\" >84</td>\n      <td id=\"T_fe7de_row2_col2\" class=\"data row2 col2\" >11</td>\n      <td id=\"T_fe7de_row2_col3\" class=\"data row2 col3\" >-</td>\n    </tr>\n    <tr>\n      <th id=\"T_fe7de_level0_row3\" class=\"row_heading level0 row3\" >Хорошо</th>\n      <td id=\"T_fe7de_row3_col0\" class=\"data row3 col0\" >31</td>\n      <td id=\"T_fe7de_row3_col1\" class=\"data row3 col1\" >97</td>\n      <td id=\"T_fe7de_row3_col2\" class=\"data row3 col2\" >20</td>\n      <td id=\"T_fe7de_row3_col3\" class=\"data row3 col3\" >-</td>\n    </tr>\n    <tr>\n      <th id=\"T_fe7de_level0_row4\" class=\"row_heading level0 row4\" >Отлично</th>\n      <td id=\"T_fe7de_row4_col0\" class=\"data row4 col0\" >-</td>\n      <td id=\"T_fe7de_row4_col1\" class=\"data row4 col1\" >-</td>\n      <td id=\"T_fe7de_row4_col2\" class=\"data row4 col2\" >-</td>\n      <td id=\"T_fe7de_row4_col3\" class=\"data row4 col3\" >1084</td>\n    </tr>\n  </tbody>\n</table>\n",
     "display_pvalues(pvalues, metrics=research_metrics, alpha=alpha, caption=f'<b>Значение p-value статистических тестов</b>', opacity=0.5, col_width=160)": "<style type=\"text/css\">\n#T_e604a caption {\n  font-size: 12pt;\n  text-align: center;\n  color: black;\n}\n#T_e604a td {\n  text-align: center;\n  border: 1px solid lightgray;\n  border-collapse: collapse;\n}\n#T_e604a .row_heading {\n  width: 120px;\n  text-align: center;\n}\n#T_e604a  td {\n  width: 120px;\n  text-align: center;\n}\n#T_e604a .col_heading {\n  width: 160px;\n  text-align: center;\n}\n#T_e604a  td {\n  width: 160px;\n  text-align: center;\n}\n#T_e604a_row1_col1, #T_e604a_row3_col1, #T_e604a_row3_col2 {\n  color: red;\n  font-weight: bold;\n}\n#T_e604a_level0_row0 {\n  color: white;\n  background-color: rgb(31, 119, 180);\n  opacity: 0.5;\n  border: 1px solid lightgray;\n  border-collapse: collapse;\n}\n#T_e604a_level1_row0, #T_e604a_level0_row1 {\n  color: white;\n  background-color: rgb(255, 127, 14);\n  opacity: 0.5;\n  border: 1px solid lightgray;\n  border-collapse: collapse;\n}\n#T_e604a_level1_row1, #T_e604a_level0_row2 {\n  color: white;\n  background-color: rgb(44, 160, 44);\n  opacity: 0.5;\n  border: 1px solid lightgray;\n  border-collapse: collapse;\n}\n#T_e604a_level1_row2, #T_e604a_level0_row3 {\n  color: white;\n  background-color: rgb(214, 39, 40);\n  opacity: 0.5;\n  border: 1px solid lightgray;\n  border-collapse: collapse;\n}\n#T_e604a_level1_row3 {\n  color: white;\n  background-color: rgb(148, 103, 189);\n  opacity: 0.5;\n  border: 1px solid lightgray;\n  border-collapse: collapse;\n}\n#T_e604a_level0_col0, #T_e604a_level0_col1, #T_e604a_level0_col2 {\n  border: 1px solid lightgray;\n  border-collapse: collapse;\n}\n</style>\n<table id=\"T_e604a\">\n  <caption><b>Значение p-value статистических тестов</b></caption>\n  <thead>\n    <tr>\n      <th class=\"blank\" >&nbsp;</th>\n      <th class=\"blank level0\" >&nbsp;</th>\n      <th id=\"T_e604a_level0_col0\" class=\"col_heading level0 col0\" >Средняя скорость «к абоненту»</th>\n      <th id=\"T_e604a_level0_col1\" class=\"col_heading level0 col1\" >Скорость загрузки потокового видео</th>\n      <th id=\"T_e604a_level0_col2\" class=\"col_heading level0 col2\" >Скорость загрузки web-страниц через браузер</th>\n    </tr>\n  </thead>\n  <tbody>\n    <tr>\n      <th id=\"T_e604a_level0_row0\" class=\"row_heading level0 row0\" >Ужасно</th>\n      <th id=\"T_e604a_level1_row0\" class=\"row_heading level1 row0\" >Плохо</th>\n      <td id=\"T_e604a_row0_col0\" class=\"data row0 col0\" >0.2275</td>\n      <td id=\"T_e604a_row0_col1\" class=\"data row0 col1\" >0.4500</td>\n      <td id=\"T_e604a_row0_col2\" class=\"data row0 col2\" >0.1916</td>\n    </tr>\n    <tr>\n      <th id=\"T_e604a_level0_row1\" class=\"row_heading level0 row1\" >Плохо</th>\n      <th id=\"T_e604a_level1_row1\" class=\"row_heading level1 row1\" >Нормально</th>\n      <td id=\"T_e604a_row1_col0\" class=\"data row1 col0\" >0.2895</td>\n      <td id=\"T_e604a_row1_col1\" class=\"data row1 col1\" >0.0412</td>\n      <td id=\"T_e604a_row1_col2\" class=\"data row1 col2\" >0.3149</td>\n    </tr>\n    <tr>\n      <th id=\"T_e604a_level0_row2\" class=\"row_heading level0 row2\" >Нормально</th>\n      <th id=\"T_e604a_level1_row2\" class=\"row_heading level1 row2\" >Хорошо</th>\n      <td id=\"T_e604a_row2_col0\" class=\"data row2 col0\" >0.0785</td>\n      <td id=\"T_e604a_row2_col1\" class=\"data row2 col1\" >0.0797</td>\n      <td id=\"T_e604a_row2_col2\" class=\"data row2 col2\" >0.1866</td>\n    </tr>\n    <tr>\n      <th id=\"T_e604a_level0_row3\" class=\"row_heading level0 row3\" >Хорошо</th>\n      <th id=\"T_e604a_level1_row3\" class=\"row_heading level1 row3\" >Отлично</th>\n      <td id=\"T_e604a_row3_col0\" class=\"data row3 col0\" >0.0801</td>\n      <td id=\"T_e604a_row3_col1\" class=\"data row3 col1\" >0.0378</td>\n      <td id=\"T_e604a_row3_col2\" class=\"data row3 col2\" >0.0075</td>\n    </tr>\n  </tbody>\n</table>\n"
    }
   },
   "outputs": [],
   "source": [
    "display_cat_info(data_clean).set_properties(pd.IndexSlice['Very unsatisfied': 'Unsatisfied', 'Internet and Video':'Video'], color='white', background=px.colors.DEFAULT_PLOTLY_COLORS[0], opacity=0.5).set_properties(pd.IndexSlice['Neutral': 'Satisfied', 'Internet and Video':'Video'], color='white', background=px.colors.DEFAULT_PLOTLY_COLORS[1], opacity=0.5).set_properties(pd.IndexSlice['Very satisfied', 'No'], color='white', background=px.colors.DEFAULT_PLOTLY_COLORS[2], opacity=0.5)"
   ]
  },
  {
   "cell_type": "markdown",
   "metadata": {
    "variables": {
     "display_cat_info(data_clean).set_properties(pd.IndexSlice['Ужасно': 'Плохо', 'Интернет и видео'], color='white', background=px.colors.DEFAULT_PLOTLY_COLORS[0], opacity=0.5).set_properties(pd.IndexSlice['Ужасно': 'Плохо', 'Интернет': 'Видео'], color='white', background=px.colors.DEFAULT_PLOTLY_COLORS[1], opacity=0.5).set_properties(pd.IndexSlice['Нормально': 'Хорошо', 'Интернет и видео'], color='white', background=px.colors.DEFAULT_PLOTLY_COLORS[2], opacity=0.5).set_properties(pd.IndexSlice['Нормально': 'Хорошо', 'Интернет': 'Видео'], color='white', background=px.colors.DEFAULT_PLOTLY_COLORS[3], opacity=0.5).set_properties(pd.IndexSlice['Отлично', 'Нет'], color='white', background=px.colors.DEFAULT_PLOTLY_COLORS[4], opacity=0.5)": "<style type=\"text/css\">\n#T_7571e th {\n  width: 80px;\n  text-align: center;\n  border: 1px solid lightgray;\n}\n#T_7571e  td {\n  width: 80px;\n  text-align: center;\n  border: 1px solid lightgray;\n}\n#T_7571e th.index_name {\n  border: none;\n}\n#T_7571e_row0_col0, #T_7571e_row1_col0 {\n  color: white;\n  background: rgb(31, 119, 180);\n  opacity: 0.5;\n}\n#T_7571e_row0_col1, #T_7571e_row0_col2, #T_7571e_row1_col1, #T_7571e_row1_col2 {\n  color: white;\n  background: rgb(255, 127, 14);\n  opacity: 0.5;\n}\n#T_7571e_row2_col0, #T_7571e_row3_col0 {\n  color: white;\n  background: rgb(44, 160, 44);\n  opacity: 0.5;\n}\n#T_7571e_row2_col1, #T_7571e_row2_col2, #T_7571e_row3_col1, #T_7571e_row3_col2 {\n  color: white;\n  background: rgb(214, 39, 40);\n  opacity: 0.5;\n}\n#T_7571e_row4_col3 {\n  color: white;\n  background: rgb(148, 103, 189);\n  opacity: 0.5;\n}\n</style>\n<table id=\"T_7571e\">\n  <thead>\n    <tr>\n      <th class=\"index_name level0\" ></th>\n      <th id=\"T_7571e_level0_col0\" class=\"col_heading level0 col0\" >Интернет и видео</th>\n      <th id=\"T_7571e_level0_col1\" class=\"col_heading level0 col1\" >Интернет</th>\n      <th id=\"T_7571e_level0_col2\" class=\"col_heading level0 col2\" >Видео</th>\n      <th id=\"T_7571e_level0_col3\" class=\"col_heading level0 col3\" >Нет</th>\n    </tr>\n  </thead>\n  <tbody>\n    <tr>\n      <th id=\"T_7571e_level0_row0\" class=\"row_heading level0 row0\" >Ужасно</th>\n      <td id=\"T_7571e_row0_col0\" class=\"data row0 col0\" >82</td>\n      <td id=\"T_7571e_row0_col1\" class=\"data row0 col1\" >142</td>\n      <td id=\"T_7571e_row0_col2\" class=\"data row0 col2\" >3</td>\n      <td id=\"T_7571e_row0_col3\" class=\"data row0 col3\" >-</td>\n    </tr>\n    <tr>\n      <th id=\"T_7571e_level0_row1\" class=\"row_heading level0 row1\" >Плохо</th>\n      <td id=\"T_7571e_row1_col0\" class=\"data row1 col0\" >49</td>\n      <td id=\"T_7571e_row1_col1\" class=\"data row1 col1\" >117</td>\n      <td id=\"T_7571e_row1_col2\" class=\"data row1 col2\" >3</td>\n      <td id=\"T_7571e_row1_col3\" class=\"data row1 col3\" >-</td>\n    </tr>\n    <tr>\n      <th id=\"T_7571e_level0_row2\" class=\"row_heading level0 row2\" >Нормально</th>\n      <td id=\"T_7571e_row2_col0\" class=\"data row2 col0\" >23</td>\n      <td id=\"T_7571e_row2_col1\" class=\"data row2 col1\" >84</td>\n      <td id=\"T_7571e_row2_col2\" class=\"data row2 col2\" >11</td>\n      <td id=\"T_7571e_row2_col3\" class=\"data row2 col3\" >-</td>\n    </tr>\n    <tr>\n      <th id=\"T_7571e_level0_row3\" class=\"row_heading level0 row3\" >Хорошо</th>\n      <td id=\"T_7571e_row3_col0\" class=\"data row3 col0\" >31</td>\n      <td id=\"T_7571e_row3_col1\" class=\"data row3 col1\" >97</td>\n      <td id=\"T_7571e_row3_col2\" class=\"data row3 col2\" >20</td>\n      <td id=\"T_7571e_row3_col3\" class=\"data row3 col3\" >-</td>\n    </tr>\n    <tr>\n      <th id=\"T_7571e_level0_row4\" class=\"row_heading level0 row4\" >Отлично</th>\n      <td id=\"T_7571e_row4_col0\" class=\"data row4 col0\" >-</td>\n      <td id=\"T_7571e_row4_col1\" class=\"data row4 col1\" >-</td>\n      <td id=\"T_7571e_row4_col2\" class=\"data row4 col2\" >-</td>\n      <td id=\"T_7571e_row4_col3\" class=\"data row4 col3\" >1084</td>\n    </tr>\n  </tbody>\n</table>\n"
    }
   },
   "source": [
    "## 7. Research of satisfaction levels with mobile internet service\n",
    "\n",
    "### 7.1. Purpose of the research\n",
    "\n",
    "We performed a research of dividing customers into categories of assessments and reasons for dissatisfaction with the mobile internet service obtained as a result of the survey. Based on the results of these studies, we can divide all customers into five categories depending on the degree of satisfaction with the quality of the mobile internet service. The degree of customer satisfaction is usually called `CSAT` from the English `Customer Satisfaction Score`. This indicator is usually indicated as a serial number (starting with 1) of the degree of satisfaction (in the ascending direction). Let's list the categories of customers in ascending order of `CSAT`:\n",
    "\n",
    "1. customers who negatively assessed the quality of the mobile internet service (category `Unsatisfactory`) and are dissatisfied with both the speed of the mobile internet and the speed of downloading video (category `Internet and Video`), we can distinguish in the category of customers who are `Completely dissatisfied` with the quality of the mobile internet service. 2. customers who rated the quality of mobile internet service negatively (category `Unsatisfactory`), but indicated only slow mobile internet or only slow video loading as the root cause (category `Internet or video`), we can classify into the category of customers who are `Partially dissatisfied` with the quality of mobile internet service.\n",
    "3. customers who rated the quality of mobile internet service positively overall (category `Satisfactory`), but who still have complaints about the speed of mobile internet and the speed of video loading (category `Internet and Video`), we can classify into the category of customers who are `Neither satisfied nor disappointed` with the quality of mobile internet service.\n",
    "4. customers who generally rated the quality of mobile Internet service positively (category `Satisfactory`), but who still have complaints about the speed of mobile Internet or the speed of downloading video (category `Internet or video`), we can classify into the category of customers who are `Partially satisfied` with the quality of mobile Internet service.\n",
    "5. The remaining customers who rated the service without having complaints about the mobile Internet service (category `Very satisfied`), Let's classify into the category of `Completely satisfied` customers.\n",
    "\n",
    "Perhaps such a division of customers by satisfaction levels is not statistically correct, i.e. some groups of customers with different `CSAT` do not have statistically significant differences in metrics.\n",
    "\n",
    "In this research, Let's try to understand whether this is true by answering the **following questions**:\n",
    "\n",
    "1. Do customers with different CSAT belong to different populations?\n",
    "\n",
    "2. If customers with different CSAT do not belong to the same population, then by which metrics do they differ especially strongly?\n",
    "\n",
    "For this purpose, in this research Let's divide customers into groups by the `CSAT` value. Let's assign a designation corresponding to the `CSAT` value and color scheme to these groups when displaying graphic and tabular data:\n",
    "- <span style=\"color:white;background-color:rgb(31, 119, 180);opacity:0.5\">&nbsp;1&nbsp;</span> - Completely dissatisfied;\n",
    "- <span style=\"color:white;background-color:rgb(255, 127, 14);opacity:0.5\">&nbsp;2&nbsp;</span> - Partly dissatisfied;\n",
    "- <span style=\"color:white;background-color:rgb(44, 160, 44);opacity:0.5\">&nbsp;3&nbsp;</span> - Neutral;\n",
    "- <span style=\"color:white;background-color:rgb(214, 39, 40);opacity:0.5\">&nbsp;4&nbsp;</span> - Partly satisfied;\n",
    "- <span style=\"color:white;background-color:rgb(148, 103, 189);opacity:0.5\">&nbsp;5&nbsp;</span> - Completely satisfied.\n",
    "\n",
    "Let's illustrate these groups on a customer distribution map:<br>"
   ]
  },
  {
   "cell_type": "code",
   "execution_count": null,
   "metadata": {
    "variables": {
     "display_cat_info(data_clean).set_properties(pd.IndexSlice['Ужасно': 'Плохо', 'Интернет и видео'], color='white', background=px.colors.DEFAULT_PLOTLY_COLORS[0], opacity=0.5).set_properties(pd.IndexSlice['Ужасно': 'Плохо', 'Интернет': 'Видео'], color='white', background=px.colors.DEFAULT_PLOTLY_COLORS[1], opacity=0.5).set_properties(pd.IndexSlice['Нормально': 'Хорошо', 'Интернет и видео'], color='white', background=px.colors.DEFAULT_PLOTLY_COLORS[2], opacity=0.5).set_properties(pd.IndexSlice['Нормально': 'Хорошо', 'Интернет': 'Видео'], color='white', background=px.colors.DEFAULT_PLOTLY_COLORS[3], opacity=0.5).set_properties(pd.IndexSlice['Отлично', 'Нет'], color='white', background=px.colors.DEFAULT_PLOTLY_COLORS[4], opacity=0.5)": "<style type=\"text/css\">\n#T_7571e th {\n  width: 80px;\n  text-align: center;\n  border: 1px solid lightgray;\n}\n#T_7571e  td {\n  width: 80px;\n  text-align: center;\n  border: 1px solid lightgray;\n}\n#T_7571e th.index_name {\n  border: none;\n}\n#T_7571e_row0_col0, #T_7571e_row1_col0 {\n  color: white;\n  background: rgb(31, 119, 180);\n  opacity: 0.5;\n}\n#T_7571e_row0_col1, #T_7571e_row0_col2, #T_7571e_row1_col1, #T_7571e_row1_col2 {\n  color: white;\n  background: rgb(255, 127, 14);\n  opacity: 0.5;\n}\n#T_7571e_row2_col0, #T_7571e_row3_col0 {\n  color: white;\n  background: rgb(44, 160, 44);\n  opacity: 0.5;\n}\n#T_7571e_row2_col1, #T_7571e_row2_col2, #T_7571e_row3_col1, #T_7571e_row3_col2 {\n  color: white;\n  background: rgb(214, 39, 40);\n  opacity: 0.5;\n}\n#T_7571e_row4_col3 {\n  color: white;\n  background: rgb(148, 103, 189);\n  opacity: 0.5;\n}\n</style>\n<table id=\"T_7571e\">\n  <thead>\n    <tr>\n      <th class=\"index_name level0\" ></th>\n      <th id=\"T_7571e_level0_col0\" class=\"col_heading level0 col0\" >Интернет и видео</th>\n      <th id=\"T_7571e_level0_col1\" class=\"col_heading level0 col1\" >Интернет</th>\n      <th id=\"T_7571e_level0_col2\" class=\"col_heading level0 col2\" >Видео</th>\n      <th id=\"T_7571e_level0_col3\" class=\"col_heading level0 col3\" >Нет</th>\n    </tr>\n  </thead>\n  <tbody>\n    <tr>\n      <th id=\"T_7571e_level0_row0\" class=\"row_heading level0 row0\" >Ужасно</th>\n      <td id=\"T_7571e_row0_col0\" class=\"data row0 col0\" >82</td>\n      <td id=\"T_7571e_row0_col1\" class=\"data row0 col1\" >142</td>\n      <td id=\"T_7571e_row0_col2\" class=\"data row0 col2\" >3</td>\n      <td id=\"T_7571e_row0_col3\" class=\"data row0 col3\" >-</td>\n    </tr>\n    <tr>\n      <th id=\"T_7571e_level0_row1\" class=\"row_heading level0 row1\" >Плохо</th>\n      <td id=\"T_7571e_row1_col0\" class=\"data row1 col0\" >49</td>\n      <td id=\"T_7571e_row1_col1\" class=\"data row1 col1\" >117</td>\n      <td id=\"T_7571e_row1_col2\" class=\"data row1 col2\" >3</td>\n      <td id=\"T_7571e_row1_col3\" class=\"data row1 col3\" >-</td>\n    </tr>\n    <tr>\n      <th id=\"T_7571e_level0_row2\" class=\"row_heading level0 row2\" >Нормально</th>\n      <td id=\"T_7571e_row2_col0\" class=\"data row2 col0\" >23</td>\n      <td id=\"T_7571e_row2_col1\" class=\"data row2 col1\" >84</td>\n      <td id=\"T_7571e_row2_col2\" class=\"data row2 col2\" >11</td>\n      <td id=\"T_7571e_row2_col3\" class=\"data row2 col3\" >-</td>\n    </tr>\n    <tr>\n      <th id=\"T_7571e_level0_row3\" class=\"row_heading level0 row3\" >Хорошо</th>\n      <td id=\"T_7571e_row3_col0\" class=\"data row3 col0\" >31</td>\n      <td id=\"T_7571e_row3_col1\" class=\"data row3 col1\" >97</td>\n      <td id=\"T_7571e_row3_col2\" class=\"data row3 col2\" >20</td>\n      <td id=\"T_7571e_row3_col3\" class=\"data row3 col3\" >-</td>\n    </tr>\n    <tr>\n      <th id=\"T_7571e_level0_row4\" class=\"row_heading level0 row4\" >Отлично</th>\n      <td id=\"T_7571e_row4_col0\" class=\"data row4 col0\" >-</td>\n      <td id=\"T_7571e_row4_col1\" class=\"data row4 col1\" >-</td>\n      <td id=\"T_7571e_row4_col2\" class=\"data row4 col2\" >-</td>\n      <td id=\"T_7571e_row4_col3\" class=\"data row4 col3\" >1084</td>\n    </tr>\n  </tbody>\n</table>\n"
    }
   },
   "outputs": [],
   "source": [
    "display_cat_info(data_clean).set_properties(pd.IndexSlice['Very unsatisfied': 'Unsatisfied', 'Internet and Video'], color='white', background=px.colors.DEFAULT_PLOTLY_COLORS[0], opacity=0.5).set_properties(pd.IndexSlice['Very unsatisfied': 'Unsatisfied', 'Internet': 'Video'], color='white', background=px.colors.DEFAULT_PLOTLY_COLORS[1], opacity=0.5).set_properties(pd.IndexSlice['Neutral': 'Satisfied', 'Internet and Video'], color='white', background=px.colors.DEFAULT_PLOTLY_COLORS[2], opacity=0.5).set_properties(pd.IndexSlice['Neutral': 'Satisfied', 'Internet': 'Video'], color='white', background=px.colors.DEFAULT_PLOTLY_COLORS[3], opacity=0.5).set_properties(pd.IndexSlice['Very satisfied', 'No'], color='white', background=px.colors.DEFAULT_PLOTLY_COLORS[4], opacity=0.5)"
   ]
  },
  {
   "cell_type": "markdown",
   "metadata": {},
   "source": [
    "### 7.2. Data Preparation\n",
    "\n",
    "Let's build a dataset for the research by selecting information about the customers of the above groups from the general set of the researched data. Let's use the name of the groups as an index."
   ]
  },
  {
   "cell_type": "code",
   "execution_count": null,
   "metadata": {},
   "outputs": [],
   "source": [
    "research_data = data_clean.copy()\n",
    "research_data.index = research_data[['Internet score', 'Dissatisfaction reasons']].apply(\n",
    "    lambda x: \n",
    "        '1' if (x['Internet score'] in ['Very unsatisfied', 'Unsatisfied']) \n",
    "             & (x['Dissatisfaction reasons'] == 'Internet and Video') else (\n",
    "        '2' if (x['Internet score'] in ['Very unsatisfied', 'Unsatisfied']) \n",
    "             & (x['Dissatisfaction reasons'] != 'Internet and Video') else (\n",
    "        '3' if (x['Internet score'] in ['Neutral', 'Satisfied']) \n",
    "             & (x['Dissatisfaction reasons'] == 'Internet and Video') else (\n",
    "        '4' if (x['Internet score'] in ['Neutral', 'Satisfied']) \n",
    "             & (x['Dissatisfaction reasons'] != 'Internet and Video') else\n",
    "        '5')))\n",
    "    , axis=1)\n",
    "research_data.index.rename('Group', inplace=True)\n",
    "research_data = research_data[research_metrics.index]\n",
    "groups = research_data.index.unique().to_list()"
   ]
  },
  {
   "cell_type": "markdown",
   "metadata": {},
   "source": [
    "### 7.3. Exploratory analysis\n",
    "\n",
    "First, let's look at the number of customers in groups utilizing a bar chart."
   ]
  },
  {
   "cell_type": "code",
   "execution_count": null,
   "metadata": {},
   "outputs": [],
   "source": [
    "plot_group_size_barchart(research_data,\n",
    "                         title='<b>Number of customers in the groups</b>', title_y=0.9,\n",
    "                         width=550, height=300)"
   ]
  },
  {
   "cell_type": "markdown",
   "metadata": {
    "variables": {
     "research_data.loc['3'].shape[0]": "54",
     "research_data.loc['5'].shape[0]": "1084"
    }
   },
   "source": [
    "As expected, the largest group of companies with a satisfaction index of \"5\" (Customer \"1084\") is the group whose customers are completely satisfied with the local Internet service. The other groups are several times smaller. In the opposite direction, a group of neutral customers with an index of `3` is displayed - there are only `54` customers in it.\n",
    "\n",
    "Then come the confidence intervals of stabilization of the indicators of the corresponding groups. This information will help to evaluate the central values of statistics and make a statement about the presence of significant indicators between the metrics of customer groups and their direction (the \"larger\" or \"smaller\" side).\n",
    "\n",
    "The calculation of confidence intervals is performed using the bootstrap method. The results will be displayed graphically (Let's construct confidence intervals using horizontal segments, and underline them with dots)."
   ]
  },
  {
   "cell_type": "code",
   "execution_count": null,
   "metadata": {},
   "outputs": [],
   "source": [
    "# Build a list of test group pairs \n",
    "group_pairs = [[groups[0], groups[1]], [groups[1], groups[2]], [groups[2], groups[3]], [groups[3], groups[4]]]\n",
    "# Calculate confidence intervals, their midpoints and check precense of \"overlaps\" among them\n",
    "ci, ci_overlapping, ci_center, _ = confidence_interval_info(research_data, research_metrics, group_pairs)\n",
    "# Visualize confidence intervls\n",
    "plot_metric_confidence_interval(ci, metrics=research_metrics, \n",
    "                                title='<b>Confidence intervals of the statistics</b>',\n",
    "                                height=300, n_cols=3,\n",
    "                                horizontal_spacing=0.04, vertical_spacing=0.07)"
   ]
  },
  {
   "cell_type": "markdown",
   "metadata": {
    "variables": {
     "display_confidence_interval(ci, metrics=research_metrics, caption='<b>Доверительные интервалы статистик</b>', caption_font_size=12, opacity=0.5, precision=1)": "<style type=\"text/css\">\n#T_84c00 caption {\n  font-size: 12pt;\n  text-align: center;\n  color: black;\n}\n#T_84c00 td {\n  text-align: center;\n  border: 1px solid lightgray;\n  border-collapse: collapse;\n}\n#T_84c00 .row_heading {\n  width: 120px;\n  text-align: center;\n}\n#T_84c00  td {\n  width: 120px;\n  text-align: center;\n}\n#T_84c00 .col_heading {\n  width: 80px;\n  text-align: center;\n}\n#T_84c00  td {\n  width: 80px;\n  text-align: center;\n}\n#T_84c00_row0_col1, #T_84c00_row0_col7, #T_84c00_row1_col4 {\n  color: red;\n  font-weight: bold;\n}\n#T_84c00_row4_col1, #T_84c00_row4_col4, #T_84c00_row4_col7 {\n  color: green;\n  font-weight: bold;\n}\n#T_84c00_level0_row0 {\n  color: white;\n  background-color: rgb(31, 119, 180);\n  opacity: 0.5;\n  border: 1px solid lightgray;\n  border-collapse: collapse;\n}\n#T_84c00_level0_row1 {\n  color: white;\n  background-color: rgb(255, 127, 14);\n  opacity: 0.5;\n  border: 1px solid lightgray;\n  border-collapse: collapse;\n}\n#T_84c00_level0_row2 {\n  color: white;\n  background-color: rgb(44, 160, 44);\n  opacity: 0.5;\n  border: 1px solid lightgray;\n  border-collapse: collapse;\n}\n#T_84c00_level0_row3 {\n  color: white;\n  background-color: rgb(214, 39, 40);\n  opacity: 0.5;\n  border: 1px solid lightgray;\n  border-collapse: collapse;\n}\n#T_84c00_level0_row4 {\n  color: white;\n  background-color: rgb(148, 103, 189);\n  opacity: 0.5;\n  border: 1px solid lightgray;\n  border-collapse: collapse;\n}\n#T_84c00_level0_col0, #T_84c00_level0_col3, #T_84c00_level0_col6, #T_84c00_level1_col0, #T_84c00_level1_col1, #T_84c00_level1_col2, #T_84c00_level1_col3, #T_84c00_level1_col4, #T_84c00_level1_col5, #T_84c00_level1_col6, #T_84c00_level1_col7, #T_84c00_level1_col8 {\n  border: 1px solid lightgray;\n  border-collapse: collapse;\n}\n</style>\n<table id=\"T_84c00\">\n  <caption><b>Доверительные интервалы статистик</b></caption>\n  <thead>\n    <tr>\n      <th class=\"index_name level0\" ></th>\n      <th id=\"T_84c00_level0_col0\" class=\"col_heading level0 col0\" colspan=\"3\">Средняя скорость «к абоненту»</th>\n      <th id=\"T_84c00_level0_col3\" class=\"col_heading level0 col3\" colspan=\"3\">Скорость загрузки потокового видео</th>\n      <th id=\"T_84c00_level0_col6\" class=\"col_heading level0 col6\" colspan=\"3\">Скорость загрузки web-страниц через браузер</th>\n    </tr>\n    <tr>\n      <th class=\"index_name level1\" ></th>\n      <th id=\"T_84c00_level1_col0\" class=\"col_heading level1 col0\" >Начало</th>\n      <th id=\"T_84c00_level1_col1\" class=\"col_heading level1 col1\" >Середина</th>\n      <th id=\"T_84c00_level1_col2\" class=\"col_heading level1 col2\" >Конец</th>\n      <th id=\"T_84c00_level1_col3\" class=\"col_heading level1 col3\" >Начало</th>\n      <th id=\"T_84c00_level1_col4\" class=\"col_heading level1 col4\" >Середина</th>\n      <th id=\"T_84c00_level1_col5\" class=\"col_heading level1 col5\" >Конец</th>\n      <th id=\"T_84c00_level1_col6\" class=\"col_heading level1 col6\" >Начало</th>\n      <th id=\"T_84c00_level1_col7\" class=\"col_heading level1 col7\" >Середина</th>\n      <th id=\"T_84c00_level1_col8\" class=\"col_heading level1 col8\" >Конец</th>\n    </tr>\n  </thead>\n  <tbody>\n    <tr>\n      <th id=\"T_84c00_level0_row0\" class=\"row_heading level0 row0\" >Ужасно</th>\n      <td id=\"T_84c00_row0_col0\" class=\"data row0 col0\" >989.7</td>\n      <td id=\"T_84c00_row0_col1\" class=\"data row0 col1\" >1167.8</td>\n      <td id=\"T_84c00_row0_col2\" class=\"data row0 col2\" >1345.8</td>\n      <td id=\"T_84c00_row0_col3\" class=\"data row0 col3\" >2502.1</td>\n      <td id=\"T_84c00_row0_col4\" class=\"data row0 col4\" >3048.3</td>\n      <td id=\"T_84c00_row0_col5\" class=\"data row0 col5\" >3594.5</td>\n      <td id=\"T_84c00_row0_col6\" class=\"data row0 col6\" >1186.8</td>\n      <td id=\"T_84c00_row0_col7\" class=\"data row0 col7\" >1365.7</td>\n      <td id=\"T_84c00_row0_col8\" class=\"data row0 col8\" >1544.6</td>\n    </tr>\n    <tr>\n      <th id=\"T_84c00_level0_row1\" class=\"row_heading level0 row1\" >Плохо</th>\n      <td id=\"T_84c00_row1_col0\" class=\"data row1 col0\" >1063.9</td>\n      <td id=\"T_84c00_row1_col1\" class=\"data row1 col1\" >1296.7</td>\n      <td id=\"T_84c00_row1_col2\" class=\"data row1 col2\" >1529.6</td>\n      <td id=\"T_84c00_row1_col3\" class=\"data row1 col3\" >2501.8</td>\n      <td id=\"T_84c00_row1_col4\" class=\"data row1 col4\" >3029.9</td>\n      <td id=\"T_84c00_row1_col5\" class=\"data row1 col5\" >3558.0</td>\n      <td id=\"T_84c00_row1_col6\" class=\"data row1 col6\" >1241.2</td>\n      <td id=\"T_84c00_row1_col7\" class=\"data row1 col7\" >1441.2</td>\n      <td id=\"T_84c00_row1_col8\" class=\"data row1 col8\" >1641.1</td>\n    </tr>\n    <tr>\n      <th id=\"T_84c00_level0_row2\" class=\"row_heading level0 row2\" >Нормально</th>\n      <td id=\"T_84c00_row2_col0\" class=\"data row2 col0\" >1151.3</td>\n      <td id=\"T_84c00_row2_col1\" class=\"data row2 col1\" >1366.6</td>\n      <td id=\"T_84c00_row2_col2\" class=\"data row2 col2\" >1581.9</td>\n      <td id=\"T_84c00_row2_col3\" class=\"data row2 col3\" >3320.0</td>\n      <td id=\"T_84c00_row2_col4\" class=\"data row2 col4\" >3969.3</td>\n      <td id=\"T_84c00_row2_col5\" class=\"data row2 col5\" >4618.6</td>\n      <td id=\"T_84c00_row2_col6\" class=\"data row2 col6\" >1331.4</td>\n      <td id=\"T_84c00_row2_col7\" class=\"data row2 col7\" >1542.3</td>\n      <td id=\"T_84c00_row2_col8\" class=\"data row2 col8\" >1753.2</td>\n    </tr>\n    <tr>\n      <th id=\"T_84c00_level0_row3\" class=\"row_heading level0 row3\" >Хорошо</th>\n      <td id=\"T_84c00_row3_col0\" class=\"data row3 col0\" >1378.1</td>\n      <td id=\"T_84c00_row3_col1\" class=\"data row3 col1\" >1669.3</td>\n      <td id=\"T_84c00_row3_col2\" class=\"data row3 col2\" >1960.4</td>\n      <td id=\"T_84c00_row3_col3\" class=\"data row3 col3\" >4014.1</td>\n      <td id=\"T_84c00_row3_col4\" class=\"data row3 col4\" >4694.0</td>\n      <td id=\"T_84c00_row3_col5\" class=\"data row3 col5\" >5373.9</td>\n      <td id=\"T_84c00_row3_col6\" class=\"data row3 col6\" >1395.9</td>\n      <td id=\"T_84c00_row3_col7\" class=\"data row3 col7\" >1664.4</td>\n      <td id=\"T_84c00_row3_col8\" class=\"data row3 col8\" >1932.8</td>\n    </tr>\n    <tr>\n      <th id=\"T_84c00_level0_row4\" class=\"row_heading level0 row4\" >Отлично</th>\n      <td id=\"T_84c00_row4_col0\" class=\"data row4 col0\" >1798.3</td>\n      <td id=\"T_84c00_row4_col1\" class=\"data row4 col1\" >1924.5</td>\n      <td id=\"T_84c00_row4_col2\" class=\"data row4 col2\" >2050.8</td>\n      <td id=\"T_84c00_row4_col3\" class=\"data row4 col3\" >5028.9</td>\n      <td id=\"T_84c00_row4_col4\" class=\"data row4 col4\" >5284.6</td>\n      <td id=\"T_84c00_row4_col5\" class=\"data row4 col5\" >5540.4</td>\n      <td id=\"T_84c00_row4_col6\" class=\"data row4 col6\" >1850.9</td>\n      <td id=\"T_84c00_row4_col7\" class=\"data row4 col7\" >1946.4</td>\n      <td id=\"T_84c00_row4_col8\" class=\"data row4 col8\" >2041.9</td>\n    </tr>\n  </tbody>\n</table>\n",
     "display_confidence_interval_overlapping(ci_overlapping, metrics=research_metrics, caption='<b>Наличие перекрытия доверительных интервалов статистик</b>', opacity=0.5)": "<style type=\"text/css\">\n#T_ac0c7 caption {\n  font-size: 12pt;\n  text-align: center;\n  color: black;\n}\n#T_ac0c7 td {\n  text-align: center;\n  border: 1px solid lightgray;\n  border-collapse: collapse;\n}\n#T_ac0c7 .row_heading {\n  width: 120px;\n  text-align: center;\n}\n#T_ac0c7  td {\n  width: 120px;\n  text-align: center;\n}\n#T_ac0c7 .col_heading {\n  width: 130px;\n  text-align: center;\n}\n#T_ac0c7  td {\n  width: 130px;\n  text-align: center;\n}\n#T_ac0c7_level0_row0 {\n  color: white;\n  background-color: rgb(31, 119, 180);\n  opacity: 0.5;\n  border: 1px solid lightgray;\n  border-collapse: collapse;\n}\n#T_ac0c7_level1_row0, #T_ac0c7_level0_row1 {\n  color: white;\n  background-color: rgb(255, 127, 14);\n  opacity: 0.5;\n  border: 1px solid lightgray;\n  border-collapse: collapse;\n}\n#T_ac0c7_level1_row1, #T_ac0c7_level0_row2 {\n  color: white;\n  background-color: rgb(44, 160, 44);\n  opacity: 0.5;\n  border: 1px solid lightgray;\n  border-collapse: collapse;\n}\n#T_ac0c7_level1_row2, #T_ac0c7_level0_row3 {\n  color: white;\n  background-color: rgb(214, 39, 40);\n  opacity: 0.5;\n  border: 1px solid lightgray;\n  border-collapse: collapse;\n}\n#T_ac0c7_level1_row3 {\n  color: white;\n  background-color: rgb(148, 103, 189);\n  opacity: 0.5;\n  border: 1px solid lightgray;\n  border-collapse: collapse;\n}\n#T_ac0c7_level0_col0, #T_ac0c7_level0_col1, #T_ac0c7_level0_col2 {\n  border: 1px solid lightgray;\n  border-collapse: collapse;\n}\n</style>\n<table id=\"T_ac0c7\">\n  <caption><b>Наличие перекрытия доверительных интервалов статистик</b></caption>\n  <thead>\n    <tr>\n      <th class=\"blank\" >&nbsp;</th>\n      <th class=\"blank level0\" >&nbsp;</th>\n      <th id=\"T_ac0c7_level0_col0\" class=\"col_heading level0 col0\" >Средняя скорость «к абоненту»</th>\n      <th id=\"T_ac0c7_level0_col1\" class=\"col_heading level0 col1\" >Скорость загрузки потокового видео</th>\n      <th id=\"T_ac0c7_level0_col2\" class=\"col_heading level0 col2\" >Скорость загрузки web-страниц через браузер</th>\n    </tr>\n  </thead>\n  <tbody>\n    <tr>\n      <th id=\"T_ac0c7_level0_row0\" class=\"row_heading level0 row0\" >Ужасно</th>\n      <th id=\"T_ac0c7_level1_row0\" class=\"row_heading level1 row0\" >Плохо</th>\n      <td id=\"T_ac0c7_row0_col0\" class=\"data row0 col0\" >Да</td>\n      <td id=\"T_ac0c7_row0_col1\" class=\"data row0 col1\" >Да</td>\n      <td id=\"T_ac0c7_row0_col2\" class=\"data row0 col2\" >Да</td>\n    </tr>\n    <tr>\n      <th id=\"T_ac0c7_level0_row1\" class=\"row_heading level0 row1\" >Плохо</th>\n      <th id=\"T_ac0c7_level1_row1\" class=\"row_heading level1 row1\" >Нормально</th>\n      <td id=\"T_ac0c7_row1_col0\" class=\"data row1 col0\" >Да</td>\n      <td id=\"T_ac0c7_row1_col1\" class=\"data row1 col1\" >Да</td>\n      <td id=\"T_ac0c7_row1_col2\" class=\"data row1 col2\" >Да</td>\n    </tr>\n    <tr>\n      <th id=\"T_ac0c7_level0_row2\" class=\"row_heading level0 row2\" >Нормально</th>\n      <th id=\"T_ac0c7_level1_row2\" class=\"row_heading level1 row2\" >Хорошо</th>\n      <td id=\"T_ac0c7_row2_col0\" class=\"data row2 col0\" >Да</td>\n      <td id=\"T_ac0c7_row2_col1\" class=\"data row2 col1\" >Да</td>\n      <td id=\"T_ac0c7_row2_col2\" class=\"data row2 col2\" >Да</td>\n    </tr>\n    <tr>\n      <th id=\"T_ac0c7_level0_row3\" class=\"row_heading level0 row3\" >Хорошо</th>\n      <th id=\"T_ac0c7_level1_row3\" class=\"row_heading level1 row3\" >Отлично</th>\n      <td id=\"T_ac0c7_row3_col0\" class=\"data row3 col0\" >Да</td>\n      <td id=\"T_ac0c7_row3_col1\" class=\"data row3 col1\" >Да</td>\n      <td id=\"T_ac0c7_row3_col2\" class=\"data row3 col2\" >Да</td>\n    </tr>\n  </tbody>\n</table>\n"
    }
   },
   "source": [
    "For clarity, Let's also present the obtained results in a tabular form (the \"worst\" and \"best\" values of the confidence interval centers will be highlighted in \"<span style=\"color: red; font-weight: bold;\">red</span>\" and \"<span style=\"color: green; font-weight: bold;\">green</span>\" colors, respectively)."
   ]
  },
  {
   "cell_type": "code",
   "execution_count": null,
   "metadata": {
    "variables": {
     "display_confidence_interval(ci, metrics=research_metrics, caption='<b>Доверительные интервалы статистик</b>', caption_font_size=12, opacity=0.5, precision=1)": "<style type=\"text/css\">\n#T_84c00 caption {\n  font-size: 12pt;\n  text-align: center;\n  color: black;\n}\n#T_84c00 td {\n  text-align: center;\n  border: 1px solid lightgray;\n  border-collapse: collapse;\n}\n#T_84c00 .row_heading {\n  width: 120px;\n  text-align: center;\n}\n#T_84c00  td {\n  width: 120px;\n  text-align: center;\n}\n#T_84c00 .col_heading {\n  width: 80px;\n  text-align: center;\n}\n#T_84c00  td {\n  width: 80px;\n  text-align: center;\n}\n#T_84c00_row0_col1, #T_84c00_row0_col7, #T_84c00_row1_col4 {\n  color: red;\n  font-weight: bold;\n}\n#T_84c00_row4_col1, #T_84c00_row4_col4, #T_84c00_row4_col7 {\n  color: green;\n  font-weight: bold;\n}\n#T_84c00_level0_row0 {\n  color: white;\n  background-color: rgb(31, 119, 180);\n  opacity: 0.5;\n  border: 1px solid lightgray;\n  border-collapse: collapse;\n}\n#T_84c00_level0_row1 {\n  color: white;\n  background-color: rgb(255, 127, 14);\n  opacity: 0.5;\n  border: 1px solid lightgray;\n  border-collapse: collapse;\n}\n#T_84c00_level0_row2 {\n  color: white;\n  background-color: rgb(44, 160, 44);\n  opacity: 0.5;\n  border: 1px solid lightgray;\n  border-collapse: collapse;\n}\n#T_84c00_level0_row3 {\n  color: white;\n  background-color: rgb(214, 39, 40);\n  opacity: 0.5;\n  border: 1px solid lightgray;\n  border-collapse: collapse;\n}\n#T_84c00_level0_row4 {\n  color: white;\n  background-color: rgb(148, 103, 189);\n  opacity: 0.5;\n  border: 1px solid lightgray;\n  border-collapse: collapse;\n}\n#T_84c00_level0_col0, #T_84c00_level0_col3, #T_84c00_level0_col6, #T_84c00_level1_col0, #T_84c00_level1_col1, #T_84c00_level1_col2, #T_84c00_level1_col3, #T_84c00_level1_col4, #T_84c00_level1_col5, #T_84c00_level1_col6, #T_84c00_level1_col7, #T_84c00_level1_col8 {\n  border: 1px solid lightgray;\n  border-collapse: collapse;\n}\n</style>\n<table id=\"T_84c00\">\n  <caption><b>Доверительные интервалы статистик</b></caption>\n  <thead>\n    <tr>\n      <th class=\"index_name level0\" ></th>\n      <th id=\"T_84c00_level0_col0\" class=\"col_heading level0 col0\" colspan=\"3\">Средняя скорость «к абоненту»</th>\n      <th id=\"T_84c00_level0_col3\" class=\"col_heading level0 col3\" colspan=\"3\">Скорость загрузки потокового видео</th>\n      <th id=\"T_84c00_level0_col6\" class=\"col_heading level0 col6\" colspan=\"3\">Скорость загрузки web-страниц через браузер</th>\n    </tr>\n    <tr>\n      <th class=\"index_name level1\" ></th>\n      <th id=\"T_84c00_level1_col0\" class=\"col_heading level1 col0\" >Начало</th>\n      <th id=\"T_84c00_level1_col1\" class=\"col_heading level1 col1\" >Середина</th>\n      <th id=\"T_84c00_level1_col2\" class=\"col_heading level1 col2\" >Конец</th>\n      <th id=\"T_84c00_level1_col3\" class=\"col_heading level1 col3\" >Начало</th>\n      <th id=\"T_84c00_level1_col4\" class=\"col_heading level1 col4\" >Середина</th>\n      <th id=\"T_84c00_level1_col5\" class=\"col_heading level1 col5\" >Конец</th>\n      <th id=\"T_84c00_level1_col6\" class=\"col_heading level1 col6\" >Начало</th>\n      <th id=\"T_84c00_level1_col7\" class=\"col_heading level1 col7\" >Середина</th>\n      <th id=\"T_84c00_level1_col8\" class=\"col_heading level1 col8\" >Конец</th>\n    </tr>\n  </thead>\n  <tbody>\n    <tr>\n      <th id=\"T_84c00_level0_row0\" class=\"row_heading level0 row0\" >Ужасно</th>\n      <td id=\"T_84c00_row0_col0\" class=\"data row0 col0\" >989.7</td>\n      <td id=\"T_84c00_row0_col1\" class=\"data row0 col1\" >1167.8</td>\n      <td id=\"T_84c00_row0_col2\" class=\"data row0 col2\" >1345.8</td>\n      <td id=\"T_84c00_row0_col3\" class=\"data row0 col3\" >2502.1</td>\n      <td id=\"T_84c00_row0_col4\" class=\"data row0 col4\" >3048.3</td>\n      <td id=\"T_84c00_row0_col5\" class=\"data row0 col5\" >3594.5</td>\n      <td id=\"T_84c00_row0_col6\" class=\"data row0 col6\" >1186.8</td>\n      <td id=\"T_84c00_row0_col7\" class=\"data row0 col7\" >1365.7</td>\n      <td id=\"T_84c00_row0_col8\" class=\"data row0 col8\" >1544.6</td>\n    </tr>\n    <tr>\n      <th id=\"T_84c00_level0_row1\" class=\"row_heading level0 row1\" >Плохо</th>\n      <td id=\"T_84c00_row1_col0\" class=\"data row1 col0\" >1063.9</td>\n      <td id=\"T_84c00_row1_col1\" class=\"data row1 col1\" >1296.7</td>\n      <td id=\"T_84c00_row1_col2\" class=\"data row1 col2\" >1529.6</td>\n      <td id=\"T_84c00_row1_col3\" class=\"data row1 col3\" >2501.8</td>\n      <td id=\"T_84c00_row1_col4\" class=\"data row1 col4\" >3029.9</td>\n      <td id=\"T_84c00_row1_col5\" class=\"data row1 col5\" >3558.0</td>\n      <td id=\"T_84c00_row1_col6\" class=\"data row1 col6\" >1241.2</td>\n      <td id=\"T_84c00_row1_col7\" class=\"data row1 col7\" >1441.2</td>\n      <td id=\"T_84c00_row1_col8\" class=\"data row1 col8\" >1641.1</td>\n    </tr>\n    <tr>\n      <th id=\"T_84c00_level0_row2\" class=\"row_heading level0 row2\" >Нормально</th>\n      <td id=\"T_84c00_row2_col0\" class=\"data row2 col0\" >1151.3</td>\n      <td id=\"T_84c00_row2_col1\" class=\"data row2 col1\" >1366.6</td>\n      <td id=\"T_84c00_row2_col2\" class=\"data row2 col2\" >1581.9</td>\n      <td id=\"T_84c00_row2_col3\" class=\"data row2 col3\" >3320.0</td>\n      <td id=\"T_84c00_row2_col4\" class=\"data row2 col4\" >3969.3</td>\n      <td id=\"T_84c00_row2_col5\" class=\"data row2 col5\" >4618.6</td>\n      <td id=\"T_84c00_row2_col6\" class=\"data row2 col6\" >1331.4</td>\n      <td id=\"T_84c00_row2_col7\" class=\"data row2 col7\" >1542.3</td>\n      <td id=\"T_84c00_row2_col8\" class=\"data row2 col8\" >1753.2</td>\n    </tr>\n    <tr>\n      <th id=\"T_84c00_level0_row3\" class=\"row_heading level0 row3\" >Хорошо</th>\n      <td id=\"T_84c00_row3_col0\" class=\"data row3 col0\" >1378.1</td>\n      <td id=\"T_84c00_row3_col1\" class=\"data row3 col1\" >1669.3</td>\n      <td id=\"T_84c00_row3_col2\" class=\"data row3 col2\" >1960.4</td>\n      <td id=\"T_84c00_row3_col3\" class=\"data row3 col3\" >4014.1</td>\n      <td id=\"T_84c00_row3_col4\" class=\"data row3 col4\" >4694.0</td>\n      <td id=\"T_84c00_row3_col5\" class=\"data row3 col5\" >5373.9</td>\n      <td id=\"T_84c00_row3_col6\" class=\"data row3 col6\" >1395.9</td>\n      <td id=\"T_84c00_row3_col7\" class=\"data row3 col7\" >1664.4</td>\n      <td id=\"T_84c00_row3_col8\" class=\"data row3 col8\" >1932.8</td>\n    </tr>\n    <tr>\n      <th id=\"T_84c00_level0_row4\" class=\"row_heading level0 row4\" >Отлично</th>\n      <td id=\"T_84c00_row4_col0\" class=\"data row4 col0\" >1798.3</td>\n      <td id=\"T_84c00_row4_col1\" class=\"data row4 col1\" >1924.5</td>\n      <td id=\"T_84c00_row4_col2\" class=\"data row4 col2\" >2050.8</td>\n      <td id=\"T_84c00_row4_col3\" class=\"data row4 col3\" >5028.9</td>\n      <td id=\"T_84c00_row4_col4\" class=\"data row4 col4\" >5284.6</td>\n      <td id=\"T_84c00_row4_col5\" class=\"data row4 col5\" >5540.4</td>\n      <td id=\"T_84c00_row4_col6\" class=\"data row4 col6\" >1850.9</td>\n      <td id=\"T_84c00_row4_col7\" class=\"data row4 col7\" >1946.4</td>\n      <td id=\"T_84c00_row4_col8\" class=\"data row4 col8\" >2041.9</td>\n    </tr>\n  </tbody>\n</table>\n",
     "display_confidence_interval_overlapping(ci_overlapping, metrics=research_metrics, caption='<b>Наличие перекрытия доверительных интервалов статистик</b>', opacity=0.5)": "<style type=\"text/css\">\n#T_ac0c7 caption {\n  font-size: 12pt;\n  text-align: center;\n  color: black;\n}\n#T_ac0c7 td {\n  text-align: center;\n  border: 1px solid lightgray;\n  border-collapse: collapse;\n}\n#T_ac0c7 .row_heading {\n  width: 120px;\n  text-align: center;\n}\n#T_ac0c7  td {\n  width: 120px;\n  text-align: center;\n}\n#T_ac0c7 .col_heading {\n  width: 130px;\n  text-align: center;\n}\n#T_ac0c7  td {\n  width: 130px;\n  text-align: center;\n}\n#T_ac0c7_level0_row0 {\n  color: white;\n  background-color: rgb(31, 119, 180);\n  opacity: 0.5;\n  border: 1px solid lightgray;\n  border-collapse: collapse;\n}\n#T_ac0c7_level1_row0, #T_ac0c7_level0_row1 {\n  color: white;\n  background-color: rgb(255, 127, 14);\n  opacity: 0.5;\n  border: 1px solid lightgray;\n  border-collapse: collapse;\n}\n#T_ac0c7_level1_row1, #T_ac0c7_level0_row2 {\n  color: white;\n  background-color: rgb(44, 160, 44);\n  opacity: 0.5;\n  border: 1px solid lightgray;\n  border-collapse: collapse;\n}\n#T_ac0c7_level1_row2, #T_ac0c7_level0_row3 {\n  color: white;\n  background-color: rgb(214, 39, 40);\n  opacity: 0.5;\n  border: 1px solid lightgray;\n  border-collapse: collapse;\n}\n#T_ac0c7_level1_row3 {\n  color: white;\n  background-color: rgb(148, 103, 189);\n  opacity: 0.5;\n  border: 1px solid lightgray;\n  border-collapse: collapse;\n}\n#T_ac0c7_level0_col0, #T_ac0c7_level0_col1, #T_ac0c7_level0_col2 {\n  border: 1px solid lightgray;\n  border-collapse: collapse;\n}\n</style>\n<table id=\"T_ac0c7\">\n  <caption><b>Наличие перекрытия доверительных интервалов статистик</b></caption>\n  <thead>\n    <tr>\n      <th class=\"blank\" >&nbsp;</th>\n      <th class=\"blank level0\" >&nbsp;</th>\n      <th id=\"T_ac0c7_level0_col0\" class=\"col_heading level0 col0\" >Средняя скорость «к абоненту»</th>\n      <th id=\"T_ac0c7_level0_col1\" class=\"col_heading level0 col1\" >Скорость загрузки потокового видео</th>\n      <th id=\"T_ac0c7_level0_col2\" class=\"col_heading level0 col2\" >Скорость загрузки web-страниц через браузер</th>\n    </tr>\n  </thead>\n  <tbody>\n    <tr>\n      <th id=\"T_ac0c7_level0_row0\" class=\"row_heading level0 row0\" >Ужасно</th>\n      <th id=\"T_ac0c7_level1_row0\" class=\"row_heading level1 row0\" >Плохо</th>\n      <td id=\"T_ac0c7_row0_col0\" class=\"data row0 col0\" >Да</td>\n      <td id=\"T_ac0c7_row0_col1\" class=\"data row0 col1\" >Да</td>\n      <td id=\"T_ac0c7_row0_col2\" class=\"data row0 col2\" >Да</td>\n    </tr>\n    <tr>\n      <th id=\"T_ac0c7_level0_row1\" class=\"row_heading level0 row1\" >Плохо</th>\n      <th id=\"T_ac0c7_level1_row1\" class=\"row_heading level1 row1\" >Нормально</th>\n      <td id=\"T_ac0c7_row1_col0\" class=\"data row1 col0\" >Да</td>\n      <td id=\"T_ac0c7_row1_col1\" class=\"data row1 col1\" >Да</td>\n      <td id=\"T_ac0c7_row1_col2\" class=\"data row1 col2\" >Да</td>\n    </tr>\n    <tr>\n      <th id=\"T_ac0c7_level0_row2\" class=\"row_heading level0 row2\" >Нормально</th>\n      <th id=\"T_ac0c7_level1_row2\" class=\"row_heading level1 row2\" >Хорошо</th>\n      <td id=\"T_ac0c7_row2_col0\" class=\"data row2 col0\" >Да</td>\n      <td id=\"T_ac0c7_row2_col1\" class=\"data row2 col1\" >Да</td>\n      <td id=\"T_ac0c7_row2_col2\" class=\"data row2 col2\" >Да</td>\n    </tr>\n    <tr>\n      <th id=\"T_ac0c7_level0_row3\" class=\"row_heading level0 row3\" >Хорошо</th>\n      <th id=\"T_ac0c7_level1_row3\" class=\"row_heading level1 row3\" >Отлично</th>\n      <td id=\"T_ac0c7_row3_col0\" class=\"data row3 col0\" >Да</td>\n      <td id=\"T_ac0c7_row3_col1\" class=\"data row3 col1\" >Да</td>\n      <td id=\"T_ac0c7_row3_col2\" class=\"data row3 col2\" >Да</td>\n    </tr>\n  </tbody>\n</table>\n"
    }
   },
   "outputs": [],
   "source": [
    "display_confidence_interval(ci, metrics=research_metrics, caption='<b>Confidence intervals of the statistics</b>', caption_font_size=12, opacity=0.5, precision=1)"
   ]
  },
  {
   "cell_type": "markdown",
   "metadata": {
    "variables": {
     "display_confidence_interval(ci, metrics=research_metrics, caption='<b>Доверительные интервалы статистик</b>', caption_font_size=12, opacity=0.5, precision=1, index_width=30)": "<style type=\"text/css\">\n#T_5a652 caption {\n  font-size: 12pt;\n  text-align: center;\n  color: black;\n}\n#T_5a652 td {\n  text-align: center;\n  border: 1px solid lightgray;\n  border-collapse: collapse;\n}\n#T_5a652 .row_heading {\n  width: 30px;\n  text-align: center;\n}\n#T_5a652  td {\n  width: 30px;\n  text-align: center;\n}\n#T_5a652 .col_heading {\n  width: 80px;\n  text-align: center;\n}\n#T_5a652  td {\n  width: 80px;\n  text-align: center;\n}\n#T_5a652_row0_col1, #T_5a652_row0_col4, #T_5a652_row0_col7 {\n  color: red;\n  font-weight: bold;\n}\n#T_5a652_row4_col1, #T_5a652_row4_col4, #T_5a652_row4_col7 {\n  color: green;\n  font-weight: bold;\n}\n#T_5a652_level0_row0 {\n  color: white;\n  background-color: rgb(31, 119, 180);\n  opacity: 0.5;\n  border: 1px solid lightgray;\n  border-collapse: collapse;\n}\n#T_5a652_level0_row1 {\n  color: white;\n  background-color: rgb(255, 127, 14);\n  opacity: 0.5;\n  border: 1px solid lightgray;\n  border-collapse: collapse;\n}\n#T_5a652_level0_row2 {\n  color: white;\n  background-color: rgb(44, 160, 44);\n  opacity: 0.5;\n  border: 1px solid lightgray;\n  border-collapse: collapse;\n}\n#T_5a652_level0_row3 {\n  color: white;\n  background-color: rgb(214, 39, 40);\n  opacity: 0.5;\n  border: 1px solid lightgray;\n  border-collapse: collapse;\n}\n#T_5a652_level0_row4 {\n  color: white;\n  background-color: rgb(148, 103, 189);\n  opacity: 0.5;\n  border: 1px solid lightgray;\n  border-collapse: collapse;\n}\n#T_5a652_level0_col0, #T_5a652_level0_col3, #T_5a652_level0_col6, #T_5a652_level1_col0, #T_5a652_level1_col1, #T_5a652_level1_col2, #T_5a652_level1_col3, #T_5a652_level1_col4, #T_5a652_level1_col5, #T_5a652_level1_col6, #T_5a652_level1_col7, #T_5a652_level1_col8 {\n  border: 1px solid lightgray;\n  border-collapse: collapse;\n}\n</style>\n<table id=\"T_5a652\">\n  <caption><b>Доверительные интервалы статистик</b></caption>\n  <thead>\n    <tr>\n      <th class=\"index_name level0\" ></th>\n      <th id=\"T_5a652_level0_col0\" class=\"col_heading level0 col0\" colspan=\"3\">Средняя скорость «к абоненту»</th>\n      <th id=\"T_5a652_level0_col3\" class=\"col_heading level0 col3\" colspan=\"3\">Скорость загрузки потокового видео</th>\n      <th id=\"T_5a652_level0_col6\" class=\"col_heading level0 col6\" colspan=\"3\">Скорость загрузки web-страниц через браузер</th>\n    </tr>\n    <tr>\n      <th class=\"index_name level1\" ></th>\n      <th id=\"T_5a652_level1_col0\" class=\"col_heading level1 col0\" >Начало</th>\n      <th id=\"T_5a652_level1_col1\" class=\"col_heading level1 col1\" >Середина</th>\n      <th id=\"T_5a652_level1_col2\" class=\"col_heading level1 col2\" >Конец</th>\n      <th id=\"T_5a652_level1_col3\" class=\"col_heading level1 col3\" >Начало</th>\n      <th id=\"T_5a652_level1_col4\" class=\"col_heading level1 col4\" >Середина</th>\n      <th id=\"T_5a652_level1_col5\" class=\"col_heading level1 col5\" >Конец</th>\n      <th id=\"T_5a652_level1_col6\" class=\"col_heading level1 col6\" >Начало</th>\n      <th id=\"T_5a652_level1_col7\" class=\"col_heading level1 col7\" >Середина</th>\n      <th id=\"T_5a652_level1_col8\" class=\"col_heading level1 col8\" >Конец</th>\n    </tr>\n  </thead>\n  <tbody>\n    <tr>\n      <th id=\"T_5a652_level0_row0\" class=\"row_heading level0 row0\" >1</th>\n      <td id=\"T_5a652_row0_col0\" class=\"data row0 col0\" >705.5</td>\n      <td id=\"T_5a652_row0_col1\" class=\"data row0 col1\" >938.4</td>\n      <td id=\"T_5a652_row0_col2\" class=\"data row0 col2\" >1171.4</td>\n      <td id=\"T_5a652_row0_col3\" class=\"data row0 col3\" >2280.4</td>\n      <td id=\"T_5a652_row0_col4\" class=\"data row0 col4\" >2754.0</td>\n      <td id=\"T_5a652_row0_col5\" class=\"data row0 col5\" >3227.6</td>\n      <td id=\"T_5a652_row0_col6\" class=\"data row0 col6\" >909.1</td>\n      <td id=\"T_5a652_row0_col7\" class=\"data row0 col7\" >1092.9</td>\n      <td id=\"T_5a652_row0_col8\" class=\"data row0 col8\" >1276.7</td>\n    </tr>\n    <tr>\n      <th id=\"T_5a652_level0_row1\" class=\"row_heading level0 row1\" >2</th>\n      <td id=\"T_5a652_row1_col0\" class=\"data row1 col0\" >1145.6</td>\n      <td id=\"T_5a652_row1_col1\" class=\"data row1 col1\" >1344.5</td>\n      <td id=\"T_5a652_row1_col2\" class=\"data row1 col2\" >1543.5</td>\n      <td id=\"T_5a652_row1_col3\" class=\"data row1 col3\" >2852.5</td>\n      <td id=\"T_5a652_row1_col4\" class=\"data row1 col4\" >3506.3</td>\n      <td id=\"T_5a652_row1_col5\" class=\"data row1 col5\" >4160.0</td>\n      <td id=\"T_5a652_row1_col6\" class=\"data row1 col6\" >1267.3</td>\n      <td id=\"T_5a652_row1_col7\" class=\"data row1 col7\" >1435.2</td>\n      <td id=\"T_5a652_row1_col8\" class=\"data row1 col8\" >1603.1</td>\n    </tr>\n    <tr>\n      <th id=\"T_5a652_level0_row2\" class=\"row_heading level0 row2\" >3</th>\n      <td id=\"T_5a652_row2_col0\" class=\"data row2 col0\" >554.4</td>\n      <td id=\"T_5a652_row2_col1\" class=\"data row2 col1\" >995.3</td>\n      <td id=\"T_5a652_row2_col2\" class=\"data row2 col2\" >1436.3</td>\n      <td id=\"T_5a652_row2_col3\" class=\"data row2 col3\" >3033.5</td>\n      <td id=\"T_5a652_row2_col4\" class=\"data row2 col4\" >3967.3</td>\n      <td id=\"T_5a652_row2_col5\" class=\"data row2 col5\" >4901.0</td>\n      <td id=\"T_5a652_row2_col6\" class=\"data row2 col6\" >1095.5</td>\n      <td id=\"T_5a652_row2_col7\" class=\"data row2 col7\" >1309.4</td>\n      <td id=\"T_5a652_row2_col8\" class=\"data row2 col8\" >1523.2</td>\n    </tr>\n    <tr>\n      <th id=\"T_5a652_level0_row3\" class=\"row_heading level0 row3\" >4</th>\n      <td id=\"T_5a652_row3_col0\" class=\"data row3 col0\" >1249.4</td>\n      <td id=\"T_5a652_row3_col1\" class=\"data row3 col1\" >1490.6</td>\n      <td id=\"T_5a652_row3_col2\" class=\"data row3 col2\" >1731.7</td>\n      <td id=\"T_5a652_row3_col3\" class=\"data row3 col3\" >3871.9</td>\n      <td id=\"T_5a652_row3_col4\" class=\"data row3 col4\" >4374.0</td>\n      <td id=\"T_5a652_row3_col5\" class=\"data row3 col5\" >4876.1</td>\n      <td id=\"T_5a652_row3_col6\" class=\"data row3 col6\" >1492.6</td>\n      <td id=\"T_5a652_row3_col7\" class=\"data row3 col7\" >1663.3</td>\n      <td id=\"T_5a652_row3_col8\" class=\"data row3 col8\" >1834.0</td>\n    </tr>\n    <tr>\n      <th id=\"T_5a652_level0_row4\" class=\"row_heading level0 row4\" >5</th>\n      <td id=\"T_5a652_row4_col0\" class=\"data row4 col0\" >1796.0</td>\n      <td id=\"T_5a652_row4_col1\" class=\"data row4 col1\" >1923.0</td>\n      <td id=\"T_5a652_row4_col2\" class=\"data row4 col2\" >2049.9</td>\n      <td id=\"T_5a652_row4_col3\" class=\"data row4 col3\" >5026.9</td>\n      <td id=\"T_5a652_row4_col4\" class=\"data row4 col4\" >5284.5</td>\n      <td id=\"T_5a652_row4_col5\" class=\"data row4 col5\" >5542.0</td>\n      <td id=\"T_5a652_row4_col6\" class=\"data row4 col6\" >1847.9</td>\n      <td id=\"T_5a652_row4_col7\" class=\"data row4 col7\" >1945.4</td>\n      <td id=\"T_5a652_row4_col8\" class=\"data row4 col8\" >2042.9</td>\n    </tr>\n  </tbody>\n</table>\n",
     "display_confidence_interval_overlapping(ci_overlapping, metrics=research_metrics, caption='<b>Наличие перекрытия доверительных интервалов статистик</b>', opacity=0.5, index_width=30)": "<style type=\"text/css\">\n#T_7e8cf caption {\n  font-size: 12pt;\n  text-align: center;\n  color: black;\n}\n#T_7e8cf td {\n  text-align: center;\n  border: 1px solid lightgray;\n  border-collapse: collapse;\n}\n#T_7e8cf .row_heading {\n  width: 30px;\n  text-align: center;\n}\n#T_7e8cf  td {\n  width: 30px;\n  text-align: center;\n}\n#T_7e8cf .col_heading {\n  width: 130px;\n  text-align: center;\n}\n#T_7e8cf  td {\n  width: 130px;\n  text-align: center;\n}\n#T_7e8cf_row3_col0, #T_7e8cf_row3_col1, #T_7e8cf_row3_col2 {\n  color: red;\n  font-weight: bold;\n}\n#T_7e8cf_level0_row0 {\n  color: white;\n  background-color: rgb(31, 119, 180);\n  opacity: 0.5;\n  border: 1px solid lightgray;\n  border-collapse: collapse;\n}\n#T_7e8cf_level1_row0, #T_7e8cf_level0_row1 {\n  color: white;\n  background-color: rgb(255, 127, 14);\n  opacity: 0.5;\n  border: 1px solid lightgray;\n  border-collapse: collapse;\n}\n#T_7e8cf_level1_row1, #T_7e8cf_level0_row2 {\n  color: white;\n  background-color: rgb(44, 160, 44);\n  opacity: 0.5;\n  border: 1px solid lightgray;\n  border-collapse: collapse;\n}\n#T_7e8cf_level1_row2, #T_7e8cf_level0_row3 {\n  color: white;\n  background-color: rgb(214, 39, 40);\n  opacity: 0.5;\n  border: 1px solid lightgray;\n  border-collapse: collapse;\n}\n#T_7e8cf_level1_row3 {\n  color: white;\n  background-color: rgb(148, 103, 189);\n  opacity: 0.5;\n  border: 1px solid lightgray;\n  border-collapse: collapse;\n}\n#T_7e8cf_level0_col0, #T_7e8cf_level0_col1, #T_7e8cf_level0_col2 {\n  border: 1px solid lightgray;\n  border-collapse: collapse;\n}\n</style>\n<table id=\"T_7e8cf\">\n  <caption><b>Наличие перекрытия доверительных интервалов статистик</b></caption>\n  <thead>\n    <tr>\n      <th class=\"blank\" >&nbsp;</th>\n      <th class=\"blank level0\" >&nbsp;</th>\n      <th id=\"T_7e8cf_level0_col0\" class=\"col_heading level0 col0\" >Средняя скорость «к абоненту»</th>\n      <th id=\"T_7e8cf_level0_col1\" class=\"col_heading level0 col1\" >Скорость загрузки потокового видео</th>\n      <th id=\"T_7e8cf_level0_col2\" class=\"col_heading level0 col2\" >Скорость загрузки web-страниц через браузер</th>\n    </tr>\n  </thead>\n  <tbody>\n    <tr>\n      <th id=\"T_7e8cf_level0_row0\" class=\"row_heading level0 row0\" >1</th>\n      <th id=\"T_7e8cf_level1_row0\" class=\"row_heading level1 row0\" >2</th>\n      <td id=\"T_7e8cf_row0_col0\" class=\"data row0 col0\" >Да</td>\n      <td id=\"T_7e8cf_row0_col1\" class=\"data row0 col1\" >Да</td>\n      <td id=\"T_7e8cf_row0_col2\" class=\"data row0 col2\" >Да</td>\n    </tr>\n    <tr>\n      <th id=\"T_7e8cf_level0_row1\" class=\"row_heading level0 row1\" >2</th>\n      <th id=\"T_7e8cf_level1_row1\" class=\"row_heading level1 row1\" >3</th>\n      <td id=\"T_7e8cf_row1_col0\" class=\"data row1 col0\" >Да</td>\n      <td id=\"T_7e8cf_row1_col1\" class=\"data row1 col1\" >Да</td>\n      <td id=\"T_7e8cf_row1_col2\" class=\"data row1 col2\" >Да</td>\n    </tr>\n    <tr>\n      <th id=\"T_7e8cf_level0_row2\" class=\"row_heading level0 row2\" >3</th>\n      <th id=\"T_7e8cf_level1_row2\" class=\"row_heading level1 row2\" >4</th>\n      <td id=\"T_7e8cf_row2_col0\" class=\"data row2 col0\" >Да</td>\n      <td id=\"T_7e8cf_row2_col1\" class=\"data row2 col1\" >Да</td>\n      <td id=\"T_7e8cf_row2_col2\" class=\"data row2 col2\" >Да</td>\n    </tr>\n    <tr>\n      <th id=\"T_7e8cf_level0_row3\" class=\"row_heading level0 row3\" >4</th>\n      <th id=\"T_7e8cf_level1_row3\" class=\"row_heading level1 row3\" >5</th>\n      <td id=\"T_7e8cf_row3_col0\" class=\"data row3 col0\" >Нет</td>\n      <td id=\"T_7e8cf_row3_col1\" class=\"data row3 col1\" >Нет</td>\n      <td id=\"T_7e8cf_row3_col2\" class=\"data row3 col2\" >Нет</td>\n    </tr>\n  </tbody>\n</table>\n"
    }
   },
   "source": [
    "Based on the obtained results on the presence of \"overlapping\" confidence intervals of the metrics under research, the following **conclusion** can be made:\n",
    "1. All metrics show a tendency for the central values of statistics to increase with the growth of the customer satisfaction index. Therefore, statistically significant differences may be absent primarily between neighboring groups.\n",
    "2. Group `3` stands out from the general picture. For this group, the metrics `Downlink Throughput` and `Web Page Download Throughput` are **worse** than for group `2`. And this difference looks **significant**, especially for the metric `Downlink Throughput`. The value of this metric for group `3` has almost the same value as for group `1`.\n",
    "3. In accordance with the indicated tendency, the worst metric values are observed for the first group `1`, and the best ones are for group `5`.\n",
    "4. The confidence intervals of group `5` are significantly **smaller** than for the other groups. But this most likely does not indicate a significantly smaller spread of metric values in the population to which this group belongs than in the populations to which the other groups belong. It is quite possible that such an effect is due to the fact that this group is significantly larger in size, and therefore, with repeated samples from it, there is a **lower probability** of obtaining more extreme statistical values than in larger groups.\n",
    "5. But the **larger** size of the confidence intervals of the metrics in group `4` than in groups comparable in size: `1`, `2` and `3`, may indicate a **larger** range of metrics in this group.\n",
    "\n",
    "It is visually noticeable that the confidence intervals of the statistics of the metrics under research intersect in all pairs of neighboring groups. But, to be sure of this, Let's additionally derive information about the presence of \"overlaps\" (common areas) of the confidence intervals of the statistics of the metrics under research in the groups under research in pairs. \"<span style=\"color: red; font-weight: bold;\">We highlight negative results in red</span>, as they are the most important and informative.<br>"
   ]
  },
  {
   "cell_type": "code",
   "execution_count": null,
   "metadata": {
    "variables": {
     "display_confidence_interval(ci, metrics=research_metrics, caption='<b>Доверительные интервалы статистик</b>', caption_font_size=12, opacity=0.5, precision=1, index_width=30)": "<style type=\"text/css\">\n#T_5a652 caption {\n  font-size: 12pt;\n  text-align: center;\n  color: black;\n}\n#T_5a652 td {\n  text-align: center;\n  border: 1px solid lightgray;\n  border-collapse: collapse;\n}\n#T_5a652 .row_heading {\n  width: 30px;\n  text-align: center;\n}\n#T_5a652  td {\n  width: 30px;\n  text-align: center;\n}\n#T_5a652 .col_heading {\n  width: 80px;\n  text-align: center;\n}\n#T_5a652  td {\n  width: 80px;\n  text-align: center;\n}\n#T_5a652_row0_col1, #T_5a652_row0_col4, #T_5a652_row0_col7 {\n  color: red;\n  font-weight: bold;\n}\n#T_5a652_row4_col1, #T_5a652_row4_col4, #T_5a652_row4_col7 {\n  color: green;\n  font-weight: bold;\n}\n#T_5a652_level0_row0 {\n  color: white;\n  background-color: rgb(31, 119, 180);\n  opacity: 0.5;\n  border: 1px solid lightgray;\n  border-collapse: collapse;\n}\n#T_5a652_level0_row1 {\n  color: white;\n  background-color: rgb(255, 127, 14);\n  opacity: 0.5;\n  border: 1px solid lightgray;\n  border-collapse: collapse;\n}\n#T_5a652_level0_row2 {\n  color: white;\n  background-color: rgb(44, 160, 44);\n  opacity: 0.5;\n  border: 1px solid lightgray;\n  border-collapse: collapse;\n}\n#T_5a652_level0_row3 {\n  color: white;\n  background-color: rgb(214, 39, 40);\n  opacity: 0.5;\n  border: 1px solid lightgray;\n  border-collapse: collapse;\n}\n#T_5a652_level0_row4 {\n  color: white;\n  background-color: rgb(148, 103, 189);\n  opacity: 0.5;\n  border: 1px solid lightgray;\n  border-collapse: collapse;\n}\n#T_5a652_level0_col0, #T_5a652_level0_col3, #T_5a652_level0_col6, #T_5a652_level1_col0, #T_5a652_level1_col1, #T_5a652_level1_col2, #T_5a652_level1_col3, #T_5a652_level1_col4, #T_5a652_level1_col5, #T_5a652_level1_col6, #T_5a652_level1_col7, #T_5a652_level1_col8 {\n  border: 1px solid lightgray;\n  border-collapse: collapse;\n}\n</style>\n<table id=\"T_5a652\">\n  <caption><b>Доверительные интервалы статистик</b></caption>\n  <thead>\n    <tr>\n      <th class=\"index_name level0\" ></th>\n      <th id=\"T_5a652_level0_col0\" class=\"col_heading level0 col0\" colspan=\"3\">Средняя скорость «к абоненту»</th>\n      <th id=\"T_5a652_level0_col3\" class=\"col_heading level0 col3\" colspan=\"3\">Скорость загрузки потокового видео</th>\n      <th id=\"T_5a652_level0_col6\" class=\"col_heading level0 col6\" colspan=\"3\">Скорость загрузки web-страниц через браузер</th>\n    </tr>\n    <tr>\n      <th class=\"index_name level1\" ></th>\n      <th id=\"T_5a652_level1_col0\" class=\"col_heading level1 col0\" >Начало</th>\n      <th id=\"T_5a652_level1_col1\" class=\"col_heading level1 col1\" >Середина</th>\n      <th id=\"T_5a652_level1_col2\" class=\"col_heading level1 col2\" >Конец</th>\n      <th id=\"T_5a652_level1_col3\" class=\"col_heading level1 col3\" >Начало</th>\n      <th id=\"T_5a652_level1_col4\" class=\"col_heading level1 col4\" >Середина</th>\n      <th id=\"T_5a652_level1_col5\" class=\"col_heading level1 col5\" >Конец</th>\n      <th id=\"T_5a652_level1_col6\" class=\"col_heading level1 col6\" >Начало</th>\n      <th id=\"T_5a652_level1_col7\" class=\"col_heading level1 col7\" >Середина</th>\n      <th id=\"T_5a652_level1_col8\" class=\"col_heading level1 col8\" >Конец</th>\n    </tr>\n  </thead>\n  <tbody>\n    <tr>\n      <th id=\"T_5a652_level0_row0\" class=\"row_heading level0 row0\" >1</th>\n      <td id=\"T_5a652_row0_col0\" class=\"data row0 col0\" >705.5</td>\n      <td id=\"T_5a652_row0_col1\" class=\"data row0 col1\" >938.4</td>\n      <td id=\"T_5a652_row0_col2\" class=\"data row0 col2\" >1171.4</td>\n      <td id=\"T_5a652_row0_col3\" class=\"data row0 col3\" >2280.4</td>\n      <td id=\"T_5a652_row0_col4\" class=\"data row0 col4\" >2754.0</td>\n      <td id=\"T_5a652_row0_col5\" class=\"data row0 col5\" >3227.6</td>\n      <td id=\"T_5a652_row0_col6\" class=\"data row0 col6\" >909.1</td>\n      <td id=\"T_5a652_row0_col7\" class=\"data row0 col7\" >1092.9</td>\n      <td id=\"T_5a652_row0_col8\" class=\"data row0 col8\" >1276.7</td>\n    </tr>\n    <tr>\n      <th id=\"T_5a652_level0_row1\" class=\"row_heading level0 row1\" >2</th>\n      <td id=\"T_5a652_row1_col0\" class=\"data row1 col0\" >1145.6</td>\n      <td id=\"T_5a652_row1_col1\" class=\"data row1 col1\" >1344.5</td>\n      <td id=\"T_5a652_row1_col2\" class=\"data row1 col2\" >1543.5</td>\n      <td id=\"T_5a652_row1_col3\" class=\"data row1 col3\" >2852.5</td>\n      <td id=\"T_5a652_row1_col4\" class=\"data row1 col4\" >3506.3</td>\n      <td id=\"T_5a652_row1_col5\" class=\"data row1 col5\" >4160.0</td>\n      <td id=\"T_5a652_row1_col6\" class=\"data row1 col6\" >1267.3</td>\n      <td id=\"T_5a652_row1_col7\" class=\"data row1 col7\" >1435.2</td>\n      <td id=\"T_5a652_row1_col8\" class=\"data row1 col8\" >1603.1</td>\n    </tr>\n    <tr>\n      <th id=\"T_5a652_level0_row2\" class=\"row_heading level0 row2\" >3</th>\n      <td id=\"T_5a652_row2_col0\" class=\"data row2 col0\" >554.4</td>\n      <td id=\"T_5a652_row2_col1\" class=\"data row2 col1\" >995.3</td>\n      <td id=\"T_5a652_row2_col2\" class=\"data row2 col2\" >1436.3</td>\n      <td id=\"T_5a652_row2_col3\" class=\"data row2 col3\" >3033.5</td>\n      <td id=\"T_5a652_row2_col4\" class=\"data row2 col4\" >3967.3</td>\n      <td id=\"T_5a652_row2_col5\" class=\"data row2 col5\" >4901.0</td>\n      <td id=\"T_5a652_row2_col6\" class=\"data row2 col6\" >1095.5</td>\n      <td id=\"T_5a652_row2_col7\" class=\"data row2 col7\" >1309.4</td>\n      <td id=\"T_5a652_row2_col8\" class=\"data row2 col8\" >1523.2</td>\n    </tr>\n    <tr>\n      <th id=\"T_5a652_level0_row3\" class=\"row_heading level0 row3\" >4</th>\n      <td id=\"T_5a652_row3_col0\" class=\"data row3 col0\" >1249.4</td>\n      <td id=\"T_5a652_row3_col1\" class=\"data row3 col1\" >1490.6</td>\n      <td id=\"T_5a652_row3_col2\" class=\"data row3 col2\" >1731.7</td>\n      <td id=\"T_5a652_row3_col3\" class=\"data row3 col3\" >3871.9</td>\n      <td id=\"T_5a652_row3_col4\" class=\"data row3 col4\" >4374.0</td>\n      <td id=\"T_5a652_row3_col5\" class=\"data row3 col5\" >4876.1</td>\n      <td id=\"T_5a652_row3_col6\" class=\"data row3 col6\" >1492.6</td>\n      <td id=\"T_5a652_row3_col7\" class=\"data row3 col7\" >1663.3</td>\n      <td id=\"T_5a652_row3_col8\" class=\"data row3 col8\" >1834.0</td>\n    </tr>\n    <tr>\n      <th id=\"T_5a652_level0_row4\" class=\"row_heading level0 row4\" >5</th>\n      <td id=\"T_5a652_row4_col0\" class=\"data row4 col0\" >1796.0</td>\n      <td id=\"T_5a652_row4_col1\" class=\"data row4 col1\" >1923.0</td>\n      <td id=\"T_5a652_row4_col2\" class=\"data row4 col2\" >2049.9</td>\n      <td id=\"T_5a652_row4_col3\" class=\"data row4 col3\" >5026.9</td>\n      <td id=\"T_5a652_row4_col4\" class=\"data row4 col4\" >5284.5</td>\n      <td id=\"T_5a652_row4_col5\" class=\"data row4 col5\" >5542.0</td>\n      <td id=\"T_5a652_row4_col6\" class=\"data row4 col6\" >1847.9</td>\n      <td id=\"T_5a652_row4_col7\" class=\"data row4 col7\" >1945.4</td>\n      <td id=\"T_5a652_row4_col8\" class=\"data row4 col8\" >2042.9</td>\n    </tr>\n  </tbody>\n</table>\n",
     "display_confidence_interval_overlapping(ci_overlapping, metrics=research_metrics, caption='<b>Наличие перекрытия доверительных интервалов статистик</b>', opacity=0.5, index_width=30)": "<style type=\"text/css\">\n#T_7e8cf caption {\n  font-size: 12pt;\n  text-align: center;\n  color: black;\n}\n#T_7e8cf td {\n  text-align: center;\n  border: 1px solid lightgray;\n  border-collapse: collapse;\n}\n#T_7e8cf .row_heading {\n  width: 30px;\n  text-align: center;\n}\n#T_7e8cf  td {\n  width: 30px;\n  text-align: center;\n}\n#T_7e8cf .col_heading {\n  width: 130px;\n  text-align: center;\n}\n#T_7e8cf  td {\n  width: 130px;\n  text-align: center;\n}\n#T_7e8cf_row3_col0, #T_7e8cf_row3_col1, #T_7e8cf_row3_col2 {\n  color: red;\n  font-weight: bold;\n}\n#T_7e8cf_level0_row0 {\n  color: white;\n  background-color: rgb(31, 119, 180);\n  opacity: 0.5;\n  border: 1px solid lightgray;\n  border-collapse: collapse;\n}\n#T_7e8cf_level1_row0, #T_7e8cf_level0_row1 {\n  color: white;\n  background-color: rgb(255, 127, 14);\n  opacity: 0.5;\n  border: 1px solid lightgray;\n  border-collapse: collapse;\n}\n#T_7e8cf_level1_row1, #T_7e8cf_level0_row2 {\n  color: white;\n  background-color: rgb(44, 160, 44);\n  opacity: 0.5;\n  border: 1px solid lightgray;\n  border-collapse: collapse;\n}\n#T_7e8cf_level1_row2, #T_7e8cf_level0_row3 {\n  color: white;\n  background-color: rgb(214, 39, 40);\n  opacity: 0.5;\n  border: 1px solid lightgray;\n  border-collapse: collapse;\n}\n#T_7e8cf_level1_row3 {\n  color: white;\n  background-color: rgb(148, 103, 189);\n  opacity: 0.5;\n  border: 1px solid lightgray;\n  border-collapse: collapse;\n}\n#T_7e8cf_level0_col0, #T_7e8cf_level0_col1, #T_7e8cf_level0_col2 {\n  border: 1px solid lightgray;\n  border-collapse: collapse;\n}\n</style>\n<table id=\"T_7e8cf\">\n  <caption><b>Наличие перекрытия доверительных интервалов статистик</b></caption>\n  <thead>\n    <tr>\n      <th class=\"blank\" >&nbsp;</th>\n      <th class=\"blank level0\" >&nbsp;</th>\n      <th id=\"T_7e8cf_level0_col0\" class=\"col_heading level0 col0\" >Средняя скорость «к абоненту»</th>\n      <th id=\"T_7e8cf_level0_col1\" class=\"col_heading level0 col1\" >Скорость загрузки потокового видео</th>\n      <th id=\"T_7e8cf_level0_col2\" class=\"col_heading level0 col2\" >Скорость загрузки web-страниц через браузер</th>\n    </tr>\n  </thead>\n  <tbody>\n    <tr>\n      <th id=\"T_7e8cf_level0_row0\" class=\"row_heading level0 row0\" >1</th>\n      <th id=\"T_7e8cf_level1_row0\" class=\"row_heading level1 row0\" >2</th>\n      <td id=\"T_7e8cf_row0_col0\" class=\"data row0 col0\" >Да</td>\n      <td id=\"T_7e8cf_row0_col1\" class=\"data row0 col1\" >Да</td>\n      <td id=\"T_7e8cf_row0_col2\" class=\"data row0 col2\" >Да</td>\n    </tr>\n    <tr>\n      <th id=\"T_7e8cf_level0_row1\" class=\"row_heading level0 row1\" >2</th>\n      <th id=\"T_7e8cf_level1_row1\" class=\"row_heading level1 row1\" >3</th>\n      <td id=\"T_7e8cf_row1_col0\" class=\"data row1 col0\" >Да</td>\n      <td id=\"T_7e8cf_row1_col1\" class=\"data row1 col1\" >Да</td>\n      <td id=\"T_7e8cf_row1_col2\" class=\"data row1 col2\" >Да</td>\n    </tr>\n    <tr>\n      <th id=\"T_7e8cf_level0_row2\" class=\"row_heading level0 row2\" >3</th>\n      <th id=\"T_7e8cf_level1_row2\" class=\"row_heading level1 row2\" >4</th>\n      <td id=\"T_7e8cf_row2_col0\" class=\"data row2 col0\" >Да</td>\n      <td id=\"T_7e8cf_row2_col1\" class=\"data row2 col1\" >Да</td>\n      <td id=\"T_7e8cf_row2_col2\" class=\"data row2 col2\" >Да</td>\n    </tr>\n    <tr>\n      <th id=\"T_7e8cf_level0_row3\" class=\"row_heading level0 row3\" >4</th>\n      <th id=\"T_7e8cf_level1_row3\" class=\"row_heading level1 row3\" >5</th>\n      <td id=\"T_7e8cf_row3_col0\" class=\"data row3 col0\" >Нет</td>\n      <td id=\"T_7e8cf_row3_col1\" class=\"data row3 col1\" >Нет</td>\n      <td id=\"T_7e8cf_row3_col2\" class=\"data row3 col2\" >Нет</td>\n    </tr>\n  </tbody>\n</table>\n"
    }
   },
   "outputs": [],
   "source": [
    "display_confidence_interval_overlapping(ci_overlapping, metrics=research_metrics, caption='<b>Overlapping confidence intervals of the statistics</b>', opacity=0.5, index_width=30)"
   ]
  },
  {
   "cell_type": "markdown",
   "metadata": {
    "variables": {
     "display_confidence_interval(ci, metrics=research_metrics, caption='<b>Доверительные интервалы статистик</b>', caption_font_size=12, opacity=0.5, precision=1, index_width=30)": "<style type=\"text/css\">\n#T_5a652 caption {\n  font-size: 12pt;\n  text-align: center;\n  color: black;\n}\n#T_5a652 td {\n  text-align: center;\n  border: 1px solid lightgray;\n  border-collapse: collapse;\n}\n#T_5a652 .row_heading {\n  width: 30px;\n  text-align: center;\n}\n#T_5a652  td {\n  width: 30px;\n  text-align: center;\n}\n#T_5a652 .col_heading {\n  width: 80px;\n  text-align: center;\n}\n#T_5a652  td {\n  width: 80px;\n  text-align: center;\n}\n#T_5a652_row0_col1, #T_5a652_row0_col4, #T_5a652_row0_col7 {\n  color: red;\n  font-weight: bold;\n}\n#T_5a652_row4_col1, #T_5a652_row4_col4, #T_5a652_row4_col7 {\n  color: green;\n  font-weight: bold;\n}\n#T_5a652_level0_row0 {\n  color: white;\n  background-color: rgb(31, 119, 180);\n  opacity: 0.5;\n  border: 1px solid lightgray;\n  border-collapse: collapse;\n}\n#T_5a652_level0_row1 {\n  color: white;\n  background-color: rgb(255, 127, 14);\n  opacity: 0.5;\n  border: 1px solid lightgray;\n  border-collapse: collapse;\n}\n#T_5a652_level0_row2 {\n  color: white;\n  background-color: rgb(44, 160, 44);\n  opacity: 0.5;\n  border: 1px solid lightgray;\n  border-collapse: collapse;\n}\n#T_5a652_level0_row3 {\n  color: white;\n  background-color: rgb(214, 39, 40);\n  opacity: 0.5;\n  border: 1px solid lightgray;\n  border-collapse: collapse;\n}\n#T_5a652_level0_row4 {\n  color: white;\n  background-color: rgb(148, 103, 189);\n  opacity: 0.5;\n  border: 1px solid lightgray;\n  border-collapse: collapse;\n}\n#T_5a652_level0_col0, #T_5a652_level0_col3, #T_5a652_level0_col6, #T_5a652_level1_col0, #T_5a652_level1_col1, #T_5a652_level1_col2, #T_5a652_level1_col3, #T_5a652_level1_col4, #T_5a652_level1_col5, #T_5a652_level1_col6, #T_5a652_level1_col7, #T_5a652_level1_col8 {\n  border: 1px solid lightgray;\n  border-collapse: collapse;\n}\n</style>\n<table id=\"T_5a652\">\n  <caption><b>Доверительные интервалы статистик</b></caption>\n  <thead>\n    <tr>\n      <th class=\"index_name level0\" ></th>\n      <th id=\"T_5a652_level0_col0\" class=\"col_heading level0 col0\" colspan=\"3\">Средняя скорость «к абоненту»</th>\n      <th id=\"T_5a652_level0_col3\" class=\"col_heading level0 col3\" colspan=\"3\">Скорость загрузки потокового видео</th>\n      <th id=\"T_5a652_level0_col6\" class=\"col_heading level0 col6\" colspan=\"3\">Скорость загрузки web-страниц через браузер</th>\n    </tr>\n    <tr>\n      <th class=\"index_name level1\" ></th>\n      <th id=\"T_5a652_level1_col0\" class=\"col_heading level1 col0\" >Начало</th>\n      <th id=\"T_5a652_level1_col1\" class=\"col_heading level1 col1\" >Середина</th>\n      <th id=\"T_5a652_level1_col2\" class=\"col_heading level1 col2\" >Конец</th>\n      <th id=\"T_5a652_level1_col3\" class=\"col_heading level1 col3\" >Начало</th>\n      <th id=\"T_5a652_level1_col4\" class=\"col_heading level1 col4\" >Середина</th>\n      <th id=\"T_5a652_level1_col5\" class=\"col_heading level1 col5\" >Конец</th>\n      <th id=\"T_5a652_level1_col6\" class=\"col_heading level1 col6\" >Начало</th>\n      <th id=\"T_5a652_level1_col7\" class=\"col_heading level1 col7\" >Середина</th>\n      <th id=\"T_5a652_level1_col8\" class=\"col_heading level1 col8\" >Конец</th>\n    </tr>\n  </thead>\n  <tbody>\n    <tr>\n      <th id=\"T_5a652_level0_row0\" class=\"row_heading level0 row0\" >1</th>\n      <td id=\"T_5a652_row0_col0\" class=\"data row0 col0\" >705.5</td>\n      <td id=\"T_5a652_row0_col1\" class=\"data row0 col1\" >938.4</td>\n      <td id=\"T_5a652_row0_col2\" class=\"data row0 col2\" >1171.4</td>\n      <td id=\"T_5a652_row0_col3\" class=\"data row0 col3\" >2280.4</td>\n      <td id=\"T_5a652_row0_col4\" class=\"data row0 col4\" >2754.0</td>\n      <td id=\"T_5a652_row0_col5\" class=\"data row0 col5\" >3227.6</td>\n      <td id=\"T_5a652_row0_col6\" class=\"data row0 col6\" >909.1</td>\n      <td id=\"T_5a652_row0_col7\" class=\"data row0 col7\" >1092.9</td>\n      <td id=\"T_5a652_row0_col8\" class=\"data row0 col8\" >1276.7</td>\n    </tr>\n    <tr>\n      <th id=\"T_5a652_level0_row1\" class=\"row_heading level0 row1\" >2</th>\n      <td id=\"T_5a652_row1_col0\" class=\"data row1 col0\" >1145.6</td>\n      <td id=\"T_5a652_row1_col1\" class=\"data row1 col1\" >1344.5</td>\n      <td id=\"T_5a652_row1_col2\" class=\"data row1 col2\" >1543.5</td>\n      <td id=\"T_5a652_row1_col3\" class=\"data row1 col3\" >2852.5</td>\n      <td id=\"T_5a652_row1_col4\" class=\"data row1 col4\" >3506.3</td>\n      <td id=\"T_5a652_row1_col5\" class=\"data row1 col5\" >4160.0</td>\n      <td id=\"T_5a652_row1_col6\" class=\"data row1 col6\" >1267.3</td>\n      <td id=\"T_5a652_row1_col7\" class=\"data row1 col7\" >1435.2</td>\n      <td id=\"T_5a652_row1_col8\" class=\"data row1 col8\" >1603.1</td>\n    </tr>\n    <tr>\n      <th id=\"T_5a652_level0_row2\" class=\"row_heading level0 row2\" >3</th>\n      <td id=\"T_5a652_row2_col0\" class=\"data row2 col0\" >554.4</td>\n      <td id=\"T_5a652_row2_col1\" class=\"data row2 col1\" >995.3</td>\n      <td id=\"T_5a652_row2_col2\" class=\"data row2 col2\" >1436.3</td>\n      <td id=\"T_5a652_row2_col3\" class=\"data row2 col3\" >3033.5</td>\n      <td id=\"T_5a652_row2_col4\" class=\"data row2 col4\" >3967.3</td>\n      <td id=\"T_5a652_row2_col5\" class=\"data row2 col5\" >4901.0</td>\n      <td id=\"T_5a652_row2_col6\" class=\"data row2 col6\" >1095.5</td>\n      <td id=\"T_5a652_row2_col7\" class=\"data row2 col7\" >1309.4</td>\n      <td id=\"T_5a652_row2_col8\" class=\"data row2 col8\" >1523.2</td>\n    </tr>\n    <tr>\n      <th id=\"T_5a652_level0_row3\" class=\"row_heading level0 row3\" >4</th>\n      <td id=\"T_5a652_row3_col0\" class=\"data row3 col0\" >1249.4</td>\n      <td id=\"T_5a652_row3_col1\" class=\"data row3 col1\" >1490.6</td>\n      <td id=\"T_5a652_row3_col2\" class=\"data row3 col2\" >1731.7</td>\n      <td id=\"T_5a652_row3_col3\" class=\"data row3 col3\" >3871.9</td>\n      <td id=\"T_5a652_row3_col4\" class=\"data row3 col4\" >4374.0</td>\n      <td id=\"T_5a652_row3_col5\" class=\"data row3 col5\" >4876.1</td>\n      <td id=\"T_5a652_row3_col6\" class=\"data row3 col6\" >1492.6</td>\n      <td id=\"T_5a652_row3_col7\" class=\"data row3 col7\" >1663.3</td>\n      <td id=\"T_5a652_row3_col8\" class=\"data row3 col8\" >1834.0</td>\n    </tr>\n    <tr>\n      <th id=\"T_5a652_level0_row4\" class=\"row_heading level0 row4\" >5</th>\n      <td id=\"T_5a652_row4_col0\" class=\"data row4 col0\" >1796.0</td>\n      <td id=\"T_5a652_row4_col1\" class=\"data row4 col1\" >1923.0</td>\n      <td id=\"T_5a652_row4_col2\" class=\"data row4 col2\" >2049.9</td>\n      <td id=\"T_5a652_row4_col3\" class=\"data row4 col3\" >5026.9</td>\n      <td id=\"T_5a652_row4_col4\" class=\"data row4 col4\" >5284.5</td>\n      <td id=\"T_5a652_row4_col5\" class=\"data row4 col5\" >5542.0</td>\n      <td id=\"T_5a652_row4_col6\" class=\"data row4 col6\" >1847.9</td>\n      <td id=\"T_5a652_row4_col7\" class=\"data row4 col7\" >1945.4</td>\n      <td id=\"T_5a652_row4_col8\" class=\"data row4 col8\" >2042.9</td>\n    </tr>\n  </tbody>\n</table>\n",
     "display_confidence_interval_overlapping(ci_overlapping, metrics=research_metrics, caption='<b>Наличие перекрытия доверительных интервалов статистик</b>', opacity=0.5, index_width=30)": "<style type=\"text/css\">\n#T_7e8cf caption {\n  font-size: 12pt;\n  text-align: center;\n  color: black;\n}\n#T_7e8cf td {\n  text-align: center;\n  border: 1px solid lightgray;\n  border-collapse: collapse;\n}\n#T_7e8cf .row_heading {\n  width: 30px;\n  text-align: center;\n}\n#T_7e8cf  td {\n  width: 30px;\n  text-align: center;\n}\n#T_7e8cf .col_heading {\n  width: 130px;\n  text-align: center;\n}\n#T_7e8cf  td {\n  width: 130px;\n  text-align: center;\n}\n#T_7e8cf_row3_col0, #T_7e8cf_row3_col1, #T_7e8cf_row3_col2 {\n  color: red;\n  font-weight: bold;\n}\n#T_7e8cf_level0_row0 {\n  color: white;\n  background-color: rgb(31, 119, 180);\n  opacity: 0.5;\n  border: 1px solid lightgray;\n  border-collapse: collapse;\n}\n#T_7e8cf_level1_row0, #T_7e8cf_level0_row1 {\n  color: white;\n  background-color: rgb(255, 127, 14);\n  opacity: 0.5;\n  border: 1px solid lightgray;\n  border-collapse: collapse;\n}\n#T_7e8cf_level1_row1, #T_7e8cf_level0_row2 {\n  color: white;\n  background-color: rgb(44, 160, 44);\n  opacity: 0.5;\n  border: 1px solid lightgray;\n  border-collapse: collapse;\n}\n#T_7e8cf_level1_row2, #T_7e8cf_level0_row3 {\n  color: white;\n  background-color: rgb(214, 39, 40);\n  opacity: 0.5;\n  border: 1px solid lightgray;\n  border-collapse: collapse;\n}\n#T_7e8cf_level1_row3 {\n  color: white;\n  background-color: rgb(148, 103, 189);\n  opacity: 0.5;\n  border: 1px solid lightgray;\n  border-collapse: collapse;\n}\n#T_7e8cf_level0_col0, #T_7e8cf_level0_col1, #T_7e8cf_level0_col2 {\n  border: 1px solid lightgray;\n  border-collapse: collapse;\n}\n</style>\n<table id=\"T_7e8cf\">\n  <caption><b>Наличие перекрытия доверительных интервалов статистик</b></caption>\n  <thead>\n    <tr>\n      <th class=\"blank\" >&nbsp;</th>\n      <th class=\"blank level0\" >&nbsp;</th>\n      <th id=\"T_7e8cf_level0_col0\" class=\"col_heading level0 col0\" >Средняя скорость «к абоненту»</th>\n      <th id=\"T_7e8cf_level0_col1\" class=\"col_heading level0 col1\" >Скорость загрузки потокового видео</th>\n      <th id=\"T_7e8cf_level0_col2\" class=\"col_heading level0 col2\" >Скорость загрузки web-страниц через браузер</th>\n    </tr>\n  </thead>\n  <tbody>\n    <tr>\n      <th id=\"T_7e8cf_level0_row0\" class=\"row_heading level0 row0\" >1</th>\n      <th id=\"T_7e8cf_level1_row0\" class=\"row_heading level1 row0\" >2</th>\n      <td id=\"T_7e8cf_row0_col0\" class=\"data row0 col0\" >Да</td>\n      <td id=\"T_7e8cf_row0_col1\" class=\"data row0 col1\" >Да</td>\n      <td id=\"T_7e8cf_row0_col2\" class=\"data row0 col2\" >Да</td>\n    </tr>\n    <tr>\n      <th id=\"T_7e8cf_level0_row1\" class=\"row_heading level0 row1\" >2</th>\n      <th id=\"T_7e8cf_level1_row1\" class=\"row_heading level1 row1\" >3</th>\n      <td id=\"T_7e8cf_row1_col0\" class=\"data row1 col0\" >Да</td>\n      <td id=\"T_7e8cf_row1_col1\" class=\"data row1 col1\" >Да</td>\n      <td id=\"T_7e8cf_row1_col2\" class=\"data row1 col2\" >Да</td>\n    </tr>\n    <tr>\n      <th id=\"T_7e8cf_level0_row2\" class=\"row_heading level0 row2\" >3</th>\n      <th id=\"T_7e8cf_level1_row2\" class=\"row_heading level1 row2\" >4</th>\n      <td id=\"T_7e8cf_row2_col0\" class=\"data row2 col0\" >Да</td>\n      <td id=\"T_7e8cf_row2_col1\" class=\"data row2 col1\" >Да</td>\n      <td id=\"T_7e8cf_row2_col2\" class=\"data row2 col2\" >Да</td>\n    </tr>\n    <tr>\n      <th id=\"T_7e8cf_level0_row3\" class=\"row_heading level0 row3\" >4</th>\n      <th id=\"T_7e8cf_level1_row3\" class=\"row_heading level1 row3\" >5</th>\n      <td id=\"T_7e8cf_row3_col0\" class=\"data row3 col0\" >Нет</td>\n      <td id=\"T_7e8cf_row3_col1\" class=\"data row3 col1\" >Нет</td>\n      <td id=\"T_7e8cf_row3_col2\" class=\"data row3 col2\" >Нет</td>\n    </tr>\n  </tbody>\n</table>\n"
    }
   },
   "source": [
    "Based on the confidence intervals, we can make the following **conclusions**:\n",
    "1. All metrics show a tendency for the central values of the statistics to increase with the growth of the customer satisfaction index. Therefore, statistically significant differences may be absent primarily between neighboring groups.\n",
    "2. Group `3` stands out from the general picture. This group has **worse** metrics `Downlink Throughput` and `Web Page Download Throughput` than group `2`. And this difference seems **significant**, especially for the metric `Downlink Throughput`. The value of this metric for group `3` has almost the same value as for group `1`.\n",
    "3. In accordance with the indicated tendency, the worst metric values are observed in the first group `1`, and the best ones are in group `5`.\n",
    "4. The confidence intervals of group `5` are significantly smaller than those of the other groups. But this does not mean that the spread of metric values in the population to which this group belongs is significantly smaller than in the populations to which the other groups belong. It is quite possible that such an effect is due to the fact that this group is significantly larger in size, and therefore, with repeated samples from it, the probability of obtaining more extreme statistical values is lower than in larger groups. The opposite situation is with the smallest group `3`.\n",
    "\n",
    "It is visually noticeable that only one pair of neighboring groups: `4` and `5` have confidence intervals for the statistics of all metrics that do not intersect. But, to be sure of this, Let's additionally display information about the presence of \"overlaps\" (common areas) of confidence intervals for the statistics of the metrics under research in pairs. \"<span style=\"color: red; font-weight: bold;\">Let's highlight negative results in red</span>\" because they are the most important and informative.<br>"
   ]
  },
  {
   "cell_type": "code",
   "execution_count": null,
   "metadata": {
    "variables": {
     "display_confidence_interval(ci, metrics=research_metrics, caption='<b>Доверительные интервалы статистик</b>', caption_font_size=12, opacity=0.5, precision=1, index_width=30)": "<style type=\"text/css\">\n#T_5a652 caption {\n  font-size: 12pt;\n  text-align: center;\n  color: black;\n}\n#T_5a652 td {\n  text-align: center;\n  border: 1px solid lightgray;\n  border-collapse: collapse;\n}\n#T_5a652 .row_heading {\n  width: 30px;\n  text-align: center;\n}\n#T_5a652  td {\n  width: 30px;\n  text-align: center;\n}\n#T_5a652 .col_heading {\n  width: 80px;\n  text-align: center;\n}\n#T_5a652  td {\n  width: 80px;\n  text-align: center;\n}\n#T_5a652_row0_col1, #T_5a652_row0_col4, #T_5a652_row0_col7 {\n  color: red;\n  font-weight: bold;\n}\n#T_5a652_row4_col1, #T_5a652_row4_col4, #T_5a652_row4_col7 {\n  color: green;\n  font-weight: bold;\n}\n#T_5a652_level0_row0 {\n  color: white;\n  background-color: rgb(31, 119, 180);\n  opacity: 0.5;\n  border: 1px solid lightgray;\n  border-collapse: collapse;\n}\n#T_5a652_level0_row1 {\n  color: white;\n  background-color: rgb(255, 127, 14);\n  opacity: 0.5;\n  border: 1px solid lightgray;\n  border-collapse: collapse;\n}\n#T_5a652_level0_row2 {\n  color: white;\n  background-color: rgb(44, 160, 44);\n  opacity: 0.5;\n  border: 1px solid lightgray;\n  border-collapse: collapse;\n}\n#T_5a652_level0_row3 {\n  color: white;\n  background-color: rgb(214, 39, 40);\n  opacity: 0.5;\n  border: 1px solid lightgray;\n  border-collapse: collapse;\n}\n#T_5a652_level0_row4 {\n  color: white;\n  background-color: rgb(148, 103, 189);\n  opacity: 0.5;\n  border: 1px solid lightgray;\n  border-collapse: collapse;\n}\n#T_5a652_level0_col0, #T_5a652_level0_col3, #T_5a652_level0_col6, #T_5a652_level1_col0, #T_5a652_level1_col1, #T_5a652_level1_col2, #T_5a652_level1_col3, #T_5a652_level1_col4, #T_5a652_level1_col5, #T_5a652_level1_col6, #T_5a652_level1_col7, #T_5a652_level1_col8 {\n  border: 1px solid lightgray;\n  border-collapse: collapse;\n}\n</style>\n<table id=\"T_5a652\">\n  <caption><b>Доверительные интервалы статистик</b></caption>\n  <thead>\n    <tr>\n      <th class=\"index_name level0\" ></th>\n      <th id=\"T_5a652_level0_col0\" class=\"col_heading level0 col0\" colspan=\"3\">Средняя скорость «к абоненту»</th>\n      <th id=\"T_5a652_level0_col3\" class=\"col_heading level0 col3\" colspan=\"3\">Скорость загрузки потокового видео</th>\n      <th id=\"T_5a652_level0_col6\" class=\"col_heading level0 col6\" colspan=\"3\">Скорость загрузки web-страниц через браузер</th>\n    </tr>\n    <tr>\n      <th class=\"index_name level1\" ></th>\n      <th id=\"T_5a652_level1_col0\" class=\"col_heading level1 col0\" >Начало</th>\n      <th id=\"T_5a652_level1_col1\" class=\"col_heading level1 col1\" >Середина</th>\n      <th id=\"T_5a652_level1_col2\" class=\"col_heading level1 col2\" >Конец</th>\n      <th id=\"T_5a652_level1_col3\" class=\"col_heading level1 col3\" >Начало</th>\n      <th id=\"T_5a652_level1_col4\" class=\"col_heading level1 col4\" >Середина</th>\n      <th id=\"T_5a652_level1_col5\" class=\"col_heading level1 col5\" >Конец</th>\n      <th id=\"T_5a652_level1_col6\" class=\"col_heading level1 col6\" >Начало</th>\n      <th id=\"T_5a652_level1_col7\" class=\"col_heading level1 col7\" >Середина</th>\n      <th id=\"T_5a652_level1_col8\" class=\"col_heading level1 col8\" >Конец</th>\n    </tr>\n  </thead>\n  <tbody>\n    <tr>\n      <th id=\"T_5a652_level0_row0\" class=\"row_heading level0 row0\" >1</th>\n      <td id=\"T_5a652_row0_col0\" class=\"data row0 col0\" >705.5</td>\n      <td id=\"T_5a652_row0_col1\" class=\"data row0 col1\" >938.4</td>\n      <td id=\"T_5a652_row0_col2\" class=\"data row0 col2\" >1171.4</td>\n      <td id=\"T_5a652_row0_col3\" class=\"data row0 col3\" >2280.4</td>\n      <td id=\"T_5a652_row0_col4\" class=\"data row0 col4\" >2754.0</td>\n      <td id=\"T_5a652_row0_col5\" class=\"data row0 col5\" >3227.6</td>\n      <td id=\"T_5a652_row0_col6\" class=\"data row0 col6\" >909.1</td>\n      <td id=\"T_5a652_row0_col7\" class=\"data row0 col7\" >1092.9</td>\n      <td id=\"T_5a652_row0_col8\" class=\"data row0 col8\" >1276.7</td>\n    </tr>\n    <tr>\n      <th id=\"T_5a652_level0_row1\" class=\"row_heading level0 row1\" >2</th>\n      <td id=\"T_5a652_row1_col0\" class=\"data row1 col0\" >1145.6</td>\n      <td id=\"T_5a652_row1_col1\" class=\"data row1 col1\" >1344.5</td>\n      <td id=\"T_5a652_row1_col2\" class=\"data row1 col2\" >1543.5</td>\n      <td id=\"T_5a652_row1_col3\" class=\"data row1 col3\" >2852.5</td>\n      <td id=\"T_5a652_row1_col4\" class=\"data row1 col4\" >3506.3</td>\n      <td id=\"T_5a652_row1_col5\" class=\"data row1 col5\" >4160.0</td>\n      <td id=\"T_5a652_row1_col6\" class=\"data row1 col6\" >1267.3</td>\n      <td id=\"T_5a652_row1_col7\" class=\"data row1 col7\" >1435.2</td>\n      <td id=\"T_5a652_row1_col8\" class=\"data row1 col8\" >1603.1</td>\n    </tr>\n    <tr>\n      <th id=\"T_5a652_level0_row2\" class=\"row_heading level0 row2\" >3</th>\n      <td id=\"T_5a652_row2_col0\" class=\"data row2 col0\" >554.4</td>\n      <td id=\"T_5a652_row2_col1\" class=\"data row2 col1\" >995.3</td>\n      <td id=\"T_5a652_row2_col2\" class=\"data row2 col2\" >1436.3</td>\n      <td id=\"T_5a652_row2_col3\" class=\"data row2 col3\" >3033.5</td>\n      <td id=\"T_5a652_row2_col4\" class=\"data row2 col4\" >3967.3</td>\n      <td id=\"T_5a652_row2_col5\" class=\"data row2 col5\" >4901.0</td>\n      <td id=\"T_5a652_row2_col6\" class=\"data row2 col6\" >1095.5</td>\n      <td id=\"T_5a652_row2_col7\" class=\"data row2 col7\" >1309.4</td>\n      <td id=\"T_5a652_row2_col8\" class=\"data row2 col8\" >1523.2</td>\n    </tr>\n    <tr>\n      <th id=\"T_5a652_level0_row3\" class=\"row_heading level0 row3\" >4</th>\n      <td id=\"T_5a652_row3_col0\" class=\"data row3 col0\" >1249.4</td>\n      <td id=\"T_5a652_row3_col1\" class=\"data row3 col1\" >1490.6</td>\n      <td id=\"T_5a652_row3_col2\" class=\"data row3 col2\" >1731.7</td>\n      <td id=\"T_5a652_row3_col3\" class=\"data row3 col3\" >3871.9</td>\n      <td id=\"T_5a652_row3_col4\" class=\"data row3 col4\" >4374.0</td>\n      <td id=\"T_5a652_row3_col5\" class=\"data row3 col5\" >4876.1</td>\n      <td id=\"T_5a652_row3_col6\" class=\"data row3 col6\" >1492.6</td>\n      <td id=\"T_5a652_row3_col7\" class=\"data row3 col7\" >1663.3</td>\n      <td id=\"T_5a652_row3_col8\" class=\"data row3 col8\" >1834.0</td>\n    </tr>\n    <tr>\n      <th id=\"T_5a652_level0_row4\" class=\"row_heading level0 row4\" >5</th>\n      <td id=\"T_5a652_row4_col0\" class=\"data row4 col0\" >1796.0</td>\n      <td id=\"T_5a652_row4_col1\" class=\"data row4 col1\" >1923.0</td>\n      <td id=\"T_5a652_row4_col2\" class=\"data row4 col2\" >2049.9</td>\n      <td id=\"T_5a652_row4_col3\" class=\"data row4 col3\" >5026.9</td>\n      <td id=\"T_5a652_row4_col4\" class=\"data row4 col4\" >5284.5</td>\n      <td id=\"T_5a652_row4_col5\" class=\"data row4 col5\" >5542.0</td>\n      <td id=\"T_5a652_row4_col6\" class=\"data row4 col6\" >1847.9</td>\n      <td id=\"T_5a652_row4_col7\" class=\"data row4 col7\" >1945.4</td>\n      <td id=\"T_5a652_row4_col8\" class=\"data row4 col8\" >2042.9</td>\n    </tr>\n  </tbody>\n</table>\n",
     "display_confidence_interval_overlapping(ci_overlapping, metrics=research_metrics, caption='<b>Наличие перекрытия доверительных интервалов статистик</b>', opacity=0.5, index_width=30)": "<style type=\"text/css\">\n#T_7e8cf caption {\n  font-size: 12pt;\n  text-align: center;\n  color: black;\n}\n#T_7e8cf td {\n  text-align: center;\n  border: 1px solid lightgray;\n  border-collapse: collapse;\n}\n#T_7e8cf .row_heading {\n  width: 30px;\n  text-align: center;\n}\n#T_7e8cf  td {\n  width: 30px;\n  text-align: center;\n}\n#T_7e8cf .col_heading {\n  width: 130px;\n  text-align: center;\n}\n#T_7e8cf  td {\n  width: 130px;\n  text-align: center;\n}\n#T_7e8cf_row3_col0, #T_7e8cf_row3_col1, #T_7e8cf_row3_col2 {\n  color: red;\n  font-weight: bold;\n}\n#T_7e8cf_level0_row0 {\n  color: white;\n  background-color: rgb(31, 119, 180);\n  opacity: 0.5;\n  border: 1px solid lightgray;\n  border-collapse: collapse;\n}\n#T_7e8cf_level1_row0, #T_7e8cf_level0_row1 {\n  color: white;\n  background-color: rgb(255, 127, 14);\n  opacity: 0.5;\n  border: 1px solid lightgray;\n  border-collapse: collapse;\n}\n#T_7e8cf_level1_row1, #T_7e8cf_level0_row2 {\n  color: white;\n  background-color: rgb(44, 160, 44);\n  opacity: 0.5;\n  border: 1px solid lightgray;\n  border-collapse: collapse;\n}\n#T_7e8cf_level1_row2, #T_7e8cf_level0_row3 {\n  color: white;\n  background-color: rgb(214, 39, 40);\n  opacity: 0.5;\n  border: 1px solid lightgray;\n  border-collapse: collapse;\n}\n#T_7e8cf_level1_row3 {\n  color: white;\n  background-color: rgb(148, 103, 189);\n  opacity: 0.5;\n  border: 1px solid lightgray;\n  border-collapse: collapse;\n}\n#T_7e8cf_level0_col0, #T_7e8cf_level0_col1, #T_7e8cf_level0_col2 {\n  border: 1px solid lightgray;\n  border-collapse: collapse;\n}\n</style>\n<table id=\"T_7e8cf\">\n  <caption><b>Наличие перекрытия доверительных интервалов статистик</b></caption>\n  <thead>\n    <tr>\n      <th class=\"blank\" >&nbsp;</th>\n      <th class=\"blank level0\" >&nbsp;</th>\n      <th id=\"T_7e8cf_level0_col0\" class=\"col_heading level0 col0\" >Средняя скорость «к абоненту»</th>\n      <th id=\"T_7e8cf_level0_col1\" class=\"col_heading level0 col1\" >Скорость загрузки потокового видео</th>\n      <th id=\"T_7e8cf_level0_col2\" class=\"col_heading level0 col2\" >Скорость загрузки web-страниц через браузер</th>\n    </tr>\n  </thead>\n  <tbody>\n    <tr>\n      <th id=\"T_7e8cf_level0_row0\" class=\"row_heading level0 row0\" >1</th>\n      <th id=\"T_7e8cf_level1_row0\" class=\"row_heading level1 row0\" >2</th>\n      <td id=\"T_7e8cf_row0_col0\" class=\"data row0 col0\" >Да</td>\n      <td id=\"T_7e8cf_row0_col1\" class=\"data row0 col1\" >Да</td>\n      <td id=\"T_7e8cf_row0_col2\" class=\"data row0 col2\" >Да</td>\n    </tr>\n    <tr>\n      <th id=\"T_7e8cf_level0_row1\" class=\"row_heading level0 row1\" >2</th>\n      <th id=\"T_7e8cf_level1_row1\" class=\"row_heading level1 row1\" >3</th>\n      <td id=\"T_7e8cf_row1_col0\" class=\"data row1 col0\" >Да</td>\n      <td id=\"T_7e8cf_row1_col1\" class=\"data row1 col1\" >Да</td>\n      <td id=\"T_7e8cf_row1_col2\" class=\"data row1 col2\" >Да</td>\n    </tr>\n    <tr>\n      <th id=\"T_7e8cf_level0_row2\" class=\"row_heading level0 row2\" >3</th>\n      <th id=\"T_7e8cf_level1_row2\" class=\"row_heading level1 row2\" >4</th>\n      <td id=\"T_7e8cf_row2_col0\" class=\"data row2 col0\" >Да</td>\n      <td id=\"T_7e8cf_row2_col1\" class=\"data row2 col1\" >Да</td>\n      <td id=\"T_7e8cf_row2_col2\" class=\"data row2 col2\" >Да</td>\n    </tr>\n    <tr>\n      <th id=\"T_7e8cf_level0_row3\" class=\"row_heading level0 row3\" >4</th>\n      <th id=\"T_7e8cf_level1_row3\" class=\"row_heading level1 row3\" >5</th>\n      <td id=\"T_7e8cf_row3_col0\" class=\"data row3 col0\" >Нет</td>\n      <td id=\"T_7e8cf_row3_col1\" class=\"data row3 col1\" >Нет</td>\n      <td id=\"T_7e8cf_row3_col2\" class=\"data row3 col2\" >Нет</td>\n    </tr>\n  </tbody>\n</table>\n"
    }
   },
   "outputs": [],
   "source": [
    "display_confidence_interval_overlapping(ci_overlapping, metrics=research_metrics, caption='<b>Overlapping confidence intervals of the statistics</b>', opacity=0.5, index_width=30)"
   ]
  },
  {
   "cell_type": "markdown",
   "metadata": {
    "variables": {
     "display_confidence_interval(ci, metrics=research_metrics, caption='<b>Доверительные интервалы статистик</b>', caption_font_size=12, opacity=0.5, precision=1, index_width=30)": "<style type=\"text/css\">\n#T_5a652 caption {\n  font-size: 12pt;\n  text-align: center;\n  color: black;\n}\n#T_5a652 td {\n  text-align: center;\n  border: 1px solid lightgray;\n  border-collapse: collapse;\n}\n#T_5a652 .row_heading {\n  width: 30px;\n  text-align: center;\n}\n#T_5a652  td {\n  width: 30px;\n  text-align: center;\n}\n#T_5a652 .col_heading {\n  width: 80px;\n  text-align: center;\n}\n#T_5a652  td {\n  width: 80px;\n  text-align: center;\n}\n#T_5a652_row0_col1, #T_5a652_row0_col4, #T_5a652_row0_col7 {\n  color: red;\n  font-weight: bold;\n}\n#T_5a652_row4_col1, #T_5a652_row4_col4, #T_5a652_row4_col7 {\n  color: green;\n  font-weight: bold;\n}\n#T_5a652_level0_row0 {\n  color: white;\n  background-color: rgb(31, 119, 180);\n  opacity: 0.5;\n  border: 1px solid lightgray;\n  border-collapse: collapse;\n}\n#T_5a652_level0_row1 {\n  color: white;\n  background-color: rgb(255, 127, 14);\n  opacity: 0.5;\n  border: 1px solid lightgray;\n  border-collapse: collapse;\n}\n#T_5a652_level0_row2 {\n  color: white;\n  background-color: rgb(44, 160, 44);\n  opacity: 0.5;\n  border: 1px solid lightgray;\n  border-collapse: collapse;\n}\n#T_5a652_level0_row3 {\n  color: white;\n  background-color: rgb(214, 39, 40);\n  opacity: 0.5;\n  border: 1px solid lightgray;\n  border-collapse: collapse;\n}\n#T_5a652_level0_row4 {\n  color: white;\n  background-color: rgb(148, 103, 189);\n  opacity: 0.5;\n  border: 1px solid lightgray;\n  border-collapse: collapse;\n}\n#T_5a652_level0_col0, #T_5a652_level0_col3, #T_5a652_level0_col6, #T_5a652_level1_col0, #T_5a652_level1_col1, #T_5a652_level1_col2, #T_5a652_level1_col3, #T_5a652_level1_col4, #T_5a652_level1_col5, #T_5a652_level1_col6, #T_5a652_level1_col7, #T_5a652_level1_col8 {\n  border: 1px solid lightgray;\n  border-collapse: collapse;\n}\n</style>\n<table id=\"T_5a652\">\n  <caption><b>Доверительные интервалы статистик</b></caption>\n  <thead>\n    <tr>\n      <th class=\"index_name level0\" ></th>\n      <th id=\"T_5a652_level0_col0\" class=\"col_heading level0 col0\" colspan=\"3\">Средняя скорость «к абоненту»</th>\n      <th id=\"T_5a652_level0_col3\" class=\"col_heading level0 col3\" colspan=\"3\">Скорость загрузки потокового видео</th>\n      <th id=\"T_5a652_level0_col6\" class=\"col_heading level0 col6\" colspan=\"3\">Скорость загрузки web-страниц через браузер</th>\n    </tr>\n    <tr>\n      <th class=\"index_name level1\" ></th>\n      <th id=\"T_5a652_level1_col0\" class=\"col_heading level1 col0\" >Начало</th>\n      <th id=\"T_5a652_level1_col1\" class=\"col_heading level1 col1\" >Середина</th>\n      <th id=\"T_5a652_level1_col2\" class=\"col_heading level1 col2\" >Конец</th>\n      <th id=\"T_5a652_level1_col3\" class=\"col_heading level1 col3\" >Начало</th>\n      <th id=\"T_5a652_level1_col4\" class=\"col_heading level1 col4\" >Середина</th>\n      <th id=\"T_5a652_level1_col5\" class=\"col_heading level1 col5\" >Конец</th>\n      <th id=\"T_5a652_level1_col6\" class=\"col_heading level1 col6\" >Начало</th>\n      <th id=\"T_5a652_level1_col7\" class=\"col_heading level1 col7\" >Середина</th>\n      <th id=\"T_5a652_level1_col8\" class=\"col_heading level1 col8\" >Конец</th>\n    </tr>\n  </thead>\n  <tbody>\n    <tr>\n      <th id=\"T_5a652_level0_row0\" class=\"row_heading level0 row0\" >1</th>\n      <td id=\"T_5a652_row0_col0\" class=\"data row0 col0\" >705.5</td>\n      <td id=\"T_5a652_row0_col1\" class=\"data row0 col1\" >938.4</td>\n      <td id=\"T_5a652_row0_col2\" class=\"data row0 col2\" >1171.4</td>\n      <td id=\"T_5a652_row0_col3\" class=\"data row0 col3\" >2280.4</td>\n      <td id=\"T_5a652_row0_col4\" class=\"data row0 col4\" >2754.0</td>\n      <td id=\"T_5a652_row0_col5\" class=\"data row0 col5\" >3227.6</td>\n      <td id=\"T_5a652_row0_col6\" class=\"data row0 col6\" >909.1</td>\n      <td id=\"T_5a652_row0_col7\" class=\"data row0 col7\" >1092.9</td>\n      <td id=\"T_5a652_row0_col8\" class=\"data row0 col8\" >1276.7</td>\n    </tr>\n    <tr>\n      <th id=\"T_5a652_level0_row1\" class=\"row_heading level0 row1\" >2</th>\n      <td id=\"T_5a652_row1_col0\" class=\"data row1 col0\" >1145.6</td>\n      <td id=\"T_5a652_row1_col1\" class=\"data row1 col1\" >1344.5</td>\n      <td id=\"T_5a652_row1_col2\" class=\"data row1 col2\" >1543.5</td>\n      <td id=\"T_5a652_row1_col3\" class=\"data row1 col3\" >2852.5</td>\n      <td id=\"T_5a652_row1_col4\" class=\"data row1 col4\" >3506.3</td>\n      <td id=\"T_5a652_row1_col5\" class=\"data row1 col5\" >4160.0</td>\n      <td id=\"T_5a652_row1_col6\" class=\"data row1 col6\" >1267.3</td>\n      <td id=\"T_5a652_row1_col7\" class=\"data row1 col7\" >1435.2</td>\n      <td id=\"T_5a652_row1_col8\" class=\"data row1 col8\" >1603.1</td>\n    </tr>\n    <tr>\n      <th id=\"T_5a652_level0_row2\" class=\"row_heading level0 row2\" >3</th>\n      <td id=\"T_5a652_row2_col0\" class=\"data row2 col0\" >554.4</td>\n      <td id=\"T_5a652_row2_col1\" class=\"data row2 col1\" >995.3</td>\n      <td id=\"T_5a652_row2_col2\" class=\"data row2 col2\" >1436.3</td>\n      <td id=\"T_5a652_row2_col3\" class=\"data row2 col3\" >3033.5</td>\n      <td id=\"T_5a652_row2_col4\" class=\"data row2 col4\" >3967.3</td>\n      <td id=\"T_5a652_row2_col5\" class=\"data row2 col5\" >4901.0</td>\n      <td id=\"T_5a652_row2_col6\" class=\"data row2 col6\" >1095.5</td>\n      <td id=\"T_5a652_row2_col7\" class=\"data row2 col7\" >1309.4</td>\n      <td id=\"T_5a652_row2_col8\" class=\"data row2 col8\" >1523.2</td>\n    </tr>\n    <tr>\n      <th id=\"T_5a652_level0_row3\" class=\"row_heading level0 row3\" >4</th>\n      <td id=\"T_5a652_row3_col0\" class=\"data row3 col0\" >1249.4</td>\n      <td id=\"T_5a652_row3_col1\" class=\"data row3 col1\" >1490.6</td>\n      <td id=\"T_5a652_row3_col2\" class=\"data row3 col2\" >1731.7</td>\n      <td id=\"T_5a652_row3_col3\" class=\"data row3 col3\" >3871.9</td>\n      <td id=\"T_5a652_row3_col4\" class=\"data row3 col4\" >4374.0</td>\n      <td id=\"T_5a652_row3_col5\" class=\"data row3 col5\" >4876.1</td>\n      <td id=\"T_5a652_row3_col6\" class=\"data row3 col6\" >1492.6</td>\n      <td id=\"T_5a652_row3_col7\" class=\"data row3 col7\" >1663.3</td>\n      <td id=\"T_5a652_row3_col8\" class=\"data row3 col8\" >1834.0</td>\n    </tr>\n    <tr>\n      <th id=\"T_5a652_level0_row4\" class=\"row_heading level0 row4\" >5</th>\n      <td id=\"T_5a652_row4_col0\" class=\"data row4 col0\" >1796.0</td>\n      <td id=\"T_5a652_row4_col1\" class=\"data row4 col1\" >1923.0</td>\n      <td id=\"T_5a652_row4_col2\" class=\"data row4 col2\" >2049.9</td>\n      <td id=\"T_5a652_row4_col3\" class=\"data row4 col3\" >5026.9</td>\n      <td id=\"T_5a652_row4_col4\" class=\"data row4 col4\" >5284.5</td>\n      <td id=\"T_5a652_row4_col5\" class=\"data row4 col5\" >5542.0</td>\n      <td id=\"T_5a652_row4_col6\" class=\"data row4 col6\" >1847.9</td>\n      <td id=\"T_5a652_row4_col7\" class=\"data row4 col7\" >1945.4</td>\n      <td id=\"T_5a652_row4_col8\" class=\"data row4 col8\" >2042.9</td>\n    </tr>\n  </tbody>\n</table>\n",
     "display_confidence_interval_overlapping(ci_overlapping, metrics=research_metrics, caption='<b>Наличие перекрытия доверительных интервалов статистик</b>', opacity=0.5, index_width=30)": "<style type=\"text/css\">\n#T_7e8cf caption {\n  font-size: 12pt;\n  text-align: center;\n  color: black;\n}\n#T_7e8cf td {\n  text-align: center;\n  border: 1px solid lightgray;\n  border-collapse: collapse;\n}\n#T_7e8cf .row_heading {\n  width: 30px;\n  text-align: center;\n}\n#T_7e8cf  td {\n  width: 30px;\n  text-align: center;\n}\n#T_7e8cf .col_heading {\n  width: 130px;\n  text-align: center;\n}\n#T_7e8cf  td {\n  width: 130px;\n  text-align: center;\n}\n#T_7e8cf_row3_col0, #T_7e8cf_row3_col1, #T_7e8cf_row3_col2 {\n  color: red;\n  font-weight: bold;\n}\n#T_7e8cf_level0_row0 {\n  color: white;\n  background-color: rgb(31, 119, 180);\n  opacity: 0.5;\n  border: 1px solid lightgray;\n  border-collapse: collapse;\n}\n#T_7e8cf_level1_row0, #T_7e8cf_level0_row1 {\n  color: white;\n  background-color: rgb(255, 127, 14);\n  opacity: 0.5;\n  border: 1px solid lightgray;\n  border-collapse: collapse;\n}\n#T_7e8cf_level1_row1, #T_7e8cf_level0_row2 {\n  color: white;\n  background-color: rgb(44, 160, 44);\n  opacity: 0.5;\n  border: 1px solid lightgray;\n  border-collapse: collapse;\n}\n#T_7e8cf_level1_row2, #T_7e8cf_level0_row3 {\n  color: white;\n  background-color: rgb(214, 39, 40);\n  opacity: 0.5;\n  border: 1px solid lightgray;\n  border-collapse: collapse;\n}\n#T_7e8cf_level1_row3 {\n  color: white;\n  background-color: rgb(148, 103, 189);\n  opacity: 0.5;\n  border: 1px solid lightgray;\n  border-collapse: collapse;\n}\n#T_7e8cf_level0_col0, #T_7e8cf_level0_col1, #T_7e8cf_level0_col2 {\n  border: 1px solid lightgray;\n  border-collapse: collapse;\n}\n</style>\n<table id=\"T_7e8cf\">\n  <caption><b>Наличие перекрытия доверительных интервалов статистик</b></caption>\n  <thead>\n    <tr>\n      <th class=\"blank\" >&nbsp;</th>\n      <th class=\"blank level0\" >&nbsp;</th>\n      <th id=\"T_7e8cf_level0_col0\" class=\"col_heading level0 col0\" >Средняя скорость «к абоненту»</th>\n      <th id=\"T_7e8cf_level0_col1\" class=\"col_heading level0 col1\" >Скорость загрузки потокового видео</th>\n      <th id=\"T_7e8cf_level0_col2\" class=\"col_heading level0 col2\" >Скорость загрузки web-страниц через браузер</th>\n    </tr>\n  </thead>\n  <tbody>\n    <tr>\n      <th id=\"T_7e8cf_level0_row0\" class=\"row_heading level0 row0\" >1</th>\n      <th id=\"T_7e8cf_level1_row0\" class=\"row_heading level1 row0\" >2</th>\n      <td id=\"T_7e8cf_row0_col0\" class=\"data row0 col0\" >Да</td>\n      <td id=\"T_7e8cf_row0_col1\" class=\"data row0 col1\" >Да</td>\n      <td id=\"T_7e8cf_row0_col2\" class=\"data row0 col2\" >Да</td>\n    </tr>\n    <tr>\n      <th id=\"T_7e8cf_level0_row1\" class=\"row_heading level0 row1\" >2</th>\n      <th id=\"T_7e8cf_level1_row1\" class=\"row_heading level1 row1\" >3</th>\n      <td id=\"T_7e8cf_row1_col0\" class=\"data row1 col0\" >Да</td>\n      <td id=\"T_7e8cf_row1_col1\" class=\"data row1 col1\" >Да</td>\n      <td id=\"T_7e8cf_row1_col2\" class=\"data row1 col2\" >Да</td>\n    </tr>\n    <tr>\n      <th id=\"T_7e8cf_level0_row2\" class=\"row_heading level0 row2\" >3</th>\n      <th id=\"T_7e8cf_level1_row2\" class=\"row_heading level1 row2\" >4</th>\n      <td id=\"T_7e8cf_row2_col0\" class=\"data row2 col0\" >Да</td>\n      <td id=\"T_7e8cf_row2_col1\" class=\"data row2 col1\" >Да</td>\n      <td id=\"T_7e8cf_row2_col2\" class=\"data row2 col2\" >Да</td>\n    </tr>\n    <tr>\n      <th id=\"T_7e8cf_level0_row3\" class=\"row_heading level0 row3\" >4</th>\n      <th id=\"T_7e8cf_level1_row3\" class=\"row_heading level1 row3\" >5</th>\n      <td id=\"T_7e8cf_row3_col0\" class=\"data row3 col0\" >Нет</td>\n      <td id=\"T_7e8cf_row3_col1\" class=\"data row3 col1\" >Нет</td>\n      <td id=\"T_7e8cf_row3_col2\" class=\"data row3 col2\" >Нет</td>\n    </tr>\n  </tbody>\n</table>\n"
    }
   },
   "source": [
    "Based on the obtained results on the presence of \"overlapping\" confidence intervals, the following conclusions can be made:\n",
    "Indeed, the confidence intervals of the statistics of all metrics **do not overlap** only for the pair of groups `4` and `5`. That is, only with respect to this pair of groups can a conclusion be made about a significant statistical difference in the metrics under research (the metrics of group `4` are smaller than those of group `5`). With respect to the remaining pairs of groups, it is impossible to make a conclusion about the significance of the difference in the metrics of these groups based on exploratory analysis - statistical tests must be carried out."
   ]
  },
  {
   "cell_type": "markdown",
   "metadata": {},
   "source": [
    "### 7.4. Statistical tests\n",
    "\n",
    "Based on exploratory analysis, we have established that there is a clear tendency for the metric values to increase with increasing customer satisfaction. That is, to answer the 1st question, we should perform \"one-sided\" tests of comparison of statistics for adjacent groups and use the test. The first group in the tested pair will be the group of customers with a lower level of satisfaction, so Let's perform \"left-sided\" tests."
   ]
  },
  {
   "cell_type": "code",
   "execution_count": null,
   "metadata": {},
   "outputs": [],
   "source": [
    "# Use \"left-handed\" test for all metrics\n",
    "alternatives = research_metrics['impact'].apply(lambda impact: 'less')\n",
    "# Create a dataframe for test results\n",
    "pvalues = pd.DataFrame(index=[', '.join(group_pair) for group_pair in group_pairs], columns=research_metrics.index)\n",
    "# On the zero distribution, Let's mark the region located to the left of the observed value of the statistic\n",
    "mark_statistic = alternatives.apply(lambda impact: 'tomin')"
   ]
  },
  {
   "cell_type": "markdown",
   "metadata": {
    "variables": {
     "groups[0]": "1",
     "groups[1]": "2"
    }
   },
   "source": [
    "#### 7.4.1. Statistical test for the groups 1 and 2\n",
    "\n",
    "For all metrics, as a `null hypothesis` Let's accept the assumption that the values of the statistics of group `1` are **not less than** the values of the statistics of group `2`. And as an `alternative hypothesis` Let's accept the opposite statement that the values of the statistics of group `1` are still **less than** the values of the statistics of group `2`. In mathematical form, the test statistics and formulated hypotheses can be written as follows:\n",
    "\n",
    "$$\n",
    "\\Delta \\hat{TM}=\\hat{TM}_{1}-\\hat{TM}_{2}\\\\\n",
    "H_0:\\Delta \\hat{TM}≥0\\\\\n",
    "H_1:\\Delta \\hat{TM}<0\n",
    "$$\n",
    "\n",
    "Let's perform testing and visualize the results by constructing histograms of the zero distribution of the test statistics of the metrics under research. On the histograms, we mark the observed value of the test statistic with a vertical dashed line and color the areas of the distributions that are used to calculate the `p-values` (from the lines of the observed values of the test statistic)."
   ]
  },
  {
   "cell_type": "code",
   "execution_count": null,
   "metadata": {},
   "outputs": [],
   "source": [
    "# Test data preparation\n",
    "group_pair_index = 0\n",
    "test_data = research_data.loc[group_pairs[group_pair_index]]\n",
    "# Perform testing\n",
    "pvalues.loc[', '.join(group_pairs[group_pair_index])], null_distributions, statistics = permutation_test(\n",
    "    test_data, research_metrics['test statistic'], alternatives)\n",
    "# Output of the density histogram of the null distribution\n",
    "plot_metric_histograms(\n",
    "    null_distributions, statistic=statistics, metrics=research_metrics,\n",
    "    title=f'<b>Density of the null probability distribution of the test statistic</b>', title_y=0.9,\n",
    "    height=300, n_cols=3, opacity=0.5,\n",
    "    histnorm='probability density',\n",
    "    add_kde=True, add_statistic=True, mark_statistic=mark_statistic,\n",
    "    horizontal_spacing=0.08, vertical_spacing=0.07)"
   ]
  },
  {
   "cell_type": "markdown",
   "metadata": {
    "variables": {
     "display_pvalues(pvalues.loc[', '.join(group_pairs[group_pair_index])].to_frame().T, metrics=research_metrics, alpha=alpha, caption=f'<b>Значения p-value статистического теста</b>', col_width=160)": "<style type=\"text/css\">\n#T_7798f caption {\n  font-size: 12pt;\n  text-align: center;\n  color: black;\n}\n#T_7798f td {\n  text-align: center;\n  border: 1px solid lightgray;\n  border-collapse: collapse;\n}\n#T_7798f .row_heading {\n  width: 120px;\n  text-align: center;\n}\n#T_7798f  td {\n  width: 120px;\n  text-align: center;\n}\n#T_7798f .col_heading {\n  width: 160px;\n  text-align: center;\n}\n#T_7798f  td {\n  width: 160px;\n  text-align: center;\n}\n#T_7798f_row0_col0, #T_7798f_row0_col1, #T_7798f_row0_col2 {\n  color: red;\n  font-weight: bold;\n}\n#T_7798f_level0_col0, #T_7798f_level0_col1, #T_7798f_level0_col2 {\n  border: 1px solid lightgray;\n  border-collapse: collapse;\n}\n</style>\n<table id=\"T_7798f\">\n  <caption><b>Значения p-value статистического теста</b></caption>\n  <thead>\n    <tr>\n      <th id=\"T_7798f_level0_col0\" class=\"col_heading level0 col0\" >Средняя скорость «к абоненту»</th>\n      <th id=\"T_7798f_level0_col1\" class=\"col_heading level0 col1\" >Скорость загрузки потокового видео</th>\n      <th id=\"T_7798f_level0_col2\" class=\"col_heading level0 col2\" >Скорость загрузки web-страниц через браузер</th>\n    </tr>\n  </thead>\n  <tbody>\n    <tr>\n      <td id=\"T_7798f_row0_col0\" class=\"data row0 col0\" >0.0013</td>\n      <td id=\"T_7798f_row0_col1\" class=\"data row0 col1\" >0.0007</td>\n      <td id=\"T_7798f_row0_col2\" class=\"data row0 col2\" >0.0032</td>\n    </tr>\n  </tbody>\n</table>\n"
    }
   },
   "source": [
    "Let's present the obtained `p-values` in a tabular form, marking in \"<span style=\"color: red; font-weight: bold;\">red</span>\" those values that are below the significance level."
   ]
  },
  {
   "cell_type": "code",
   "execution_count": null,
   "metadata": {
    "variables": {
     "display_pvalues(pvalues.loc[', '.join(group_pairs[group_pair_index])].to_frame().T, metrics=research_metrics, alpha=alpha, caption=f'<b>Значения p-value статистического теста</b>', col_width=160)": "<style type=\"text/css\">\n#T_48466 caption {\n  font-size: 12pt;\n  text-align: center;\n  color: black;\n}\n#T_48466 td {\n  text-align: center;\n  border: 1px solid lightgray;\n  border-collapse: collapse;\n}\n#T_48466 .row_heading {\n  width: 120px;\n  text-align: center;\n}\n#T_48466  td {\n  width: 120px;\n  text-align: center;\n}\n#T_48466 .col_heading {\n  width: 160px;\n  text-align: center;\n}\n#T_48466  td {\n  width: 160px;\n  text-align: center;\n}\n#T_48466_row0_col0, #T_48466_row0_col1, #T_48466_row0_col2 {\n  color: red;\n  font-weight: bold;\n}\n#T_48466_level0_col0, #T_48466_level0_col1, #T_48466_level0_col2 {\n  border: 1px solid lightgray;\n  border-collapse: collapse;\n}\n</style>\n<table id=\"T_48466\">\n  <caption><b>Значения p-value статистического теста</b></caption>\n  <thead>\n    <tr>\n      <th id=\"T_48466_level0_col0\" class=\"col_heading level0 col0\" >Средняя скорость «к абоненту»</th>\n      <th id=\"T_48466_level0_col1\" class=\"col_heading level0 col1\" >Скорость загрузки потокового видео</th>\n      <th id=\"T_48466_level0_col2\" class=\"col_heading level0 col2\" >Скорость загрузки web-страниц через браузер</th>\n    </tr>\n  </thead>\n  <tbody>\n    <tr>\n      <td id=\"T_48466_row0_col0\" class=\"data row0 col0\" >0.0057</td>\n      <td id=\"T_48466_row0_col1\" class=\"data row0 col1\" >0.0050</td>\n      <td id=\"T_48466_row0_col2\" class=\"data row0 col2\" >0.0105</td>\n    </tr>\n  </tbody>\n</table>\n",
     "group_pairs[group_pair_index][0]": "1",
     "group_pairs[group_pair_index][1]": "2"
    }
   },
   "outputs": [],
   "source": [
    "display_pvalues(pvalues.loc[', '.join(group_pairs[group_pair_index])].to_frame().T, metrics=research_metrics, alpha=alpha, caption=f'<b>Test p-values</b>', col_width=160)"
   ]
  },
  {
   "cell_type": "markdown",
   "metadata": {
    "variables": {
     "display_pvalues(pvalues.loc[', '.join(group_pairs[group_pair_index])].to_frame().T, metrics=research_metrics, alpha=alpha, caption=f'<b>Значения p-value статистического теста</b>', col_width=160)": "<style type=\"text/css\">\n#T_48466 caption {\n  font-size: 12pt;\n  text-align: center;\n  color: black;\n}\n#T_48466 td {\n  text-align: center;\n  border: 1px solid lightgray;\n  border-collapse: collapse;\n}\n#T_48466 .row_heading {\n  width: 120px;\n  text-align: center;\n}\n#T_48466  td {\n  width: 120px;\n  text-align: center;\n}\n#T_48466 .col_heading {\n  width: 160px;\n  text-align: center;\n}\n#T_48466  td {\n  width: 160px;\n  text-align: center;\n}\n#T_48466_row0_col0, #T_48466_row0_col1, #T_48466_row0_col2 {\n  color: red;\n  font-weight: bold;\n}\n#T_48466_level0_col0, #T_48466_level0_col1, #T_48466_level0_col2 {\n  border: 1px solid lightgray;\n  border-collapse: collapse;\n}\n</style>\n<table id=\"T_48466\">\n  <caption><b>Значения p-value статистического теста</b></caption>\n  <thead>\n    <tr>\n      <th id=\"T_48466_level0_col0\" class=\"col_heading level0 col0\" >Средняя скорость «к абоненту»</th>\n      <th id=\"T_48466_level0_col1\" class=\"col_heading level0 col1\" >Скорость загрузки потокового видео</th>\n      <th id=\"T_48466_level0_col2\" class=\"col_heading level0 col2\" >Скорость загрузки web-страниц через браузер</th>\n    </tr>\n  </thead>\n  <tbody>\n    <tr>\n      <td id=\"T_48466_row0_col0\" class=\"data row0 col0\" >0.0057</td>\n      <td id=\"T_48466_row0_col1\" class=\"data row0 col1\" >0.0050</td>\n      <td id=\"T_48466_row0_col2\" class=\"data row0 col2\" >0.0105</td>\n    </tr>\n  </tbody>\n</table>\n",
     "group_pairs[group_pair_index][0]": "1",
     "group_pairs[group_pair_index][1]": "2"
    }
   },
   "source": [
    "**Conclusions:**\n",
    "\n",
    "1. Since the `p-values` obtained as a result of the test for all the metrics under research are **less** than the significance level, we **can reject the null hypothesis** in relation to them and, accordingly, Let's assume that the values of all the metrics under research for group `1` are **less** than for group `2`.\n",
    "\n",
    "2. It should be noted that the **confidence level** for the result obtained is very **high** - about `99%`."
   ]
  },
  {
   "cell_type": "markdown",
   "metadata": {
    "variables": {
     "groups[1]": "2",
     "groups[2]": "3"
    }
   },
   "source": [
    "#### 7.4.2. Statistical test for the groups 2 and 3\n",
    "\n",
    "For all metrics, Let's take the assumption as a `null hypothesis` that the values of the statistics of group `2` are **not less than** the values of the statistics of group `3`. And as an `alternative hypothesis`, Let's take the opposite statement that the values of the statistics of group `2` are still **less than** the values of the statistics of group `3`. In mathematical form, the test statistics and the formulated hypotheses can be written as follows:\n",
    "\n",
    "$$\n",
    "\\Delta \\hat{TM}=\\hat{TM}_{2}-\\hat{TM}_{3}\\\\\n",
    "H_0:\\Delta \\hat{TM}≥0\\\\\n",
    "H_1:\\Delta \\hat{TM}<0\n",
    "$$\n",
    "\n",
    "Let's perform testing and visualize the results by constructing histograms of the null distribution of the test statistics of the metrics under research. On the histograms, we mark the observed value of the test statistic with a vertical dashed line and color the areas of the distributions that are used to calculate the `p-values` (from the lines of the observed values of the test statistic)."
   ]
  },
  {
   "cell_type": "code",
   "execution_count": null,
   "metadata": {},
   "outputs": [],
   "source": [
    "# Test data preparation\n",
    "group_pair_index = 1\n",
    "test_data = research_data.loc[group_pairs[group_pair_index]]\n",
    "# Perform testing\n",
    "pvalues.loc[', '.join(group_pairs[group_pair_index])], null_distributions, statistics = permutation_test(\n",
    "    test_data, research_metrics['test statistic'], alternatives)\n",
    "# Output of the density histogram of the null distribution\n",
    "plot_metric_histograms(\n",
    "    null_distributions, statistic=statistics, metrics=research_metrics,\n",
    "    title=f'<b>Density of the null probability distribution of the test statistic</b>', title_y=0.9,\n",
    "    height=300, n_cols=3, opacity=0.5,\n",
    "    histnorm='probability density',\n",
    "    add_kde=True, add_statistic=True, mark_statistic=mark_statistic,\n",
    "    horizontal_spacing=0.08, vertical_spacing=0.07)"
   ]
  },
  {
   "cell_type": "markdown",
   "metadata": {
    "variables": {
     "display_pvalues(pvalues.loc[', '.join(group_pairs[group_pair_index])].to_frame().T, metrics=research_metrics, alpha=alpha, caption=f'<b>Значения p-value статистического теста</b>', col_width=160)": "<style type=\"text/css\">\n#T_7798f caption {\n  font-size: 12pt;\n  text-align: center;\n  color: black;\n}\n#T_7798f td {\n  text-align: center;\n  border: 1px solid lightgray;\n  border-collapse: collapse;\n}\n#T_7798f .row_heading {\n  width: 120px;\n  text-align: center;\n}\n#T_7798f  td {\n  width: 120px;\n  text-align: center;\n}\n#T_7798f .col_heading {\n  width: 160px;\n  text-align: center;\n}\n#T_7798f  td {\n  width: 160px;\n  text-align: center;\n}\n#T_7798f_row0_col0, #T_7798f_row0_col1, #T_7798f_row0_col2 {\n  color: red;\n  font-weight: bold;\n}\n#T_7798f_level0_col0, #T_7798f_level0_col1, #T_7798f_level0_col2 {\n  border: 1px solid lightgray;\n  border-collapse: collapse;\n}\n</style>\n<table id=\"T_7798f\">\n  <caption><b>Значения p-value статистического теста</b></caption>\n  <thead>\n    <tr>\n      <th id=\"T_7798f_level0_col0\" class=\"col_heading level0 col0\" >Средняя скорость «к абоненту»</th>\n      <th id=\"T_7798f_level0_col1\" class=\"col_heading level0 col1\" >Скорость загрузки потокового видео</th>\n      <th id=\"T_7798f_level0_col2\" class=\"col_heading level0 col2\" >Скорость загрузки web-страниц через браузер</th>\n    </tr>\n  </thead>\n  <tbody>\n    <tr>\n      <td id=\"T_7798f_row0_col0\" class=\"data row0 col0\" >0.0013</td>\n      <td id=\"T_7798f_row0_col1\" class=\"data row0 col1\" >0.0007</td>\n      <td id=\"T_7798f_row0_col2\" class=\"data row0 col2\" >0.0032</td>\n    </tr>\n  </tbody>\n</table>\n"
    }
   },
   "source": [
    "Let's present the obtained `p-values` in a tabular form, marking in \"<span style=\"color: red; font-weight: bold;\">red</span>\" those values that are below the significance level."
   ]
  },
  {
   "cell_type": "code",
   "execution_count": null,
   "metadata": {
    "variables": {
     "display_pvalues(pvalues.loc[', '.join(group_pairs[group_pair_index])].to_frame().T, metrics=research_metrics, alpha=alpha, caption=f'<b>Значения p-value статистического теста</b>', col_width=160)": "<style type=\"text/css\">\n#T_65e62 caption {\n  font-size: 12pt;\n  text-align: center;\n  color: black;\n}\n#T_65e62 td {\n  text-align: center;\n  border: 1px solid lightgray;\n  border-collapse: collapse;\n}\n#T_65e62 .row_heading {\n  width: 120px;\n  text-align: center;\n}\n#T_65e62  td {\n  width: 120px;\n  text-align: center;\n}\n#T_65e62 .col_heading {\n  width: 160px;\n  text-align: center;\n}\n#T_65e62  td {\n  width: 160px;\n  text-align: center;\n}\n#T_65e62_level0_col0, #T_65e62_level0_col1, #T_65e62_level0_col2 {\n  border: 1px solid lightgray;\n  border-collapse: collapse;\n}\n</style>\n<table id=\"T_65e62\">\n  <caption><b>Значения p-value статистического теста</b></caption>\n  <thead>\n    <tr>\n      <th id=\"T_65e62_level0_col0\" class=\"col_heading level0 col0\" >Средняя скорость «к абоненту»</th>\n      <th id=\"T_65e62_level0_col1\" class=\"col_heading level0 col1\" >Скорость загрузки потокового видео</th>\n      <th id=\"T_65e62_level0_col2\" class=\"col_heading level0 col2\" >Скорость загрузки web-страниц через браузер</th>\n    </tr>\n  </thead>\n  <tbody>\n    <tr>\n      <td id=\"T_65e62_row0_col0\" class=\"data row0 col0\" >0.7769</td>\n      <td id=\"T_65e62_row0_col1\" class=\"data row0 col1\" >0.2784</td>\n      <td id=\"T_65e62_row0_col2\" class=\"data row0 col2\" >0.7693</td>\n    </tr>\n  </tbody>\n</table>\n",
     "group_pairs[group_pair_index][0]": "2",
     "group_pairs[group_pair_index][1]": "3"
    }
   },
   "outputs": [],
   "source": [
    "display_pvalues(pvalues.loc[', '.join(group_pairs[group_pair_index])].to_frame().T, metrics=research_metrics, alpha=alpha, caption=f'<b>Test p-values</b>', col_width=160)"
   ]
  },
  {
   "cell_type": "markdown",
   "metadata": {
    "variables": {
     "display_pvalues(pvalues.loc[', '.join(group_pairs[group_pair_index])].to_frame().T, metrics=research_metrics, alpha=alpha, caption=f'<b>Значения p-value статистического теста</b>', col_width=160)": "<style type=\"text/css\">\n#T_65e62 caption {\n  font-size: 12pt;\n  text-align: center;\n  color: black;\n}\n#T_65e62 td {\n  text-align: center;\n  border: 1px solid lightgray;\n  border-collapse: collapse;\n}\n#T_65e62 .row_heading {\n  width: 120px;\n  text-align: center;\n}\n#T_65e62  td {\n  width: 120px;\n  text-align: center;\n}\n#T_65e62 .col_heading {\n  width: 160px;\n  text-align: center;\n}\n#T_65e62  td {\n  width: 160px;\n  text-align: center;\n}\n#T_65e62_level0_col0, #T_65e62_level0_col1, #T_65e62_level0_col2 {\n  border: 1px solid lightgray;\n  border-collapse: collapse;\n}\n</style>\n<table id=\"T_65e62\">\n  <caption><b>Значения p-value статистического теста</b></caption>\n  <thead>\n    <tr>\n      <th id=\"T_65e62_level0_col0\" class=\"col_heading level0 col0\" >Средняя скорость «к абоненту»</th>\n      <th id=\"T_65e62_level0_col1\" class=\"col_heading level0 col1\" >Скорость загрузки потокового видео</th>\n      <th id=\"T_65e62_level0_col2\" class=\"col_heading level0 col2\" >Скорость загрузки web-страниц через браузер</th>\n    </tr>\n  </thead>\n  <tbody>\n    <tr>\n      <td id=\"T_65e62_row0_col0\" class=\"data row0 col0\" >0.7769</td>\n      <td id=\"T_65e62_row0_col1\" class=\"data row0 col1\" >0.2784</td>\n      <td id=\"T_65e62_row0_col2\" class=\"data row0 col2\" >0.7693</td>\n    </tr>\n  </tbody>\n</table>\n",
     "group_pairs[group_pair_index][0]": "2",
     "group_pairs[group_pair_index][1]": "3"
    }
   },
   "source": [
    "**Conclusions:**\n",
    "\n",
    "1. Since the `p-values` obtained as a result of the test for all the metrics under research are **greater** than the significance level, we **cannot reject the null hypothesis** in their regard and, accordingly, Let's assume that the values of all the metrics under research for group `2` are **not less** than those of group `3`.\n",
    "\n",
    "2. It should be noted that the `p-value` value for the `Downlink Throughput` and `Web Page Download Throughput` metrics is significantly greater than `0.5`, which indicates that the values of these metrics for group `2` are significantly **\"better\"** than those of group `3`."
   ]
  },
  {
   "cell_type": "markdown",
   "metadata": {
    "variables": {
     "groups[2]": "3",
     "groups[3]": "4"
    }
   },
   "source": [
    "#### 7.4.3. Statistical test for the groups 3 and 4\n",
    "\n",
    "For all metrics, Let's take the assumption as a `null hypothesis` that the values of the statistics of group `3` are **not less than** the values of the statistics of group `4`. And as an `alternative hypothesis`, Let's take the opposite statement that the values of the statistics of group `3` are still **less than** the values of the statistics of group `4`. In mathematical form, the test statistics and the formulated hypotheses can be written as follows:\n",
    "\n",
    "$$\n",
    "\\Delta \\hat{TM}=\\hat{TM}_{3}-\\hat{TM}_{4}\\\\\n",
    "H_0:\\Delta \\hat{TM}≥0\\\\\n",
    "H_1:\\Delta \\hat{TM}<0\n",
    "$$\n",
    "\n",
    "Let's perform testing and visualize the results by constructing histograms of the null distribution of the test statistics of the metrics under research. On the histograms, we mark the observed value of the test statistic with a vertical dashed line and color the areas of the distributions that are used to calculate the `p-values` (from the lines of the observed values of the test statistic)."
   ]
  },
  {
   "cell_type": "code",
   "execution_count": null,
   "metadata": {},
   "outputs": [],
   "source": [
    "# Test data preparation\n",
    "group_pair_index = 2\n",
    "test_data = research_data.loc[group_pairs[group_pair_index]]\n",
    "# Perform testing\n",
    "pvalues.loc[', '.join(group_pairs[group_pair_index])], null_distributions, statistics = permutation_test(\n",
    "    test_data, research_metrics['test statistic'], alternatives)\n",
    "# Output of the density histogram of the null distribution\n",
    "plot_metric_histograms(\n",
    "    null_distributions, statistic=statistics, metrics=research_metrics,\n",
    "    title=f'<b>Density of the null probability distribution of the test statistic</b>', title_y=0.9,\n",
    "    height=300, n_cols=3, opacity=0.5,\n",
    "    histnorm='probability density',\n",
    "    add_kde=True, add_statistic=True, mark_statistic=mark_statistic,\n",
    "    horizontal_spacing=0.08, vertical_spacing=0.07)"
   ]
  },
  {
   "cell_type": "markdown",
   "metadata": {
    "variables": {
     "display_pvalues(pvalues.loc[', '.join(group_pairs[group_pair_index])].to_frame().T, metrics=research_metrics, alpha=alpha, caption=f'<b>Значения p-value статистического теста</b>', col_width=160)": "<style type=\"text/css\">\n#T_7798f caption {\n  font-size: 12pt;\n  text-align: center;\n  color: black;\n}\n#T_7798f td {\n  text-align: center;\n  border: 1px solid lightgray;\n  border-collapse: collapse;\n}\n#T_7798f .row_heading {\n  width: 120px;\n  text-align: center;\n}\n#T_7798f  td {\n  width: 120px;\n  text-align: center;\n}\n#T_7798f .col_heading {\n  width: 160px;\n  text-align: center;\n}\n#T_7798f  td {\n  width: 160px;\n  text-align: center;\n}\n#T_7798f_row0_col0, #T_7798f_row0_col1, #T_7798f_row0_col2 {\n  color: red;\n  font-weight: bold;\n}\n#T_7798f_level0_col0, #T_7798f_level0_col1, #T_7798f_level0_col2 {\n  border: 1px solid lightgray;\n  border-collapse: collapse;\n}\n</style>\n<table id=\"T_7798f\">\n  <caption><b>Значения p-value статистического теста</b></caption>\n  <thead>\n    <tr>\n      <th id=\"T_7798f_level0_col0\" class=\"col_heading level0 col0\" >Средняя скорость «к абоненту»</th>\n      <th id=\"T_7798f_level0_col1\" class=\"col_heading level0 col1\" >Скорость загрузки потокового видео</th>\n      <th id=\"T_7798f_level0_col2\" class=\"col_heading level0 col2\" >Скорость загрузки web-страниц через браузер</th>\n    </tr>\n  </thead>\n  <tbody>\n    <tr>\n      <td id=\"T_7798f_row0_col0\" class=\"data row0 col0\" >0.0013</td>\n      <td id=\"T_7798f_row0_col1\" class=\"data row0 col1\" >0.0007</td>\n      <td id=\"T_7798f_row0_col2\" class=\"data row0 col2\" >0.0032</td>\n    </tr>\n  </tbody>\n</table>\n"
    }
   },
   "source": [
    "Let's present the obtained `p-values` in a tabular form, marking in \"<span style=\"color: red; font-weight: bold;\">red</span>\" those values that are below the significance level."
   ]
  },
  {
   "cell_type": "code",
   "execution_count": null,
   "metadata": {
    "variables": {
     "display_pvalues(pvalues.loc[', '.join(group_pairs[group_pair_index])].to_frame().T, metrics=research_metrics, alpha=alpha, caption=f'<b>Значения p-value статистического теста</b>', col_width=160)": "<style type=\"text/css\">\n#T_62c00 caption {\n  font-size: 12pt;\n  text-align: center;\n  color: black;\n}\n#T_62c00 td {\n  text-align: center;\n  border: 1px solid lightgray;\n  border-collapse: collapse;\n}\n#T_62c00 .row_heading {\n  width: 120px;\n  text-align: center;\n}\n#T_62c00  td {\n  width: 120px;\n  text-align: center;\n}\n#T_62c00 .col_heading {\n  width: 160px;\n  text-align: center;\n}\n#T_62c00  td {\n  width: 160px;\n  text-align: center;\n}\n#T_62c00_row0_col0 {\n  color: red;\n  font-weight: bold;\n}\n#T_62c00_level0_col0, #T_62c00_level0_col1, #T_62c00_level0_col2 {\n  border: 1px solid lightgray;\n  border-collapse: collapse;\n}\n</style>\n<table id=\"T_62c00\">\n  <caption><b>Значения p-value статистического теста</b></caption>\n  <thead>\n    <tr>\n      <th id=\"T_62c00_level0_col0\" class=\"col_heading level0 col0\" >Средняя скорость «к абоненту»</th>\n      <th id=\"T_62c00_level0_col1\" class=\"col_heading level0 col1\" >Скорость загрузки потокового видео</th>\n      <th id=\"T_62c00_level0_col2\" class=\"col_heading level0 col2\" >Скорость загрузки web-страниц через браузер</th>\n    </tr>\n  </thead>\n  <tbody>\n    <tr>\n      <td id=\"T_62c00_row0_col0\" class=\"data row0 col0\" >0.0498</td>\n      <td id=\"T_62c00_row0_col1\" class=\"data row0 col1\" >0.2979</td>\n      <td id=\"T_62c00_row0_col2\" class=\"data row0 col2\" >0.0526</td>\n    </tr>\n  </tbody>\n</table>\n",
     "group_pairs[group_pair_index][0]": "3",
     "group_pairs[group_pair_index][1]": "4"
    }
   },
   "outputs": [],
   "source": [
    "display_pvalues(pvalues.loc[', '.join(group_pairs[group_pair_index])].to_frame().T, metrics=research_metrics, alpha=alpha, caption=f'<b>Test p-values</b>', col_width=160)"
   ]
  },
  {
   "cell_type": "markdown",
   "metadata": {
    "variables": {
     "display_pvalues(pvalues.loc[', '.join(group_pairs[group_pair_index])].to_frame().T, metrics=research_metrics, alpha=alpha, caption=f'<b>Значения p-value статистического теста</b>', col_width=160)": "<style type=\"text/css\">\n#T_62c00 caption {\n  font-size: 12pt;\n  text-align: center;\n  color: black;\n}\n#T_62c00 td {\n  text-align: center;\n  border: 1px solid lightgray;\n  border-collapse: collapse;\n}\n#T_62c00 .row_heading {\n  width: 120px;\n  text-align: center;\n}\n#T_62c00  td {\n  width: 120px;\n  text-align: center;\n}\n#T_62c00 .col_heading {\n  width: 160px;\n  text-align: center;\n}\n#T_62c00  td {\n  width: 160px;\n  text-align: center;\n}\n#T_62c00_row0_col0 {\n  color: red;\n  font-weight: bold;\n}\n#T_62c00_level0_col0, #T_62c00_level0_col1, #T_62c00_level0_col2 {\n  border: 1px solid lightgray;\n  border-collapse: collapse;\n}\n</style>\n<table id=\"T_62c00\">\n  <caption><b>Значения p-value статистического теста</b></caption>\n  <thead>\n    <tr>\n      <th id=\"T_62c00_level0_col0\" class=\"col_heading level0 col0\" >Средняя скорость «к абоненту»</th>\n      <th id=\"T_62c00_level0_col1\" class=\"col_heading level0 col1\" >Скорость загрузки потокового видео</th>\n      <th id=\"T_62c00_level0_col2\" class=\"col_heading level0 col2\" >Скорость загрузки web-страниц через браузер</th>\n    </tr>\n  </thead>\n  <tbody>\n    <tr>\n      <td id=\"T_62c00_row0_col0\" class=\"data row0 col0\" >0.0498</td>\n      <td id=\"T_62c00_row0_col1\" class=\"data row0 col1\" >0.2979</td>\n      <td id=\"T_62c00_row0_col2\" class=\"data row0 col2\" >0.0526</td>\n    </tr>\n  </tbody>\n</table>\n",
     "group_pairs[group_pair_index][0]": "3",
     "group_pairs[group_pair_index][1]": "4"
    }
   },
   "source": [
    "**Conclusions:**\n",
    "\n",
    "1. Since the `p-values` of the `Downlink Throughput` metric obtained as a result of the test are **less than** the significance level, we **can reject the null hypothesis** with respect to this metric and, accordingly, Let's assume that the values of this metric of group `3` are **less than** those of group `4`.\n",
    "\n",
    "2. It should be noted that the `p-value` value of the `Web Page Download Throughput` metric is **slightly higher** than the significance level, which indicates **significant**, although statistically **not significant**, differences in the values of these metrics between the test groups."
   ]
  },
  {
   "cell_type": "markdown",
   "metadata": {
    "variables": {
     "groups[3]": "4",
     "groups[4]": "5"
    }
   },
   "source": [
    "#### 7.4.4. Statistical test for the groups 4 and 5\n",
    "\n",
    "For all metrics, Let's take the assumption as the `null hypothesis` that the values of the statistics of group `4` are **not less than** the values of the statistics of group `5`. And as the `alternative hypothesis`, the opposite statement that the values of the statistics of group `4` are still **less than** the values of the statistics of group `5`. In mathematical form, the test statistics and the formulated hypotheses can be written as follows:\n",
    "\n",
    "$$\n",
    "\\Delta \\hat{TM}=\\hat{TM}_{4}-\\hat{TM}_{5}\\\\\n",
    "H_0:\\Delta \\hat{TM}≥0\\\\\n",
    "H_1:\\Delta \\hat{TM}<0\n",
    "$$\n",
    "\n",
    "Let's perform testing and visualize the results by constructing histograms of the null distribution of the test statistics of the metrics under research. On the histograms, we mark the observed value of the test statistic with a vertical dashed line and color the areas of the distributions that are used to calculate the `p-values` (from the lines of the observed values of the test statistic)."
   ]
  },
  {
   "cell_type": "code",
   "execution_count": null,
   "metadata": {},
   "outputs": [],
   "source": [
    "# Test data preparation\n",
    "group_pair_index = 3\n",
    "test_data = research_data.loc[group_pairs[group_pair_index]]\n",
    "# Perform testing\n",
    "pvalues.loc[', '.join(group_pairs[group_pair_index])], null_distributions, statistics = permutation_test(\n",
    "    test_data, research_metrics['test statistic'], alternatives)\n",
    "# Output of the density histogram of the null distribution\n",
    "plot_metric_histograms(\n",
    "    null_distributions, statistic=statistics, metrics=research_metrics,\n",
    "    title=f'<b>Density of the null probability distribution of the test statistic</b>', title_y=0.9,\n",
    "    height=300, n_cols=3, opacity=0.5,\n",
    "    histnorm='probability density',\n",
    "    add_kde=True, add_statistic=True, mark_statistic=mark_statistic,\n",
    "    horizontal_spacing=0.08, vertical_spacing=0.07)"
   ]
  },
  {
   "cell_type": "markdown",
   "metadata": {
    "variables": {
     "display_pvalues(pvalues.loc[', '.join(group_pairs[group_pair_index])].to_frame().T, metrics=research_metrics, alpha=alpha, caption=f'<b>Значения p-value статистического теста</b>', col_width=160)": "<style type=\"text/css\">\n#T_7798f caption {\n  font-size: 12pt;\n  text-align: center;\n  color: black;\n}\n#T_7798f td {\n  text-align: center;\n  border: 1px solid lightgray;\n  border-collapse: collapse;\n}\n#T_7798f .row_heading {\n  width: 120px;\n  text-align: center;\n}\n#T_7798f  td {\n  width: 120px;\n  text-align: center;\n}\n#T_7798f .col_heading {\n  width: 160px;\n  text-align: center;\n}\n#T_7798f  td {\n  width: 160px;\n  text-align: center;\n}\n#T_7798f_row0_col0, #T_7798f_row0_col1, #T_7798f_row0_col2 {\n  color: red;\n  font-weight: bold;\n}\n#T_7798f_level0_col0, #T_7798f_level0_col1, #T_7798f_level0_col2 {\n  border: 1px solid lightgray;\n  border-collapse: collapse;\n}\n</style>\n<table id=\"T_7798f\">\n  <caption><b>Значения p-value статистического теста</b></caption>\n  <thead>\n    <tr>\n      <th id=\"T_7798f_level0_col0\" class=\"col_heading level0 col0\" >Средняя скорость «к абоненту»</th>\n      <th id=\"T_7798f_level0_col1\" class=\"col_heading level0 col1\" >Скорость загрузки потокового видео</th>\n      <th id=\"T_7798f_level0_col2\" class=\"col_heading level0 col2\" >Скорость загрузки web-страниц через браузер</th>\n    </tr>\n  </thead>\n  <tbody>\n    <tr>\n      <td id=\"T_7798f_row0_col0\" class=\"data row0 col0\" >0.0013</td>\n      <td id=\"T_7798f_row0_col1\" class=\"data row0 col1\" >0.0007</td>\n      <td id=\"T_7798f_row0_col2\" class=\"data row0 col2\" >0.0032</td>\n    </tr>\n  </tbody>\n</table>\n"
    }
   },
   "source": [
    "Let's present the obtained `p-values` in a tabular form, marking in \"<span style=\"color: red; font-weight: bold;\">red</span>\" those values that are below the significance level."
   ]
  },
  {
   "cell_type": "code",
   "execution_count": null,
   "metadata": {
    "variables": {
     "display_pvalues(pvalues.loc[', '.join(group_pairs[group_pair_index])].to_frame().T, metrics=research_metrics, alpha=alpha, caption=f'<b>Значения p-value статистического теста</b>', col_width=160)": "<style type=\"text/css\">\n#T_7bac3 caption {\n  font-size: 12pt;\n  text-align: center;\n  color: black;\n}\n#T_7bac3 td {\n  text-align: center;\n  border: 1px solid lightgray;\n  border-collapse: collapse;\n}\n#T_7bac3 .row_heading {\n  width: 120px;\n  text-align: center;\n}\n#T_7bac3  td {\n  width: 120px;\n  text-align: center;\n}\n#T_7bac3 .col_heading {\n  width: 160px;\n  text-align: center;\n}\n#T_7bac3  td {\n  width: 160px;\n  text-align: center;\n}\n#T_7bac3_row0_col0, #T_7bac3_row0_col1, #T_7bac3_row0_col2 {\n  color: red;\n  font-weight: bold;\n}\n#T_7bac3_level0_col0, #T_7bac3_level0_col1, #T_7bac3_level0_col2 {\n  border: 1px solid lightgray;\n  border-collapse: collapse;\n}\n</style>\n<table id=\"T_7bac3\">\n  <caption><b>Значения p-value статистического теста</b></caption>\n  <thead>\n    <tr>\n      <th id=\"T_7bac3_level0_col0\" class=\"col_heading level0 col0\" >Средняя скорость «к абоненту»</th>\n      <th id=\"T_7bac3_level0_col1\" class=\"col_heading level0 col1\" >Скорость загрузки потокового видео</th>\n      <th id=\"T_7bac3_level0_col2\" class=\"col_heading level0 col2\" >Скорость загрузки web-страниц через браузер</th>\n    </tr>\n  </thead>\n  <tbody>\n    <tr>\n      <td id=\"T_7bac3_row0_col0\" class=\"data row0 col0\" >0.0082</td>\n      <td id=\"T_7bac3_row0_col1\" class=\"data row0 col1\" >0.0014</td>\n      <td id=\"T_7bac3_row0_col2\" class=\"data row0 col2\" >0.0010</td>\n    </tr>\n  </tbody>\n</table>\n",
     "group_pairs[group_pair_index][0]": "4",
     "group_pairs[group_pair_index][1]": "5"
    }
   },
   "outputs": [],
   "source": [
    "display_pvalues(pvalues.loc[', '.join(group_pairs[group_pair_index])].to_frame().T, metrics=research_metrics, alpha=alpha, caption=f'<b>Test p-values</b>', col_width=160)"
   ]
  },
  {
   "cell_type": "markdown",
   "metadata": {
    "variables": {
     "display_pvalues(pvalues.loc[', '.join(group_pairs[group_pair_index])].to_frame().T, metrics=research_metrics, alpha=alpha, caption=f'<b>Значения p-value статистического теста</b>', col_width=160)": "<style type=\"text/css\">\n#T_7bac3 caption {\n  font-size: 12pt;\n  text-align: center;\n  color: black;\n}\n#T_7bac3 td {\n  text-align: center;\n  border: 1px solid lightgray;\n  border-collapse: collapse;\n}\n#T_7bac3 .row_heading {\n  width: 120px;\n  text-align: center;\n}\n#T_7bac3  td {\n  width: 120px;\n  text-align: center;\n}\n#T_7bac3 .col_heading {\n  width: 160px;\n  text-align: center;\n}\n#T_7bac3  td {\n  width: 160px;\n  text-align: center;\n}\n#T_7bac3_row0_col0, #T_7bac3_row0_col1, #T_7bac3_row0_col2 {\n  color: red;\n  font-weight: bold;\n}\n#T_7bac3_level0_col0, #T_7bac3_level0_col1, #T_7bac3_level0_col2 {\n  border: 1px solid lightgray;\n  border-collapse: collapse;\n}\n</style>\n<table id=\"T_7bac3\">\n  <caption><b>Значения p-value статистического теста</b></caption>\n  <thead>\n    <tr>\n      <th id=\"T_7bac3_level0_col0\" class=\"col_heading level0 col0\" >Средняя скорость «к абоненту»</th>\n      <th id=\"T_7bac3_level0_col1\" class=\"col_heading level0 col1\" >Скорость загрузки потокового видео</th>\n      <th id=\"T_7bac3_level0_col2\" class=\"col_heading level0 col2\" >Скорость загрузки web-страниц через браузер</th>\n    </tr>\n  </thead>\n  <tbody>\n    <tr>\n      <td id=\"T_7bac3_row0_col0\" class=\"data row0 col0\" >0.0082</td>\n      <td id=\"T_7bac3_row0_col1\" class=\"data row0 col1\" >0.0014</td>\n      <td id=\"T_7bac3_row0_col2\" class=\"data row0 col2\" >0.0010</td>\n    </tr>\n  </tbody>\n</table>\n",
     "group_pairs[group_pair_index][0]": "4",
     "group_pairs[group_pair_index][1]": "5"
    }
   },
   "source": [
    "**Conclusions:**\n",
    "\n",
    "1. Since the `p-values` obtained as a result of the test for all the metrics under research are **less** than the significance level, we **can reject the null hypothesis** in relation to them and, accordingly, Let's assume that the values of all the metrics under research for group `4` are **less** than for group `5`.\n",
    "\n",
    "2. It should be noted that the **confidence level** for the result obtained is very **high** - more than `99%`."
   ]
  },
  {
   "cell_type": "markdown",
   "metadata": {
    "variables": {
     "display_cat_info(data_clean).set_properties(pd.IndexSlice['Ужасно': 'Плохо', 'Интернет и видео'], color='white', background=px.colors.DEFAULT_PLOTLY_COLORS[0], opacity=0.5).set_properties(pd.IndexSlice['Ужасно': 'Плохо', 'Интернет': 'Видео'], color='white', background=px.colors.DEFAULT_PLOTLY_COLORS[1], opacity=0.5).set_properties(pd.IndexSlice['Нормально': 'Хорошо', 'Интернет и видео'], color='white', background=px.colors.DEFAULT_PLOTLY_COLORS[1], opacity=0.5).set_properties(pd.IndexSlice['Нормально': 'Хорошо', 'Интернет': 'Видео'], color='white', background=px.colors.DEFAULT_PLOTLY_COLORS[2], opacity=0.5).set_properties(pd.IndexSlice['Отлично', 'Нет'], color='white', background=px.colors.DEFAULT_PLOTLY_COLORS[3], opacity=0.5)": "<style type=\"text/css\">\n#T_f5757 th {\n  width: 80px;\n  text-align: center;\n  border: 1px solid lightgray;\n}\n#T_f5757  td {\n  width: 80px;\n  text-align: center;\n  border: 1px solid lightgray;\n}\n#T_f5757 th.index_name {\n  border: none;\n}\n#T_f5757_row0_col0, #T_f5757_row1_col0 {\n  color: white;\n  background: rgb(31, 119, 180);\n  opacity: 0.5;\n}\n#T_f5757_row0_col1, #T_f5757_row0_col2, #T_f5757_row1_col1, #T_f5757_row1_col2, #T_f5757_row2_col0, #T_f5757_row3_col0 {\n  color: white;\n  background: rgb(255, 127, 14);\n  opacity: 0.5;\n}\n#T_f5757_row2_col1, #T_f5757_row2_col2, #T_f5757_row3_col1, #T_f5757_row3_col2 {\n  color: white;\n  background: rgb(44, 160, 44);\n  opacity: 0.5;\n}\n#T_f5757_row4_col3 {\n  color: white;\n  background: rgb(214, 39, 40);\n  opacity: 0.5;\n}\n</style>\n<table id=\"T_f5757\">\n  <thead>\n    <tr>\n      <th class=\"index_name level0\" ></th>\n      <th id=\"T_f5757_level0_col0\" class=\"col_heading level0 col0\" >Интернет и видео</th>\n      <th id=\"T_f5757_level0_col1\" class=\"col_heading level0 col1\" >Интернет</th>\n      <th id=\"T_f5757_level0_col2\" class=\"col_heading level0 col2\" >Видео</th>\n      <th id=\"T_f5757_level0_col3\" class=\"col_heading level0 col3\" >Нет</th>\n    </tr>\n  </thead>\n  <tbody>\n    <tr>\n      <th id=\"T_f5757_level0_row0\" class=\"row_heading level0 row0\" >Ужасно</th>\n      <td id=\"T_f5757_row0_col0\" class=\"data row0 col0\" >82</td>\n      <td id=\"T_f5757_row0_col1\" class=\"data row0 col1\" >142</td>\n      <td id=\"T_f5757_row0_col2\" class=\"data row0 col2\" >3</td>\n      <td id=\"T_f5757_row0_col3\" class=\"data row0 col3\" >-</td>\n    </tr>\n    <tr>\n      <th id=\"T_f5757_level0_row1\" class=\"row_heading level0 row1\" >Плохо</th>\n      <td id=\"T_f5757_row1_col0\" class=\"data row1 col0\" >49</td>\n      <td id=\"T_f5757_row1_col1\" class=\"data row1 col1\" >117</td>\n      <td id=\"T_f5757_row1_col2\" class=\"data row1 col2\" >3</td>\n      <td id=\"T_f5757_row1_col3\" class=\"data row1 col3\" >-</td>\n    </tr>\n    <tr>\n      <th id=\"T_f5757_level0_row2\" class=\"row_heading level0 row2\" >Нормально</th>\n      <td id=\"T_f5757_row2_col0\" class=\"data row2 col0\" >23</td>\n      <td id=\"T_f5757_row2_col1\" class=\"data row2 col1\" >84</td>\n      <td id=\"T_f5757_row2_col2\" class=\"data row2 col2\" >11</td>\n      <td id=\"T_f5757_row2_col3\" class=\"data row2 col3\" >-</td>\n    </tr>\n    <tr>\n      <th id=\"T_f5757_level0_row3\" class=\"row_heading level0 row3\" >Хорошо</th>\n      <td id=\"T_f5757_row3_col0\" class=\"data row3 col0\" >31</td>\n      <td id=\"T_f5757_row3_col1\" class=\"data row3 col1\" >97</td>\n      <td id=\"T_f5757_row3_col2\" class=\"data row3 col2\" >20</td>\n      <td id=\"T_f5757_row3_col3\" class=\"data row3 col3\" >-</td>\n    </tr>\n    <tr>\n      <th id=\"T_f5757_level0_row4\" class=\"row_heading level0 row4\" >Отлично</th>\n      <td id=\"T_f5757_row4_col0\" class=\"data row4 col0\" >-</td>\n      <td id=\"T_f5757_row4_col1\" class=\"data row4 col1\" >-</td>\n      <td id=\"T_f5757_row4_col2\" class=\"data row4 col2\" >-</td>\n      <td id=\"T_f5757_row4_col3\" class=\"data row4 col3\" >1084</td>\n    </tr>\n  </tbody>\n</table>\n",
     "display_pvalues(pvalues, metrics=research_metrics, alpha=alpha, caption=f'<b>Значение p-value статистических тестов</b>', opacity=0.5, col_width=160, index_width=30)": "<style type=\"text/css\">\n#T_faca8 caption {\n  font-size: 12pt;\n  text-align: center;\n  color: black;\n}\n#T_faca8 td {\n  text-align: center;\n  border: 1px solid lightgray;\n  border-collapse: collapse;\n}\n#T_faca8 .row_heading {\n  width: 30px;\n  text-align: center;\n}\n#T_faca8  td {\n  width: 30px;\n  text-align: center;\n}\n#T_faca8 .col_heading {\n  width: 160px;\n  text-align: center;\n}\n#T_faca8  td {\n  width: 160px;\n  text-align: center;\n}\n#T_faca8_row0_col0, #T_faca8_row0_col1, #T_faca8_row0_col2, #T_faca8_row2_col0, #T_faca8_row3_col0, #T_faca8_row3_col1, #T_faca8_row3_col2 {\n  color: red;\n  font-weight: bold;\n}\n#T_faca8_level0_row0 {\n  color: white;\n  background-color: rgb(31, 119, 180);\n  opacity: 0.5;\n  border: 1px solid lightgray;\n  border-collapse: collapse;\n}\n#T_faca8_level1_row0, #T_faca8_level0_row1 {\n  color: white;\n  background-color: rgb(255, 127, 14);\n  opacity: 0.5;\n  border: 1px solid lightgray;\n  border-collapse: collapse;\n}\n#T_faca8_level1_row1, #T_faca8_level0_row2 {\n  color: white;\n  background-color: rgb(44, 160, 44);\n  opacity: 0.5;\n  border: 1px solid lightgray;\n  border-collapse: collapse;\n}\n#T_faca8_level1_row2, #T_faca8_level0_row3 {\n  color: white;\n  background-color: rgb(214, 39, 40);\n  opacity: 0.5;\n  border: 1px solid lightgray;\n  border-collapse: collapse;\n}\n#T_faca8_level1_row3 {\n  color: white;\n  background-color: rgb(148, 103, 189);\n  opacity: 0.5;\n  border: 1px solid lightgray;\n  border-collapse: collapse;\n}\n#T_faca8_level0_col0, #T_faca8_level0_col1, #T_faca8_level0_col2 {\n  border: 1px solid lightgray;\n  border-collapse: collapse;\n}\n</style>\n<table id=\"T_faca8\">\n  <caption><b>Значение p-value статистических тестов</b></caption>\n  <thead>\n    <tr>\n      <th class=\"blank\" >&nbsp;</th>\n      <th class=\"blank level0\" >&nbsp;</th>\n      <th id=\"T_faca8_level0_col0\" class=\"col_heading level0 col0\" >Средняя скорость «к абоненту»</th>\n      <th id=\"T_faca8_level0_col1\" class=\"col_heading level0 col1\" >Скорость загрузки потокового видео</th>\n      <th id=\"T_faca8_level0_col2\" class=\"col_heading level0 col2\" >Скорость загрузки web-страниц через браузер</th>\n    </tr>\n  </thead>\n  <tbody>\n    <tr>\n      <th id=\"T_faca8_level0_row0\" class=\"row_heading level0 row0\" >1</th>\n      <th id=\"T_faca8_level1_row0\" class=\"row_heading level1 row0\" >2</th>\n      <td id=\"T_faca8_row0_col0\" class=\"data row0 col0\" >0.0057</td>\n      <td id=\"T_faca8_row0_col1\" class=\"data row0 col1\" >0.0050</td>\n      <td id=\"T_faca8_row0_col2\" class=\"data row0 col2\" >0.0105</td>\n    </tr>\n    <tr>\n      <th id=\"T_faca8_level0_row1\" class=\"row_heading level0 row1\" >2</th>\n      <th id=\"T_faca8_level1_row1\" class=\"row_heading level1 row1\" >3</th>\n      <td id=\"T_faca8_row1_col0\" class=\"data row1 col0\" >0.7769</td>\n      <td id=\"T_faca8_row1_col1\" class=\"data row1 col1\" >0.2784</td>\n      <td id=\"T_faca8_row1_col2\" class=\"data row1 col2\" >0.7693</td>\n    </tr>\n    <tr>\n      <th id=\"T_faca8_level0_row2\" class=\"row_heading level0 row2\" >3</th>\n      <th id=\"T_faca8_level1_row2\" class=\"row_heading level1 row2\" >4</th>\n      <td id=\"T_faca8_row2_col0\" class=\"data row2 col0\" >0.0498</td>\n      <td id=\"T_faca8_row2_col1\" class=\"data row2 col1\" >0.2979</td>\n      <td id=\"T_faca8_row2_col2\" class=\"data row2 col2\" >0.0526</td>\n    </tr>\n    <tr>\n      <th id=\"T_faca8_level0_row3\" class=\"row_heading level0 row3\" >4</th>\n      <th id=\"T_faca8_level1_row3\" class=\"row_heading level1 row3\" >5</th>\n      <td id=\"T_faca8_row3_col0\" class=\"data row3 col0\" >0.0082</td>\n      <td id=\"T_faca8_row3_col1\" class=\"data row3 col1\" >0.0014</td>\n      <td id=\"T_faca8_row3_col2\" class=\"data row3 col2\" >0.0010</td>\n    </tr>\n  </tbody>\n</table>\n",
     "pvalues['Downlink Throughput(Kbps)'].mean().round(4)": "0.2102",
     "pvalues['Video Streaming Download Throughput(Kbps)'].mean().round(4)": "0.1457",
     "pvalues['Web Page Download Throughput(Kbps)'].mean().round(4)": "0.2084"
    }
   },
   "source": [
    "### 7.5. Conclusions\n",
    "\n",
    "To form the conclusions of the research, it is necessary to analyze the results of all the tests performed. To do this, Let's display the obtained `p-values` of all the tests in the form of a table:"
   ]
  },
  {
   "cell_type": "code",
   "execution_count": null,
   "metadata": {
    "scrolled": true,
    "variables": {
     "display_cat_info(data_clean).set_properties(pd.IndexSlice['Ужасно': 'Плохо', 'Интернет и видео'], color='white', background=px.colors.DEFAULT_PLOTLY_COLORS[0], opacity=0.5).set_properties(pd.IndexSlice['Ужасно': 'Плохо', 'Интернет': 'Видео'], color='white', background=px.colors.DEFAULT_PLOTLY_COLORS[1], opacity=0.5).set_properties(pd.IndexSlice['Нормально': 'Хорошо', 'Интернет и видео'], color='white', background=px.colors.DEFAULT_PLOTLY_COLORS[1], opacity=0.5).set_properties(pd.IndexSlice['Нормально': 'Хорошо', 'Интернет': 'Видео'], color='white', background=px.colors.DEFAULT_PLOTLY_COLORS[2], opacity=0.5).set_properties(pd.IndexSlice['Отлично', 'Нет'], color='white', background=px.colors.DEFAULT_PLOTLY_COLORS[3], opacity=0.5)": "<style type=\"text/css\">\n#T_f5757 th {\n  width: 80px;\n  text-align: center;\n  border: 1px solid lightgray;\n}\n#T_f5757  td {\n  width: 80px;\n  text-align: center;\n  border: 1px solid lightgray;\n}\n#T_f5757 th.index_name {\n  border: none;\n}\n#T_f5757_row0_col0, #T_f5757_row1_col0 {\n  color: white;\n  background: rgb(31, 119, 180);\n  opacity: 0.5;\n}\n#T_f5757_row0_col1, #T_f5757_row0_col2, #T_f5757_row1_col1, #T_f5757_row1_col2, #T_f5757_row2_col0, #T_f5757_row3_col0 {\n  color: white;\n  background: rgb(255, 127, 14);\n  opacity: 0.5;\n}\n#T_f5757_row2_col1, #T_f5757_row2_col2, #T_f5757_row3_col1, #T_f5757_row3_col2 {\n  color: white;\n  background: rgb(44, 160, 44);\n  opacity: 0.5;\n}\n#T_f5757_row4_col3 {\n  color: white;\n  background: rgb(214, 39, 40);\n  opacity: 0.5;\n}\n</style>\n<table id=\"T_f5757\">\n  <thead>\n    <tr>\n      <th class=\"index_name level0\" ></th>\n      <th id=\"T_f5757_level0_col0\" class=\"col_heading level0 col0\" >Интернет и видео</th>\n      <th id=\"T_f5757_level0_col1\" class=\"col_heading level0 col1\" >Интернет</th>\n      <th id=\"T_f5757_level0_col2\" class=\"col_heading level0 col2\" >Видео</th>\n      <th id=\"T_f5757_level0_col3\" class=\"col_heading level0 col3\" >Нет</th>\n    </tr>\n  </thead>\n  <tbody>\n    <tr>\n      <th id=\"T_f5757_level0_row0\" class=\"row_heading level0 row0\" >Ужасно</th>\n      <td id=\"T_f5757_row0_col0\" class=\"data row0 col0\" >82</td>\n      <td id=\"T_f5757_row0_col1\" class=\"data row0 col1\" >142</td>\n      <td id=\"T_f5757_row0_col2\" class=\"data row0 col2\" >3</td>\n      <td id=\"T_f5757_row0_col3\" class=\"data row0 col3\" >-</td>\n    </tr>\n    <tr>\n      <th id=\"T_f5757_level0_row1\" class=\"row_heading level0 row1\" >Плохо</th>\n      <td id=\"T_f5757_row1_col0\" class=\"data row1 col0\" >49</td>\n      <td id=\"T_f5757_row1_col1\" class=\"data row1 col1\" >117</td>\n      <td id=\"T_f5757_row1_col2\" class=\"data row1 col2\" >3</td>\n      <td id=\"T_f5757_row1_col3\" class=\"data row1 col3\" >-</td>\n    </tr>\n    <tr>\n      <th id=\"T_f5757_level0_row2\" class=\"row_heading level0 row2\" >Нормально</th>\n      <td id=\"T_f5757_row2_col0\" class=\"data row2 col0\" >23</td>\n      <td id=\"T_f5757_row2_col1\" class=\"data row2 col1\" >84</td>\n      <td id=\"T_f5757_row2_col2\" class=\"data row2 col2\" >11</td>\n      <td id=\"T_f5757_row2_col3\" class=\"data row2 col3\" >-</td>\n    </tr>\n    <tr>\n      <th id=\"T_f5757_level0_row3\" class=\"row_heading level0 row3\" >Хорошо</th>\n      <td id=\"T_f5757_row3_col0\" class=\"data row3 col0\" >31</td>\n      <td id=\"T_f5757_row3_col1\" class=\"data row3 col1\" >97</td>\n      <td id=\"T_f5757_row3_col2\" class=\"data row3 col2\" >20</td>\n      <td id=\"T_f5757_row3_col3\" class=\"data row3 col3\" >-</td>\n    </tr>\n    <tr>\n      <th id=\"T_f5757_level0_row4\" class=\"row_heading level0 row4\" >Отлично</th>\n      <td id=\"T_f5757_row4_col0\" class=\"data row4 col0\" >-</td>\n      <td id=\"T_f5757_row4_col1\" class=\"data row4 col1\" >-</td>\n      <td id=\"T_f5757_row4_col2\" class=\"data row4 col2\" >-</td>\n      <td id=\"T_f5757_row4_col3\" class=\"data row4 col3\" >1084</td>\n    </tr>\n  </tbody>\n</table>\n",
     "display_pvalues(pvalues, metrics=research_metrics, alpha=alpha, caption=f'<b>Значение p-value статистических тестов</b>', opacity=0.5, col_width=160, index_width=30)": "<style type=\"text/css\">\n#T_faca8 caption {\n  font-size: 12pt;\n  text-align: center;\n  color: black;\n}\n#T_faca8 td {\n  text-align: center;\n  border: 1px solid lightgray;\n  border-collapse: collapse;\n}\n#T_faca8 .row_heading {\n  width: 30px;\n  text-align: center;\n}\n#T_faca8  td {\n  width: 30px;\n  text-align: center;\n}\n#T_faca8 .col_heading {\n  width: 160px;\n  text-align: center;\n}\n#T_faca8  td {\n  width: 160px;\n  text-align: center;\n}\n#T_faca8_row0_col0, #T_faca8_row0_col1, #T_faca8_row0_col2, #T_faca8_row2_col0, #T_faca8_row3_col0, #T_faca8_row3_col1, #T_faca8_row3_col2 {\n  color: red;\n  font-weight: bold;\n}\n#T_faca8_level0_row0 {\n  color: white;\n  background-color: rgb(31, 119, 180);\n  opacity: 0.5;\n  border: 1px solid lightgray;\n  border-collapse: collapse;\n}\n#T_faca8_level1_row0, #T_faca8_level0_row1 {\n  color: white;\n  background-color: rgb(255, 127, 14);\n  opacity: 0.5;\n  border: 1px solid lightgray;\n  border-collapse: collapse;\n}\n#T_faca8_level1_row1, #T_faca8_level0_row2 {\n  color: white;\n  background-color: rgb(44, 160, 44);\n  opacity: 0.5;\n  border: 1px solid lightgray;\n  border-collapse: collapse;\n}\n#T_faca8_level1_row2, #T_faca8_level0_row3 {\n  color: white;\n  background-color: rgb(214, 39, 40);\n  opacity: 0.5;\n  border: 1px solid lightgray;\n  border-collapse: collapse;\n}\n#T_faca8_level1_row3 {\n  color: white;\n  background-color: rgb(148, 103, 189);\n  opacity: 0.5;\n  border: 1px solid lightgray;\n  border-collapse: collapse;\n}\n#T_faca8_level0_col0, #T_faca8_level0_col1, #T_faca8_level0_col2 {\n  border: 1px solid lightgray;\n  border-collapse: collapse;\n}\n</style>\n<table id=\"T_faca8\">\n  <caption><b>Значение p-value статистических тестов</b></caption>\n  <thead>\n    <tr>\n      <th class=\"blank\" >&nbsp;</th>\n      <th class=\"blank level0\" >&nbsp;</th>\n      <th id=\"T_faca8_level0_col0\" class=\"col_heading level0 col0\" >Средняя скорость «к абоненту»</th>\n      <th id=\"T_faca8_level0_col1\" class=\"col_heading level0 col1\" >Скорость загрузки потокового видео</th>\n      <th id=\"T_faca8_level0_col2\" class=\"col_heading level0 col2\" >Скорость загрузки web-страниц через браузер</th>\n    </tr>\n  </thead>\n  <tbody>\n    <tr>\n      <th id=\"T_faca8_level0_row0\" class=\"row_heading level0 row0\" >1</th>\n      <th id=\"T_faca8_level1_row0\" class=\"row_heading level1 row0\" >2</th>\n      <td id=\"T_faca8_row0_col0\" class=\"data row0 col0\" >0.0057</td>\n      <td id=\"T_faca8_row0_col1\" class=\"data row0 col1\" >0.0050</td>\n      <td id=\"T_faca8_row0_col2\" class=\"data row0 col2\" >0.0105</td>\n    </tr>\n    <tr>\n      <th id=\"T_faca8_level0_row1\" class=\"row_heading level0 row1\" >2</th>\n      <th id=\"T_faca8_level1_row1\" class=\"row_heading level1 row1\" >3</th>\n      <td id=\"T_faca8_row1_col0\" class=\"data row1 col0\" >0.7769</td>\n      <td id=\"T_faca8_row1_col1\" class=\"data row1 col1\" >0.2784</td>\n      <td id=\"T_faca8_row1_col2\" class=\"data row1 col2\" >0.7693</td>\n    </tr>\n    <tr>\n      <th id=\"T_faca8_level0_row2\" class=\"row_heading level0 row2\" >3</th>\n      <th id=\"T_faca8_level1_row2\" class=\"row_heading level1 row2\" >4</th>\n      <td id=\"T_faca8_row2_col0\" class=\"data row2 col0\" >0.0498</td>\n      <td id=\"T_faca8_row2_col1\" class=\"data row2 col1\" >0.2979</td>\n      <td id=\"T_faca8_row2_col2\" class=\"data row2 col2\" >0.0526</td>\n    </tr>\n    <tr>\n      <th id=\"T_faca8_level0_row3\" class=\"row_heading level0 row3\" >4</th>\n      <th id=\"T_faca8_level1_row3\" class=\"row_heading level1 row3\" >5</th>\n      <td id=\"T_faca8_row3_col0\" class=\"data row3 col0\" >0.0082</td>\n      <td id=\"T_faca8_row3_col1\" class=\"data row3 col1\" >0.0014</td>\n      <td id=\"T_faca8_row3_col2\" class=\"data row3 col2\" >0.0010</td>\n    </tr>\n  </tbody>\n</table>\n",
     "pvalues['Downlink Throughput(Kbps)'].mean().round(4)": "0.2102",
     "pvalues['Video Streaming Download Throughput(Kbps)'].mean().round(4)": "0.1457",
     "pvalues['Web Page Download Throughput(Kbps)'].mean().round(4)": "0.2084"
    }
   },
   "outputs": [],
   "source": [
    "display_pvalues(pvalues, metrics=research_metrics, alpha=alpha, caption=f'<b>Tests p-values</b>', opacity=0.5, col_width=160, index_width=30)"
   ]
  },
  {
   "cell_type": "markdown",
   "metadata": {
    "variables": {
     "display_cat_info(data_clean).set_properties(pd.IndexSlice['Ужасно': 'Плохо', 'Интернет и видео'], color='white', background=px.colors.DEFAULT_PLOTLY_COLORS[0], opacity=0.5).set_properties(pd.IndexSlice['Ужасно': 'Плохо', 'Интернет': 'Видео'], color='white', background=px.colors.DEFAULT_PLOTLY_COLORS[1], opacity=0.5).set_properties(pd.IndexSlice['Нормально': 'Хорошо', 'Интернет и видео'], color='white', background=px.colors.DEFAULT_PLOTLY_COLORS[1], opacity=0.5).set_properties(pd.IndexSlice['Нормально': 'Хорошо', 'Интернет': 'Видео'], color='white', background=px.colors.DEFAULT_PLOTLY_COLORS[2], opacity=0.5).set_properties(pd.IndexSlice['Отлично', 'Нет'], color='white', background=px.colors.DEFAULT_PLOTLY_COLORS[3], opacity=0.5)": "<style type=\"text/css\">\n#T_f5757 th {\n  width: 80px;\n  text-align: center;\n  border: 1px solid lightgray;\n}\n#T_f5757  td {\n  width: 80px;\n  text-align: center;\n  border: 1px solid lightgray;\n}\n#T_f5757 th.index_name {\n  border: none;\n}\n#T_f5757_row0_col0, #T_f5757_row1_col0 {\n  color: white;\n  background: rgb(31, 119, 180);\n  opacity: 0.5;\n}\n#T_f5757_row0_col1, #T_f5757_row0_col2, #T_f5757_row1_col1, #T_f5757_row1_col2, #T_f5757_row2_col0, #T_f5757_row3_col0 {\n  color: white;\n  background: rgb(255, 127, 14);\n  opacity: 0.5;\n}\n#T_f5757_row2_col1, #T_f5757_row2_col2, #T_f5757_row3_col1, #T_f5757_row3_col2 {\n  color: white;\n  background: rgb(44, 160, 44);\n  opacity: 0.5;\n}\n#T_f5757_row4_col3 {\n  color: white;\n  background: rgb(214, 39, 40);\n  opacity: 0.5;\n}\n</style>\n<table id=\"T_f5757\">\n  <thead>\n    <tr>\n      <th class=\"index_name level0\" ></th>\n      <th id=\"T_f5757_level0_col0\" class=\"col_heading level0 col0\" >Интернет и видео</th>\n      <th id=\"T_f5757_level0_col1\" class=\"col_heading level0 col1\" >Интернет</th>\n      <th id=\"T_f5757_level0_col2\" class=\"col_heading level0 col2\" >Видео</th>\n      <th id=\"T_f5757_level0_col3\" class=\"col_heading level0 col3\" >Нет</th>\n    </tr>\n  </thead>\n  <tbody>\n    <tr>\n      <th id=\"T_f5757_level0_row0\" class=\"row_heading level0 row0\" >Ужасно</th>\n      <td id=\"T_f5757_row0_col0\" class=\"data row0 col0\" >82</td>\n      <td id=\"T_f5757_row0_col1\" class=\"data row0 col1\" >142</td>\n      <td id=\"T_f5757_row0_col2\" class=\"data row0 col2\" >3</td>\n      <td id=\"T_f5757_row0_col3\" class=\"data row0 col3\" >-</td>\n    </tr>\n    <tr>\n      <th id=\"T_f5757_level0_row1\" class=\"row_heading level0 row1\" >Плохо</th>\n      <td id=\"T_f5757_row1_col0\" class=\"data row1 col0\" >49</td>\n      <td id=\"T_f5757_row1_col1\" class=\"data row1 col1\" >117</td>\n      <td id=\"T_f5757_row1_col2\" class=\"data row1 col2\" >3</td>\n      <td id=\"T_f5757_row1_col3\" class=\"data row1 col3\" >-</td>\n    </tr>\n    <tr>\n      <th id=\"T_f5757_level0_row2\" class=\"row_heading level0 row2\" >Нормально</th>\n      <td id=\"T_f5757_row2_col0\" class=\"data row2 col0\" >23</td>\n      <td id=\"T_f5757_row2_col1\" class=\"data row2 col1\" >84</td>\n      <td id=\"T_f5757_row2_col2\" class=\"data row2 col2\" >11</td>\n      <td id=\"T_f5757_row2_col3\" class=\"data row2 col3\" >-</td>\n    </tr>\n    <tr>\n      <th id=\"T_f5757_level0_row3\" class=\"row_heading level0 row3\" >Хорошо</th>\n      <td id=\"T_f5757_row3_col0\" class=\"data row3 col0\" >31</td>\n      <td id=\"T_f5757_row3_col1\" class=\"data row3 col1\" >97</td>\n      <td id=\"T_f5757_row3_col2\" class=\"data row3 col2\" >20</td>\n      <td id=\"T_f5757_row3_col3\" class=\"data row3 col3\" >-</td>\n    </tr>\n    <tr>\n      <th id=\"T_f5757_level0_row4\" class=\"row_heading level0 row4\" >Отлично</th>\n      <td id=\"T_f5757_row4_col0\" class=\"data row4 col0\" >-</td>\n      <td id=\"T_f5757_row4_col1\" class=\"data row4 col1\" >-</td>\n      <td id=\"T_f5757_row4_col2\" class=\"data row4 col2\" >-</td>\n      <td id=\"T_f5757_row4_col3\" class=\"data row4 col3\" >1084</td>\n    </tr>\n  </tbody>\n</table>\n",
     "display_pvalues(pvalues, metrics=research_metrics, alpha=alpha, caption=f'<b>Значение p-value статистических тестов</b>', opacity=0.5, col_width=160, index_width=30)": "<style type=\"text/css\">\n#T_faca8 caption {\n  font-size: 12pt;\n  text-align: center;\n  color: black;\n}\n#T_faca8 td {\n  text-align: center;\n  border: 1px solid lightgray;\n  border-collapse: collapse;\n}\n#T_faca8 .row_heading {\n  width: 30px;\n  text-align: center;\n}\n#T_faca8  td {\n  width: 30px;\n  text-align: center;\n}\n#T_faca8 .col_heading {\n  width: 160px;\n  text-align: center;\n}\n#T_faca8  td {\n  width: 160px;\n  text-align: center;\n}\n#T_faca8_row0_col0, #T_faca8_row0_col1, #T_faca8_row0_col2, #T_faca8_row2_col0, #T_faca8_row3_col0, #T_faca8_row3_col1, #T_faca8_row3_col2 {\n  color: red;\n  font-weight: bold;\n}\n#T_faca8_level0_row0 {\n  color: white;\n  background-color: rgb(31, 119, 180);\n  opacity: 0.5;\n  border: 1px solid lightgray;\n  border-collapse: collapse;\n}\n#T_faca8_level1_row0, #T_faca8_level0_row1 {\n  color: white;\n  background-color: rgb(255, 127, 14);\n  opacity: 0.5;\n  border: 1px solid lightgray;\n  border-collapse: collapse;\n}\n#T_faca8_level1_row1, #T_faca8_level0_row2 {\n  color: white;\n  background-color: rgb(44, 160, 44);\n  opacity: 0.5;\n  border: 1px solid lightgray;\n  border-collapse: collapse;\n}\n#T_faca8_level1_row2, #T_faca8_level0_row3 {\n  color: white;\n  background-color: rgb(214, 39, 40);\n  opacity: 0.5;\n  border: 1px solid lightgray;\n  border-collapse: collapse;\n}\n#T_faca8_level1_row3 {\n  color: white;\n  background-color: rgb(148, 103, 189);\n  opacity: 0.5;\n  border: 1px solid lightgray;\n  border-collapse: collapse;\n}\n#T_faca8_level0_col0, #T_faca8_level0_col1, #T_faca8_level0_col2 {\n  border: 1px solid lightgray;\n  border-collapse: collapse;\n}\n</style>\n<table id=\"T_faca8\">\n  <caption><b>Значение p-value статистических тестов</b></caption>\n  <thead>\n    <tr>\n      <th class=\"blank\" >&nbsp;</th>\n      <th class=\"blank level0\" >&nbsp;</th>\n      <th id=\"T_faca8_level0_col0\" class=\"col_heading level0 col0\" >Средняя скорость «к абоненту»</th>\n      <th id=\"T_faca8_level0_col1\" class=\"col_heading level0 col1\" >Скорость загрузки потокового видео</th>\n      <th id=\"T_faca8_level0_col2\" class=\"col_heading level0 col2\" >Скорость загрузки web-страниц через браузер</th>\n    </tr>\n  </thead>\n  <tbody>\n    <tr>\n      <th id=\"T_faca8_level0_row0\" class=\"row_heading level0 row0\" >1</th>\n      <th id=\"T_faca8_level1_row0\" class=\"row_heading level1 row0\" >2</th>\n      <td id=\"T_faca8_row0_col0\" class=\"data row0 col0\" >0.0057</td>\n      <td id=\"T_faca8_row0_col1\" class=\"data row0 col1\" >0.0050</td>\n      <td id=\"T_faca8_row0_col2\" class=\"data row0 col2\" >0.0105</td>\n    </tr>\n    <tr>\n      <th id=\"T_faca8_level0_row1\" class=\"row_heading level0 row1\" >2</th>\n      <th id=\"T_faca8_level1_row1\" class=\"row_heading level1 row1\" >3</th>\n      <td id=\"T_faca8_row1_col0\" class=\"data row1 col0\" >0.7769</td>\n      <td id=\"T_faca8_row1_col1\" class=\"data row1 col1\" >0.2784</td>\n      <td id=\"T_faca8_row1_col2\" class=\"data row1 col2\" >0.7693</td>\n    </tr>\n    <tr>\n      <th id=\"T_faca8_level0_row2\" class=\"row_heading level0 row2\" >3</th>\n      <th id=\"T_faca8_level1_row2\" class=\"row_heading level1 row2\" >4</th>\n      <td id=\"T_faca8_row2_col0\" class=\"data row2 col0\" >0.0498</td>\n      <td id=\"T_faca8_row2_col1\" class=\"data row2 col1\" >0.2979</td>\n      <td id=\"T_faca8_row2_col2\" class=\"data row2 col2\" >0.0526</td>\n    </tr>\n    <tr>\n      <th id=\"T_faca8_level0_row3\" class=\"row_heading level0 row3\" >4</th>\n      <th id=\"T_faca8_level1_row3\" class=\"row_heading level1 row3\" >5</th>\n      <td id=\"T_faca8_row3_col0\" class=\"data row3 col0\" >0.0082</td>\n      <td id=\"T_faca8_row3_col1\" class=\"data row3 col1\" >0.0014</td>\n      <td id=\"T_faca8_row3_col2\" class=\"data row3 col2\" >0.0010</td>\n    </tr>\n  </tbody>\n</table>\n",
     "pvalues['Downlink Throughput(Kbps)'].mean().round(4)": "0.2102",
     "pvalues['Video Streaming Download Throughput(Kbps)'].mean().round(4)": "0.1457",
     "pvalues['Web Page Download Throughput(Kbps)'].mean().round(4)": "0.2084"
    }
   },
   "source": [
    "Based on this information, we can give the following answers to the questions posed:\n",
    "1. Since all the metrics of customers in group `1` are **less** than those of the neighboring group `2`, we can assume that the customers of these groups **belong to different populations**. On the same basis, customers of neighboring groups `4` and `5` should be assigned to different populations.\n",
    "2. Since the `Downlink Throughput` metric of customers in group `3` is **less** than those of the neighboring group `4`, we can assume that the customers of these groups **belong to different populations**.\n",
    "3. Since all the metrics of customers in group `2` are **not less** than those of the neighboring group `3`, we can assume that the customers of these groups **belong to the same population**. 4. The metric `Video Streaming Download Throughput` has the **strongest** impact on dividing customers into populations depending on their mobile internet service assessment, since the average `p-value` of this metric (`0.1472`) is significantly lower than that of the other metrics: `Downlink Throughput` (`0.2066`) and `Web Page Download Throughput` (`0.2088`).\n",
    "\n",
    "Since it was established that customers of groups `2` and `3` should be classified as belonging to the same population, Let's further consider customers of these groups as belonging to the same category of customers with the same level of satisfaction with the quality of mobile internet service. Thus, the CSAT scale is narrowed to 4, i.e. the following customer categories remain depending on the CSAT of the customers:\n",
    "- <span style=\"color:white;background-color:rgb(31, 119, 180);opacity:0.5\">&nbsp;1&nbsp;</span> - Completely dissatisfied;\n",
    "- <span style=\"color:white;background-color:rgb(255, 127, 14);opacity:0.5\">&nbsp;2&nbsp;</span> - Partially dissatisfied;\n",
    "- <span style=\"color:white;background-color:rgb(44, 160, 44);opacity:0.5\">&nbsp;3&nbsp;</span> - Partially satisfied;\n",
    "- <span style=\"color:white;background-color:rgb(214, 39, 40);opacity:0.5\">&nbsp;4&nbsp;</span> - Completely satisfied.\n",
    "\n",
    "Let's illustrate these categories on a customer distribution map depending on their customers' CSAT:"
   ]
  },
  {
   "cell_type": "code",
   "execution_count": null,
   "metadata": {
    "variables": {
     "display_cat_info(data_clean).set_properties(pd.IndexSlice['Ужасно': 'Плохо', 'Интернет и видео'], color='white', background=px.colors.DEFAULT_PLOTLY_COLORS[0], opacity=0.5).set_properties(pd.IndexSlice['Ужасно': 'Плохо', 'Интернет': 'Видео'], color='white', background=px.colors.DEFAULT_PLOTLY_COLORS[1], opacity=0.5).set_properties(pd.IndexSlice['Нормально': 'Хорошо', 'Интернет и видео'], color='white', background=px.colors.DEFAULT_PLOTLY_COLORS[1], opacity=0.5).set_properties(pd.IndexSlice['Нормально': 'Хорошо', 'Интернет': 'Видео'], color='white', background=px.colors.DEFAULT_PLOTLY_COLORS[2], opacity=0.5).set_properties(pd.IndexSlice['Отлично', 'Нет'], color='white', background=px.colors.DEFAULT_PLOTLY_COLORS[3], opacity=0.5)": "<style type=\"text/css\">\n#T_f5757 th {\n  width: 80px;\n  text-align: center;\n  border: 1px solid lightgray;\n}\n#T_f5757  td {\n  width: 80px;\n  text-align: center;\n  border: 1px solid lightgray;\n}\n#T_f5757 th.index_name {\n  border: none;\n}\n#T_f5757_row0_col0, #T_f5757_row1_col0 {\n  color: white;\n  background: rgb(31, 119, 180);\n  opacity: 0.5;\n}\n#T_f5757_row0_col1, #T_f5757_row0_col2, #T_f5757_row1_col1, #T_f5757_row1_col2, #T_f5757_row2_col0, #T_f5757_row3_col0 {\n  color: white;\n  background: rgb(255, 127, 14);\n  opacity: 0.5;\n}\n#T_f5757_row2_col1, #T_f5757_row2_col2, #T_f5757_row3_col1, #T_f5757_row3_col2 {\n  color: white;\n  background: rgb(44, 160, 44);\n  opacity: 0.5;\n}\n#T_f5757_row4_col3 {\n  color: white;\n  background: rgb(214, 39, 40);\n  opacity: 0.5;\n}\n</style>\n<table id=\"T_f5757\">\n  <thead>\n    <tr>\n      <th class=\"index_name level0\" ></th>\n      <th id=\"T_f5757_level0_col0\" class=\"col_heading level0 col0\" >Интернет и видео</th>\n      <th id=\"T_f5757_level0_col1\" class=\"col_heading level0 col1\" >Интернет</th>\n      <th id=\"T_f5757_level0_col2\" class=\"col_heading level0 col2\" >Видео</th>\n      <th id=\"T_f5757_level0_col3\" class=\"col_heading level0 col3\" >Нет</th>\n    </tr>\n  </thead>\n  <tbody>\n    <tr>\n      <th id=\"T_f5757_level0_row0\" class=\"row_heading level0 row0\" >Ужасно</th>\n      <td id=\"T_f5757_row0_col0\" class=\"data row0 col0\" >82</td>\n      <td id=\"T_f5757_row0_col1\" class=\"data row0 col1\" >142</td>\n      <td id=\"T_f5757_row0_col2\" class=\"data row0 col2\" >3</td>\n      <td id=\"T_f5757_row0_col3\" class=\"data row0 col3\" >-</td>\n    </tr>\n    <tr>\n      <th id=\"T_f5757_level0_row1\" class=\"row_heading level0 row1\" >Плохо</th>\n      <td id=\"T_f5757_row1_col0\" class=\"data row1 col0\" >49</td>\n      <td id=\"T_f5757_row1_col1\" class=\"data row1 col1\" >117</td>\n      <td id=\"T_f5757_row1_col2\" class=\"data row1 col2\" >3</td>\n      <td id=\"T_f5757_row1_col3\" class=\"data row1 col3\" >-</td>\n    </tr>\n    <tr>\n      <th id=\"T_f5757_level0_row2\" class=\"row_heading level0 row2\" >Нормально</th>\n      <td id=\"T_f5757_row2_col0\" class=\"data row2 col0\" >23</td>\n      <td id=\"T_f5757_row2_col1\" class=\"data row2 col1\" >84</td>\n      <td id=\"T_f5757_row2_col2\" class=\"data row2 col2\" >11</td>\n      <td id=\"T_f5757_row2_col3\" class=\"data row2 col3\" >-</td>\n    </tr>\n    <tr>\n      <th id=\"T_f5757_level0_row3\" class=\"row_heading level0 row3\" >Хорошо</th>\n      <td id=\"T_f5757_row3_col0\" class=\"data row3 col0\" >31</td>\n      <td id=\"T_f5757_row3_col1\" class=\"data row3 col1\" >97</td>\n      <td id=\"T_f5757_row3_col2\" class=\"data row3 col2\" >20</td>\n      <td id=\"T_f5757_row3_col3\" class=\"data row3 col3\" >-</td>\n    </tr>\n    <tr>\n      <th id=\"T_f5757_level0_row4\" class=\"row_heading level0 row4\" >Отлично</th>\n      <td id=\"T_f5757_row4_col0\" class=\"data row4 col0\" >-</td>\n      <td id=\"T_f5757_row4_col1\" class=\"data row4 col1\" >-</td>\n      <td id=\"T_f5757_row4_col2\" class=\"data row4 col2\" >-</td>\n      <td id=\"T_f5757_row4_col3\" class=\"data row4 col3\" >1084</td>\n    </tr>\n  </tbody>\n</table>\n",
     "display_pvalues(pvalues, metrics=research_metrics, alpha=alpha, caption=f'<b>Значение p-value статистических тестов</b>', opacity=0.5, col_width=160, index_width=30)": "<style type=\"text/css\">\n#T_faca8 caption {\n  font-size: 12pt;\n  text-align: center;\n  color: black;\n}\n#T_faca8 td {\n  text-align: center;\n  border: 1px solid lightgray;\n  border-collapse: collapse;\n}\n#T_faca8 .row_heading {\n  width: 30px;\n  text-align: center;\n}\n#T_faca8  td {\n  width: 30px;\n  text-align: center;\n}\n#T_faca8 .col_heading {\n  width: 160px;\n  text-align: center;\n}\n#T_faca8  td {\n  width: 160px;\n  text-align: center;\n}\n#T_faca8_row0_col0, #T_faca8_row0_col1, #T_faca8_row0_col2, #T_faca8_row2_col0, #T_faca8_row3_col0, #T_faca8_row3_col1, #T_faca8_row3_col2 {\n  color: red;\n  font-weight: bold;\n}\n#T_faca8_level0_row0 {\n  color: white;\n  background-color: rgb(31, 119, 180);\n  opacity: 0.5;\n  border: 1px solid lightgray;\n  border-collapse: collapse;\n}\n#T_faca8_level1_row0, #T_faca8_level0_row1 {\n  color: white;\n  background-color: rgb(255, 127, 14);\n  opacity: 0.5;\n  border: 1px solid lightgray;\n  border-collapse: collapse;\n}\n#T_faca8_level1_row1, #T_faca8_level0_row2 {\n  color: white;\n  background-color: rgb(44, 160, 44);\n  opacity: 0.5;\n  border: 1px solid lightgray;\n  border-collapse: collapse;\n}\n#T_faca8_level1_row2, #T_faca8_level0_row3 {\n  color: white;\n  background-color: rgb(214, 39, 40);\n  opacity: 0.5;\n  border: 1px solid lightgray;\n  border-collapse: collapse;\n}\n#T_faca8_level1_row3 {\n  color: white;\n  background-color: rgb(148, 103, 189);\n  opacity: 0.5;\n  border: 1px solid lightgray;\n  border-collapse: collapse;\n}\n#T_faca8_level0_col0, #T_faca8_level0_col1, #T_faca8_level0_col2 {\n  border: 1px solid lightgray;\n  border-collapse: collapse;\n}\n</style>\n<table id=\"T_faca8\">\n  <caption><b>Значение p-value статистических тестов</b></caption>\n  <thead>\n    <tr>\n      <th class=\"blank\" >&nbsp;</th>\n      <th class=\"blank level0\" >&nbsp;</th>\n      <th id=\"T_faca8_level0_col0\" class=\"col_heading level0 col0\" >Средняя скорость «к абоненту»</th>\n      <th id=\"T_faca8_level0_col1\" class=\"col_heading level0 col1\" >Скорость загрузки потокового видео</th>\n      <th id=\"T_faca8_level0_col2\" class=\"col_heading level0 col2\" >Скорость загрузки web-страниц через браузер</th>\n    </tr>\n  </thead>\n  <tbody>\n    <tr>\n      <th id=\"T_faca8_level0_row0\" class=\"row_heading level0 row0\" >1</th>\n      <th id=\"T_faca8_level1_row0\" class=\"row_heading level1 row0\" >2</th>\n      <td id=\"T_faca8_row0_col0\" class=\"data row0 col0\" >0.0057</td>\n      <td id=\"T_faca8_row0_col1\" class=\"data row0 col1\" >0.0050</td>\n      <td id=\"T_faca8_row0_col2\" class=\"data row0 col2\" >0.0105</td>\n    </tr>\n    <tr>\n      <th id=\"T_faca8_level0_row1\" class=\"row_heading level0 row1\" >2</th>\n      <th id=\"T_faca8_level1_row1\" class=\"row_heading level1 row1\" >3</th>\n      <td id=\"T_faca8_row1_col0\" class=\"data row1 col0\" >0.7769</td>\n      <td id=\"T_faca8_row1_col1\" class=\"data row1 col1\" >0.2784</td>\n      <td id=\"T_faca8_row1_col2\" class=\"data row1 col2\" >0.7693</td>\n    </tr>\n    <tr>\n      <th id=\"T_faca8_level0_row2\" class=\"row_heading level0 row2\" >3</th>\n      <th id=\"T_faca8_level1_row2\" class=\"row_heading level1 row2\" >4</th>\n      <td id=\"T_faca8_row2_col0\" class=\"data row2 col0\" >0.0498</td>\n      <td id=\"T_faca8_row2_col1\" class=\"data row2 col1\" >0.2979</td>\n      <td id=\"T_faca8_row2_col2\" class=\"data row2 col2\" >0.0526</td>\n    </tr>\n    <tr>\n      <th id=\"T_faca8_level0_row3\" class=\"row_heading level0 row3\" >4</th>\n      <th id=\"T_faca8_level1_row3\" class=\"row_heading level1 row3\" >5</th>\n      <td id=\"T_faca8_row3_col0\" class=\"data row3 col0\" >0.0082</td>\n      <td id=\"T_faca8_row3_col1\" class=\"data row3 col1\" >0.0014</td>\n      <td id=\"T_faca8_row3_col2\" class=\"data row3 col2\" >0.0010</td>\n    </tr>\n  </tbody>\n</table>\n",
     "pvalues['Downlink Throughput(Kbps)'].mean().round(4)": "0.2102",
     "pvalues['Video Streaming Download Throughput(Kbps)'].mean().round(4)": "0.1457",
     "pvalues['Web Page Download Throughput(Kbps)'].mean().round(4)": "0.2084"
    }
   },
   "outputs": [],
   "source": [
    "display_cat_info(data_clean).set_properties(pd.IndexSlice['Very unsatisfied': 'Unsatisfied', 'Internet and Video'], color='white', background=px.colors.DEFAULT_PLOTLY_COLORS[0], opacity=0.5).set_properties(pd.IndexSlice['Very unsatisfied': 'Unsatisfied', 'Internet': 'Video'], color='white', background=px.colors.DEFAULT_PLOTLY_COLORS[1], opacity=0.5).set_properties(pd.IndexSlice['Neutral': 'Satisfied', 'Internet and Video'], color='white', background=px.colors.DEFAULT_PLOTLY_COLORS[1], opacity=0.5).set_properties(pd.IndexSlice['Neutral': 'Satisfied', 'Internet': 'Video'], color='white', background=px.colors.DEFAULT_PLOTLY_COLORS[2], opacity=0.5).set_properties(pd.IndexSlice['Very satisfied', 'No'], color='white', background=px.colors.DEFAULT_PLOTLY_COLORS[3], opacity=0.5)"
   ]
  },
  {
   "cell_type": "markdown",
   "metadata": {
    "variables": {
     "display_cat_info(data_clean).set_properties(pd.IndexSlice['Ужасно': 'Плохо', 'Интернет и видео'], color='white', background=px.colors.DEFAULT_PLOTLY_COLORS[0], opacity=0.5).set_properties(pd.IndexSlice['Ужасно': 'Плохо', 'Интернет': 'Видео'], color='white', background=px.colors.DEFAULT_PLOTLY_COLORS[1], opacity=0.5).set_properties(pd.IndexSlice['Нормально': 'Хорошо', 'Интернет и видео'], color='white', background=px.colors.DEFAULT_PLOTLY_COLORS[2], opacity=0.5).set_properties(pd.IndexSlice['Нормально': 'Хорошо', 'Интернет': 'Видео'], color='white', background=px.colors.DEFAULT_PLOTLY_COLORS[2], opacity=0.5).set_properties(pd.IndexSlice['Отлично', 'Нет'], color='white', background=px.colors.DEFAULT_PLOTLY_COLORS[3], opacity=0.5)": "<style type=\"text/css\">\n#T_a1777 th {\n  width: 80px;\n  text-align: center;\n  border: 1px solid lightgray;\n}\n#T_a1777  td {\n  width: 80px;\n  text-align: center;\n  border: 1px solid lightgray;\n}\n#T_a1777 th.index_name {\n  border: none;\n}\n#T_a1777_row0_col0, #T_a1777_row1_col0 {\n  color: white;\n  background: rgb(31, 119, 180);\n  opacity: 0.5;\n}\n#T_a1777_row0_col1, #T_a1777_row0_col2, #T_a1777_row1_col1, #T_a1777_row1_col2 {\n  color: white;\n  background: rgb(255, 127, 14);\n  opacity: 0.5;\n}\n#T_a1777_row2_col0, #T_a1777_row2_col1, #T_a1777_row2_col2, #T_a1777_row3_col0, #T_a1777_row3_col1, #T_a1777_row3_col2 {\n  color: white;\n  background: rgb(44, 160, 44);\n  opacity: 0.5;\n}\n#T_a1777_row4_col3 {\n  color: white;\n  background: rgb(214, 39, 40);\n  opacity: 0.5;\n}\n</style>\n<table id=\"T_a1777\">\n  <thead>\n    <tr>\n      <th class=\"index_name level0\" ></th>\n      <th id=\"T_a1777_level0_col0\" class=\"col_heading level0 col0\" >Интернет и видео</th>\n      <th id=\"T_a1777_level0_col1\" class=\"col_heading level0 col1\" >Интернет</th>\n      <th id=\"T_a1777_level0_col2\" class=\"col_heading level0 col2\" >Видео</th>\n      <th id=\"T_a1777_level0_col3\" class=\"col_heading level0 col3\" >Нет</th>\n    </tr>\n  </thead>\n  <tbody>\n    <tr>\n      <th id=\"T_a1777_level0_row0\" class=\"row_heading level0 row0\" >Ужасно</th>\n      <td id=\"T_a1777_row0_col0\" class=\"data row0 col0\" >82</td>\n      <td id=\"T_a1777_row0_col1\" class=\"data row0 col1\" >142</td>\n      <td id=\"T_a1777_row0_col2\" class=\"data row0 col2\" >3</td>\n      <td id=\"T_a1777_row0_col3\" class=\"data row0 col3\" >-</td>\n    </tr>\n    <tr>\n      <th id=\"T_a1777_level0_row1\" class=\"row_heading level0 row1\" >Плохо</th>\n      <td id=\"T_a1777_row1_col0\" class=\"data row1 col0\" >49</td>\n      <td id=\"T_a1777_row1_col1\" class=\"data row1 col1\" >117</td>\n      <td id=\"T_a1777_row1_col2\" class=\"data row1 col2\" >3</td>\n      <td id=\"T_a1777_row1_col3\" class=\"data row1 col3\" >-</td>\n    </tr>\n    <tr>\n      <th id=\"T_a1777_level0_row2\" class=\"row_heading level0 row2\" >Нормально</th>\n      <td id=\"T_a1777_row2_col0\" class=\"data row2 col0\" >23</td>\n      <td id=\"T_a1777_row2_col1\" class=\"data row2 col1\" >84</td>\n      <td id=\"T_a1777_row2_col2\" class=\"data row2 col2\" >11</td>\n      <td id=\"T_a1777_row2_col3\" class=\"data row2 col3\" >-</td>\n    </tr>\n    <tr>\n      <th id=\"T_a1777_level0_row3\" class=\"row_heading level0 row3\" >Хорошо</th>\n      <td id=\"T_a1777_row3_col0\" class=\"data row3 col0\" >31</td>\n      <td id=\"T_a1777_row3_col1\" class=\"data row3 col1\" >97</td>\n      <td id=\"T_a1777_row3_col2\" class=\"data row3 col2\" >20</td>\n      <td id=\"T_a1777_row3_col3\" class=\"data row3 col3\" >-</td>\n    </tr>\n    <tr>\n      <th id=\"T_a1777_level0_row4\" class=\"row_heading level0 row4\" >Отлично</th>\n      <td id=\"T_a1777_row4_col0\" class=\"data row4 col0\" >-</td>\n      <td id=\"T_a1777_row4_col1\" class=\"data row4 col1\" >-</td>\n      <td id=\"T_a1777_row4_col2\" class=\"data row4 col2\" >-</td>\n      <td id=\"T_a1777_row4_col3\" class=\"data row4 col3\" >1084</td>\n    </tr>\n  </tbody>\n</table>\n"
    }
   },
   "source": [
    "## 8. Research of the influence of metrics on the customer satisfaction level with Mobile Internet service\n",
    "\n",
    "### 8.1. Purpose of the research\n",
    "\n",
    "As a result of the previous research, it was established that customers should be divided into four categories by the level of `CSAT`.\n",
    "\n",
    "As part of this research, Let's check that such a division is statistically correct, i.e. customers of different categories belong to different populations, the metrics of which have statistically different values. Moreover, the higher the customer satisfaction category, the higher the customer satisfaction index is the index of differences in metrics.\n",
    "\n",
    "In addition, Let's try to determine which of the metrics under research has the greatest impact on `CSAT`.\n",
    "\n",
    "To perform the research, Let's divide customers into groups by the value of `CSAT`. Let's assign a designation corresponding to the `CSAT` value and color scheme for displaying graphic and tabular data to these groups:\n",
    "- <span style=\"color:white;background-color:rgb(31, 119, 180);opacity:0.5\">1</span> - Completely dissatisfied;\n",
    "- <span style=\"color:white;background-color:rgb(255, 127, 14);opacity:0.5\">&nbsp;2&nbsp;</span> - Partially dissatisfied;\n",
    "- <span style=\"color:white;background-color:rgb(44, 160, 44);opacity:0.5\">&nbsp;3&nbsp;</span> - Partially satisfied;\n",
    "- <span style=\"color:white;background-color:rgb(214, 39, 40);opacity:0.5\">&nbsp;4&nbsp;</span> - Completely satisfied.\n",
    "\n",
    "Let's illustrate these groups on a customer distribution map:"
   ]
  },
  {
   "cell_type": "code",
   "execution_count": null,
   "metadata": {
    "variables": {
     "display_cat_info(data_clean).set_properties(pd.IndexSlice['Ужасно': 'Плохо', 'Интернет и видео'], color='white', background=px.colors.DEFAULT_PLOTLY_COLORS[0], opacity=0.5).set_properties(pd.IndexSlice['Ужасно': 'Плохо', 'Интернет': 'Видео'], color='white', background=px.colors.DEFAULT_PLOTLY_COLORS[1], opacity=0.5).set_properties(pd.IndexSlice['Нормально': 'Хорошо', 'Интернет и видео'], color='white', background=px.colors.DEFAULT_PLOTLY_COLORS[2], opacity=0.5).set_properties(pd.IndexSlice['Нормально': 'Хорошо', 'Интернет': 'Видео'], color='white', background=px.colors.DEFAULT_PLOTLY_COLORS[2], opacity=0.5).set_properties(pd.IndexSlice['Отлично', 'Нет'], color='white', background=px.colors.DEFAULT_PLOTLY_COLORS[3], opacity=0.5)": "<style type=\"text/css\">\n#T_a1777 th {\n  width: 80px;\n  text-align: center;\n  border: 1px solid lightgray;\n}\n#T_a1777  td {\n  width: 80px;\n  text-align: center;\n  border: 1px solid lightgray;\n}\n#T_a1777 th.index_name {\n  border: none;\n}\n#T_a1777_row0_col0, #T_a1777_row1_col0 {\n  color: white;\n  background: rgb(31, 119, 180);\n  opacity: 0.5;\n}\n#T_a1777_row0_col1, #T_a1777_row0_col2, #T_a1777_row1_col1, #T_a1777_row1_col2 {\n  color: white;\n  background: rgb(255, 127, 14);\n  opacity: 0.5;\n}\n#T_a1777_row2_col0, #T_a1777_row2_col1, #T_a1777_row2_col2, #T_a1777_row3_col0, #T_a1777_row3_col1, #T_a1777_row3_col2 {\n  color: white;\n  background: rgb(44, 160, 44);\n  opacity: 0.5;\n}\n#T_a1777_row4_col3 {\n  color: white;\n  background: rgb(214, 39, 40);\n  opacity: 0.5;\n}\n</style>\n<table id=\"T_a1777\">\n  <thead>\n    <tr>\n      <th class=\"index_name level0\" ></th>\n      <th id=\"T_a1777_level0_col0\" class=\"col_heading level0 col0\" >Интернет и видео</th>\n      <th id=\"T_a1777_level0_col1\" class=\"col_heading level0 col1\" >Интернет</th>\n      <th id=\"T_a1777_level0_col2\" class=\"col_heading level0 col2\" >Видео</th>\n      <th id=\"T_a1777_level0_col3\" class=\"col_heading level0 col3\" >Нет</th>\n    </tr>\n  </thead>\n  <tbody>\n    <tr>\n      <th id=\"T_a1777_level0_row0\" class=\"row_heading level0 row0\" >Ужасно</th>\n      <td id=\"T_a1777_row0_col0\" class=\"data row0 col0\" >82</td>\n      <td id=\"T_a1777_row0_col1\" class=\"data row0 col1\" >142</td>\n      <td id=\"T_a1777_row0_col2\" class=\"data row0 col2\" >3</td>\n      <td id=\"T_a1777_row0_col3\" class=\"data row0 col3\" >-</td>\n    </tr>\n    <tr>\n      <th id=\"T_a1777_level0_row1\" class=\"row_heading level0 row1\" >Плохо</th>\n      <td id=\"T_a1777_row1_col0\" class=\"data row1 col0\" >49</td>\n      <td id=\"T_a1777_row1_col1\" class=\"data row1 col1\" >117</td>\n      <td id=\"T_a1777_row1_col2\" class=\"data row1 col2\" >3</td>\n      <td id=\"T_a1777_row1_col3\" class=\"data row1 col3\" >-</td>\n    </tr>\n    <tr>\n      <th id=\"T_a1777_level0_row2\" class=\"row_heading level0 row2\" >Нормально</th>\n      <td id=\"T_a1777_row2_col0\" class=\"data row2 col0\" >23</td>\n      <td id=\"T_a1777_row2_col1\" class=\"data row2 col1\" >84</td>\n      <td id=\"T_a1777_row2_col2\" class=\"data row2 col2\" >11</td>\n      <td id=\"T_a1777_row2_col3\" class=\"data row2 col3\" >-</td>\n    </tr>\n    <tr>\n      <th id=\"T_a1777_level0_row3\" class=\"row_heading level0 row3\" >Хорошо</th>\n      <td id=\"T_a1777_row3_col0\" class=\"data row3 col0\" >31</td>\n      <td id=\"T_a1777_row3_col1\" class=\"data row3 col1\" >97</td>\n      <td id=\"T_a1777_row3_col2\" class=\"data row3 col2\" >20</td>\n      <td id=\"T_a1777_row3_col3\" class=\"data row3 col3\" >-</td>\n    </tr>\n    <tr>\n      <th id=\"T_a1777_level0_row4\" class=\"row_heading level0 row4\" >Отлично</th>\n      <td id=\"T_a1777_row4_col0\" class=\"data row4 col0\" >-</td>\n      <td id=\"T_a1777_row4_col1\" class=\"data row4 col1\" >-</td>\n      <td id=\"T_a1777_row4_col2\" class=\"data row4 col2\" >-</td>\n      <td id=\"T_a1777_row4_col3\" class=\"data row4 col3\" >1084</td>\n    </tr>\n  </tbody>\n</table>\n"
    }
   },
   "outputs": [],
   "source": [
    "display_cat_info(data_clean).set_properties(pd.IndexSlice['Very unsatisfied': 'Unsatisfied', 'Internet and Video'], color='white', background=px.colors.DEFAULT_PLOTLY_COLORS[0], opacity=0.5).set_properties(pd.IndexSlice['Very unsatisfied': 'Unsatisfied', 'Internet': 'Video'], color='white', background=px.colors.DEFAULT_PLOTLY_COLORS[1], opacity=0.5).set_properties(pd.IndexSlice['Neutral': 'Satisfied', 'Internet and Video'], color='white', background=px.colors.DEFAULT_PLOTLY_COLORS[2], opacity=0.5).set_properties(pd.IndexSlice['Neutral': 'Satisfied', 'Internet': 'Video'], color='white', background=px.colors.DEFAULT_PLOTLY_COLORS[2], opacity=0.5).set_properties(pd.IndexSlice['Very satisfied', 'No'], color='white', background=px.colors.DEFAULT_PLOTLY_COLORS[3], opacity=0.5)"
   ]
  },
  {
   "cell_type": "markdown",
   "metadata": {},
   "source": [
    "### 8.2. Data Preparation\n",
    "\n",
    "Let's build a dataset for the research by dividing it into the above groups. Let's use the names of the groups as an index."
   ]
  },
  {
   "cell_type": "code",
   "execution_count": null,
   "metadata": {},
   "outputs": [],
   "source": [
    "research_data = data_clean.copy()\n",
    "research_data.index = research_data[['Internet score', 'Dissatisfaction reasons']].apply(\n",
    "    lambda x:\n",
    "        '1' if (x['Internet score'] in ['Very unsatisfied', 'Unsatisfied']) \n",
    "             & (x['Dissatisfaction reasons'] == 'Internet and Video') else (\n",
    "        '2' if (x['Internet score'] in ['Very unsatisfied', 'Unsatisfied']) \n",
    "             & (x['Dissatisfaction reasons'] != 'Internet and Video') else (\n",
    "        '3' if (x['Internet score'] in ['Neutral', 'Satisfied']) \n",
    "             & (x['Dissatisfaction reasons'] == 'Internet and Video') else (\n",
    "        '3' if (x['Internet score'] in ['Neutral', 'Satisfied']) \n",
    "             & (x['Dissatisfaction reasons'] != 'Internet and Video') else\n",
    "        '4')))\n",
    "    , axis=1)\n",
    "research_data.index.rename('Group', inplace=True)\n",
    "research_data = research_data[research_metrics.index]\n",
    "groups = research_data.index.unique().to_list()"
   ]
  },
  {
   "cell_type": "markdown",
   "metadata": {},
   "source": [
    "### 8.3. Exploratory Analysis\n",
    "\n",
    "First, let's look at the number of customers in the groups. To do this, we'll build a bar chart."
   ]
  },
  {
   "cell_type": "code",
   "execution_count": null,
   "metadata": {},
   "outputs": [],
   "source": [
    "plot_group_size_barchart(research_data,\n",
    "                         title='<b>Number of clients in the study groups</b>', title_y=0.9,\n",
    "                         width=700, height=260)"
   ]
  },
  {
   "cell_type": "markdown",
   "metadata": {},
   "source": [
    "As we can see, after changing the `CSAT` scale, the number of customers who can be classified as partially satisfied customers (group `3`) became equal to the number of partially dissatisfied customers (group `2`).\n",
    "\n",
    "Then Let's find the confidence intervals of the statistics of the metrics of these groups. This information will help to estimate the central values of the statistics and check for a tendency for the metrics to grow in the \"larger\" direction.\n",
    "\n",
    "Let's calculate the confidence intervals using the bootstrap method. The results will be displayed graphically (Let's construct the confidence intervals using horizontal segments, and their midpoints will be marked with dots)."
   ]
  },
  {
   "cell_type": "code",
   "execution_count": null,
   "metadata": {},
   "outputs": [],
   "source": [
    "# Build a list of test group pairs \n",
    "group_pairs = [[groups[0], groups[1]], [groups[1], groups[2]], [groups[2], groups[3]]]\n",
    "# Calculate confidence intervals, their midpoints and check precense of \"overlaps\" among them\n",
    "ci, ci_overlapping, ci_center, _ = confidence_interval_info(research_data, research_metrics, group_pairs)\n",
    "# Visualize confidence intervls\n",
    "plot_metric_confidence_interval(ci, metrics=research_metrics, \n",
    "                                title='<b>Confidence intervals of the statistics</b>',\n",
    "                                height=270, n_cols=3,\n",
    "                                horizontal_spacing=0.04, vertical_spacing=0.07)"
   ]
  },
  {
   "cell_type": "markdown",
   "metadata": {
    "variables": {
     "display_confidence_interval(ci, metrics=research_metrics, caption='<b>Доверительные интервалы статистик</b>', caption_font_size=12, opacity=0.5, precision=1, index_width=30)": "<style type=\"text/css\">\n#T_80573 caption {\n  font-size: 12pt;\n  text-align: center;\n  color: black;\n}\n#T_80573 td {\n  text-align: center;\n  border: 1px solid lightgray;\n  border-collapse: collapse;\n}\n#T_80573 .row_heading {\n  width: 30px;\n  text-align: center;\n}\n#T_80573  td {\n  width: 30px;\n  text-align: center;\n}\n#T_80573 .col_heading {\n  width: 80px;\n  text-align: center;\n}\n#T_80573  td {\n  width: 80px;\n  text-align: center;\n}\n#T_80573_row0_col1, #T_80573_row0_col4, #T_80573_row0_col7 {\n  color: red;\n  font-weight: bold;\n}\n#T_80573_row3_col1, #T_80573_row3_col4, #T_80573_row3_col7 {\n  color: green;\n  font-weight: bold;\n}\n#T_80573_level0_row0 {\n  color: white;\n  background-color: rgb(31, 119, 180);\n  opacity: 0.5;\n  border: 1px solid lightgray;\n  border-collapse: collapse;\n}\n#T_80573_level0_row1 {\n  color: white;\n  background-color: rgb(255, 127, 14);\n  opacity: 0.5;\n  border: 1px solid lightgray;\n  border-collapse: collapse;\n}\n#T_80573_level0_row2 {\n  color: white;\n  background-color: rgb(44, 160, 44);\n  opacity: 0.5;\n  border: 1px solid lightgray;\n  border-collapse: collapse;\n}\n#T_80573_level0_row3 {\n  color: white;\n  background-color: rgb(214, 39, 40);\n  opacity: 0.5;\n  border: 1px solid lightgray;\n  border-collapse: collapse;\n}\n#T_80573_level0_col0, #T_80573_level0_col3, #T_80573_level0_col6, #T_80573_level1_col0, #T_80573_level1_col1, #T_80573_level1_col2, #T_80573_level1_col3, #T_80573_level1_col4, #T_80573_level1_col5, #T_80573_level1_col6, #T_80573_level1_col7, #T_80573_level1_col8 {\n  border: 1px solid lightgray;\n  border-collapse: collapse;\n}\n</style>\n<table id=\"T_80573\">\n  <caption><b>Доверительные интервалы статистик</b></caption>\n  <thead>\n    <tr>\n      <th class=\"index_name level0\" ></th>\n      <th id=\"T_80573_level0_col0\" class=\"col_heading level0 col0\" colspan=\"3\">Средняя скорость «к абоненту»</th>\n      <th id=\"T_80573_level0_col3\" class=\"col_heading level0 col3\" colspan=\"3\">Скорость загрузки потокового видео</th>\n      <th id=\"T_80573_level0_col6\" class=\"col_heading level0 col6\" colspan=\"3\">Скорость загрузки web-страниц через браузер</th>\n    </tr>\n    <tr>\n      <th class=\"index_name level1\" ></th>\n      <th id=\"T_80573_level1_col0\" class=\"col_heading level1 col0\" >Начало</th>\n      <th id=\"T_80573_level1_col1\" class=\"col_heading level1 col1\" >Середина</th>\n      <th id=\"T_80573_level1_col2\" class=\"col_heading level1 col2\" >Конец</th>\n      <th id=\"T_80573_level1_col3\" class=\"col_heading level1 col3\" >Начало</th>\n      <th id=\"T_80573_level1_col4\" class=\"col_heading level1 col4\" >Середина</th>\n      <th id=\"T_80573_level1_col5\" class=\"col_heading level1 col5\" >Конец</th>\n      <th id=\"T_80573_level1_col6\" class=\"col_heading level1 col6\" >Начало</th>\n      <th id=\"T_80573_level1_col7\" class=\"col_heading level1 col7\" >Середина</th>\n      <th id=\"T_80573_level1_col8\" class=\"col_heading level1 col8\" >Конец</th>\n    </tr>\n  </thead>\n  <tbody>\n    <tr>\n      <th id=\"T_80573_level0_row0\" class=\"row_heading level0 row0\" >1</th>\n      <td id=\"T_80573_row0_col0\" class=\"data row0 col0\" >703.0</td>\n      <td id=\"T_80573_row0_col1\" class=\"data row0 col1\" >937.5</td>\n      <td id=\"T_80573_row0_col2\" class=\"data row0 col2\" >1172.0</td>\n      <td id=\"T_80573_row0_col3\" class=\"data row0 col3\" >2272.2</td>\n      <td id=\"T_80573_row0_col4\" class=\"data row0 col4\" >2747.4</td>\n      <td id=\"T_80573_row0_col5\" class=\"data row0 col5\" >3222.6</td>\n      <td id=\"T_80573_row0_col6\" class=\"data row0 col6\" >905.3</td>\n      <td id=\"T_80573_row0_col7\" class=\"data row0 col7\" >1091.2</td>\n      <td id=\"T_80573_row0_col8\" class=\"data row0 col8\" >1277.1</td>\n    </tr>\n    <tr>\n      <th id=\"T_80573_level0_row1\" class=\"row_heading level0 row1\" >2</th>\n      <td id=\"T_80573_row1_col0\" class=\"data row1 col0\" >1138.4</td>\n      <td id=\"T_80573_row1_col1\" class=\"data row1 col1\" >1340.9</td>\n      <td id=\"T_80573_row1_col2\" class=\"data row1 col2\" >1543.4</td>\n      <td id=\"T_80573_row1_col3\" class=\"data row1 col3\" >2847.2</td>\n      <td id=\"T_80573_row1_col4\" class=\"data row1 col4\" >3502.7</td>\n      <td id=\"T_80573_row1_col5\" class=\"data row1 col5\" >4158.2</td>\n      <td id=\"T_80573_row1_col6\" class=\"data row1 col6\" >1268.0</td>\n      <td id=\"T_80573_row1_col7\" class=\"data row1 col7\" >1440.0</td>\n      <td id=\"T_80573_row1_col8\" class=\"data row1 col8\" >1612.0</td>\n    </tr>\n    <tr>\n      <th id=\"T_80573_level0_row2\" class=\"row_heading level0 row2\" >3</th>\n      <td id=\"T_80573_row2_col0\" class=\"data row2 col0\" >1239.5</td>\n      <td id=\"T_80573_row2_col1\" class=\"data row2 col1\" >1447.1</td>\n      <td id=\"T_80573_row2_col2\" class=\"data row2 col2\" >1654.7</td>\n      <td id=\"T_80573_row2_col3\" class=\"data row2 col3\" >3933.9</td>\n      <td id=\"T_80573_row2_col4\" class=\"data row2 col4\" >4391.2</td>\n      <td id=\"T_80573_row2_col5\" class=\"data row2 col5\" >4848.5</td>\n      <td id=\"T_80573_row2_col6\" class=\"data row2 col6\" >1454.1</td>\n      <td id=\"T_80573_row2_col7\" class=\"data row2 col7\" >1608.1</td>\n      <td id=\"T_80573_row2_col8\" class=\"data row2 col8\" >1762.1</td>\n    </tr>\n    <tr>\n      <th id=\"T_80573_level0_row3\" class=\"row_heading level0 row3\" >4</th>\n      <td id=\"T_80573_row3_col0\" class=\"data row3 col0\" >1797.2</td>\n      <td id=\"T_80573_row3_col1\" class=\"data row3 col1\" >1925.1</td>\n      <td id=\"T_80573_row3_col2\" class=\"data row3 col2\" >2053.0</td>\n      <td id=\"T_80573_row3_col3\" class=\"data row3 col3\" >5032.1</td>\n      <td id=\"T_80573_row3_col4\" class=\"data row3 col4\" >5287.3</td>\n      <td id=\"T_80573_row3_col5\" class=\"data row3 col5\" >5542.4</td>\n      <td id=\"T_80573_row3_col6\" class=\"data row3 col6\" >1851.4</td>\n      <td id=\"T_80573_row3_col7\" class=\"data row3 col7\" >1947.8</td>\n      <td id=\"T_80573_row3_col8\" class=\"data row3 col8\" >2044.1</td>\n    </tr>\n  </tbody>\n</table>\n",
     "display_confidence_interval_overlapping(ci_overlapping, metrics=research_metrics, caption='<b>Наличие перекрытия доверительных интервалов статистик</b>', opacity=0.5, index_width=30)": "<style type=\"text/css\">\n#T_1bbb5 caption {\n  font-size: 12pt;\n  text-align: center;\n  color: black;\n}\n#T_1bbb5 td {\n  text-align: center;\n  border: 1px solid lightgray;\n  border-collapse: collapse;\n}\n#T_1bbb5 .row_heading {\n  width: 30px;\n  text-align: center;\n}\n#T_1bbb5  td {\n  width: 30px;\n  text-align: center;\n}\n#T_1bbb5 .col_heading {\n  width: 130px;\n  text-align: center;\n}\n#T_1bbb5  td {\n  width: 130px;\n  text-align: center;\n}\n#T_1bbb5_row2_col0, #T_1bbb5_row2_col1, #T_1bbb5_row2_col2 {\n  color: red;\n  font-weight: bold;\n}\n#T_1bbb5_level0_row0 {\n  color: white;\n  background-color: rgb(31, 119, 180);\n  opacity: 0.5;\n  border: 1px solid lightgray;\n  border-collapse: collapse;\n}\n#T_1bbb5_level1_row0, #T_1bbb5_level0_row1 {\n  color: white;\n  background-color: rgb(255, 127, 14);\n  opacity: 0.5;\n  border: 1px solid lightgray;\n  border-collapse: collapse;\n}\n#T_1bbb5_level1_row1, #T_1bbb5_level0_row2 {\n  color: white;\n  background-color: rgb(44, 160, 44);\n  opacity: 0.5;\n  border: 1px solid lightgray;\n  border-collapse: collapse;\n}\n#T_1bbb5_level1_row2 {\n  color: white;\n  background-color: rgb(214, 39, 40);\n  opacity: 0.5;\n  border: 1px solid lightgray;\n  border-collapse: collapse;\n}\n#T_1bbb5_level0_col0, #T_1bbb5_level0_col1, #T_1bbb5_level0_col2 {\n  border: 1px solid lightgray;\n  border-collapse: collapse;\n}\n</style>\n<table id=\"T_1bbb5\">\n  <caption><b>Наличие перекрытия доверительных интервалов статистик</b></caption>\n  <thead>\n    <tr>\n      <th class=\"blank\" >&nbsp;</th>\n      <th class=\"blank level0\" >&nbsp;</th>\n      <th id=\"T_1bbb5_level0_col0\" class=\"col_heading level0 col0\" >Средняя скорость «к абоненту»</th>\n      <th id=\"T_1bbb5_level0_col1\" class=\"col_heading level0 col1\" >Скорость загрузки потокового видео</th>\n      <th id=\"T_1bbb5_level0_col2\" class=\"col_heading level0 col2\" >Скорость загрузки web-страниц через браузер</th>\n    </tr>\n  </thead>\n  <tbody>\n    <tr>\n      <th id=\"T_1bbb5_level0_row0\" class=\"row_heading level0 row0\" >1</th>\n      <th id=\"T_1bbb5_level1_row0\" class=\"row_heading level1 row0\" >2</th>\n      <td id=\"T_1bbb5_row0_col0\" class=\"data row0 col0\" >Да</td>\n      <td id=\"T_1bbb5_row0_col1\" class=\"data row0 col1\" >Да</td>\n      <td id=\"T_1bbb5_row0_col2\" class=\"data row0 col2\" >Да</td>\n    </tr>\n    <tr>\n      <th id=\"T_1bbb5_level0_row1\" class=\"row_heading level0 row1\" >2</th>\n      <th id=\"T_1bbb5_level1_row1\" class=\"row_heading level1 row1\" >3</th>\n      <td id=\"T_1bbb5_row1_col0\" class=\"data row1 col0\" >Да</td>\n      <td id=\"T_1bbb5_row1_col1\" class=\"data row1 col1\" >Да</td>\n      <td id=\"T_1bbb5_row1_col2\" class=\"data row1 col2\" >Да</td>\n    </tr>\n    <tr>\n      <th id=\"T_1bbb5_level0_row2\" class=\"row_heading level0 row2\" >3</th>\n      <th id=\"T_1bbb5_level1_row2\" class=\"row_heading level1 row2\" >4</th>\n      <td id=\"T_1bbb5_row2_col0\" class=\"data row2 col0\" >Нет</td>\n      <td id=\"T_1bbb5_row2_col1\" class=\"data row2 col1\" >Нет</td>\n      <td id=\"T_1bbb5_row2_col2\" class=\"data row2 col2\" >Нет</td>\n    </tr>\n  </tbody>\n</table>\n"
    }
   },
   "source": [
    "For clarity, we will also present the obtained results in a tabular form (the \"worst\" and \"best\" values of the midpoints of the confidence intervals will be highlighted in \"<span style=\"color: red; font-weight: bold;\">red</span>\" and \"<span style=\"color: green; font-weight: bold;\">green</span>\" colors, respectively)."
   ]
  },
  {
   "cell_type": "code",
   "execution_count": null,
   "metadata": {
    "variables": {
     "display_confidence_interval(ci, metrics=research_metrics, caption='<b>Доверительные интервалы статистик</b>', caption_font_size=12, opacity=0.5, precision=1, index_width=30)": "<style type=\"text/css\">\n#T_80573 caption {\n  font-size: 12pt;\n  text-align: center;\n  color: black;\n}\n#T_80573 td {\n  text-align: center;\n  border: 1px solid lightgray;\n  border-collapse: collapse;\n}\n#T_80573 .row_heading {\n  width: 30px;\n  text-align: center;\n}\n#T_80573  td {\n  width: 30px;\n  text-align: center;\n}\n#T_80573 .col_heading {\n  width: 80px;\n  text-align: center;\n}\n#T_80573  td {\n  width: 80px;\n  text-align: center;\n}\n#T_80573_row0_col1, #T_80573_row0_col4, #T_80573_row0_col7 {\n  color: red;\n  font-weight: bold;\n}\n#T_80573_row3_col1, #T_80573_row3_col4, #T_80573_row3_col7 {\n  color: green;\n  font-weight: bold;\n}\n#T_80573_level0_row0 {\n  color: white;\n  background-color: rgb(31, 119, 180);\n  opacity: 0.5;\n  border: 1px solid lightgray;\n  border-collapse: collapse;\n}\n#T_80573_level0_row1 {\n  color: white;\n  background-color: rgb(255, 127, 14);\n  opacity: 0.5;\n  border: 1px solid lightgray;\n  border-collapse: collapse;\n}\n#T_80573_level0_row2 {\n  color: white;\n  background-color: rgb(44, 160, 44);\n  opacity: 0.5;\n  border: 1px solid lightgray;\n  border-collapse: collapse;\n}\n#T_80573_level0_row3 {\n  color: white;\n  background-color: rgb(214, 39, 40);\n  opacity: 0.5;\n  border: 1px solid lightgray;\n  border-collapse: collapse;\n}\n#T_80573_level0_col0, #T_80573_level0_col3, #T_80573_level0_col6, #T_80573_level1_col0, #T_80573_level1_col1, #T_80573_level1_col2, #T_80573_level1_col3, #T_80573_level1_col4, #T_80573_level1_col5, #T_80573_level1_col6, #T_80573_level1_col7, #T_80573_level1_col8 {\n  border: 1px solid lightgray;\n  border-collapse: collapse;\n}\n</style>\n<table id=\"T_80573\">\n  <caption><b>Доверительные интервалы статистик</b></caption>\n  <thead>\n    <tr>\n      <th class=\"index_name level0\" ></th>\n      <th id=\"T_80573_level0_col0\" class=\"col_heading level0 col0\" colspan=\"3\">Средняя скорость «к абоненту»</th>\n      <th id=\"T_80573_level0_col3\" class=\"col_heading level0 col3\" colspan=\"3\">Скорость загрузки потокового видео</th>\n      <th id=\"T_80573_level0_col6\" class=\"col_heading level0 col6\" colspan=\"3\">Скорость загрузки web-страниц через браузер</th>\n    </tr>\n    <tr>\n      <th class=\"index_name level1\" ></th>\n      <th id=\"T_80573_level1_col0\" class=\"col_heading level1 col0\" >Начало</th>\n      <th id=\"T_80573_level1_col1\" class=\"col_heading level1 col1\" >Середина</th>\n      <th id=\"T_80573_level1_col2\" class=\"col_heading level1 col2\" >Конец</th>\n      <th id=\"T_80573_level1_col3\" class=\"col_heading level1 col3\" >Начало</th>\n      <th id=\"T_80573_level1_col4\" class=\"col_heading level1 col4\" >Середина</th>\n      <th id=\"T_80573_level1_col5\" class=\"col_heading level1 col5\" >Конец</th>\n      <th id=\"T_80573_level1_col6\" class=\"col_heading level1 col6\" >Начало</th>\n      <th id=\"T_80573_level1_col7\" class=\"col_heading level1 col7\" >Середина</th>\n      <th id=\"T_80573_level1_col8\" class=\"col_heading level1 col8\" >Конец</th>\n    </tr>\n  </thead>\n  <tbody>\n    <tr>\n      <th id=\"T_80573_level0_row0\" class=\"row_heading level0 row0\" >1</th>\n      <td id=\"T_80573_row0_col0\" class=\"data row0 col0\" >703.0</td>\n      <td id=\"T_80573_row0_col1\" class=\"data row0 col1\" >937.5</td>\n      <td id=\"T_80573_row0_col2\" class=\"data row0 col2\" >1172.0</td>\n      <td id=\"T_80573_row0_col3\" class=\"data row0 col3\" >2272.2</td>\n      <td id=\"T_80573_row0_col4\" class=\"data row0 col4\" >2747.4</td>\n      <td id=\"T_80573_row0_col5\" class=\"data row0 col5\" >3222.6</td>\n      <td id=\"T_80573_row0_col6\" class=\"data row0 col6\" >905.3</td>\n      <td id=\"T_80573_row0_col7\" class=\"data row0 col7\" >1091.2</td>\n      <td id=\"T_80573_row0_col8\" class=\"data row0 col8\" >1277.1</td>\n    </tr>\n    <tr>\n      <th id=\"T_80573_level0_row1\" class=\"row_heading level0 row1\" >2</th>\n      <td id=\"T_80573_row1_col0\" class=\"data row1 col0\" >1138.4</td>\n      <td id=\"T_80573_row1_col1\" class=\"data row1 col1\" >1340.9</td>\n      <td id=\"T_80573_row1_col2\" class=\"data row1 col2\" >1543.4</td>\n      <td id=\"T_80573_row1_col3\" class=\"data row1 col3\" >2847.2</td>\n      <td id=\"T_80573_row1_col4\" class=\"data row1 col4\" >3502.7</td>\n      <td id=\"T_80573_row1_col5\" class=\"data row1 col5\" >4158.2</td>\n      <td id=\"T_80573_row1_col6\" class=\"data row1 col6\" >1268.0</td>\n      <td id=\"T_80573_row1_col7\" class=\"data row1 col7\" >1440.0</td>\n      <td id=\"T_80573_row1_col8\" class=\"data row1 col8\" >1612.0</td>\n    </tr>\n    <tr>\n      <th id=\"T_80573_level0_row2\" class=\"row_heading level0 row2\" >3</th>\n      <td id=\"T_80573_row2_col0\" class=\"data row2 col0\" >1239.5</td>\n      <td id=\"T_80573_row2_col1\" class=\"data row2 col1\" >1447.1</td>\n      <td id=\"T_80573_row2_col2\" class=\"data row2 col2\" >1654.7</td>\n      <td id=\"T_80573_row2_col3\" class=\"data row2 col3\" >3933.9</td>\n      <td id=\"T_80573_row2_col4\" class=\"data row2 col4\" >4391.2</td>\n      <td id=\"T_80573_row2_col5\" class=\"data row2 col5\" >4848.5</td>\n      <td id=\"T_80573_row2_col6\" class=\"data row2 col6\" >1454.1</td>\n      <td id=\"T_80573_row2_col7\" class=\"data row2 col7\" >1608.1</td>\n      <td id=\"T_80573_row2_col8\" class=\"data row2 col8\" >1762.1</td>\n    </tr>\n    <tr>\n      <th id=\"T_80573_level0_row3\" class=\"row_heading level0 row3\" >4</th>\n      <td id=\"T_80573_row3_col0\" class=\"data row3 col0\" >1797.2</td>\n      <td id=\"T_80573_row3_col1\" class=\"data row3 col1\" >1925.1</td>\n      <td id=\"T_80573_row3_col2\" class=\"data row3 col2\" >2053.0</td>\n      <td id=\"T_80573_row3_col3\" class=\"data row3 col3\" >5032.1</td>\n      <td id=\"T_80573_row3_col4\" class=\"data row3 col4\" >5287.3</td>\n      <td id=\"T_80573_row3_col5\" class=\"data row3 col5\" >5542.4</td>\n      <td id=\"T_80573_row3_col6\" class=\"data row3 col6\" >1851.4</td>\n      <td id=\"T_80573_row3_col7\" class=\"data row3 col7\" >1947.8</td>\n      <td id=\"T_80573_row3_col8\" class=\"data row3 col8\" >2044.1</td>\n    </tr>\n  </tbody>\n</table>\n",
     "display_confidence_interval_overlapping(ci_overlapping, metrics=research_metrics, caption='<b>Наличие перекрытия доверительных интервалов статистик</b>', opacity=0.5, index_width=30)": "<style type=\"text/css\">\n#T_1bbb5 caption {\n  font-size: 12pt;\n  text-align: center;\n  color: black;\n}\n#T_1bbb5 td {\n  text-align: center;\n  border: 1px solid lightgray;\n  border-collapse: collapse;\n}\n#T_1bbb5 .row_heading {\n  width: 30px;\n  text-align: center;\n}\n#T_1bbb5  td {\n  width: 30px;\n  text-align: center;\n}\n#T_1bbb5 .col_heading {\n  width: 130px;\n  text-align: center;\n}\n#T_1bbb5  td {\n  width: 130px;\n  text-align: center;\n}\n#T_1bbb5_row2_col0, #T_1bbb5_row2_col1, #T_1bbb5_row2_col2 {\n  color: red;\n  font-weight: bold;\n}\n#T_1bbb5_level0_row0 {\n  color: white;\n  background-color: rgb(31, 119, 180);\n  opacity: 0.5;\n  border: 1px solid lightgray;\n  border-collapse: collapse;\n}\n#T_1bbb5_level1_row0, #T_1bbb5_level0_row1 {\n  color: white;\n  background-color: rgb(255, 127, 14);\n  opacity: 0.5;\n  border: 1px solid lightgray;\n  border-collapse: collapse;\n}\n#T_1bbb5_level1_row1, #T_1bbb5_level0_row2 {\n  color: white;\n  background-color: rgb(44, 160, 44);\n  opacity: 0.5;\n  border: 1px solid lightgray;\n  border-collapse: collapse;\n}\n#T_1bbb5_level1_row2 {\n  color: white;\n  background-color: rgb(214, 39, 40);\n  opacity: 0.5;\n  border: 1px solid lightgray;\n  border-collapse: collapse;\n}\n#T_1bbb5_level0_col0, #T_1bbb5_level0_col1, #T_1bbb5_level0_col2 {\n  border: 1px solid lightgray;\n  border-collapse: collapse;\n}\n</style>\n<table id=\"T_1bbb5\">\n  <caption><b>Наличие перекрытия доверительных интервалов статистик</b></caption>\n  <thead>\n    <tr>\n      <th class=\"blank\" >&nbsp;</th>\n      <th class=\"blank level0\" >&nbsp;</th>\n      <th id=\"T_1bbb5_level0_col0\" class=\"col_heading level0 col0\" >Средняя скорость «к абоненту»</th>\n      <th id=\"T_1bbb5_level0_col1\" class=\"col_heading level0 col1\" >Скорость загрузки потокового видео</th>\n      <th id=\"T_1bbb5_level0_col2\" class=\"col_heading level0 col2\" >Скорость загрузки web-страниц через браузер</th>\n    </tr>\n  </thead>\n  <tbody>\n    <tr>\n      <th id=\"T_1bbb5_level0_row0\" class=\"row_heading level0 row0\" >1</th>\n      <th id=\"T_1bbb5_level1_row0\" class=\"row_heading level1 row0\" >2</th>\n      <td id=\"T_1bbb5_row0_col0\" class=\"data row0 col0\" >Да</td>\n      <td id=\"T_1bbb5_row0_col1\" class=\"data row0 col1\" >Да</td>\n      <td id=\"T_1bbb5_row0_col2\" class=\"data row0 col2\" >Да</td>\n    </tr>\n    <tr>\n      <th id=\"T_1bbb5_level0_row1\" class=\"row_heading level0 row1\" >2</th>\n      <th id=\"T_1bbb5_level1_row1\" class=\"row_heading level1 row1\" >3</th>\n      <td id=\"T_1bbb5_row1_col0\" class=\"data row1 col0\" >Да</td>\n      <td id=\"T_1bbb5_row1_col1\" class=\"data row1 col1\" >Да</td>\n      <td id=\"T_1bbb5_row1_col2\" class=\"data row1 col2\" >Да</td>\n    </tr>\n    <tr>\n      <th id=\"T_1bbb5_level0_row2\" class=\"row_heading level0 row2\" >3</th>\n      <th id=\"T_1bbb5_level1_row2\" class=\"row_heading level1 row2\" >4</th>\n      <td id=\"T_1bbb5_row2_col0\" class=\"data row2 col0\" >Нет</td>\n      <td id=\"T_1bbb5_row2_col1\" class=\"data row2 col1\" >Нет</td>\n      <td id=\"T_1bbb5_row2_col2\" class=\"data row2 col2\" >Нет</td>\n    </tr>\n  </tbody>\n</table>\n"
    }
   },
   "outputs": [],
   "source": [
    "display_confidence_interval(ci, metrics=research_metrics, caption='<b>Confidence intervals of the statistics</b>', caption_font_size=12, opacity=0.5, precision=1, index_width=30)"
   ]
  },
  {
   "cell_type": "markdown",
   "metadata": {
    "variables": {
     "display_confidence_interval(ci, metrics=research_metrics, caption='<b>Доверительные интервалы статистик</b>', caption_font_size=12, opacity=0.5, precision=1, index_width=30)": "<style type=\"text/css\">\n#T_80573 caption {\n  font-size: 12pt;\n  text-align: center;\n  color: black;\n}\n#T_80573 td {\n  text-align: center;\n  border: 1px solid lightgray;\n  border-collapse: collapse;\n}\n#T_80573 .row_heading {\n  width: 30px;\n  text-align: center;\n}\n#T_80573  td {\n  width: 30px;\n  text-align: center;\n}\n#T_80573 .col_heading {\n  width: 80px;\n  text-align: center;\n}\n#T_80573  td {\n  width: 80px;\n  text-align: center;\n}\n#T_80573_row0_col1, #T_80573_row0_col4, #T_80573_row0_col7 {\n  color: red;\n  font-weight: bold;\n}\n#T_80573_row3_col1, #T_80573_row3_col4, #T_80573_row3_col7 {\n  color: green;\n  font-weight: bold;\n}\n#T_80573_level0_row0 {\n  color: white;\n  background-color: rgb(31, 119, 180);\n  opacity: 0.5;\n  border: 1px solid lightgray;\n  border-collapse: collapse;\n}\n#T_80573_level0_row1 {\n  color: white;\n  background-color: rgb(255, 127, 14);\n  opacity: 0.5;\n  border: 1px solid lightgray;\n  border-collapse: collapse;\n}\n#T_80573_level0_row2 {\n  color: white;\n  background-color: rgb(44, 160, 44);\n  opacity: 0.5;\n  border: 1px solid lightgray;\n  border-collapse: collapse;\n}\n#T_80573_level0_row3 {\n  color: white;\n  background-color: rgb(214, 39, 40);\n  opacity: 0.5;\n  border: 1px solid lightgray;\n  border-collapse: collapse;\n}\n#T_80573_level0_col0, #T_80573_level0_col3, #T_80573_level0_col6, #T_80573_level1_col0, #T_80573_level1_col1, #T_80573_level1_col2, #T_80573_level1_col3, #T_80573_level1_col4, #T_80573_level1_col5, #T_80573_level1_col6, #T_80573_level1_col7, #T_80573_level1_col8 {\n  border: 1px solid lightgray;\n  border-collapse: collapse;\n}\n</style>\n<table id=\"T_80573\">\n  <caption><b>Доверительные интервалы статистик</b></caption>\n  <thead>\n    <tr>\n      <th class=\"index_name level0\" ></th>\n      <th id=\"T_80573_level0_col0\" class=\"col_heading level0 col0\" colspan=\"3\">Средняя скорость «к абоненту»</th>\n      <th id=\"T_80573_level0_col3\" class=\"col_heading level0 col3\" colspan=\"3\">Скорость загрузки потокового видео</th>\n      <th id=\"T_80573_level0_col6\" class=\"col_heading level0 col6\" colspan=\"3\">Скорость загрузки web-страниц через браузер</th>\n    </tr>\n    <tr>\n      <th class=\"index_name level1\" ></th>\n      <th id=\"T_80573_level1_col0\" class=\"col_heading level1 col0\" >Начало</th>\n      <th id=\"T_80573_level1_col1\" class=\"col_heading level1 col1\" >Середина</th>\n      <th id=\"T_80573_level1_col2\" class=\"col_heading level1 col2\" >Конец</th>\n      <th id=\"T_80573_level1_col3\" class=\"col_heading level1 col3\" >Начало</th>\n      <th id=\"T_80573_level1_col4\" class=\"col_heading level1 col4\" >Середина</th>\n      <th id=\"T_80573_level1_col5\" class=\"col_heading level1 col5\" >Конец</th>\n      <th id=\"T_80573_level1_col6\" class=\"col_heading level1 col6\" >Начало</th>\n      <th id=\"T_80573_level1_col7\" class=\"col_heading level1 col7\" >Середина</th>\n      <th id=\"T_80573_level1_col8\" class=\"col_heading level1 col8\" >Конец</th>\n    </tr>\n  </thead>\n  <tbody>\n    <tr>\n      <th id=\"T_80573_level0_row0\" class=\"row_heading level0 row0\" >1</th>\n      <td id=\"T_80573_row0_col0\" class=\"data row0 col0\" >703.0</td>\n      <td id=\"T_80573_row0_col1\" class=\"data row0 col1\" >937.5</td>\n      <td id=\"T_80573_row0_col2\" class=\"data row0 col2\" >1172.0</td>\n      <td id=\"T_80573_row0_col3\" class=\"data row0 col3\" >2272.2</td>\n      <td id=\"T_80573_row0_col4\" class=\"data row0 col4\" >2747.4</td>\n      <td id=\"T_80573_row0_col5\" class=\"data row0 col5\" >3222.6</td>\n      <td id=\"T_80573_row0_col6\" class=\"data row0 col6\" >905.3</td>\n      <td id=\"T_80573_row0_col7\" class=\"data row0 col7\" >1091.2</td>\n      <td id=\"T_80573_row0_col8\" class=\"data row0 col8\" >1277.1</td>\n    </tr>\n    <tr>\n      <th id=\"T_80573_level0_row1\" class=\"row_heading level0 row1\" >2</th>\n      <td id=\"T_80573_row1_col0\" class=\"data row1 col0\" >1138.4</td>\n      <td id=\"T_80573_row1_col1\" class=\"data row1 col1\" >1340.9</td>\n      <td id=\"T_80573_row1_col2\" class=\"data row1 col2\" >1543.4</td>\n      <td id=\"T_80573_row1_col3\" class=\"data row1 col3\" >2847.2</td>\n      <td id=\"T_80573_row1_col4\" class=\"data row1 col4\" >3502.7</td>\n      <td id=\"T_80573_row1_col5\" class=\"data row1 col5\" >4158.2</td>\n      <td id=\"T_80573_row1_col6\" class=\"data row1 col6\" >1268.0</td>\n      <td id=\"T_80573_row1_col7\" class=\"data row1 col7\" >1440.0</td>\n      <td id=\"T_80573_row1_col8\" class=\"data row1 col8\" >1612.0</td>\n    </tr>\n    <tr>\n      <th id=\"T_80573_level0_row2\" class=\"row_heading level0 row2\" >3</th>\n      <td id=\"T_80573_row2_col0\" class=\"data row2 col0\" >1239.5</td>\n      <td id=\"T_80573_row2_col1\" class=\"data row2 col1\" >1447.1</td>\n      <td id=\"T_80573_row2_col2\" class=\"data row2 col2\" >1654.7</td>\n      <td id=\"T_80573_row2_col3\" class=\"data row2 col3\" >3933.9</td>\n      <td id=\"T_80573_row2_col4\" class=\"data row2 col4\" >4391.2</td>\n      <td id=\"T_80573_row2_col5\" class=\"data row2 col5\" >4848.5</td>\n      <td id=\"T_80573_row2_col6\" class=\"data row2 col6\" >1454.1</td>\n      <td id=\"T_80573_row2_col7\" class=\"data row2 col7\" >1608.1</td>\n      <td id=\"T_80573_row2_col8\" class=\"data row2 col8\" >1762.1</td>\n    </tr>\n    <tr>\n      <th id=\"T_80573_level0_row3\" class=\"row_heading level0 row3\" >4</th>\n      <td id=\"T_80573_row3_col0\" class=\"data row3 col0\" >1797.2</td>\n      <td id=\"T_80573_row3_col1\" class=\"data row3 col1\" >1925.1</td>\n      <td id=\"T_80573_row3_col2\" class=\"data row3 col2\" >2053.0</td>\n      <td id=\"T_80573_row3_col3\" class=\"data row3 col3\" >5032.1</td>\n      <td id=\"T_80573_row3_col4\" class=\"data row3 col4\" >5287.3</td>\n      <td id=\"T_80573_row3_col5\" class=\"data row3 col5\" >5542.4</td>\n      <td id=\"T_80573_row3_col6\" class=\"data row3 col6\" >1851.4</td>\n      <td id=\"T_80573_row3_col7\" class=\"data row3 col7\" >1947.8</td>\n      <td id=\"T_80573_row3_col8\" class=\"data row3 col8\" >2044.1</td>\n    </tr>\n  </tbody>\n</table>\n",
     "display_confidence_interval_overlapping(ci_overlapping, metrics=research_metrics, caption='<b>Наличие перекрытия доверительных интервалов статистик</b>', opacity=0.5, index_width=30)": "<style type=\"text/css\">\n#T_1bbb5 caption {\n  font-size: 12pt;\n  text-align: center;\n  color: black;\n}\n#T_1bbb5 td {\n  text-align: center;\n  border: 1px solid lightgray;\n  border-collapse: collapse;\n}\n#T_1bbb5 .row_heading {\n  width: 30px;\n  text-align: center;\n}\n#T_1bbb5  td {\n  width: 30px;\n  text-align: center;\n}\n#T_1bbb5 .col_heading {\n  width: 130px;\n  text-align: center;\n}\n#T_1bbb5  td {\n  width: 130px;\n  text-align: center;\n}\n#T_1bbb5_row2_col0, #T_1bbb5_row2_col1, #T_1bbb5_row2_col2 {\n  color: red;\n  font-weight: bold;\n}\n#T_1bbb5_level0_row0 {\n  color: white;\n  background-color: rgb(31, 119, 180);\n  opacity: 0.5;\n  border: 1px solid lightgray;\n  border-collapse: collapse;\n}\n#T_1bbb5_level1_row0, #T_1bbb5_level0_row1 {\n  color: white;\n  background-color: rgb(255, 127, 14);\n  opacity: 0.5;\n  border: 1px solid lightgray;\n  border-collapse: collapse;\n}\n#T_1bbb5_level1_row1, #T_1bbb5_level0_row2 {\n  color: white;\n  background-color: rgb(44, 160, 44);\n  opacity: 0.5;\n  border: 1px solid lightgray;\n  border-collapse: collapse;\n}\n#T_1bbb5_level1_row2 {\n  color: white;\n  background-color: rgb(214, 39, 40);\n  opacity: 0.5;\n  border: 1px solid lightgray;\n  border-collapse: collapse;\n}\n#T_1bbb5_level0_col0, #T_1bbb5_level0_col1, #T_1bbb5_level0_col2 {\n  border: 1px solid lightgray;\n  border-collapse: collapse;\n}\n</style>\n<table id=\"T_1bbb5\">\n  <caption><b>Наличие перекрытия доверительных интервалов статистик</b></caption>\n  <thead>\n    <tr>\n      <th class=\"blank\" >&nbsp;</th>\n      <th class=\"blank level0\" >&nbsp;</th>\n      <th id=\"T_1bbb5_level0_col0\" class=\"col_heading level0 col0\" >Средняя скорость «к абоненту»</th>\n      <th id=\"T_1bbb5_level0_col1\" class=\"col_heading level0 col1\" >Скорость загрузки потокового видео</th>\n      <th id=\"T_1bbb5_level0_col2\" class=\"col_heading level0 col2\" >Скорость загрузки web-страниц через браузер</th>\n    </tr>\n  </thead>\n  <tbody>\n    <tr>\n      <th id=\"T_1bbb5_level0_row0\" class=\"row_heading level0 row0\" >1</th>\n      <th id=\"T_1bbb5_level1_row0\" class=\"row_heading level1 row0\" >2</th>\n      <td id=\"T_1bbb5_row0_col0\" class=\"data row0 col0\" >Да</td>\n      <td id=\"T_1bbb5_row0_col1\" class=\"data row0 col1\" >Да</td>\n      <td id=\"T_1bbb5_row0_col2\" class=\"data row0 col2\" >Да</td>\n    </tr>\n    <tr>\n      <th id=\"T_1bbb5_level0_row1\" class=\"row_heading level0 row1\" >2</th>\n      <th id=\"T_1bbb5_level1_row1\" class=\"row_heading level1 row1\" >3</th>\n      <td id=\"T_1bbb5_row1_col0\" class=\"data row1 col0\" >Да</td>\n      <td id=\"T_1bbb5_row1_col1\" class=\"data row1 col1\" >Да</td>\n      <td id=\"T_1bbb5_row1_col2\" class=\"data row1 col2\" >Да</td>\n    </tr>\n    <tr>\n      <th id=\"T_1bbb5_level0_row2\" class=\"row_heading level0 row2\" >3</th>\n      <th id=\"T_1bbb5_level1_row2\" class=\"row_heading level1 row2\" >4</th>\n      <td id=\"T_1bbb5_row2_col0\" class=\"data row2 col0\" >Нет</td>\n      <td id=\"T_1bbb5_row2_col1\" class=\"data row2 col1\" >Нет</td>\n      <td id=\"T_1bbb5_row2_col2\" class=\"data row2 col2\" >Нет</td>\n    </tr>\n  </tbody>\n</table>\n"
    }
   },
   "source": [
    "Based on the confidence intervals, we can make the following **conclusions**:\n",
    "1. All metrics show a tendency for the central values of statistics to increase with the growth of the customer satisfaction index.\n",
    "\n",
    "2. In accordance with the indicated tendency, the \"worst\" values of the metrics are observed in the first group `1`, and the best - in the last group `5`.\n",
    "\n",
    "It is visually noticeable that only in one pair of neighboring groups: `4` and `5`, the confidence intervals of the statistics of all metrics do not intersect. But, to be sure of this, Let's additionally display information about the presence of \"overlaps\" (common areas) of the confidence intervals of the statistics of the researched metrics of the researched groups in pairs. \"<span style=\"color: red; font-weight: bold;\">Let's highlight negative results in red</span>\" since they are the most important and informative."
   ]
  },
  {
   "cell_type": "code",
   "execution_count": null,
   "metadata": {
    "variables": {
     "display_confidence_interval(ci, metrics=research_metrics, caption='<b>Доверительные интервалы статистик</b>', caption_font_size=12, opacity=0.5, precision=1, index_width=30)": "<style type=\"text/css\">\n#T_80573 caption {\n  font-size: 12pt;\n  text-align: center;\n  color: black;\n}\n#T_80573 td {\n  text-align: center;\n  border: 1px solid lightgray;\n  border-collapse: collapse;\n}\n#T_80573 .row_heading {\n  width: 30px;\n  text-align: center;\n}\n#T_80573  td {\n  width: 30px;\n  text-align: center;\n}\n#T_80573 .col_heading {\n  width: 80px;\n  text-align: center;\n}\n#T_80573  td {\n  width: 80px;\n  text-align: center;\n}\n#T_80573_row0_col1, #T_80573_row0_col4, #T_80573_row0_col7 {\n  color: red;\n  font-weight: bold;\n}\n#T_80573_row3_col1, #T_80573_row3_col4, #T_80573_row3_col7 {\n  color: green;\n  font-weight: bold;\n}\n#T_80573_level0_row0 {\n  color: white;\n  background-color: rgb(31, 119, 180);\n  opacity: 0.5;\n  border: 1px solid lightgray;\n  border-collapse: collapse;\n}\n#T_80573_level0_row1 {\n  color: white;\n  background-color: rgb(255, 127, 14);\n  opacity: 0.5;\n  border: 1px solid lightgray;\n  border-collapse: collapse;\n}\n#T_80573_level0_row2 {\n  color: white;\n  background-color: rgb(44, 160, 44);\n  opacity: 0.5;\n  border: 1px solid lightgray;\n  border-collapse: collapse;\n}\n#T_80573_level0_row3 {\n  color: white;\n  background-color: rgb(214, 39, 40);\n  opacity: 0.5;\n  border: 1px solid lightgray;\n  border-collapse: collapse;\n}\n#T_80573_level0_col0, #T_80573_level0_col3, #T_80573_level0_col6, #T_80573_level1_col0, #T_80573_level1_col1, #T_80573_level1_col2, #T_80573_level1_col3, #T_80573_level1_col4, #T_80573_level1_col5, #T_80573_level1_col6, #T_80573_level1_col7, #T_80573_level1_col8 {\n  border: 1px solid lightgray;\n  border-collapse: collapse;\n}\n</style>\n<table id=\"T_80573\">\n  <caption><b>Доверительные интервалы статистик</b></caption>\n  <thead>\n    <tr>\n      <th class=\"index_name level0\" ></th>\n      <th id=\"T_80573_level0_col0\" class=\"col_heading level0 col0\" colspan=\"3\">Средняя скорость «к абоненту»</th>\n      <th id=\"T_80573_level0_col3\" class=\"col_heading level0 col3\" colspan=\"3\">Скорость загрузки потокового видео</th>\n      <th id=\"T_80573_level0_col6\" class=\"col_heading level0 col6\" colspan=\"3\">Скорость загрузки web-страниц через браузер</th>\n    </tr>\n    <tr>\n      <th class=\"index_name level1\" ></th>\n      <th id=\"T_80573_level1_col0\" class=\"col_heading level1 col0\" >Начало</th>\n      <th id=\"T_80573_level1_col1\" class=\"col_heading level1 col1\" >Середина</th>\n      <th id=\"T_80573_level1_col2\" class=\"col_heading level1 col2\" >Конец</th>\n      <th id=\"T_80573_level1_col3\" class=\"col_heading level1 col3\" >Начало</th>\n      <th id=\"T_80573_level1_col4\" class=\"col_heading level1 col4\" >Середина</th>\n      <th id=\"T_80573_level1_col5\" class=\"col_heading level1 col5\" >Конец</th>\n      <th id=\"T_80573_level1_col6\" class=\"col_heading level1 col6\" >Начало</th>\n      <th id=\"T_80573_level1_col7\" class=\"col_heading level1 col7\" >Середина</th>\n      <th id=\"T_80573_level1_col8\" class=\"col_heading level1 col8\" >Конец</th>\n    </tr>\n  </thead>\n  <tbody>\n    <tr>\n      <th id=\"T_80573_level0_row0\" class=\"row_heading level0 row0\" >1</th>\n      <td id=\"T_80573_row0_col0\" class=\"data row0 col0\" >703.0</td>\n      <td id=\"T_80573_row0_col1\" class=\"data row0 col1\" >937.5</td>\n      <td id=\"T_80573_row0_col2\" class=\"data row0 col2\" >1172.0</td>\n      <td id=\"T_80573_row0_col3\" class=\"data row0 col3\" >2272.2</td>\n      <td id=\"T_80573_row0_col4\" class=\"data row0 col4\" >2747.4</td>\n      <td id=\"T_80573_row0_col5\" class=\"data row0 col5\" >3222.6</td>\n      <td id=\"T_80573_row0_col6\" class=\"data row0 col6\" >905.3</td>\n      <td id=\"T_80573_row0_col7\" class=\"data row0 col7\" >1091.2</td>\n      <td id=\"T_80573_row0_col8\" class=\"data row0 col8\" >1277.1</td>\n    </tr>\n    <tr>\n      <th id=\"T_80573_level0_row1\" class=\"row_heading level0 row1\" >2</th>\n      <td id=\"T_80573_row1_col0\" class=\"data row1 col0\" >1138.4</td>\n      <td id=\"T_80573_row1_col1\" class=\"data row1 col1\" >1340.9</td>\n      <td id=\"T_80573_row1_col2\" class=\"data row1 col2\" >1543.4</td>\n      <td id=\"T_80573_row1_col3\" class=\"data row1 col3\" >2847.2</td>\n      <td id=\"T_80573_row1_col4\" class=\"data row1 col4\" >3502.7</td>\n      <td id=\"T_80573_row1_col5\" class=\"data row1 col5\" >4158.2</td>\n      <td id=\"T_80573_row1_col6\" class=\"data row1 col6\" >1268.0</td>\n      <td id=\"T_80573_row1_col7\" class=\"data row1 col7\" >1440.0</td>\n      <td id=\"T_80573_row1_col8\" class=\"data row1 col8\" >1612.0</td>\n    </tr>\n    <tr>\n      <th id=\"T_80573_level0_row2\" class=\"row_heading level0 row2\" >3</th>\n      <td id=\"T_80573_row2_col0\" class=\"data row2 col0\" >1239.5</td>\n      <td id=\"T_80573_row2_col1\" class=\"data row2 col1\" >1447.1</td>\n      <td id=\"T_80573_row2_col2\" class=\"data row2 col2\" >1654.7</td>\n      <td id=\"T_80573_row2_col3\" class=\"data row2 col3\" >3933.9</td>\n      <td id=\"T_80573_row2_col4\" class=\"data row2 col4\" >4391.2</td>\n      <td id=\"T_80573_row2_col5\" class=\"data row2 col5\" >4848.5</td>\n      <td id=\"T_80573_row2_col6\" class=\"data row2 col6\" >1454.1</td>\n      <td id=\"T_80573_row2_col7\" class=\"data row2 col7\" >1608.1</td>\n      <td id=\"T_80573_row2_col8\" class=\"data row2 col8\" >1762.1</td>\n    </tr>\n    <tr>\n      <th id=\"T_80573_level0_row3\" class=\"row_heading level0 row3\" >4</th>\n      <td id=\"T_80573_row3_col0\" class=\"data row3 col0\" >1797.2</td>\n      <td id=\"T_80573_row3_col1\" class=\"data row3 col1\" >1925.1</td>\n      <td id=\"T_80573_row3_col2\" class=\"data row3 col2\" >2053.0</td>\n      <td id=\"T_80573_row3_col3\" class=\"data row3 col3\" >5032.1</td>\n      <td id=\"T_80573_row3_col4\" class=\"data row3 col4\" >5287.3</td>\n      <td id=\"T_80573_row3_col5\" class=\"data row3 col5\" >5542.4</td>\n      <td id=\"T_80573_row3_col6\" class=\"data row3 col6\" >1851.4</td>\n      <td id=\"T_80573_row3_col7\" class=\"data row3 col7\" >1947.8</td>\n      <td id=\"T_80573_row3_col8\" class=\"data row3 col8\" >2044.1</td>\n    </tr>\n  </tbody>\n</table>\n",
     "display_confidence_interval_overlapping(ci_overlapping, metrics=research_metrics, caption='<b>Наличие перекрытия доверительных интервалов статистик</b>', opacity=0.5, index_width=30)": "<style type=\"text/css\">\n#T_1bbb5 caption {\n  font-size: 12pt;\n  text-align: center;\n  color: black;\n}\n#T_1bbb5 td {\n  text-align: center;\n  border: 1px solid lightgray;\n  border-collapse: collapse;\n}\n#T_1bbb5 .row_heading {\n  width: 30px;\n  text-align: center;\n}\n#T_1bbb5  td {\n  width: 30px;\n  text-align: center;\n}\n#T_1bbb5 .col_heading {\n  width: 130px;\n  text-align: center;\n}\n#T_1bbb5  td {\n  width: 130px;\n  text-align: center;\n}\n#T_1bbb5_row2_col0, #T_1bbb5_row2_col1, #T_1bbb5_row2_col2 {\n  color: red;\n  font-weight: bold;\n}\n#T_1bbb5_level0_row0 {\n  color: white;\n  background-color: rgb(31, 119, 180);\n  opacity: 0.5;\n  border: 1px solid lightgray;\n  border-collapse: collapse;\n}\n#T_1bbb5_level1_row0, #T_1bbb5_level0_row1 {\n  color: white;\n  background-color: rgb(255, 127, 14);\n  opacity: 0.5;\n  border: 1px solid lightgray;\n  border-collapse: collapse;\n}\n#T_1bbb5_level1_row1, #T_1bbb5_level0_row2 {\n  color: white;\n  background-color: rgb(44, 160, 44);\n  opacity: 0.5;\n  border: 1px solid lightgray;\n  border-collapse: collapse;\n}\n#T_1bbb5_level1_row2 {\n  color: white;\n  background-color: rgb(214, 39, 40);\n  opacity: 0.5;\n  border: 1px solid lightgray;\n  border-collapse: collapse;\n}\n#T_1bbb5_level0_col0, #T_1bbb5_level0_col1, #T_1bbb5_level0_col2 {\n  border: 1px solid lightgray;\n  border-collapse: collapse;\n}\n</style>\n<table id=\"T_1bbb5\">\n  <caption><b>Наличие перекрытия доверительных интервалов статистик</b></caption>\n  <thead>\n    <tr>\n      <th class=\"blank\" >&nbsp;</th>\n      <th class=\"blank level0\" >&nbsp;</th>\n      <th id=\"T_1bbb5_level0_col0\" class=\"col_heading level0 col0\" >Средняя скорость «к абоненту»</th>\n      <th id=\"T_1bbb5_level0_col1\" class=\"col_heading level0 col1\" >Скорость загрузки потокового видео</th>\n      <th id=\"T_1bbb5_level0_col2\" class=\"col_heading level0 col2\" >Скорость загрузки web-страниц через браузер</th>\n    </tr>\n  </thead>\n  <tbody>\n    <tr>\n      <th id=\"T_1bbb5_level0_row0\" class=\"row_heading level0 row0\" >1</th>\n      <th id=\"T_1bbb5_level1_row0\" class=\"row_heading level1 row0\" >2</th>\n      <td id=\"T_1bbb5_row0_col0\" class=\"data row0 col0\" >Да</td>\n      <td id=\"T_1bbb5_row0_col1\" class=\"data row0 col1\" >Да</td>\n      <td id=\"T_1bbb5_row0_col2\" class=\"data row0 col2\" >Да</td>\n    </tr>\n    <tr>\n      <th id=\"T_1bbb5_level0_row1\" class=\"row_heading level0 row1\" >2</th>\n      <th id=\"T_1bbb5_level1_row1\" class=\"row_heading level1 row1\" >3</th>\n      <td id=\"T_1bbb5_row1_col0\" class=\"data row1 col0\" >Да</td>\n      <td id=\"T_1bbb5_row1_col1\" class=\"data row1 col1\" >Да</td>\n      <td id=\"T_1bbb5_row1_col2\" class=\"data row1 col2\" >Да</td>\n    </tr>\n    <tr>\n      <th id=\"T_1bbb5_level0_row2\" class=\"row_heading level0 row2\" >3</th>\n      <th id=\"T_1bbb5_level1_row2\" class=\"row_heading level1 row2\" >4</th>\n      <td id=\"T_1bbb5_row2_col0\" class=\"data row2 col0\" >Нет</td>\n      <td id=\"T_1bbb5_row2_col1\" class=\"data row2 col1\" >Нет</td>\n      <td id=\"T_1bbb5_row2_col2\" class=\"data row2 col2\" >Нет</td>\n    </tr>\n  </tbody>\n</table>\n"
    }
   },
   "outputs": [],
   "source": [
    "display_confidence_interval_overlapping(ci_overlapping, metrics=research_metrics, caption='<b>Overlapping confidence intervals of the statistics</b>', opacity=0.5, index_width=30)"
   ]
  },
  {
   "cell_type": "markdown",
   "metadata": {
    "variables": {
     "display_confidence_interval(ci, metrics=research_metrics, caption='<b>Доверительные интервалы статистик</b>', caption_font_size=12, opacity=0.5, precision=1, index_width=30)": "<style type=\"text/css\">\n#T_80573 caption {\n  font-size: 12pt;\n  text-align: center;\n  color: black;\n}\n#T_80573 td {\n  text-align: center;\n  border: 1px solid lightgray;\n  border-collapse: collapse;\n}\n#T_80573 .row_heading {\n  width: 30px;\n  text-align: center;\n}\n#T_80573  td {\n  width: 30px;\n  text-align: center;\n}\n#T_80573 .col_heading {\n  width: 80px;\n  text-align: center;\n}\n#T_80573  td {\n  width: 80px;\n  text-align: center;\n}\n#T_80573_row0_col1, #T_80573_row0_col4, #T_80573_row0_col7 {\n  color: red;\n  font-weight: bold;\n}\n#T_80573_row3_col1, #T_80573_row3_col4, #T_80573_row3_col7 {\n  color: green;\n  font-weight: bold;\n}\n#T_80573_level0_row0 {\n  color: white;\n  background-color: rgb(31, 119, 180);\n  opacity: 0.5;\n  border: 1px solid lightgray;\n  border-collapse: collapse;\n}\n#T_80573_level0_row1 {\n  color: white;\n  background-color: rgb(255, 127, 14);\n  opacity: 0.5;\n  border: 1px solid lightgray;\n  border-collapse: collapse;\n}\n#T_80573_level0_row2 {\n  color: white;\n  background-color: rgb(44, 160, 44);\n  opacity: 0.5;\n  border: 1px solid lightgray;\n  border-collapse: collapse;\n}\n#T_80573_level0_row3 {\n  color: white;\n  background-color: rgb(214, 39, 40);\n  opacity: 0.5;\n  border: 1px solid lightgray;\n  border-collapse: collapse;\n}\n#T_80573_level0_col0, #T_80573_level0_col3, #T_80573_level0_col6, #T_80573_level1_col0, #T_80573_level1_col1, #T_80573_level1_col2, #T_80573_level1_col3, #T_80573_level1_col4, #T_80573_level1_col5, #T_80573_level1_col6, #T_80573_level1_col7, #T_80573_level1_col8 {\n  border: 1px solid lightgray;\n  border-collapse: collapse;\n}\n</style>\n<table id=\"T_80573\">\n  <caption><b>Доверительные интервалы статистик</b></caption>\n  <thead>\n    <tr>\n      <th class=\"index_name level0\" ></th>\n      <th id=\"T_80573_level0_col0\" class=\"col_heading level0 col0\" colspan=\"3\">Средняя скорость «к абоненту»</th>\n      <th id=\"T_80573_level0_col3\" class=\"col_heading level0 col3\" colspan=\"3\">Скорость загрузки потокового видео</th>\n      <th id=\"T_80573_level0_col6\" class=\"col_heading level0 col6\" colspan=\"3\">Скорость загрузки web-страниц через браузер</th>\n    </tr>\n    <tr>\n      <th class=\"index_name level1\" ></th>\n      <th id=\"T_80573_level1_col0\" class=\"col_heading level1 col0\" >Начало</th>\n      <th id=\"T_80573_level1_col1\" class=\"col_heading level1 col1\" >Середина</th>\n      <th id=\"T_80573_level1_col2\" class=\"col_heading level1 col2\" >Конец</th>\n      <th id=\"T_80573_level1_col3\" class=\"col_heading level1 col3\" >Начало</th>\n      <th id=\"T_80573_level1_col4\" class=\"col_heading level1 col4\" >Середина</th>\n      <th id=\"T_80573_level1_col5\" class=\"col_heading level1 col5\" >Конец</th>\n      <th id=\"T_80573_level1_col6\" class=\"col_heading level1 col6\" >Начало</th>\n      <th id=\"T_80573_level1_col7\" class=\"col_heading level1 col7\" >Середина</th>\n      <th id=\"T_80573_level1_col8\" class=\"col_heading level1 col8\" >Конец</th>\n    </tr>\n  </thead>\n  <tbody>\n    <tr>\n      <th id=\"T_80573_level0_row0\" class=\"row_heading level0 row0\" >1</th>\n      <td id=\"T_80573_row0_col0\" class=\"data row0 col0\" >703.0</td>\n      <td id=\"T_80573_row0_col1\" class=\"data row0 col1\" >937.5</td>\n      <td id=\"T_80573_row0_col2\" class=\"data row0 col2\" >1172.0</td>\n      <td id=\"T_80573_row0_col3\" class=\"data row0 col3\" >2272.2</td>\n      <td id=\"T_80573_row0_col4\" class=\"data row0 col4\" >2747.4</td>\n      <td id=\"T_80573_row0_col5\" class=\"data row0 col5\" >3222.6</td>\n      <td id=\"T_80573_row0_col6\" class=\"data row0 col6\" >905.3</td>\n      <td id=\"T_80573_row0_col7\" class=\"data row0 col7\" >1091.2</td>\n      <td id=\"T_80573_row0_col8\" class=\"data row0 col8\" >1277.1</td>\n    </tr>\n    <tr>\n      <th id=\"T_80573_level0_row1\" class=\"row_heading level0 row1\" >2</th>\n      <td id=\"T_80573_row1_col0\" class=\"data row1 col0\" >1138.4</td>\n      <td id=\"T_80573_row1_col1\" class=\"data row1 col1\" >1340.9</td>\n      <td id=\"T_80573_row1_col2\" class=\"data row1 col2\" >1543.4</td>\n      <td id=\"T_80573_row1_col3\" class=\"data row1 col3\" >2847.2</td>\n      <td id=\"T_80573_row1_col4\" class=\"data row1 col4\" >3502.7</td>\n      <td id=\"T_80573_row1_col5\" class=\"data row1 col5\" >4158.2</td>\n      <td id=\"T_80573_row1_col6\" class=\"data row1 col6\" >1268.0</td>\n      <td id=\"T_80573_row1_col7\" class=\"data row1 col7\" >1440.0</td>\n      <td id=\"T_80573_row1_col8\" class=\"data row1 col8\" >1612.0</td>\n    </tr>\n    <tr>\n      <th id=\"T_80573_level0_row2\" class=\"row_heading level0 row2\" >3</th>\n      <td id=\"T_80573_row2_col0\" class=\"data row2 col0\" >1239.5</td>\n      <td id=\"T_80573_row2_col1\" class=\"data row2 col1\" >1447.1</td>\n      <td id=\"T_80573_row2_col2\" class=\"data row2 col2\" >1654.7</td>\n      <td id=\"T_80573_row2_col3\" class=\"data row2 col3\" >3933.9</td>\n      <td id=\"T_80573_row2_col4\" class=\"data row2 col4\" >4391.2</td>\n      <td id=\"T_80573_row2_col5\" class=\"data row2 col5\" >4848.5</td>\n      <td id=\"T_80573_row2_col6\" class=\"data row2 col6\" >1454.1</td>\n      <td id=\"T_80573_row2_col7\" class=\"data row2 col7\" >1608.1</td>\n      <td id=\"T_80573_row2_col8\" class=\"data row2 col8\" >1762.1</td>\n    </tr>\n    <tr>\n      <th id=\"T_80573_level0_row3\" class=\"row_heading level0 row3\" >4</th>\n      <td id=\"T_80573_row3_col0\" class=\"data row3 col0\" >1797.2</td>\n      <td id=\"T_80573_row3_col1\" class=\"data row3 col1\" >1925.1</td>\n      <td id=\"T_80573_row3_col2\" class=\"data row3 col2\" >2053.0</td>\n      <td id=\"T_80573_row3_col3\" class=\"data row3 col3\" >5032.1</td>\n      <td id=\"T_80573_row3_col4\" class=\"data row3 col4\" >5287.3</td>\n      <td id=\"T_80573_row3_col5\" class=\"data row3 col5\" >5542.4</td>\n      <td id=\"T_80573_row3_col6\" class=\"data row3 col6\" >1851.4</td>\n      <td id=\"T_80573_row3_col7\" class=\"data row3 col7\" >1947.8</td>\n      <td id=\"T_80573_row3_col8\" class=\"data row3 col8\" >2044.1</td>\n    </tr>\n  </tbody>\n</table>\n",
     "display_confidence_interval_overlapping(ci_overlapping, metrics=research_metrics, caption='<b>Наличие перекрытия доверительных интервалов статистик</b>', opacity=0.5, index_width=30)": "<style type=\"text/css\">\n#T_1bbb5 caption {\n  font-size: 12pt;\n  text-align: center;\n  color: black;\n}\n#T_1bbb5 td {\n  text-align: center;\n  border: 1px solid lightgray;\n  border-collapse: collapse;\n}\n#T_1bbb5 .row_heading {\n  width: 30px;\n  text-align: center;\n}\n#T_1bbb5  td {\n  width: 30px;\n  text-align: center;\n}\n#T_1bbb5 .col_heading {\n  width: 130px;\n  text-align: center;\n}\n#T_1bbb5  td {\n  width: 130px;\n  text-align: center;\n}\n#T_1bbb5_row2_col0, #T_1bbb5_row2_col1, #T_1bbb5_row2_col2 {\n  color: red;\n  font-weight: bold;\n}\n#T_1bbb5_level0_row0 {\n  color: white;\n  background-color: rgb(31, 119, 180);\n  opacity: 0.5;\n  border: 1px solid lightgray;\n  border-collapse: collapse;\n}\n#T_1bbb5_level1_row0, #T_1bbb5_level0_row1 {\n  color: white;\n  background-color: rgb(255, 127, 14);\n  opacity: 0.5;\n  border: 1px solid lightgray;\n  border-collapse: collapse;\n}\n#T_1bbb5_level1_row1, #T_1bbb5_level0_row2 {\n  color: white;\n  background-color: rgb(44, 160, 44);\n  opacity: 0.5;\n  border: 1px solid lightgray;\n  border-collapse: collapse;\n}\n#T_1bbb5_level1_row2 {\n  color: white;\n  background-color: rgb(214, 39, 40);\n  opacity: 0.5;\n  border: 1px solid lightgray;\n  border-collapse: collapse;\n}\n#T_1bbb5_level0_col0, #T_1bbb5_level0_col1, #T_1bbb5_level0_col2 {\n  border: 1px solid lightgray;\n  border-collapse: collapse;\n}\n</style>\n<table id=\"T_1bbb5\">\n  <caption><b>Наличие перекрытия доверительных интервалов статистик</b></caption>\n  <thead>\n    <tr>\n      <th class=\"blank\" >&nbsp;</th>\n      <th class=\"blank level0\" >&nbsp;</th>\n      <th id=\"T_1bbb5_level0_col0\" class=\"col_heading level0 col0\" >Средняя скорость «к абоненту»</th>\n      <th id=\"T_1bbb5_level0_col1\" class=\"col_heading level0 col1\" >Скорость загрузки потокового видео</th>\n      <th id=\"T_1bbb5_level0_col2\" class=\"col_heading level0 col2\" >Скорость загрузки web-страниц через браузер</th>\n    </tr>\n  </thead>\n  <tbody>\n    <tr>\n      <th id=\"T_1bbb5_level0_row0\" class=\"row_heading level0 row0\" >1</th>\n      <th id=\"T_1bbb5_level1_row0\" class=\"row_heading level1 row0\" >2</th>\n      <td id=\"T_1bbb5_row0_col0\" class=\"data row0 col0\" >Да</td>\n      <td id=\"T_1bbb5_row0_col1\" class=\"data row0 col1\" >Да</td>\n      <td id=\"T_1bbb5_row0_col2\" class=\"data row0 col2\" >Да</td>\n    </tr>\n    <tr>\n      <th id=\"T_1bbb5_level0_row1\" class=\"row_heading level0 row1\" >2</th>\n      <th id=\"T_1bbb5_level1_row1\" class=\"row_heading level1 row1\" >3</th>\n      <td id=\"T_1bbb5_row1_col0\" class=\"data row1 col0\" >Да</td>\n      <td id=\"T_1bbb5_row1_col1\" class=\"data row1 col1\" >Да</td>\n      <td id=\"T_1bbb5_row1_col2\" class=\"data row1 col2\" >Да</td>\n    </tr>\n    <tr>\n      <th id=\"T_1bbb5_level0_row2\" class=\"row_heading level0 row2\" >3</th>\n      <th id=\"T_1bbb5_level1_row2\" class=\"row_heading level1 row2\" >4</th>\n      <td id=\"T_1bbb5_row2_col0\" class=\"data row2 col0\" >Нет</td>\n      <td id=\"T_1bbb5_row2_col1\" class=\"data row2 col1\" >Нет</td>\n      <td id=\"T_1bbb5_row2_col2\" class=\"data row2 col2\" >Нет</td>\n    </tr>\n  </tbody>\n</table>\n"
    }
   },
   "source": [
    "Based on the obtained results on the presence of \"overlapping\" confidence intervals, the following conclusions can be made:\n",
    "Indeed, the confidence intervals of the statistics of all metrics **do not overlap** only for the pair of groups `4` and `5`. That is, only with respect to this pair of groups can a conclusion be made about a significant statistical difference in the metrics under research (the metrics of group `4` are smaller than those of group `5`). With respect to the remaining pairs of groups, it is impossible to make a conclusion about the significance of the difference in the metrics of these groups based on exploratory analysis - statistical tests must be carried out."
   ]
  },
  {
   "cell_type": "markdown",
   "metadata": {},
   "source": [
    "### 8.4. Statistical tests\n",
    "\n",
    "Based on exploratory analysis, we have established that there is a clear tendency for the metric values to increase with increasing customer satisfaction. That is, to answer the 1st question, we should perform \"one-sided\" tests of comparison of statistics for adjacent groups and use the test. The first group in the tested pair will be the group of customers with a lower level of satisfaction, so Let's perform \"left-sided\" tests."
   ]
  },
  {
   "cell_type": "code",
   "execution_count": null,
   "metadata": {},
   "outputs": [],
   "source": [
    "# Use \"left-handed\" test for all metrics\n",
    "alternatives = research_metrics['impact'].apply(lambda impact: 'less')\n",
    "# Create a dataframe for test results\n",
    "pvalues = pd.DataFrame(index=[', '.join(group_pair) for group_pair in group_pairs], columns=research_metrics.index)\n",
    "# On the zero distribution, Let's mark the region located to the left of the observed value of the statistic\n",
    "mark_statistic = alternatives.apply(lambda impact: 'tomin')"
   ]
  },
  {
   "cell_type": "markdown",
   "metadata": {
    "variables": {
     "groups[0]": "1",
     "groups[1]": "2"
    }
   },
   "source": [
    "#### 8.4.1. Statistical test for the groups 1 and 2\n",
    "\n",
    "For all metrics, Let's take the assumption as the `null hypothesis` that the values of the statistics of group `1` are **not less than** the values of the statistics of group `2`. And as the `alternative hypothesis`, the opposite statement that the values of the statistics of group `1` are still **less than** the values of the statistics of group `2`. In mathematical form, the test statistics and the formulated hypotheses can be written as follows:\n",
    "\n",
    "$$\n",
    "\\Delta \\hat{TM}=\\hat{TM}_{1}-\\hat{TM}_{2}\\\\\n",
    "H_0:\\Delta \\hat{TM}≥0\\\\\n",
    "H_1:\\Delta \\hat{TM}<0\n",
    "$$\n",
    "\n",
    "Let's perform testing and visualize the results by constructing histograms of the null distribution of the test statistics of the metrics under research. On the histograms, we mark the observed value of the test statistic with a vertical dashed line and color the areas of the distributions that are used to calculate the `p-values` (from the lines of the observed values of the test statistic)."
   ]
  },
  {
   "cell_type": "code",
   "execution_count": null,
   "metadata": {},
   "outputs": [],
   "source": [
    "# Test data preparation\n",
    "group_pair_index = 0\n",
    "test_data = research_data.loc[group_pairs[group_pair_index]]\n",
    "# Perform testing\n",
    "pvalues.loc[', '.join(group_pairs[group_pair_index])], null_distributions, statistics = permutation_test(\n",
    "    test_data, research_metrics['test statistic'], alternatives)\n",
    "# Output of the density histogram of the null distribution\n",
    "plot_metric_histograms(\n",
    "    null_distributions, statistic=statistics, metrics=research_metrics,\n",
    "    title=f'<b>Density of the null probability distribution of the test statistic</b>', title_y=0.9,\n",
    "    height=300, n_cols=3, opacity=0.5,\n",
    "    histnorm='probability density',\n",
    "    add_kde=True, add_statistic=True, mark_statistic=mark_statistic,\n",
    "    horizontal_spacing=0.08, vertical_spacing=0.07)"
   ]
  },
  {
   "cell_type": "markdown",
   "metadata": {
    "variables": {
     "display_pvalues(pvalues.loc[', '.join(group_pairs[group_pair_index])].to_frame().T, metrics=research_metrics, alpha=alpha, caption=f'<b>Значения p-value статистического теста</b>', col_width=160)": "<style type=\"text/css\">\n#T_7798f caption {\n  font-size: 12pt;\n  text-align: center;\n  color: black;\n}\n#T_7798f td {\n  text-align: center;\n  border: 1px solid lightgray;\n  border-collapse: collapse;\n}\n#T_7798f .row_heading {\n  width: 120px;\n  text-align: center;\n}\n#T_7798f  td {\n  width: 120px;\n  text-align: center;\n}\n#T_7798f .col_heading {\n  width: 160px;\n  text-align: center;\n}\n#T_7798f  td {\n  width: 160px;\n  text-align: center;\n}\n#T_7798f_row0_col0, #T_7798f_row0_col1, #T_7798f_row0_col2 {\n  color: red;\n  font-weight: bold;\n}\n#T_7798f_level0_col0, #T_7798f_level0_col1, #T_7798f_level0_col2 {\n  border: 1px solid lightgray;\n  border-collapse: collapse;\n}\n</style>\n<table id=\"T_7798f\">\n  <caption><b>Значения p-value статистического теста</b></caption>\n  <thead>\n    <tr>\n      <th id=\"T_7798f_level0_col0\" class=\"col_heading level0 col0\" >Средняя скорость «к абоненту»</th>\n      <th id=\"T_7798f_level0_col1\" class=\"col_heading level0 col1\" >Скорость загрузки потокового видео</th>\n      <th id=\"T_7798f_level0_col2\" class=\"col_heading level0 col2\" >Скорость загрузки web-страниц через браузер</th>\n    </tr>\n  </thead>\n  <tbody>\n    <tr>\n      <td id=\"T_7798f_row0_col0\" class=\"data row0 col0\" >0.0013</td>\n      <td id=\"T_7798f_row0_col1\" class=\"data row0 col1\" >0.0007</td>\n      <td id=\"T_7798f_row0_col2\" class=\"data row0 col2\" >0.0032</td>\n    </tr>\n  </tbody>\n</table>\n"
    }
   },
   "source": [
    "Let's present the obtained `p-values` in a tabular form, marking in \"<span style=\"color: red; font-weight: bold;\">red</span>\" those values that are below the significance level."
   ]
  },
  {
   "cell_type": "code",
   "execution_count": null,
   "metadata": {
    "variables": {
     "display_pvalues(pvalues.loc[', '.join(group_pairs[group_pair_index])].to_frame().T, metrics=research_metrics, alpha=alpha, caption=f'<b>Значения p-value статистического теста</b>', col_width=160)": "<style type=\"text/css\">\n#T_09737 caption {\n  font-size: 12pt;\n  text-align: center;\n  color: black;\n}\n#T_09737 td {\n  text-align: center;\n  border: 1px solid lightgray;\n  border-collapse: collapse;\n}\n#T_09737 .row_heading {\n  width: 120px;\n  text-align: center;\n}\n#T_09737  td {\n  width: 120px;\n  text-align: center;\n}\n#T_09737 .col_heading {\n  width: 160px;\n  text-align: center;\n}\n#T_09737  td {\n  width: 160px;\n  text-align: center;\n}\n#T_09737_row0_col0, #T_09737_row0_col1, #T_09737_row0_col2 {\n  color: red;\n  font-weight: bold;\n}\n#T_09737_level0_col0, #T_09737_level0_col1, #T_09737_level0_col2 {\n  border: 1px solid lightgray;\n  border-collapse: collapse;\n}\n</style>\n<table id=\"T_09737\">\n  <caption><b>Значения p-value статистического теста</b></caption>\n  <thead>\n    <tr>\n      <th id=\"T_09737_level0_col0\" class=\"col_heading level0 col0\" >Средняя скорость «к абоненту»</th>\n      <th id=\"T_09737_level0_col1\" class=\"col_heading level0 col1\" >Скорость загрузки потокового видео</th>\n      <th id=\"T_09737_level0_col2\" class=\"col_heading level0 col2\" >Скорость загрузки web-страниц через браузер</th>\n    </tr>\n  </thead>\n  <tbody>\n    <tr>\n      <td id=\"T_09737_row0_col0\" class=\"data row0 col0\" >0.0051</td>\n      <td id=\"T_09737_row0_col1\" class=\"data row0 col1\" >0.0057</td>\n      <td id=\"T_09737_row0_col2\" class=\"data row0 col2\" >0.0090</td>\n    </tr>\n  </tbody>\n</table>\n",
     "group_pairs[group_pair_index][0]": "1",
     "group_pairs[group_pair_index][1]": "2"
    }
   },
   "outputs": [],
   "source": [
    "display_pvalues(pvalues.loc[', '.join(group_pairs[group_pair_index])].to_frame().T, metrics=research_metrics, alpha=alpha, caption=f'<b>Test p-values</b>', col_width=160)"
   ]
  },
  {
   "cell_type": "markdown",
   "metadata": {
    "variables": {
     "display_pvalues(pvalues.loc[', '.join(group_pairs[group_pair_index])].to_frame().T, metrics=research_metrics, alpha=alpha, caption=f'<b>Значения p-value статистического теста</b>', col_width=160)": "<style type=\"text/css\">\n#T_09737 caption {\n  font-size: 12pt;\n  text-align: center;\n  color: black;\n}\n#T_09737 td {\n  text-align: center;\n  border: 1px solid lightgray;\n  border-collapse: collapse;\n}\n#T_09737 .row_heading {\n  width: 120px;\n  text-align: center;\n}\n#T_09737  td {\n  width: 120px;\n  text-align: center;\n}\n#T_09737 .col_heading {\n  width: 160px;\n  text-align: center;\n}\n#T_09737  td {\n  width: 160px;\n  text-align: center;\n}\n#T_09737_row0_col0, #T_09737_row0_col1, #T_09737_row0_col2 {\n  color: red;\n  font-weight: bold;\n}\n#T_09737_level0_col0, #T_09737_level0_col1, #T_09737_level0_col2 {\n  border: 1px solid lightgray;\n  border-collapse: collapse;\n}\n</style>\n<table id=\"T_09737\">\n  <caption><b>Значения p-value статистического теста</b></caption>\n  <thead>\n    <tr>\n      <th id=\"T_09737_level0_col0\" class=\"col_heading level0 col0\" >Средняя скорость «к абоненту»</th>\n      <th id=\"T_09737_level0_col1\" class=\"col_heading level0 col1\" >Скорость загрузки потокового видео</th>\n      <th id=\"T_09737_level0_col2\" class=\"col_heading level0 col2\" >Скорость загрузки web-страниц через браузер</th>\n    </tr>\n  </thead>\n  <tbody>\n    <tr>\n      <td id=\"T_09737_row0_col0\" class=\"data row0 col0\" >0.0051</td>\n      <td id=\"T_09737_row0_col1\" class=\"data row0 col1\" >0.0057</td>\n      <td id=\"T_09737_row0_col2\" class=\"data row0 col2\" >0.0090</td>\n    </tr>\n  </tbody>\n</table>\n",
     "group_pairs[group_pair_index][0]": "1",
     "group_pairs[group_pair_index][1]": "2"
    }
   },
   "source": [
    "**Conclusions:**\n",
    "\n",
    "1. Since the `p-values` obtained as a result of the test for all the metrics under research are **less** than the significance level, we **can reject the null hypothesis** in relation to them and, accordingly, Let's assume that the values of all the metrics under research for group `1` are **less** than for group `2`.\n",
    "\n",
    "2. It should be noted that the **confidence level** for the result obtained is very **high** - about `99%`."
   ]
  },
  {
   "cell_type": "markdown",
   "metadata": {
    "variables": {
     "groups[1]": "2",
     "groups[2]": "3"
    }
   },
   "source": [
    "#### 8.4.2. Statistical test for the groups 2 and 3\n",
    "\n",
    "For all metrics, Let's take the assumption as a `null hypothesis` that the values of the statistics of group `2` are **not less than** the values of the statistics of group `3`. And as an `alternative hypothesis`, Let's take the opposite statement that the values of the statistics of group `2` are still **less than** the values of the statistics of group `3`. In mathematical form, the test statistics and the formulated hypotheses can be written as follows:\n",
    "\n",
    "$$\n",
    "\\Delta \\hat{TM}=\\hat{TM}_{2}-\\hat{TM}_{3}\\\\\n",
    "H_0:\\Delta \\hat{TM}≥0\\\\\n",
    "H_1:\\Delta \\hat{TM}<0\n",
    "$$\n",
    "\n",
    "Let's perform testing and visualize the results by constructing histograms of the null distribution of the test statistics of the metrics under research. On the histograms, we mark the observed value of the test statistic with a vertical dashed line and color the areas of the distributions that are used to calculate the `p-values` (from the lines of the observed values of the test statistic)."
   ]
  },
  {
   "cell_type": "code",
   "execution_count": null,
   "metadata": {
    "scrolled": true
   },
   "outputs": [],
   "source": [
    "# Test data preparation\n",
    "group_pair_index = 1\n",
    "test_data = research_data.loc[group_pairs[group_pair_index]]\n",
    "# Perform testing\n",
    "pvalues.loc[', '.join(group_pairs[group_pair_index])], null_distributions, statistics = permutation_test(\n",
    "    test_data, research_metrics['test statistic'], alternatives)\n",
    "# Output of the density histogram of the null distribution\n",
    "plot_metric_histograms(\n",
    "    null_distributions, statistic=statistics, metrics=research_metrics,\n",
    "    title=f'<b>Density of the null probability distribution of the test statistic</b>', title_y=0.9,\n",
    "    height=300, n_cols=3, opacity=0.5,\n",
    "    histnorm='probability density',\n",
    "    add_kde=True, add_statistic=True, mark_statistic=mark_statistic,\n",
    "    horizontal_spacing=0.08, vertical_spacing=0.07)"
   ]
  },
  {
   "cell_type": "markdown",
   "metadata": {
    "variables": {
     "display_pvalues(pvalues.loc[', '.join(group_pairs[group_pair_index])].to_frame().T, metrics=research_metrics, alpha=alpha, caption=f'<b>Значения p-value статистического теста</b>', col_width=160)": "<style type=\"text/css\">\n#T_7798f caption {\n  font-size: 12pt;\n  text-align: center;\n  color: black;\n}\n#T_7798f td {\n  text-align: center;\n  border: 1px solid lightgray;\n  border-collapse: collapse;\n}\n#T_7798f .row_heading {\n  width: 120px;\n  text-align: center;\n}\n#T_7798f  td {\n  width: 120px;\n  text-align: center;\n}\n#T_7798f .col_heading {\n  width: 160px;\n  text-align: center;\n}\n#T_7798f  td {\n  width: 160px;\n  text-align: center;\n}\n#T_7798f_row0_col0, #T_7798f_row0_col1, #T_7798f_row0_col2 {\n  color: red;\n  font-weight: bold;\n}\n#T_7798f_level0_col0, #T_7798f_level0_col1, #T_7798f_level0_col2 {\n  border: 1px solid lightgray;\n  border-collapse: collapse;\n}\n</style>\n<table id=\"T_7798f\">\n  <caption><b>Значения p-value статистического теста</b></caption>\n  <thead>\n    <tr>\n      <th id=\"T_7798f_level0_col0\" class=\"col_heading level0 col0\" >Средняя скорость «к абоненту»</th>\n      <th id=\"T_7798f_level0_col1\" class=\"col_heading level0 col1\" >Скорость загрузки потокового видео</th>\n      <th id=\"T_7798f_level0_col2\" class=\"col_heading level0 col2\" >Скорость загрузки web-страниц через браузер</th>\n    </tr>\n  </thead>\n  <tbody>\n    <tr>\n      <td id=\"T_7798f_row0_col0\" class=\"data row0 col0\" >0.0013</td>\n      <td id=\"T_7798f_row0_col1\" class=\"data row0 col1\" >0.0007</td>\n      <td id=\"T_7798f_row0_col2\" class=\"data row0 col2\" >0.0032</td>\n    </tr>\n  </tbody>\n</table>\n"
    }
   },
   "source": [
    "Let's present the obtained `p-values` in a tabular form, marking in \"<span style=\"color: red; font-weight: bold;\">red</span>\" those values that are below the significance level."
   ]
  },
  {
   "cell_type": "code",
   "execution_count": null,
   "metadata": {
    "variables": {
     "display_pvalues(pvalues.loc[', '.join(group_pairs[group_pair_index])].to_frame().T, metrics=research_metrics, alpha=alpha, caption=f'<b>Значения p-value статистического теста</b>', col_width=160)": "<style type=\"text/css\">\n#T_fcc4b caption {\n  font-size: 12pt;\n  text-align: center;\n  color: black;\n}\n#T_fcc4b td {\n  text-align: center;\n  border: 1px solid lightgray;\n  border-collapse: collapse;\n}\n#T_fcc4b .row_heading {\n  width: 120px;\n  text-align: center;\n}\n#T_fcc4b  td {\n  width: 120px;\n  text-align: center;\n}\n#T_fcc4b .col_heading {\n  width: 160px;\n  text-align: center;\n}\n#T_fcc4b  td {\n  width: 160px;\n  text-align: center;\n}\n#T_fcc4b_row0_col1 {\n  color: red;\n  font-weight: bold;\n}\n#T_fcc4b_level0_col0, #T_fcc4b_level0_col1, #T_fcc4b_level0_col2 {\n  border: 1px solid lightgray;\n  border-collapse: collapse;\n}\n</style>\n<table id=\"T_fcc4b\">\n  <caption><b>Значения p-value статистического теста</b></caption>\n  <thead>\n    <tr>\n      <th id=\"T_fcc4b_level0_col0\" class=\"col_heading level0 col0\" >Средняя скорость «к абоненту»</th>\n      <th id=\"T_fcc4b_level0_col1\" class=\"col_heading level0 col1\" >Скорость загрузки потокового видео</th>\n      <th id=\"T_fcc4b_level0_col2\" class=\"col_heading level0 col2\" >Скорость загрузки web-страниц через браузер</th>\n    </tr>\n  </thead>\n  <tbody>\n    <tr>\n      <td id=\"T_fcc4b_row0_col0\" class=\"data row0 col0\" >0.2064</td>\n      <td id=\"T_fcc4b_row0_col1\" class=\"data row0 col1\" >0.0202</td>\n      <td id=\"T_fcc4b_row0_col2\" class=\"data row0 col2\" >0.1540</td>\n    </tr>\n  </tbody>\n</table>\n",
     "group_pairs[group_pair_index][0]": "2",
     "group_pairs[group_pair_index][1]": "3"
    }
   },
   "outputs": [],
   "source": [
    "display_pvalues(pvalues.loc[', '.join(group_pairs[group_pair_index])].to_frame().T, metrics=research_metrics, alpha=alpha, caption=f'<b>Test p-values</b>', col_width=160)"
   ]
  },
  {
   "cell_type": "markdown",
   "metadata": {
    "variables": {
     "display_pvalues(pvalues.loc[', '.join(group_pairs[group_pair_index])].to_frame().T, metrics=research_metrics, alpha=alpha, caption=f'<b>Значения p-value статистического теста</b>', col_width=160)": "<style type=\"text/css\">\n#T_fcc4b caption {\n  font-size: 12pt;\n  text-align: center;\n  color: black;\n}\n#T_fcc4b td {\n  text-align: center;\n  border: 1px solid lightgray;\n  border-collapse: collapse;\n}\n#T_fcc4b .row_heading {\n  width: 120px;\n  text-align: center;\n}\n#T_fcc4b  td {\n  width: 120px;\n  text-align: center;\n}\n#T_fcc4b .col_heading {\n  width: 160px;\n  text-align: center;\n}\n#T_fcc4b  td {\n  width: 160px;\n  text-align: center;\n}\n#T_fcc4b_row0_col1 {\n  color: red;\n  font-weight: bold;\n}\n#T_fcc4b_level0_col0, #T_fcc4b_level0_col1, #T_fcc4b_level0_col2 {\n  border: 1px solid lightgray;\n  border-collapse: collapse;\n}\n</style>\n<table id=\"T_fcc4b\">\n  <caption><b>Значения p-value статистического теста</b></caption>\n  <thead>\n    <tr>\n      <th id=\"T_fcc4b_level0_col0\" class=\"col_heading level0 col0\" >Средняя скорость «к абоненту»</th>\n      <th id=\"T_fcc4b_level0_col1\" class=\"col_heading level0 col1\" >Скорость загрузки потокового видео</th>\n      <th id=\"T_fcc4b_level0_col2\" class=\"col_heading level0 col2\" >Скорость загрузки web-страниц через браузер</th>\n    </tr>\n  </thead>\n  <tbody>\n    <tr>\n      <td id=\"T_fcc4b_row0_col0\" class=\"data row0 col0\" >0.2064</td>\n      <td id=\"T_fcc4b_row0_col1\" class=\"data row0 col1\" >0.0202</td>\n      <td id=\"T_fcc4b_row0_col2\" class=\"data row0 col2\" >0.1540</td>\n    </tr>\n  </tbody>\n</table>\n",
     "group_pairs[group_pair_index][0]": "2",
     "group_pairs[group_pair_index][1]": "3"
    }
   },
   "source": [
    "**Conclusions:**\n",
    "\n",
    "1. Since the `p-value` obtained as a result of the test for the `Video Streaming Download Throughput` metric is **less than** the significance level, we **cannot reject the null hypothesis** with respect to this metric and, accordingly, Let's assume that the values of this metric in group `2` are **less than** those of group `3`.\n",
    "\n",
    "2. It should be noted that the `p-value` for the `Downlink Throughput` and `Web Page Download Throughput` metrics is significantly greater than the significance level, which indicates that the values of these metrics in group `2` are close to the values of group `3`."
   ]
  },
  {
   "cell_type": "markdown",
   "metadata": {
    "variables": {
     "groups[2]": "3",
     "groups[3]": "4"
    }
   },
   "source": [
    "#### 8.4.3. Statistical test for the groups 3 and 4\n",
    "\n",
    "For all metrics, Let's take the assumption as the `null hypothesis` that the values of the statistics of group `3` are **not less than** the values of the statistics of group `4`. And as the `alternative hypothesis`, the opposite statement that the values of the statistics of group `3` are still **less than** the values of the statistics of group `4`. In mathematical form, the test statistics and the formulated hypotheses can be written as follows:\n",
    "\n",
    "$$\n",
    "\\Delta \\hat{TM}=\\hat{TM}_{3}-\\hat{TM}_{4}\\\\\n",
    "H_0:\\Delta \\hat{TM}≥0\\\\\n",
    "H_1:\\Delta \\hat{TM}<0\n",
    "$$\n",
    "\n",
    "Let's perform the testing and visualize the results by constructing histograms of the null distribution of the test statistics of the metrics under research. On the histograms, we mark the observed value of the test statistic with a vertical dashed line and color the areas of the distributions that are used to calculate the `p-values` (from the lines of the observed values of the test statistic)."
   ]
  },
  {
   "cell_type": "code",
   "execution_count": null,
   "metadata": {
    "scrolled": true
   },
   "outputs": [],
   "source": [
    "# Test data preparation\n",
    "group_pair_index = 2\n",
    "test_data = research_data.loc[group_pairs[group_pair_index]]\n",
    "# Perform testing\n",
    "pvalues.loc[', '.join(group_pairs[group_pair_index])], null_distributions, statistics = permutation_test(\n",
    "    test_data, research_metrics['test statistic'], alternatives)\n",
    "# Output of the density histogram of the null distribution\n",
    "plot_metric_histograms(\n",
    "    null_distributions, statistic=statistics, metrics=research_metrics,\n",
    "    title=f'<b>Density of the null probability distribution of the test statistic</b>', title_y=0.9,\n",
    "    height=300, n_cols=3, opacity=0.5,\n",
    "    histnorm='probability density',\n",
    "    add_kde=True, add_statistic=True, mark_statistic=mark_statistic,\n",
    "    horizontal_spacing=0.08, vertical_spacing=0.07)"
   ]
  },
  {
   "cell_type": "markdown",
   "metadata": {
    "variables": {
     "display_pvalues(pvalues.loc[', '.join(group_pairs[group_pair_index])].to_frame().T, metrics=research_metrics, alpha=alpha, caption=f'<b>Значения p-value статистического теста</b>', col_width=160)": "<style type=\"text/css\">\n#T_7798f caption {\n  font-size: 12pt;\n  text-align: center;\n  color: black;\n}\n#T_7798f td {\n  text-align: center;\n  border: 1px solid lightgray;\n  border-collapse: collapse;\n}\n#T_7798f .row_heading {\n  width: 120px;\n  text-align: center;\n}\n#T_7798f  td {\n  width: 120px;\n  text-align: center;\n}\n#T_7798f .col_heading {\n  width: 160px;\n  text-align: center;\n}\n#T_7798f  td {\n  width: 160px;\n  text-align: center;\n}\n#T_7798f_row0_col0, #T_7798f_row0_col1, #T_7798f_row0_col2 {\n  color: red;\n  font-weight: bold;\n}\n#T_7798f_level0_col0, #T_7798f_level0_col1, #T_7798f_level0_col2 {\n  border: 1px solid lightgray;\n  border-collapse: collapse;\n}\n</style>\n<table id=\"T_7798f\">\n  <caption><b>Значения p-value статистического теста</b></caption>\n  <thead>\n    <tr>\n      <th id=\"T_7798f_level0_col0\" class=\"col_heading level0 col0\" >Средняя скорость «к абоненту»</th>\n      <th id=\"T_7798f_level0_col1\" class=\"col_heading level0 col1\" >Скорость загрузки потокового видео</th>\n      <th id=\"T_7798f_level0_col2\" class=\"col_heading level0 col2\" >Скорость загрузки web-страниц через браузер</th>\n    </tr>\n  </thead>\n  <tbody>\n    <tr>\n      <td id=\"T_7798f_row0_col0\" class=\"data row0 col0\" >0.0013</td>\n      <td id=\"T_7798f_row0_col1\" class=\"data row0 col1\" >0.0007</td>\n      <td id=\"T_7798f_row0_col2\" class=\"data row0 col2\" >0.0032</td>\n    </tr>\n  </tbody>\n</table>\n"
    }
   },
   "source": [
    "Let's present the obtained `p-values` in a tabular form, marking in \"<span style=\"color: red; font-weight: bold;\">red</span>\" those values that are below the significance level."
   ]
  },
  {
   "cell_type": "code",
   "execution_count": null,
   "metadata": {
    "variables": {
     "display_pvalues(pvalues.loc[', '.join(group_pairs[group_pair_index])].to_frame().T, metrics=research_metrics, alpha=alpha, caption=f'<b>Значения p-value статистического теста</b>', col_width=160)": "<style type=\"text/css\">\n#T_26d33 caption {\n  font-size: 12pt;\n  text-align: center;\n  color: black;\n}\n#T_26d33 td {\n  text-align: center;\n  border: 1px solid lightgray;\n  border-collapse: collapse;\n}\n#T_26d33 .row_heading {\n  width: 120px;\n  text-align: center;\n}\n#T_26d33  td {\n  width: 120px;\n  text-align: center;\n}\n#T_26d33 .col_heading {\n  width: 160px;\n  text-align: center;\n}\n#T_26d33  td {\n  width: 160px;\n  text-align: center;\n}\n#T_26d33_row0_col0, #T_26d33_row0_col1, #T_26d33_row0_col2 {\n  color: red;\n  font-weight: bold;\n}\n#T_26d33_level0_col0, #T_26d33_level0_col1, #T_26d33_level0_col2 {\n  border: 1px solid lightgray;\n  border-collapse: collapse;\n}\n</style>\n<table id=\"T_26d33\">\n  <caption><b>Значения p-value статистического теста</b></caption>\n  <thead>\n    <tr>\n      <th id=\"T_26d33_level0_col0\" class=\"col_heading level0 col0\" >Средняя скорость «к абоненту»</th>\n      <th id=\"T_26d33_level0_col1\" class=\"col_heading level0 col1\" >Скорость загрузки потокового видео</th>\n      <th id=\"T_26d33_level0_col2\" class=\"col_heading level0 col2\" >Скорость загрузки web-страниц через браузер</th>\n    </tr>\n  </thead>\n  <tbody>\n    <tr>\n      <td id=\"T_26d33_row0_col0\" class=\"data row0 col0\" >0.0016</td>\n      <td id=\"T_26d33_row0_col1\" class=\"data row0 col1\" >0.0004</td>\n      <td id=\"T_26d33_row0_col2\" class=\"data row0 col2\" >0.0001</td>\n    </tr>\n  </tbody>\n</table>\n",
     "group_pairs[group_pair_index][0]": "3",
     "group_pairs[group_pair_index][1]": "4"
    }
   },
   "outputs": [],
   "source": [
    "display_pvalues(pvalues.loc[', '.join(group_pairs[group_pair_index])].to_frame().T, metrics=research_metrics, alpha=alpha, caption=f'<b>Test p-values</b>', col_width=160)"
   ]
  },
  {
   "cell_type": "markdown",
   "metadata": {
    "variables": {
     "display_pvalues(pvalues.loc[', '.join(group_pairs[group_pair_index])].to_frame().T, metrics=research_metrics, alpha=alpha, caption=f'<b>Значения p-value статистического теста</b>', col_width=160)": "<style type=\"text/css\">\n#T_26d33 caption {\n  font-size: 12pt;\n  text-align: center;\n  color: black;\n}\n#T_26d33 td {\n  text-align: center;\n  border: 1px solid lightgray;\n  border-collapse: collapse;\n}\n#T_26d33 .row_heading {\n  width: 120px;\n  text-align: center;\n}\n#T_26d33  td {\n  width: 120px;\n  text-align: center;\n}\n#T_26d33 .col_heading {\n  width: 160px;\n  text-align: center;\n}\n#T_26d33  td {\n  width: 160px;\n  text-align: center;\n}\n#T_26d33_row0_col0, #T_26d33_row0_col1, #T_26d33_row0_col2 {\n  color: red;\n  font-weight: bold;\n}\n#T_26d33_level0_col0, #T_26d33_level0_col1, #T_26d33_level0_col2 {\n  border: 1px solid lightgray;\n  border-collapse: collapse;\n}\n</style>\n<table id=\"T_26d33\">\n  <caption><b>Значения p-value статистического теста</b></caption>\n  <thead>\n    <tr>\n      <th id=\"T_26d33_level0_col0\" class=\"col_heading level0 col0\" >Средняя скорость «к абоненту»</th>\n      <th id=\"T_26d33_level0_col1\" class=\"col_heading level0 col1\" >Скорость загрузки потокового видео</th>\n      <th id=\"T_26d33_level0_col2\" class=\"col_heading level0 col2\" >Скорость загрузки web-страниц через браузер</th>\n    </tr>\n  </thead>\n  <tbody>\n    <tr>\n      <td id=\"T_26d33_row0_col0\" class=\"data row0 col0\" >0.0016</td>\n      <td id=\"T_26d33_row0_col1\" class=\"data row0 col1\" >0.0004</td>\n      <td id=\"T_26d33_row0_col2\" class=\"data row0 col2\" >0.0001</td>\n    </tr>\n  </tbody>\n</table>\n",
     "group_pairs[group_pair_index][0]": "3",
     "group_pairs[group_pair_index][1]": "4"
    }
   },
   "source": [
    "**Conclusions:**\n",
    "\n",
    "1. Since the `p-values` obtained as a result of the test for all the metrics under research are **less** than the significance level, we **can reject the null hypothesis** in relation to them and, accordingly, Let's assume that the values of all the metrics under research for group `3` are **less** than for group `4`.\n",
    "\n",
    "2. It should be noted that the **confidence level** for the result obtained is very **high** - about `99%`."
   ]
  },
  {
   "cell_type": "markdown",
   "metadata": {
    "variables": {
     "display_pvalues(pvalues, metrics=research_metrics, alpha=alpha, caption=f'<b>Значение p-value статистических тестов</b>', opacity=0.5, col_width=160, index_width=30)": "<style type=\"text/css\">\n#T_50d27 caption {\n  font-size: 12pt;\n  text-align: center;\n  color: black;\n}\n#T_50d27 td {\n  text-align: center;\n  border: 1px solid lightgray;\n  border-collapse: collapse;\n}\n#T_50d27 .row_heading {\n  width: 30px;\n  text-align: center;\n}\n#T_50d27  td {\n  width: 30px;\n  text-align: center;\n}\n#T_50d27 .col_heading {\n  width: 160px;\n  text-align: center;\n}\n#T_50d27  td {\n  width: 160px;\n  text-align: center;\n}\n#T_50d27_row0_col0, #T_50d27_row0_col1, #T_50d27_row0_col2, #T_50d27_row1_col1, #T_50d27_row2_col0, #T_50d27_row2_col1, #T_50d27_row2_col2 {\n  color: red;\n  font-weight: bold;\n}\n#T_50d27_level0_row0 {\n  color: white;\n  background-color: rgb(31, 119, 180);\n  opacity: 0.5;\n  border: 1px solid lightgray;\n  border-collapse: collapse;\n}\n#T_50d27_level1_row0, #T_50d27_level0_row1 {\n  color: white;\n  background-color: rgb(255, 127, 14);\n  opacity: 0.5;\n  border: 1px solid lightgray;\n  border-collapse: collapse;\n}\n#T_50d27_level1_row1, #T_50d27_level0_row2 {\n  color: white;\n  background-color: rgb(44, 160, 44);\n  opacity: 0.5;\n  border: 1px solid lightgray;\n  border-collapse: collapse;\n}\n#T_50d27_level1_row2 {\n  color: white;\n  background-color: rgb(214, 39, 40);\n  opacity: 0.5;\n  border: 1px solid lightgray;\n  border-collapse: collapse;\n}\n#T_50d27_level0_col0, #T_50d27_level0_col1, #T_50d27_level0_col2 {\n  border: 1px solid lightgray;\n  border-collapse: collapse;\n}\n</style>\n<table id=\"T_50d27\">\n  <caption><b>Значение p-value статистических тестов</b></caption>\n  <thead>\n    <tr>\n      <th class=\"blank\" >&nbsp;</th>\n      <th class=\"blank level0\" >&nbsp;</th>\n      <th id=\"T_50d27_level0_col0\" class=\"col_heading level0 col0\" >Средняя скорость «к абоненту»</th>\n      <th id=\"T_50d27_level0_col1\" class=\"col_heading level0 col1\" >Скорость загрузки потокового видео</th>\n      <th id=\"T_50d27_level0_col2\" class=\"col_heading level0 col2\" >Скорость загрузки web-страниц через браузер</th>\n    </tr>\n  </thead>\n  <tbody>\n    <tr>\n      <th id=\"T_50d27_level0_row0\" class=\"row_heading level0 row0\" >1</th>\n      <th id=\"T_50d27_level1_row0\" class=\"row_heading level1 row0\" >2</th>\n      <td id=\"T_50d27_row0_col0\" class=\"data row0 col0\" >0.0051</td>\n      <td id=\"T_50d27_row0_col1\" class=\"data row0 col1\" >0.0065</td>\n      <td id=\"T_50d27_row0_col2\" class=\"data row0 col2\" >0.0105</td>\n    </tr>\n    <tr>\n      <th id=\"T_50d27_level0_row1\" class=\"row_heading level0 row1\" >2</th>\n      <th id=\"T_50d27_level1_row1\" class=\"row_heading level1 row1\" >3</th>\n      <td id=\"T_50d27_row1_col0\" class=\"data row1 col0\" >0.2121</td>\n      <td id=\"T_50d27_row1_col1\" class=\"data row1 col1\" >0.0239</td>\n      <td id=\"T_50d27_row1_col2\" class=\"data row1 col2\" >0.1546</td>\n    </tr>\n    <tr>\n      <th id=\"T_50d27_level0_row2\" class=\"row_heading level0 row2\" >3</th>\n      <th id=\"T_50d27_level1_row2\" class=\"row_heading level1 row2\" >4</th>\n      <td id=\"T_50d27_row2_col0\" class=\"data row2 col0\" >0.0012</td>\n      <td id=\"T_50d27_row2_col1\" class=\"data row2 col1\" >0.0011</td>\n      <td id=\"T_50d27_row2_col2\" class=\"data row2 col2\" >0.0001</td>\n    </tr>\n  </tbody>\n</table>\n"
    }
   },
   "source": [
    "### 8.5. Conclusions\n",
    "\n",
    "To form the conclusions of the research, it is necessary to analyze the results of all the tests performed. To do this, Let's display the obtained `p-values` of all the tests in the form of a table:"
   ]
  },
  {
   "cell_type": "code",
   "execution_count": null,
   "metadata": {
    "variables": {
     "display_pvalues(pvalues, metrics=research_metrics, alpha=alpha, caption=f'<b>Значение p-value статистических тестов</b>', opacity=0.5, col_width=160, index_width=30)": "<style type=\"text/css\">\n#T_50d27 caption {\n  font-size: 12pt;\n  text-align: center;\n  color: black;\n}\n#T_50d27 td {\n  text-align: center;\n  border: 1px solid lightgray;\n  border-collapse: collapse;\n}\n#T_50d27 .row_heading {\n  width: 30px;\n  text-align: center;\n}\n#T_50d27  td {\n  width: 30px;\n  text-align: center;\n}\n#T_50d27 .col_heading {\n  width: 160px;\n  text-align: center;\n}\n#T_50d27  td {\n  width: 160px;\n  text-align: center;\n}\n#T_50d27_row0_col0, #T_50d27_row0_col1, #T_50d27_row0_col2, #T_50d27_row1_col1, #T_50d27_row2_col0, #T_50d27_row2_col1, #T_50d27_row2_col2 {\n  color: red;\n  font-weight: bold;\n}\n#T_50d27_level0_row0 {\n  color: white;\n  background-color: rgb(31, 119, 180);\n  opacity: 0.5;\n  border: 1px solid lightgray;\n  border-collapse: collapse;\n}\n#T_50d27_level1_row0, #T_50d27_level0_row1 {\n  color: white;\n  background-color: rgb(255, 127, 14);\n  opacity: 0.5;\n  border: 1px solid lightgray;\n  border-collapse: collapse;\n}\n#T_50d27_level1_row1, #T_50d27_level0_row2 {\n  color: white;\n  background-color: rgb(44, 160, 44);\n  opacity: 0.5;\n  border: 1px solid lightgray;\n  border-collapse: collapse;\n}\n#T_50d27_level1_row2 {\n  color: white;\n  background-color: rgb(214, 39, 40);\n  opacity: 0.5;\n  border: 1px solid lightgray;\n  border-collapse: collapse;\n}\n#T_50d27_level0_col0, #T_50d27_level0_col1, #T_50d27_level0_col2 {\n  border: 1px solid lightgray;\n  border-collapse: collapse;\n}\n</style>\n<table id=\"T_50d27\">\n  <caption><b>Значение p-value статистических тестов</b></caption>\n  <thead>\n    <tr>\n      <th class=\"blank\" >&nbsp;</th>\n      <th class=\"blank level0\" >&nbsp;</th>\n      <th id=\"T_50d27_level0_col0\" class=\"col_heading level0 col0\" >Средняя скорость «к абоненту»</th>\n      <th id=\"T_50d27_level0_col1\" class=\"col_heading level0 col1\" >Скорость загрузки потокового видео</th>\n      <th id=\"T_50d27_level0_col2\" class=\"col_heading level0 col2\" >Скорость загрузки web-страниц через браузер</th>\n    </tr>\n  </thead>\n  <tbody>\n    <tr>\n      <th id=\"T_50d27_level0_row0\" class=\"row_heading level0 row0\" >1</th>\n      <th id=\"T_50d27_level1_row0\" class=\"row_heading level1 row0\" >2</th>\n      <td id=\"T_50d27_row0_col0\" class=\"data row0 col0\" >0.0051</td>\n      <td id=\"T_50d27_row0_col1\" class=\"data row0 col1\" >0.0065</td>\n      <td id=\"T_50d27_row0_col2\" class=\"data row0 col2\" >0.0105</td>\n    </tr>\n    <tr>\n      <th id=\"T_50d27_level0_row1\" class=\"row_heading level0 row1\" >2</th>\n      <th id=\"T_50d27_level1_row1\" class=\"row_heading level1 row1\" >3</th>\n      <td id=\"T_50d27_row1_col0\" class=\"data row1 col0\" >0.2121</td>\n      <td id=\"T_50d27_row1_col1\" class=\"data row1 col1\" >0.0239</td>\n      <td id=\"T_50d27_row1_col2\" class=\"data row1 col2\" >0.1546</td>\n    </tr>\n    <tr>\n      <th id=\"T_50d27_level0_row2\" class=\"row_heading level0 row2\" >3</th>\n      <th id=\"T_50d27_level1_row2\" class=\"row_heading level1 row2\" >4</th>\n      <td id=\"T_50d27_row2_col0\" class=\"data row2 col0\" >0.0012</td>\n      <td id=\"T_50d27_row2_col1\" class=\"data row2 col1\" >0.0011</td>\n      <td id=\"T_50d27_row2_col2\" class=\"data row2 col2\" >0.0001</td>\n    </tr>\n  </tbody>\n</table>\n"
    }
   },
   "outputs": [],
   "source": [
    "display_pvalues(pvalues, metrics=research_metrics, alpha=alpha, caption=f'<b>Tests p-values</b>', opacity=0.5, col_width=160, index_width=30)"
   ]
  },
  {
   "cell_type": "markdown",
   "metadata": {
    "variables": {
     "display_pvalues(pvalues, metrics=research_metrics, alpha=alpha, caption=f'<b>Значение p-value статистических тестов</b>', opacity=0.5, col_width=160, index_width=30)": "<style type=\"text/css\">\n#T_50d27 caption {\n  font-size: 12pt;\n  text-align: center;\n  color: black;\n}\n#T_50d27 td {\n  text-align: center;\n  border: 1px solid lightgray;\n  border-collapse: collapse;\n}\n#T_50d27 .row_heading {\n  width: 30px;\n  text-align: center;\n}\n#T_50d27  td {\n  width: 30px;\n  text-align: center;\n}\n#T_50d27 .col_heading {\n  width: 160px;\n  text-align: center;\n}\n#T_50d27  td {\n  width: 160px;\n  text-align: center;\n}\n#T_50d27_row0_col0, #T_50d27_row0_col1, #T_50d27_row0_col2, #T_50d27_row1_col1, #T_50d27_row2_col0, #T_50d27_row2_col1, #T_50d27_row2_col2 {\n  color: red;\n  font-weight: bold;\n}\n#T_50d27_level0_row0 {\n  color: white;\n  background-color: rgb(31, 119, 180);\n  opacity: 0.5;\n  border: 1px solid lightgray;\n  border-collapse: collapse;\n}\n#T_50d27_level1_row0, #T_50d27_level0_row1 {\n  color: white;\n  background-color: rgb(255, 127, 14);\n  opacity: 0.5;\n  border: 1px solid lightgray;\n  border-collapse: collapse;\n}\n#T_50d27_level1_row1, #T_50d27_level0_row2 {\n  color: white;\n  background-color: rgb(44, 160, 44);\n  opacity: 0.5;\n  border: 1px solid lightgray;\n  border-collapse: collapse;\n}\n#T_50d27_level1_row2 {\n  color: white;\n  background-color: rgb(214, 39, 40);\n  opacity: 0.5;\n  border: 1px solid lightgray;\n  border-collapse: collapse;\n}\n#T_50d27_level0_col0, #T_50d27_level0_col1, #T_50d27_level0_col2 {\n  border: 1px solid lightgray;\n  border-collapse: collapse;\n}\n</style>\n<table id=\"T_50d27\">\n  <caption><b>Значение p-value статистических тестов</b></caption>\n  <thead>\n    <tr>\n      <th class=\"blank\" >&nbsp;</th>\n      <th class=\"blank level0\" >&nbsp;</th>\n      <th id=\"T_50d27_level0_col0\" class=\"col_heading level0 col0\" >Средняя скорость «к абоненту»</th>\n      <th id=\"T_50d27_level0_col1\" class=\"col_heading level0 col1\" >Скорость загрузки потокового видео</th>\n      <th id=\"T_50d27_level0_col2\" class=\"col_heading level0 col2\" >Скорость загрузки web-страниц через браузер</th>\n    </tr>\n  </thead>\n  <tbody>\n    <tr>\n      <th id=\"T_50d27_level0_row0\" class=\"row_heading level0 row0\" >1</th>\n      <th id=\"T_50d27_level1_row0\" class=\"row_heading level1 row0\" >2</th>\n      <td id=\"T_50d27_row0_col0\" class=\"data row0 col0\" >0.0051</td>\n      <td id=\"T_50d27_row0_col1\" class=\"data row0 col1\" >0.0065</td>\n      <td id=\"T_50d27_row0_col2\" class=\"data row0 col2\" >0.0105</td>\n    </tr>\n    <tr>\n      <th id=\"T_50d27_level0_row1\" class=\"row_heading level0 row1\" >2</th>\n      <th id=\"T_50d27_level1_row1\" class=\"row_heading level1 row1\" >3</th>\n      <td id=\"T_50d27_row1_col0\" class=\"data row1 col0\" >0.2121</td>\n      <td id=\"T_50d27_row1_col1\" class=\"data row1 col1\" >0.0239</td>\n      <td id=\"T_50d27_row1_col2\" class=\"data row1 col2\" >0.1546</td>\n    </tr>\n    <tr>\n      <th id=\"T_50d27_level0_row2\" class=\"row_heading level0 row2\" >3</th>\n      <th id=\"T_50d27_level1_row2\" class=\"row_heading level1 row2\" >4</th>\n      <td id=\"T_50d27_row2_col0\" class=\"data row2 col0\" >0.0012</td>\n      <td id=\"T_50d27_row2_col1\" class=\"data row2 col1\" >0.0011</td>\n      <td id=\"T_50d27_row2_col2\" class=\"data row2 col2\" >0.0001</td>\n    </tr>\n  </tbody>\n</table>\n"
    }
   },
   "source": [
    "Based on this information, we can give the following answers to the questions posed:\n",
    "1. Since all neighboring groups have at least one customer metric with a lower `CSAT` value **less** than the group with a higher `CSAT` level, we can assume that customers of all groups **belong to different populations**. Thus, the division of customers by the `CSAT` value is performed **correctly**.\n",
    "2. Since only the `Video Streaming Download Throughput` metric has all `p-values` **less** than the significance level, this metric has the **strongest influence** on `CSAT`.\n",
    "\n",
    "Additionally, let's look at the dependence characteristics of the `Video Streaming Download Throughput` metric value on `CSAT`. To do this, Let's construct a scatter plot of the statistics values of this metric and a trend line (dashed line) describing the linear dependence of the statistics values on the `CSAT` level."
   ]
  },
  {
   "cell_type": "code",
   "execution_count": null,
   "metadata": {},
   "outputs": [],
   "source": [
    "df = ci_center['Video Streaming Download Throughput(Kbps)'].rename('value').to_frame()\n",
    "\n",
    "fig = px.scatter(\n",
    "    df, x=df.index, y='value', \n",
    "    title=f\"<b>Trend of \\\"{research_metrics.loc['Video Streaming Download Throughput(Kbps)', 'name']}</b>\\\"\",\n",
    "    labels={'x': '', 'value':'Kbits', 'index': 'CSAT'}, trendline=\"ols\")\n",
    "fig.update_layout(title_x=0.5, title_y=0.95, title_font_size=14,\n",
    "                  width=600, height=350,\n",
    "                  margin_t=40, margin_b=0)\n",
    "fig.update_traces(hovertemplate='%{x}<br>%{y}<extra></extra>', selector={'mode': 'markers'})\n",
    "fig.update_traces(line_dash='dash', selector={'mode': 'lines'})\n",
    "fig.update_xaxes(tickmode='array', tickvals=[1, 2, 3, 4])\n",
    "fig.show()\n",
    "results = px.get_trendline_results(fig).iloc[0, 0]"
   ]
  },
  {
   "cell_type": "markdown",
   "metadata": {
    "variables": {
     "research_metrics.loc['Video Streaming Download Throughput(Kbps)', 'description']": "Скорость загрузки потокового видео",
     "round(results.params[1])": "851",
     "round(results.rsquared, 3)": "0.998"
    }
   },
   "source": [
    "As we can see, the trend of the metrics change is described by a straight line. This is confirmed by the fact that the `determination coefficient` of the linear regression is very **close to 1.0** (R²=`0.9981`). The `CSAT` value increases after the growth of `Video Streaming Download Throughput(Kbps)` by about `847` kbps."
   ]
  },
  {
   "cell_type": "markdown",
   "metadata": {
    "variables": {
     "display_confidence_interval(ci['Video Streaming Download Throughput(Kbps)'], metrics=research_metrics.loc['Video Streaming Download Throughput(Kbps)'], caption='', caption_font_size=12, opacity=0.5, precision=1, index_width=30)": "<style type=\"text/css\">\n#T_249b8 caption {\n  font-size: 12pt;\n  text-align: center;\n  color: black;\n}\n#T_249b8 td {\n  text-align: center;\n  border: 1px solid lightgray;\n  border-collapse: collapse;\n}\n#T_249b8 .row_heading {\n  width: 30px;\n  text-align: center;\n}\n#T_249b8  td {\n  width: 30px;\n  text-align: center;\n}\n#T_249b8 .col_heading {\n  width: 80px;\n  text-align: center;\n}\n#T_249b8  td {\n  width: 80px;\n  text-align: center;\n}\n#T_249b8_row0_col1 {\n  color: red;\n  font-weight: bold;\n}\n#T_249b8_row3_col1 {\n  color: green;\n  font-weight: bold;\n}\n#T_249b8_level0_row0 {\n  color: white;\n  background-color: rgb(31, 119, 180);\n  opacity: 0.5;\n  border: 1px solid lightgray;\n  border-collapse: collapse;\n}\n#T_249b8_level0_row1 {\n  color: white;\n  background-color: rgb(255, 127, 14);\n  opacity: 0.5;\n  border: 1px solid lightgray;\n  border-collapse: collapse;\n}\n#T_249b8_level0_row2 {\n  color: white;\n  background-color: rgb(44, 160, 44);\n  opacity: 0.5;\n  border: 1px solid lightgray;\n  border-collapse: collapse;\n}\n#T_249b8_level0_row3 {\n  color: white;\n  background-color: rgb(214, 39, 40);\n  opacity: 0.5;\n  border: 1px solid lightgray;\n  border-collapse: collapse;\n}\n#T_249b8_level0_col0, #T_249b8_level0_col1, #T_249b8_level0_col2 {\n  border: 1px solid lightgray;\n  border-collapse: collapse;\n}\n</style>\n<table id=\"T_249b8\">\n  <thead>\n    <tr>\n      <th class=\"index_name level0\" ></th>\n      <th id=\"T_249b8_level0_col0\" class=\"col_heading level0 col0\" >Начало</th>\n      <th id=\"T_249b8_level0_col1\" class=\"col_heading level0 col1\" >Середина</th>\n      <th id=\"T_249b8_level0_col2\" class=\"col_heading level0 col2\" >Конец</th>\n    </tr>\n  </thead>\n  <tbody>\n    <tr>\n      <th id=\"T_249b8_level0_row0\" class=\"row_heading level0 row0\" >1</th>\n      <td id=\"T_249b8_row0_col0\" class=\"data row0 col0\" >2272.2</td>\n      <td id=\"T_249b8_row0_col1\" class=\"data row0 col1\" >2747.4</td>\n      <td id=\"T_249b8_row0_col2\" class=\"data row0 col2\" >3222.6</td>\n    </tr>\n    <tr>\n      <th id=\"T_249b8_level0_row1\" class=\"row_heading level0 row1\" >2</th>\n      <td id=\"T_249b8_row1_col0\" class=\"data row1 col0\" >2847.2</td>\n      <td id=\"T_249b8_row1_col1\" class=\"data row1 col1\" >3502.7</td>\n      <td id=\"T_249b8_row1_col2\" class=\"data row1 col2\" >4158.2</td>\n    </tr>\n    <tr>\n      <th id=\"T_249b8_level0_row2\" class=\"row_heading level0 row2\" >3</th>\n      <td id=\"T_249b8_row2_col0\" class=\"data row2 col0\" >3933.9</td>\n      <td id=\"T_249b8_row2_col1\" class=\"data row2 col1\" >4391.2</td>\n      <td id=\"T_249b8_row2_col2\" class=\"data row2 col2\" >4848.5</td>\n    </tr>\n    <tr>\n      <th id=\"T_249b8_level0_row3\" class=\"row_heading level0 row3\" >4</th>\n      <td id=\"T_249b8_row3_col0\" class=\"data row3 col0\" >5032.1</td>\n      <td id=\"T_249b8_row3_col1\" class=\"data row3 col1\" >5287.3</td>\n      <td id=\"T_249b8_row3_col2\" class=\"data row3 col2\" >5542.4</td>\n    </tr>\n  </tbody>\n</table>\n",
     "research_metrics.loc['Video Streaming Download Throughput(Kbps)', 'description']": "Скорость загрузки потокового видео",
     "round(results.params[1])": "851"
    }
   },
   "source": [
    "## Summary\n",
    "\n",
    "Within this work, a research of the survey of Megafon customers was done. As a result, it was found that the **level of customer satisfaction** `CSAT` with the Mobile Internet service should be determined on a **4-point scale**:\n",
    "- <span style=\"color:white;background-color:rgb(31, 119, 180);opacity:0.5\">&nbsp;1&nbsp;</span> - Completely dissatisfied;\n",
    "- <span style=\"color:white;background-color:rgb(255, 127, 14);opacity:0.5\">&nbsp;2&nbsp;</span> - Partially dissatisfied;\n",
    "- <span style=\"color:white;background-color:rgb(44, 160, 44);opacity:0.5\">&nbsp;3&nbsp;</span> - Partially satisfied;\n",
    "- <span style=\"color:white;background-color:rgb(214, 39, 40);opacity:0.5\">&nbsp;4&nbsp;</span> - Completely satisfied.\n",
    "\n",
    "The `CSAT` is primarily affected by `Video Streaming Download Throughput(Kbps)`. The depences between `CSAT` and the statistics of this metric is clearly linear - the difference in the central values of the statistics for customers with neighboring `CSAT` is approximately `847` Kbps.\n",
    "\n",
    "For each category of customers with a certain `CSAT` confidence interval of the statistic were determined:"
   ]
  },
  {
   "cell_type": "code",
   "execution_count": null,
   "metadata": {
    "variables": {
     "display_confidence_interval(ci['Video Streaming Download Throughput(Kbps)'], metrics=research_metrics.loc['Video Streaming Download Throughput(Kbps)'], caption='', caption_font_size=12, opacity=0.5, precision=1, index_width=30)": "<style type=\"text/css\">\n#T_249b8 caption {\n  font-size: 12pt;\n  text-align: center;\n  color: black;\n}\n#T_249b8 td {\n  text-align: center;\n  border: 1px solid lightgray;\n  border-collapse: collapse;\n}\n#T_249b8 .row_heading {\n  width: 30px;\n  text-align: center;\n}\n#T_249b8  td {\n  width: 30px;\n  text-align: center;\n}\n#T_249b8 .col_heading {\n  width: 80px;\n  text-align: center;\n}\n#T_249b8  td {\n  width: 80px;\n  text-align: center;\n}\n#T_249b8_row0_col1 {\n  color: red;\n  font-weight: bold;\n}\n#T_249b8_row3_col1 {\n  color: green;\n  font-weight: bold;\n}\n#T_249b8_level0_row0 {\n  color: white;\n  background-color: rgb(31, 119, 180);\n  opacity: 0.5;\n  border: 1px solid lightgray;\n  border-collapse: collapse;\n}\n#T_249b8_level0_row1 {\n  color: white;\n  background-color: rgb(255, 127, 14);\n  opacity: 0.5;\n  border: 1px solid lightgray;\n  border-collapse: collapse;\n}\n#T_249b8_level0_row2 {\n  color: white;\n  background-color: rgb(44, 160, 44);\n  opacity: 0.5;\n  border: 1px solid lightgray;\n  border-collapse: collapse;\n}\n#T_249b8_level0_row3 {\n  color: white;\n  background-color: rgb(214, 39, 40);\n  opacity: 0.5;\n  border: 1px solid lightgray;\n  border-collapse: collapse;\n}\n#T_249b8_level0_col0, #T_249b8_level0_col1, #T_249b8_level0_col2 {\n  border: 1px solid lightgray;\n  border-collapse: collapse;\n}\n</style>\n<table id=\"T_249b8\">\n  <thead>\n    <tr>\n      <th class=\"index_name level0\" ></th>\n      <th id=\"T_249b8_level0_col0\" class=\"col_heading level0 col0\" >Начало</th>\n      <th id=\"T_249b8_level0_col1\" class=\"col_heading level0 col1\" >Середина</th>\n      <th id=\"T_249b8_level0_col2\" class=\"col_heading level0 col2\" >Конец</th>\n    </tr>\n  </thead>\n  <tbody>\n    <tr>\n      <th id=\"T_249b8_level0_row0\" class=\"row_heading level0 row0\" >1</th>\n      <td id=\"T_249b8_row0_col0\" class=\"data row0 col0\" >2272.2</td>\n      <td id=\"T_249b8_row0_col1\" class=\"data row0 col1\" >2747.4</td>\n      <td id=\"T_249b8_row0_col2\" class=\"data row0 col2\" >3222.6</td>\n    </tr>\n    <tr>\n      <th id=\"T_249b8_level0_row1\" class=\"row_heading level0 row1\" >2</th>\n      <td id=\"T_249b8_row1_col0\" class=\"data row1 col0\" >2847.2</td>\n      <td id=\"T_249b8_row1_col1\" class=\"data row1 col1\" >3502.7</td>\n      <td id=\"T_249b8_row1_col2\" class=\"data row1 col2\" >4158.2</td>\n    </tr>\n    <tr>\n      <th id=\"T_249b8_level0_row2\" class=\"row_heading level0 row2\" >3</th>\n      <td id=\"T_249b8_row2_col0\" class=\"data row2 col0\" >3933.9</td>\n      <td id=\"T_249b8_row2_col1\" class=\"data row2 col1\" >4391.2</td>\n      <td id=\"T_249b8_row2_col2\" class=\"data row2 col2\" >4848.5</td>\n    </tr>\n    <tr>\n      <th id=\"T_249b8_level0_row3\" class=\"row_heading level0 row3\" >4</th>\n      <td id=\"T_249b8_row3_col0\" class=\"data row3 col0\" >5032.1</td>\n      <td id=\"T_249b8_row3_col1\" class=\"data row3 col1\" >5287.3</td>\n      <td id=\"T_249b8_row3_col2\" class=\"data row3 col2\" >5542.4</td>\n    </tr>\n  </tbody>\n</table>\n",
     "research_metrics.loc['Video Streaming Download Throughput(Kbps)', 'description']": "Скорость загрузки потокового видео",
     "round(results.params[1])": "851"
    }
   },
   "outputs": [],
   "source": [
    "display_confidence_interval(ci['Video Streaming Download Throughput(Kbps)'], metrics=research_metrics.loc['Video Streaming Download Throughput(Kbps)'], caption='', caption_font_size=12, opacity=0.5, precision=1, index_width=30)"
   ]
  },
  {
   "cell_type": "code",
   "execution_count": null,
   "metadata": {},
   "outputs": [],
   "source": []
  }
 ],
 "metadata": {
  "colab": {
   "collapsed_sections": [],
   "name": "Постановка задачи.ipynb",
   "provenance": []
  },
  "kernelspec": {
   "display_name": "Python 3 (ipykernel)",
   "language": "python",
   "name": "python3"
  },
  "language_info": {
   "codemirror_mode": {
    "name": "ipython",
    "version": 3
   },
   "file_extension": ".py",
   "mimetype": "text/x-python",
   "name": "python",
   "nbconvert_exporter": "python",
   "pygments_lexer": "ipython3",
   "version": "3.11.9"
  },
  "widgets": {
   "application/vnd.jupyter.widget-state+json": {
    "state": {},
    "version_major": 2,
    "version_minor": 0
   }
  }
 },
 "nbformat": 4,
 "nbformat_minor": 4
}
